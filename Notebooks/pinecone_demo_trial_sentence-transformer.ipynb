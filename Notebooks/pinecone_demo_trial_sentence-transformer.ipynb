{
 "cells": [
  {
   "cell_type": "code",
   "execution_count": 4,
   "id": "0f354e8e-bab4-4485-8d45-3aa0f2435821",
   "metadata": {},
   "outputs": [
    {
     "name": "stdout",
     "output_type": "stream",
     "text": [
      "Requirement already satisfied: sentence-transformers in /opt/anaconda3/lib/python3.9/site-packages (2.2.2)\n",
      "Requirement already satisfied: numpy in /opt/anaconda3/lib/python3.9/site-packages (from sentence-transformers) (1.24.4)\n",
      "Requirement already satisfied: transformers<5.0.0,>=4.6.0 in /opt/anaconda3/lib/python3.9/site-packages (from sentence-transformers) (4.36.2)\n",
      "Requirement already satisfied: nltk in /opt/anaconda3/lib/python3.9/site-packages (from sentence-transformers) (3.7)\n",
      "Requirement already satisfied: sentencepiece in /opt/anaconda3/lib/python3.9/site-packages (from sentence-transformers) (0.1.99)\n",
      "Requirement already satisfied: torch>=1.6.0 in /opt/anaconda3/lib/python3.9/site-packages (from sentence-transformers) (2.1.2)\n",
      "Requirement already satisfied: tqdm in /opt/anaconda3/lib/python3.9/site-packages (from sentence-transformers) (4.66.1)\n",
      "Requirement already satisfied: torchvision in /opt/anaconda3/lib/python3.9/site-packages (from sentence-transformers) (0.16.2)\n",
      "Requirement already satisfied: scikit-learn in /opt/anaconda3/lib/python3.9/site-packages (from sentence-transformers) (1.0.2)\n",
      "Requirement already satisfied: huggingface-hub>=0.4.0 in /opt/anaconda3/lib/python3.9/site-packages (from sentence-transformers) (0.20.2)\n",
      "Requirement already satisfied: scipy in /opt/anaconda3/lib/python3.9/site-packages (from sentence-transformers) (1.9.1)\n",
      "Requirement already satisfied: typing-extensions>=3.7.4.3 in /opt/anaconda3/lib/python3.9/site-packages (from huggingface-hub>=0.4.0->sentence-transformers) (4.8.0)\n",
      "Requirement already satisfied: requests in /opt/anaconda3/lib/python3.9/site-packages (from huggingface-hub>=0.4.0->sentence-transformers) (2.28.1)\n",
      "Requirement already satisfied: filelock in /opt/anaconda3/lib/python3.9/site-packages (from huggingface-hub>=0.4.0->sentence-transformers) (3.6.0)\n",
      "Requirement already satisfied: pyyaml>=5.1 in /opt/anaconda3/lib/python3.9/site-packages (from huggingface-hub>=0.4.0->sentence-transformers) (6.0)\n",
      "Requirement already satisfied: fsspec>=2023.5.0 in /opt/anaconda3/lib/python3.9/site-packages (from huggingface-hub>=0.4.0->sentence-transformers) (2023.12.2)\n",
      "Requirement already satisfied: packaging>=20.9 in /opt/anaconda3/lib/python3.9/site-packages (from huggingface-hub>=0.4.0->sentence-transformers) (23.2)\n",
      "Requirement already satisfied: jinja2 in /opt/anaconda3/lib/python3.9/site-packages (from torch>=1.6.0->sentence-transformers) (2.11.3)\n",
      "Requirement already satisfied: networkx in /opt/anaconda3/lib/python3.9/site-packages (from torch>=1.6.0->sentence-transformers) (2.8.4)\n",
      "Requirement already satisfied: sympy in /opt/anaconda3/lib/python3.9/site-packages (from torch>=1.6.0->sentence-transformers) (1.10.1)\n",
      "Requirement already satisfied: tokenizers<0.19,>=0.14 in /opt/anaconda3/lib/python3.9/site-packages (from transformers<5.0.0,>=4.6.0->sentence-transformers) (0.15.0)\n",
      "Requirement already satisfied: safetensors>=0.3.1 in /opt/anaconda3/lib/python3.9/site-packages (from transformers<5.0.0,>=4.6.0->sentence-transformers) (0.4.1)\n",
      "Requirement already satisfied: regex!=2019.12.17 in /opt/anaconda3/lib/python3.9/site-packages (from transformers<5.0.0,>=4.6.0->sentence-transformers) (2022.7.9)\n",
      "Requirement already satisfied: click in /opt/anaconda3/lib/python3.9/site-packages (from nltk->sentence-transformers) (8.0.4)\n",
      "Requirement already satisfied: joblib in /opt/anaconda3/lib/python3.9/site-packages (from nltk->sentence-transformers) (1.1.0)\n",
      "Requirement already satisfied: threadpoolctl>=2.0.0 in /opt/anaconda3/lib/python3.9/site-packages (from scikit-learn->sentence-transformers) (2.2.0)\n",
      "Requirement already satisfied: pillow!=8.3.*,>=5.3.0 in /opt/anaconda3/lib/python3.9/site-packages (from torchvision->sentence-transformers) (9.2.0)\n",
      "Requirement already satisfied: MarkupSafe>=0.23 in /opt/anaconda3/lib/python3.9/site-packages (from jinja2->torch>=1.6.0->sentence-transformers) (2.0.1)\n",
      "Requirement already satisfied: urllib3<1.27,>=1.21.1 in /opt/anaconda3/lib/python3.9/site-packages (from requests->huggingface-hub>=0.4.0->sentence-transformers) (1.26.11)\n",
      "Requirement already satisfied: certifi>=2017.4.17 in /opt/anaconda3/lib/python3.9/site-packages (from requests->huggingface-hub>=0.4.0->sentence-transformers) (2022.9.24)\n",
      "Requirement already satisfied: idna<4,>=2.5 in /opt/anaconda3/lib/python3.9/site-packages (from requests->huggingface-hub>=0.4.0->sentence-transformers) (3.3)\n",
      "Requirement already satisfied: charset-normalizer<3,>=2 in /opt/anaconda3/lib/python3.9/site-packages (from requests->huggingface-hub>=0.4.0->sentence-transformers) (2.0.4)\n",
      "Requirement already satisfied: mpmath>=0.19 in /opt/anaconda3/lib/python3.9/site-packages (from sympy->torch>=1.6.0->sentence-transformers) (1.2.1)\n"
     ]
    }
   ],
   "source": [
    "!pip install sentence-transformers\n",
    "\n"
   ]
  },
  {
   "cell_type": "code",
   "execution_count": 5,
   "id": "43d0ec02-0186-48ea-8849-6afbfcf18583",
   "metadata": {},
   "outputs": [],
   "source": [
    "from sentence_transformers import SentenceTransformer\n",
    "import numpy as np\n",
    "import pandas as pd\n",
    "\n",
    "from sentence_transformers.util import cos_sim\n"
   ]
  },
  {
   "cell_type": "code",
   "execution_count": 6,
   "id": "ffaebe4c-024e-48d9-a8a1-f95ae4bb1659",
   "metadata": {},
   "outputs": [
    {
     "data": {
      "text/plain": [
       "SentenceTransformer(\n",
       "  (0): Transformer({'max_seq_length': 384, 'do_lower_case': False}) with Transformer model: MPNetModel \n",
       "  (1): Pooling({'word_embedding_dimension': 768, 'pooling_mode_cls_token': False, 'pooling_mode_mean_tokens': True, 'pooling_mode_max_tokens': False, 'pooling_mode_mean_sqrt_len_tokens': False})\n",
       "  (2): Normalize()\n",
       ")"
      ]
     },
     "execution_count": 6,
     "metadata": {},
     "output_type": "execute_result"
    }
   ],
   "source": [
    "mpnet = SentenceTransformer('all-mpnet-base-v2')\n",
    "\n",
    "mpnet"
   ]
  },
  {
   "cell_type": "code",
   "execution_count": 7,
   "id": "eff1d2df-3692-4d6f-aa5d-05537ee7381d",
   "metadata": {},
   "outputs": [
    {
     "data": {
      "text/plain": [
       "5"
      ]
     },
     "execution_count": 7,
     "metadata": {},
     "output_type": "execute_result"
    }
   ],
   "source": [
    "\n",
    "#res = embed.embed_documents(texts)\n",
    "#len(res), len(res[0]) # (x,1536) 1536 is the embedding size\n",
    "sentences = [\n",
    "    \"the fifty mannequin heads floating in the pool kind of freaked them out\",\n",
    "    \"she swore she just saw her sushi move\",\n",
    "    \"he embraced his new life as an eggplant\",\n",
    "    \"my dentist tells me that chewing bricks is very bad for your teeth\",\n",
    "    \"the dental specialist recommended an immediate stop to flossing with construction materials\"\n",
    "]\n",
    "embeddings = mpnet.encode(sentences)\n",
    "\n",
    "sim = np.zeros((len(sentences), len(sentences)))\n",
    "\n",
    "for i in range(len(sentences)):\n",
    "    sim[i:,i] = cos_sim(embeddings[i], embeddings[i:])\n",
    "\n",
    "len(sim[0])"
   ]
  },
  {
   "cell_type": "code",
   "execution_count": 112,
   "id": "4ccdec12-d744-41be-9ff0-a5daa613b8b5",
   "metadata": {},
   "outputs": [
    {
     "data": {
      "text/html": [
       "<div>\n",
       "<style scoped>\n",
       "    .dataframe tbody tr th:only-of-type {\n",
       "        vertical-align: middle;\n",
       "    }\n",
       "\n",
       "    .dataframe tbody tr th {\n",
       "        vertical-align: top;\n",
       "    }\n",
       "\n",
       "    .dataframe thead th {\n",
       "        text-align: right;\n",
       "    }\n",
       "</style>\n",
       "<table border=\"1\" class=\"dataframe\">\n",
       "  <thead>\n",
       "    <tr style=\"text-align: right;\">\n",
       "      <th></th>\n",
       "      <th>Unnamed: 0</th>\n",
       "      <th>start_time</th>\n",
       "      <th>end_time</th>\n",
       "      <th>speaker_label</th>\n",
       "      <th>text</th>\n",
       "    </tr>\n",
       "  </thead>\n",
       "  <tbody>\n",
       "    <tr>\n",
       "      <th>0</th>\n",
       "      <td>0</td>\n",
       "      <td>0.000150</td>\n",
       "      <td>0.083500</td>\n",
       "      <td>Speaker 1</td>\n",
       "      <td>How do I defend myself and my Children against...</td>\n",
       "    </tr>\n",
       "    <tr>\n",
       "      <th>1</th>\n",
       "      <td>1</td>\n",
       "      <td>0.083650</td>\n",
       "      <td>0.128983</td>\n",
       "      <td>Speaker 1</td>\n",
       "      <td>And you said to yourself that the police may n...</td>\n",
       "    </tr>\n",
       "    <tr>\n",
       "      <th>2</th>\n",
       "      <td>2</td>\n",
       "      <td>0.129167</td>\n",
       "      <td>0.135000</td>\n",
       "      <td>Speaker 1</td>\n",
       "      <td>Tell me,</td>\n",
       "    </tr>\n",
       "    <tr>\n",
       "      <th>3</th>\n",
       "      <td>3</td>\n",
       "      <td>0.135150</td>\n",
       "      <td>0.189983</td>\n",
       "      <td>Speaker 2</td>\n",
       "      <td>you know what the best chance you got in a sit...</td>\n",
       "    </tr>\n",
       "    <tr>\n",
       "      <th>4</th>\n",
       "      <td>4</td>\n",
       "      <td>0.190150</td>\n",
       "      <td>0.203983</td>\n",
       "      <td>Speaker 2</td>\n",
       "      <td>She just stated that</td>\n",
       "    </tr>\n",
       "  </tbody>\n",
       "</table>\n",
       "</div>"
      ],
      "text/plain": [
       "   Unnamed: 0  start_time  end_time speaker_label  \\\n",
       "0           0    0.000150  0.083500     Speaker 1   \n",
       "1           1    0.083650  0.128983     Speaker 1   \n",
       "2           2    0.129167  0.135000     Speaker 1   \n",
       "3           3    0.135150  0.189983     Speaker 2   \n",
       "4           4    0.190150  0.203983     Speaker 2   \n",
       "\n",
       "                                                text  \n",
       "0  How do I defend myself and my Children against...  \n",
       "1  And you said to yourself that the police may n...  \n",
       "2                                           Tell me,  \n",
       "3  you know what the best chance you got in a sit...  \n",
       "4                               She just stated that  "
      ]
     },
     "execution_count": 112,
     "metadata": {},
     "output_type": "execute_result"
    }
   ],
   "source": [
    "transcript = pd.read_csv('transcript.csv')\n",
    "transcript.head()"
   ]
  },
  {
   "cell_type": "code",
   "execution_count": 113,
   "id": "227acc5e-2bd4-4a30-bd93-1b8d10a332c7",
   "metadata": {},
   "outputs": [
    {
     "data": {
      "text/plain": [
       "Unnamed: 0       0\n",
       "start_time       0\n",
       "end_time         0\n",
       "speaker_label    0\n",
       "text             0\n",
       "dtype: int64"
      ]
     },
     "execution_count": 113,
     "metadata": {},
     "output_type": "execute_result"
    }
   ],
   "source": [
    "transcript.isna().sum()"
   ]
  },
  {
   "cell_type": "code",
   "execution_count": 114,
   "id": "0d231369-ac72-4935-822f-e8bb272c7b57",
   "metadata": {},
   "outputs": [
    {
     "data": {
      "text/plain": [
       "Unnamed: 0         int64\n",
       "start_time       float64\n",
       "end_time         float64\n",
       "speaker_label     object\n",
       "text              object\n",
       "dtype: object"
      ]
     },
     "execution_count": 114,
     "metadata": {},
     "output_type": "execute_result"
    }
   ],
   "source": [
    "transcript.dtypes"
   ]
  },
  {
   "cell_type": "code",
   "execution_count": 115,
   "id": "08ae9d9f-08ad-4d23-aec1-efd542ca9ea4",
   "metadata": {},
   "outputs": [
    {
     "data": {
      "text/html": [
       "<div>\n",
       "<style scoped>\n",
       "    .dataframe tbody tr th:only-of-type {\n",
       "        vertical-align: middle;\n",
       "    }\n",
       "\n",
       "    .dataframe tbody tr th {\n",
       "        vertical-align: top;\n",
       "    }\n",
       "\n",
       "    .dataframe thead th {\n",
       "        text-align: right;\n",
       "    }\n",
       "</style>\n",
       "<table border=\"1\" class=\"dataframe\">\n",
       "  <thead>\n",
       "    <tr style=\"text-align: right;\">\n",
       "      <th></th>\n",
       "      <th>start_time</th>\n",
       "      <th>speaker_label</th>\n",
       "      <th>text</th>\n",
       "    </tr>\n",
       "  </thead>\n",
       "  <tbody>\n",
       "    <tr>\n",
       "      <th>0</th>\n",
       "      <td>0.000150</td>\n",
       "      <td>Speaker 1</td>\n",
       "      <td>How do I defend myself and my Children against...</td>\n",
       "    </tr>\n",
       "    <tr>\n",
       "      <th>1</th>\n",
       "      <td>0.083650</td>\n",
       "      <td>Speaker 1</td>\n",
       "      <td>And you said to yourself that the police may n...</td>\n",
       "    </tr>\n",
       "    <tr>\n",
       "      <th>2</th>\n",
       "      <td>0.129167</td>\n",
       "      <td>Speaker 1</td>\n",
       "      <td>Tell me,</td>\n",
       "    </tr>\n",
       "    <tr>\n",
       "      <th>3</th>\n",
       "      <td>0.135150</td>\n",
       "      <td>Speaker 2</td>\n",
       "      <td>you know what the best chance you got in a sit...</td>\n",
       "    </tr>\n",
       "    <tr>\n",
       "      <th>4</th>\n",
       "      <td>0.190150</td>\n",
       "      <td>Speaker 2</td>\n",
       "      <td>She just stated that</td>\n",
       "    </tr>\n",
       "  </tbody>\n",
       "</table>\n",
       "</div>"
      ],
      "text/plain": [
       "   start_time speaker_label                                               text\n",
       "0    0.000150     Speaker 1  How do I defend myself and my Children against...\n",
       "1    0.083650     Speaker 1  And you said to yourself that the police may n...\n",
       "2    0.129167     Speaker 1                                           Tell me,\n",
       "3    0.135150     Speaker 2  you know what the best chance you got in a sit...\n",
       "4    0.190150     Speaker 2                               She just stated that"
      ]
     },
     "execution_count": 115,
     "metadata": {},
     "output_type": "execute_result"
    }
   ],
   "source": [
    "\n",
    "transcript.drop(['Unnamed: 0', 'end_time' ], axis=1, inplace=True)\n",
    "transcript.head()"
   ]
  },
  {
   "cell_type": "code",
   "execution_count": 116,
   "id": "a4e03fc1-69ba-4715-a4e8-d2f1634f64de",
   "metadata": {},
   "outputs": [
    {
     "data": {
      "text/plain": [
       "954"
      ]
     },
     "execution_count": 116,
     "metadata": {},
     "output_type": "execute_result"
    }
   ],
   "source": [
    "len(transcript)"
   ]
  },
  {
   "cell_type": "code",
   "execution_count": 117,
   "id": "4a337cd0-e77c-4f25-b489-46b3afa0ef1a",
   "metadata": {},
   "outputs": [],
   "source": [
    "import warnings\n",
    "warnings.filterwarnings(\"ignore\")\n",
    "to_remove=[]\n",
    "for i, record in transcript.iterrows():\n",
    "    if i < len(transcript)-1:\n",
    "        if transcript.speaker_label[i]== transcript.speaker_label[i+1]:\n",
    "            transcript['text'][i]=transcript['text'][i]+\" \"+transcript['text'][i+1]\n",
    "            to_remove.append(i+1)\n",
    "\n",
    "transcript = transcript.drop(to_remove).reset_index(drop=True)\n",
    "            \n",
    "             "
   ]
  },
  {
   "cell_type": "code",
   "execution_count": 119,
   "id": "9627f314-8657-4608-8ff1-3ef011e1227e",
   "metadata": {},
   "outputs": [
    {
     "data": {
      "text/html": [
       "<div>\n",
       "<style scoped>\n",
       "    .dataframe tbody tr th:only-of-type {\n",
       "        vertical-align: middle;\n",
       "    }\n",
       "\n",
       "    .dataframe tbody tr th {\n",
       "        vertical-align: top;\n",
       "    }\n",
       "\n",
       "    .dataframe thead th {\n",
       "        text-align: right;\n",
       "    }\n",
       "</style>\n",
       "<table border=\"1\" class=\"dataframe\">\n",
       "  <thead>\n",
       "    <tr style=\"text-align: right;\">\n",
       "      <th></th>\n",
       "      <th>start_time</th>\n",
       "      <th>speaker_label</th>\n",
       "      <th>text</th>\n",
       "    </tr>\n",
       "  </thead>\n",
       "  <tbody>\n",
       "    <tr>\n",
       "      <th>0</th>\n",
       "      <td>0.000150</td>\n",
       "      <td>Speaker 1</td>\n",
       "      <td>How do I defend myself and my Children against...</td>\n",
       "    </tr>\n",
       "    <tr>\n",
       "      <th>1</th>\n",
       "      <td>0.135150</td>\n",
       "      <td>Speaker 2</td>\n",
       "      <td>you know what the best chance you got in a sit...</td>\n",
       "    </tr>\n",
       "    <tr>\n",
       "      <th>2</th>\n",
       "      <td>0.484650</td>\n",
       "      <td>Narrator</td>\n",
       "      <td>Thank you all for coming today. My name is Kee...</td>\n",
       "    </tr>\n",
       "    <tr>\n",
       "      <th>3</th>\n",
       "      <td>1.232333</td>\n",
       "      <td>Speaker 1</td>\n",
       "      <td>Fun is,</td>\n",
       "    </tr>\n",
       "    <tr>\n",
       "      <th>4</th>\n",
       "      <td>1.241667</td>\n",
       "      <td>Narrator</td>\n",
       "      <td>is pretty much what I'm thinking about and wha...</td>\n",
       "    </tr>\n",
       "  </tbody>\n",
       "</table>\n",
       "</div>"
      ],
      "text/plain": [
       "   start_time speaker_label                                               text\n",
       "0    0.000150     Speaker 1  How do I defend myself and my Children against...\n",
       "1    0.135150     Speaker 2  you know what the best chance you got in a sit...\n",
       "2    0.484650      Narrator  Thank you all for coming today. My name is Kee...\n",
       "3    1.232333     Speaker 1                                            Fun is,\n",
       "4    1.241667      Narrator  is pretty much what I'm thinking about and wha..."
      ]
     },
     "execution_count": 119,
     "metadata": {},
     "output_type": "execute_result"
    }
   ],
   "source": [
    "transcript.head()"
   ]
  },
  {
   "cell_type": "code",
   "execution_count": 120,
   "id": "7737c4e9-52d2-4e84-b5f7-566218ca3905",
   "metadata": {},
   "outputs": [
    {
     "data": {
      "text/plain": [
       "start_time       float64\n",
       "speaker_label     object\n",
       "text              object\n",
       "dtype: object"
      ]
     },
     "execution_count": 120,
     "metadata": {},
     "output_type": "execute_result"
    }
   ],
   "source": [
    "transcript.dtypes"
   ]
  },
  {
   "cell_type": "code",
   "execution_count": 121,
   "id": "4982f29f-84a3-4e1e-a86c-f2e431bdf001",
   "metadata": {},
   "outputs": [
    {
     "data": {
      "text/plain": [
       "0      How do I defend myself and my Children against...\n",
       "1      you know what the best chance you got in a sit...\n",
       "2      Thank you all for coming today. My name is Kee...\n",
       "3                                                Fun is,\n",
       "4      is pretty much what I'm thinking about and wha...\n",
       "                             ...                        \n",
       "137    that those of us who are racially oppressed, w...\n",
       "138    I wasn't surprised by the answers I heard, but...\n",
       "139    I think at the end of the day, we all just wan...\n",
       "140    Some of the stuff I heard in there is like fai...\n",
       "141    I would like to do some training with some of ...\n",
       "Name: text, Length: 142, dtype: string"
      ]
     },
     "execution_count": 121,
     "metadata": {},
     "output_type": "execute_result"
    }
   ],
   "source": [
    "transcript.speaker_label.astype(\"string\")\n",
    "transcript.text.astype(\"string\")"
   ]
  },
  {
   "cell_type": "code",
   "execution_count": 122,
   "id": "b7ff96d6-65ff-4790-b8b8-2480a50d81e2",
   "metadata": {},
   "outputs": [
    {
     "data": {
      "text/plain": [
       "768"
      ]
     },
     "execution_count": 122,
     "metadata": {},
     "output_type": "execute_result"
    }
   ],
   "source": [
    "def create_embedding(text):\n",
    "    return mpnet.encode([text])[0]\n",
    "\n",
    "# get first row of transcript\n",
    "test_embedding_function = create_embedding(transcript.iloc[0]['text'])\n",
    "len(test_embedding_function)  #maximum dimension size is 768"
   ]
  },
  {
   "cell_type": "code",
   "execution_count": 125,
   "id": "87c084d4-9c16-45cc-8178-f2804d60741f",
   "metadata": {},
   "outputs": [],
   "source": [
    "for i,record in transcript.iterrows():\n",
    "    l=0\n",
    "    \n",
    "    if len(transcript.iloc[i]['text']) > l:\n",
    "        l=len(transcript.iloc[i]['text'])"
   ]
  },
  {
   "cell_type": "code",
   "execution_count": 126,
   "id": "38068e41-8d4d-47e7-be7a-1af5a289a43b",
   "metadata": {},
   "outputs": [
    {
     "data": {
      "text/plain": [
       "80"
      ]
     },
     "execution_count": 126,
     "metadata": {},
     "output_type": "execute_result"
    }
   ],
   "source": [
    "l"
   ]
  },
  {
   "cell_type": "code",
   "execution_count": 127,
   "id": "ca10ef79-7664-4180-810b-15a294cb508d",
   "metadata": {},
   "outputs": [],
   "source": [
    "import pinecone\n",
    "import os\n",
    "\n",
    "# Load Pinecone API key\n",
    "api_key = os.environ.get('PINECONE_API_KEY') or 'API key'\n",
    "# Set Pinecone environment. Find next to API key in console\n",
    "env = os.environ.get('PINECONE_ENVIRONMENT') or \"gcp-starter\"\n",
    "\n",
    "pinecone.init(api_key=api_key, environment=env)\n",
    "\n",
    "index_name = \"hello-pinecone\"\n",
    "# Delete the index, if an index of the same name already exists\n",
    "if index_name in pinecone.list_indexes():\n",
    "    pinecone.delete_index(index_name)"
   ]
  },
  {
   "cell_type": "code",
   "execution_count": 128,
   "id": "c1b58a1a-0b82-4b89-9323-d5bacf00494e",
   "metadata": {},
   "outputs": [],
   "source": [
    "import time\n",
    "\n",
    "if index_name in pinecone.list_indexes():\n",
    "    pinecone.delete_index(index_name)\n",
    "\n",
    "# we create a new index\n",
    "pinecone.create_index(\n",
    "    name=index_name,\n",
    "     metric='cosine',# this vector embedding best work with cosine\n",
    "    dimension=768  #max dimension is 768 \n",
    ")\n",
    "\n",
    "# wait for index to be initialized\n",
    "while not pinecone.describe_index(index_name).status['ready']:\n",
    "    time.sleep(1)"
   ]
  },
  {
   "cell_type": "code",
   "execution_count": 129,
   "id": "83d5f6f7-03ae-49c8-a5a0-dd2596d52e3f",
   "metadata": {},
   "outputs": [
    {
     "data": {
      "text/plain": [
       "{'dimension': 768,\n",
       " 'index_fullness': 0.0,\n",
       " 'namespaces': {'': {'vector_count': 0}},\n",
       " 'total_vector_count': 0}"
      ]
     },
     "execution_count": 129,
     "metadata": {},
     "output_type": "execute_result"
    }
   ],
   "source": [
    "index = pinecone.GRPCIndex(index_name)\n",
    "index.describe_index_stats()"
   ]
  },
  {
   "cell_type": "code",
   "execution_count": 131,
   "id": "0d55b431-c594-437a-9b0f-04db1da190c1",
   "metadata": {},
   "outputs": [
    {
     "data": {
      "application/vnd.jupyter.widget-view+json": {
       "model_id": "895d9695f69e4bc1a2fb6fef51a68446",
       "version_major": 2,
       "version_minor": 0
      },
      "text/plain": [
       "0it [00:00, ?it/s]"
      ]
     },
     "metadata": {},
     "output_type": "display_data"
    }
   ],
   "source": [
    "from tqdm.auto import tqdm\n",
    "from uuid import uuid4\n",
    "\n",
    "batch_limit = 90\n",
    "texts = []\n",
    "metadatas = []\n",
    "meeting_id = 1\n",
    "namespace = 'meeting_gun_law'\n",
    "\n",
    "for i, record in tqdm(transcript.iterrows()):\n",
    "    # First get metadata fields for this record\n",
    "    metadata = {\n",
    "        'speaker': record['speaker_label'],\n",
    "        'start_time': round(record['start_time'], 4),\n",
    "        'meeting_id': meeting_id,\n",
    "        'text': record['text'],\n",
    "    }\n",
    "\n",
    "    record_texts = record['text']\n",
    "    texts.append(record_texts)\n",
    "    metadatas.append(metadata)\n",
    "\n",
    "    if len(texts) >= batch_limit:\n",
    "        # Update Pinecone vector database with the batch\n",
    "        embeds = mpnet.encode(texts)\n",
    "        \n",
    "        index.upsert(vectors=zip(ids, embeds, metadatas), namespace=namespace)\n",
    "        #print(metadatas)\n",
    "        texts = []\n",
    "        metadatas = []\n",
    "\n",
    "    meeting_id += 1\n",
    "\n",
    "# Update Pinecone vector database with the remaining records (if any)\n",
    "if texts:\n",
    "    embeds = mpnet.encode(texts)\n",
    "    index.upsert(vectors=zip(ids, embeds, metadatas), namespace=namespace)\n",
    "    #print(metadatas)\n",
    "\n",
    "time.sleep(5)\n"
   ]
  },
  {
   "cell_type": "code",
   "execution_count": 133,
   "id": "8b62163b-cfb3-4a2b-8a2a-4f29b68b96de",
   "metadata": {},
   "outputs": [
    {
     "data": {
      "text/plain": [
       "{'dimension': 768,\n",
       " 'index_fullness': 0.0005,\n",
       " 'namespaces': {'': {'vector_count': 0},\n",
       "                'meeting_gun_law': {'vector_count': 50}},\n",
       " 'total_vector_count': 50}"
      ]
     },
     "execution_count": 133,
     "metadata": {},
     "output_type": "execute_result"
    }
   ],
   "source": [
    "index.describe_index_stats() "
   ]
  },
  {
   "cell_type": "code",
   "execution_count": 134,
   "id": "a248856d-a2c0-4c55-aea4-ba090c94b002",
   "metadata": {},
   "outputs": [
    {
     "name": "stdout",
     "output_type": "stream",
     "text": [
      "0.31: The United States Congress needs to remove all legislation that's introduced to absolve the gun industry of any accountability.\n",
      "0.30: There's no changes to gun policy in this country that are not incredibly controversial and divisive.\n",
      "0.28: was pouring billions of dollars into the communities that are suffering from gun violence,\n",
      "0.25: Us\n",
      "0.23: From what I've heard so far, the two main sort of points I'm hearing is that\n",
      "0.22: security who had a handgun who took a shot at the chest and there are armor piercing rounds.\n",
      "0.21: just kind of want to draw people's attention to the fact that there have been a lot of different views on this panel.\n",
      "0.20: a handgun against the person who had an AR-15. He had a rifle.\n",
      "0.18: Like, aren't we concerned about neighbors?\n",
      "0.18: They asked the police chief of Buffalo after the shooting, if you were armed with those types of weapons,\n"
     ]
    }
   ],
   "source": [
    "query  = \"What was talked regarding United States Congress?\"\n",
    "response = index.query(\n",
    "    vector= mpnet.encode([query])[0],\n",
    "    # filter={\n",
    "    #     \"meeting_id\": {\"$in\":[1, 2]}\n",
    "    # },\n",
    "    namespace=namespace, \n",
    "    top_k=10,\n",
    "    include_metadata=True,\n",
    ")\n",
    "response\n",
    "for match in response['matches']:\n",
    "    print(f\"{match['score']:.2f}: {match['metadata']['text']}\")"
   ]
  },
  {
   "cell_type": "code",
   "execution_count": null,
   "id": "ebd79935-8610-48c6-b9b8-a4942bde172a",
   "metadata": {},
   "outputs": [],
   "source": []
  }
 ],
 "metadata": {
  "kernelspec": {
   "display_name": "Python 3 (ipykernel)",
   "language": "python",
   "name": "python3"
  },
  "language_info": {
   "codemirror_mode": {
    "name": "ipython",
    "version": 3
   },
   "file_extension": ".py",
   "mimetype": "text/x-python",
   "name": "python",
   "nbconvert_exporter": "python",
   "pygments_lexer": "ipython3",
   "version": "3.9.13"
  }
 },
 "nbformat": 4,
 "nbformat_minor": 5
}

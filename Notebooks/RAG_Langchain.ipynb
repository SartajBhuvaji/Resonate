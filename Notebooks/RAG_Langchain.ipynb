{
 "cells": [
  {
   "cell_type": "raw",
   "id": "7ac371f2-3f0c-4dbc-bfc5-8fb98a1c1327",
   "metadata": {},
   "source": [
    "Trial Retrieval-Augmented Generation with Langchain and Pinecone\n",
    "Author: Prachitee Chouhan"
   ]
  },
  {
   "cell_type": "code",
   "execution_count": null,
   "id": "bfaf1265-70db-4f8a-bc4e-c6a45f13ca47",
   "metadata": {},
   "outputs": [],
   "source": []
  },
  {
   "cell_type": "code",
   "execution_count": 5,
   "id": "2c705089-94a6-4b0e-979f-f91c79a2769f",
   "metadata": {},
   "outputs": [],
   "source": [
    "!pip install -qU \\\n",
    "    openai==0.27.7 \\\n",
    "    \"pinecone-client[grpc]\"==2.2.1 \\\n",
    "    pinecone-datasets==0.5.1 \\\n",
    "    langchain==0.0.162 \\\n",
    "    tiktoken==0.4.0"
   ]
  },
  {
   "cell_type": "code",
   "execution_count": 6,
   "id": "9bd299dc-5ed2-40a4-a71f-642c0bed4aba",
   "metadata": {},
   "outputs": [
    {
     "name": "stdout",
     "output_type": "stream",
     "text": [
      "Requirement already satisfied: sentence-transformers in /opt/anaconda3/lib/python3.9/site-packages (2.2.2)\n",
      "Requirement already satisfied: transformers<5.0.0,>=4.6.0 in /opt/anaconda3/lib/python3.9/site-packages (from sentence-transformers) (4.36.2)\n",
      "Requirement already satisfied: tqdm in /opt/anaconda3/lib/python3.9/site-packages (from sentence-transformers) (4.66.1)\n",
      "Requirement already satisfied: torch>=1.6.0 in /opt/anaconda3/lib/python3.9/site-packages (from sentence-transformers) (1.13.1)\n",
      "Requirement already satisfied: torchvision in /opt/anaconda3/lib/python3.9/site-packages (from sentence-transformers) (0.14.1)\n",
      "Requirement already satisfied: numpy in /opt/anaconda3/lib/python3.9/site-packages (from sentence-transformers) (1.24.4)\n",
      "Requirement already satisfied: scikit-learn in /opt/anaconda3/lib/python3.9/site-packages (from sentence-transformers) (1.0.2)\n",
      "Requirement already satisfied: scipy in /opt/anaconda3/lib/python3.9/site-packages (from sentence-transformers) (1.9.1)\n",
      "Requirement already satisfied: nltk in /opt/anaconda3/lib/python3.9/site-packages (from sentence-transformers) (3.7)\n",
      "Requirement already satisfied: sentencepiece in /opt/anaconda3/lib/python3.9/site-packages (from sentence-transformers) (0.1.99)\n",
      "Requirement already satisfied: huggingface-hub>=0.4.0 in /opt/anaconda3/lib/python3.9/site-packages (from sentence-transformers) (0.20.2)\n",
      "Requirement already satisfied: filelock in /opt/anaconda3/lib/python3.9/site-packages (from huggingface-hub>=0.4.0->sentence-transformers) (3.6.0)\n",
      "Requirement already satisfied: fsspec>=2023.5.0 in /opt/anaconda3/lib/python3.9/site-packages (from huggingface-hub>=0.4.0->sentence-transformers) (2023.12.2)\n",
      "Requirement already satisfied: requests in /opt/anaconda3/lib/python3.9/site-packages (from huggingface-hub>=0.4.0->sentence-transformers) (2.31.0)\n",
      "Requirement already satisfied: pyyaml>=5.1 in /opt/anaconda3/lib/python3.9/site-packages (from huggingface-hub>=0.4.0->sentence-transformers) (6.0)\n",
      "Requirement already satisfied: typing-extensions>=3.7.4.3 in /opt/anaconda3/lib/python3.9/site-packages (from huggingface-hub>=0.4.0->sentence-transformers) (4.8.0)\n",
      "Requirement already satisfied: packaging>=20.9 in /opt/anaconda3/lib/python3.9/site-packages (from huggingface-hub>=0.4.0->sentence-transformers) (23.2)\n",
      "Requirement already satisfied: regex!=2019.12.17 in /opt/anaconda3/lib/python3.9/site-packages (from transformers<5.0.0,>=4.6.0->sentence-transformers) (2022.7.9)\n",
      "Requirement already satisfied: tokenizers<0.19,>=0.14 in /opt/anaconda3/lib/python3.9/site-packages (from transformers<5.0.0,>=4.6.0->sentence-transformers) (0.15.0)\n",
      "Requirement already satisfied: safetensors>=0.3.1 in /opt/anaconda3/lib/python3.9/site-packages (from transformers<5.0.0,>=4.6.0->sentence-transformers) (0.4.1)\n",
      "Requirement already satisfied: click in /opt/anaconda3/lib/python3.9/site-packages (from nltk->sentence-transformers) (8.1.7)\n",
      "Requirement already satisfied: joblib in /opt/anaconda3/lib/python3.9/site-packages (from nltk->sentence-transformers) (1.1.0)\n",
      "Requirement already satisfied: threadpoolctl>=2.0.0 in /opt/anaconda3/lib/python3.9/site-packages (from scikit-learn->sentence-transformers) (2.2.0)\n",
      "Requirement already satisfied: pillow!=8.3.*,>=5.3.0 in /opt/anaconda3/lib/python3.9/site-packages (from torchvision->sentence-transformers) (9.2.0)\n",
      "Requirement already satisfied: charset-normalizer<4,>=2 in /opt/anaconda3/lib/python3.9/site-packages (from requests->huggingface-hub>=0.4.0->sentence-transformers) (2.0.4)\n",
      "Requirement already satisfied: idna<4,>=2.5 in /opt/anaconda3/lib/python3.9/site-packages (from requests->huggingface-hub>=0.4.0->sentence-transformers) (3.3)\n",
      "Requirement already satisfied: urllib3<3,>=1.21.1 in /opt/anaconda3/lib/python3.9/site-packages (from requests->huggingface-hub>=0.4.0->sentence-transformers) (1.26.18)\n",
      "Requirement already satisfied: certifi>=2017.4.17 in /opt/anaconda3/lib/python3.9/site-packages (from requests->huggingface-hub>=0.4.0->sentence-transformers) (2023.11.17)\n"
     ]
    }
   ],
   "source": [
    "from datasets import load_dataset\n",
    "!pip install sentence-transformers\n",
    "from sentence_transformers import SentenceTransformer\n",
    "import numpy as np\n",
    "import pandas as pd\n",
    "import time\n",
    "from tqdm.auto import tqdm\n",
    "from uuid import uuid4\n",
    "from sentence_transformers.util import cos_sim\n",
    "import pinecone\n",
    "import os\n",
    "from langchain.vectorstores import Pinecone"
   ]
  },
  {
   "cell_type": "code",
   "execution_count": 14,
   "id": "97dcbd63-9bf9-4a1c-babc-96e029e78ffe",
   "metadata": {},
   "outputs": [
    {
     "data": {
      "text/html": [
       "<div>\n",
       "<style scoped>\n",
       "    .dataframe tbody tr th:only-of-type {\n",
       "        vertical-align: middle;\n",
       "    }\n",
       "\n",
       "    .dataframe tbody tr th {\n",
       "        vertical-align: top;\n",
       "    }\n",
       "\n",
       "    .dataframe thead th {\n",
       "        text-align: right;\n",
       "    }\n",
       "</style>\n",
       "<table border=\"1\" class=\"dataframe\">\n",
       "  <thead>\n",
       "    <tr style=\"text-align: right;\">\n",
       "      <th></th>\n",
       "      <th>Unnamed: 0</th>\n",
       "      <th>start_time</th>\n",
       "      <th>end_time</th>\n",
       "      <th>speaker_label</th>\n",
       "      <th>text</th>\n",
       "    </tr>\n",
       "  </thead>\n",
       "  <tbody>\n",
       "    <tr>\n",
       "      <th>0</th>\n",
       "      <td>0</td>\n",
       "      <td>0.000150</td>\n",
       "      <td>0.083500</td>\n",
       "      <td>Speaker 1</td>\n",
       "      <td>How do I defend myself and my Children against...</td>\n",
       "    </tr>\n",
       "    <tr>\n",
       "      <th>1</th>\n",
       "      <td>1</td>\n",
       "      <td>0.083650</td>\n",
       "      <td>0.128983</td>\n",
       "      <td>Speaker 1</td>\n",
       "      <td>And you said to yourself that the police may n...</td>\n",
       "    </tr>\n",
       "    <tr>\n",
       "      <th>2</th>\n",
       "      <td>2</td>\n",
       "      <td>0.129167</td>\n",
       "      <td>0.135000</td>\n",
       "      <td>Speaker 1</td>\n",
       "      <td>Tell me,</td>\n",
       "    </tr>\n",
       "    <tr>\n",
       "      <th>3</th>\n",
       "      <td>3</td>\n",
       "      <td>0.135150</td>\n",
       "      <td>0.189983</td>\n",
       "      <td>Speaker 2</td>\n",
       "      <td>you know what the best chance you got in a sit...</td>\n",
       "    </tr>\n",
       "    <tr>\n",
       "      <th>4</th>\n",
       "      <td>4</td>\n",
       "      <td>0.190150</td>\n",
       "      <td>0.203983</td>\n",
       "      <td>Speaker 2</td>\n",
       "      <td>She just stated that</td>\n",
       "    </tr>\n",
       "  </tbody>\n",
       "</table>\n",
       "</div>"
      ],
      "text/plain": [
       "   Unnamed: 0  start_time  end_time speaker_label  \\\n",
       "0           0    0.000150  0.083500     Speaker 1   \n",
       "1           1    0.083650  0.128983     Speaker 1   \n",
       "2           2    0.129167  0.135000     Speaker 1   \n",
       "3           3    0.135150  0.189983     Speaker 2   \n",
       "4           4    0.190150  0.203983     Speaker 2   \n",
       "\n",
       "                                                text  \n",
       "0  How do I defend myself and my Children against...  \n",
       "1  And you said to yourself that the police may n...  \n",
       "2                                           Tell me,  \n",
       "3  you know what the best chance you got in a sit...  \n",
       "4                               She just stated that  "
      ]
     },
     "execution_count": 14,
     "metadata": {},
     "output_type": "execute_result"
    }
   ],
   "source": [
    "#Accessing the data\n",
    "\n",
    "dataset = pd.read_csv('transcript.csv')\n",
    "dataset.head()"
   ]
  },
  {
   "cell_type": "code",
   "execution_count": 15,
   "id": "b190aadb-ac07-4c0c-853e-bd0a6b29a201",
   "metadata": {},
   "outputs": [
    {
     "data": {
      "text/plain": [
       "SentenceTransformer(\n",
       "  (0): Transformer({'max_seq_length': 384, 'do_lower_case': False}) with Transformer model: MPNetModel \n",
       "  (1): Pooling({'word_embedding_dimension': 768, 'pooling_mode_cls_token': False, 'pooling_mode_mean_tokens': True, 'pooling_mode_max_tokens': False, 'pooling_mode_mean_sqrt_len_tokens': False})\n",
       "  (2): Normalize()\n",
       ")"
      ]
     },
     "execution_count": 15,
     "metadata": {},
     "output_type": "execute_result"
    }
   ],
   "source": [
    "#Vector Embedding using SentenceTransformer, either we can use from hugging face or below one\n",
    "mpnet = SentenceTransformer('all-mpnet-base-v2')\n",
    "\n",
    "mpnet"
   ]
  },
  {
   "cell_type": "code",
   "execution_count": 17,
   "id": "b040f2d6-6187-4d0a-abbb-63858242d6e9",
   "metadata": {},
   "outputs": [
    {
     "data": {
      "text/html": [
       "<div>\n",
       "<style scoped>\n",
       "    .dataframe tbody tr th:only-of-type {\n",
       "        vertical-align: middle;\n",
       "    }\n",
       "\n",
       "    .dataframe tbody tr th {\n",
       "        vertical-align: top;\n",
       "    }\n",
       "\n",
       "    .dataframe thead th {\n",
       "        text-align: right;\n",
       "    }\n",
       "</style>\n",
       "<table border=\"1\" class=\"dataframe\">\n",
       "  <thead>\n",
       "    <tr style=\"text-align: right;\">\n",
       "      <th></th>\n",
       "      <th>start_time</th>\n",
       "      <th>speaker_label</th>\n",
       "      <th>text</th>\n",
       "    </tr>\n",
       "  </thead>\n",
       "  <tbody>\n",
       "    <tr>\n",
       "      <th>0</th>\n",
       "      <td>0.000150</td>\n",
       "      <td>Speaker 1</td>\n",
       "      <td>How do I defend myself and my Children against...</td>\n",
       "    </tr>\n",
       "    <tr>\n",
       "      <th>1</th>\n",
       "      <td>0.135150</td>\n",
       "      <td>Speaker 2</td>\n",
       "      <td>you know what the best chance you got in a sit...</td>\n",
       "    </tr>\n",
       "    <tr>\n",
       "      <th>2</th>\n",
       "      <td>0.484650</td>\n",
       "      <td>Narrator</td>\n",
       "      <td>Thank you all for coming today. My name is Kee...</td>\n",
       "    </tr>\n",
       "    <tr>\n",
       "      <th>3</th>\n",
       "      <td>1.232333</td>\n",
       "      <td>Speaker 1</td>\n",
       "      <td>Fun is,</td>\n",
       "    </tr>\n",
       "    <tr>\n",
       "      <th>4</th>\n",
       "      <td>1.241667</td>\n",
       "      <td>Narrator</td>\n",
       "      <td>is pretty much what I'm thinking about and wha...</td>\n",
       "    </tr>\n",
       "  </tbody>\n",
       "</table>\n",
       "</div>"
      ],
      "text/plain": [
       "   start_time speaker_label                                               text\n",
       "0    0.000150     Speaker 1  How do I defend myself and my Children against...\n",
       "1    0.135150     Speaker 2  you know what the best chance you got in a sit...\n",
       "2    0.484650      Narrator  Thank you all for coming today. My name is Kee...\n",
       "3    1.232333     Speaker 1                                            Fun is,\n",
       "4    1.241667      Narrator  is pretty much what I'm thinking about and wha..."
      ]
     },
     "execution_count": 17,
     "metadata": {},
     "output_type": "execute_result"
    }
   ],
   "source": [
    "#dropping unimportant columns and merging adjacent speaker together\n",
    "dataset.drop(['Unnamed: 0', 'end_time' ], axis=1, inplace=True)\n",
    "import warnings\n",
    "warnings.filterwarnings(\"ignore\")\n",
    "to_remove=[]\n",
    "for i, record in dataset.iterrows():\n",
    "    if i < len(dataset)-1:\n",
    "        if dataset.speaker_label[i]== dataset.speaker_label[i+1]:\n",
    "            dataset['text'][i]=dataset['text'][i]+\" \"+dataset['text'][i+1]\n",
    "            to_remove.append(i+1)\n",
    "\n",
    "dataset = dataset.drop(to_remove).reset_index(drop=True)\n",
    "            \n",
    "             \n",
    "dataset.head()\n"
   ]
  },
  {
   "cell_type": "code",
   "execution_count": 19,
   "id": "48834c5b-792a-448d-abfe-5922473dcc1d",
   "metadata": {},
   "outputs": [
    {
     "data": {
      "text/plain": [
       "768"
      ]
     },
     "execution_count": 19,
     "metadata": {},
     "output_type": "execute_result"
    }
   ],
   "source": [
    "#Convert text into embedding\n",
    "def create_embedding(text):\n",
    "    return mpnet.encode([text])[0]\n",
    "\n",
    "# get first row of transcript\n",
    "test_embedding_function = create_embedding(dataset.iloc[0]['text'])\n",
    "len(test_embedding_function)  #maximum dimension size is 768"
   ]
  },
  {
   "cell_type": "markdown",
   "id": "92b61869-40a6-431d-bc76-db081b43e4f8",
   "metadata": {},
   "source": [
    "PINECONE"
   ]
  },
  {
   "cell_type": "code",
   "execution_count": 20,
   "id": "385ce623-0850-42bf-9e35-40ed47c5dcae",
   "metadata": {},
   "outputs": [],
   "source": [
    "\n",
    "# Load Pinecone API key\n",
    "api_key = os.environ.get('PINECONE_API_KEY') or 'API_key'\n",
    "# Set Pinecone environment. Find next to API key in console\n",
    "env = os.environ.get('PINECONE_ENVIRONMENT') or \"gcp-starter\"\n",
    "\n",
    "pinecone.init(api_key=api_key, environment=env)\n",
    "\n",
    "index_name = \"hello-pinecone\"\n",
    "# Delete the index, if an index of the same name already exists\n",
    "if index_name in pinecone.list_indexes():\n",
    "    pinecone.delete_index(index_name)"
   ]
  },
  {
   "cell_type": "code",
   "execution_count": 21,
   "id": "53a2ada0-6571-41d5-a586-43746f07e3ed",
   "metadata": {},
   "outputs": [
    {
     "data": {
      "application/vnd.jupyter.widget-view+json": {
       "model_id": "cadf739f0586421a881a460e97ced36e",
       "version_major": 2,
       "version_minor": 0
      },
      "text/plain": [
       "0it [00:00, ?it/s]"
      ]
     },
     "metadata": {},
     "output_type": "display_data"
    }
   ],
   "source": [
    "\n",
    "if index_name in pinecone.list_indexes():\n",
    "    pinecone.delete_index(index_name)\n",
    "\n",
    "# we create a new index\n",
    "pinecone.create_index(\n",
    "    name=index_name,\n",
    "     metric='cosine',# this vector embedding best work with cosine\n",
    "    dimension=768  #max dimension is 768 \n",
    ")\n",
    "\n",
    "# wait for index to be initialized\n",
    "while not pinecone.describe_index(index_name).status['ready']:\n",
    "    time.sleep(1)\n",
    "\n",
    "#checking once\n",
    "index = pinecone.GRPCIndex(index_name)\n",
    "index.describe_index_stats()\n",
    "\n",
    "#loading data into pinecone \n",
    "batch_limit = 90\n",
    "texts = []\n",
    "metadatas = []\n",
    "meeting_id = 1\n",
    "namespace = 'meeting_gun_law'\n",
    "row_number=1 #to extract the delta\n",
    "for i, record in tqdm(dataset.iterrows()):\n",
    "    # First get metadata fields for this record\n",
    "    metadata = {\n",
    "        'speaker': record['speaker_label'],\n",
    "        'start_time': round(record['start_time'], 4),\n",
    "        'meeting_id': meeting_id,\n",
    "        'text': record['text'],\n",
    "        'row_number':row_number\n",
    "    }\n",
    "\n",
    "    record_texts = record['text']\n",
    "    texts.append(record_texts)\n",
    "    metadatas.append(metadata)\n",
    "\n",
    "    if len(texts) >= batch_limit:\n",
    "        # Update Pinecone vector database with the batch\n",
    "        ids = [str(uuid4()) for _ in range(len(texts))]\n",
    "        embeds = mpnet.encode(texts)\n",
    "        \n",
    "        index.upsert(vectors=zip(ids, embeds, metadatas), namespace=namespace)\n",
    "        #print(metadatas)\n",
    "        texts = []\n",
    "        metadatas = []\n",
    "\n",
    "    meeting_id += 1\n",
    "    row_number +=1\n",
    "\n",
    "# Update Pinecone vector database with the remaining records (if any)\n",
    "if texts:\n",
    "    ids = [str(uuid4()) for _ in range(len(texts))]\n",
    "    embeds = mpnet.encode(texts)\n",
    "    index.upsert(vectors=zip(ids, embeds, metadatas), namespace=namespace)\n",
    "    #print(metadatas)\n",
    "\n",
    "time.sleep(5)"
   ]
  },
  {
   "cell_type": "code",
   "execution_count": 22,
   "id": "93ec8df1-5fa3-43d7-b6b1-7d498a812e4a",
   "metadata": {},
   "outputs": [
    {
     "data": {
      "text/plain": [
       "{'dimension': 768,\n",
       " 'index_fullness': 0.00142,\n",
       " 'namespaces': {'': {'vector_count': 0},\n",
       "                'meeting_gun_law': {'vector_count': 142}},\n",
       " 'total_vector_count': 142}"
      ]
     },
     "execution_count": 22,
     "metadata": {},
     "output_type": "execute_result"
    }
   ],
   "source": [
    "index.describe_index_stats() "
   ]
  },
  {
   "cell_type": "code",
   "execution_count": null,
   "id": "74f277cb",
   "metadata": {},
   "outputs": [],
   "source": []
  },
  {
   "cell_type": "raw",
   "id": "131b5671-76fb-404a-a207-e1de81db6757",
   "metadata": {},
   "source": [
    "LANGCHAIN"
   ]
  },
  {
   "cell_type": "code",
   "execution_count": 116,
   "id": "443b0b84-5ae5-4fe5-9b7d-0256e606baeb",
   "metadata": {},
   "outputs": [],
   "source": [
    "\n",
    "embeddings = HuggingFaceEmbeddings(model_name=\"all-mpnet-base-v2\")\n",
    "text_field = \"text\"\n",
    "\n",
    "# switch back to normal index for langchain\n",
    "index = pinecone.Index(index_name)\n",
    "\n",
    "vectorstore = Pinecone(\n",
    "    index, embeddings.embed_query, text_field\n",
    ")\n",
    "#if using the same sentence-transformer embedding model, the input pass by similarity_search to mpnet.embeds causes problem \n",
    "#as they are not the same format.\n",
    "#model name (model_name=\"all-mpnet-base-v2\") is same as sentence-transformer(used above) but this is through hugging face"
   ]
  },
  {
   "cell_type": "code",
   "execution_count": 117,
   "id": "597032c7-2d58-45fa-8937-1fa982b15902",
   "metadata": {},
   "outputs": [
    {
     "data": {
      "text/plain": [
       "[Document(page_content=\"The United States Congress needs to remove all legislation that's introduced to absolve the gun industry of any accountability.\", metadata={'meeting_id': 129.0, 'row_number': 129.0, 'speaker': 'Speaker 7', 'start_time': 40.985}),\n",
       " Document(page_content='view gun ownership as a right in this country?', metadata={'meeting_id': 19.0, 'row_number': 19.0, 'speaker': 'Narrator', 'start_time': 4.0588}),\n",
       " Document(page_content='was pouring billions of dollars into the communities that are suffering from gun violence,', metadata={'meeting_id': 122.0, 'row_number': 122.0, 'speaker': 'Speaker 2', 'start_time': 39.1023}),\n",
       " Document(page_content='What do you guys think are actual like good ideas in terms of gun regulation. If any,', metadata={'meeting_id': 29.0, 'row_number': 29.0, 'speaker': 'Narrator', 'start_time': 6.5899}),\n",
       " Document(page_content=\"There's no changes to gun policy in this country that are not incredibly controversial and divisive.\", metadata={'meeting_id': 128.0, 'row_number': 128.0, 'speaker': 'Narrator', 'start_time': 40.7703}),\n",
       " Document(page_content='to folks and see, do you support restrictions on specific types of guns like the AR-15?', metadata={'meeting_id': 91.0, 'row_number': 91.0, 'speaker': 'Narrator', 'start_time': 31.4646}),\n",
       " Document(page_content=\"we're encouraging responsible gun owners to use the firearm to defend themselves, to defend myself. Yes. If I a single woman who lives at home and 30 intruders come in.\", metadata={'meeting_id': 108.0, 'row_number': 108.0, 'speaker': 'Speaker 6', 'start_time': 34.5619}),\n",
       " Document(page_content='provide security and safety for us. And a huge part of, you know, wanting to own guns is an aspect of, you know,', metadata={'meeting_id': 50.0, 'row_number': 50.0, 'speaker': 'Speaker 7', 'start_time': 14.9239}),\n",
       " Document(page_content='A lot of folks here say that they own guns as a self defense tool.  How do we feel about that shit is so bleak in America?', metadata={'meeting_id': 34.0, 'row_number': 34.0, 'speaker': 'Narrator', 'start_time': 8.5963}),\n",
       " Document(page_content='a handgun against the person who had an AR-15. He had a rifle.', metadata={'meeting_id': 99.0, 'row_number': 99.0, 'speaker': 'Speaker 6', 'start_time': 33.2287}),\n",
       " Document(page_content=\"And I'm curious, does everyone here support universal background checks on all gun purchases?\", metadata={'meeting_id': 69.0, 'row_number': 69.0, 'speaker': 'Narrator', 'start_time': 22.0838}),\n",
       " Document(page_content=\"I'm hearing a lot of consensus that it's not necessarily the guns. It's the reason that people are using\", metadata={'meeting_id': 126.0, 'row_number': 126.0, 'speaker': 'Narrator', 'start_time': 40.1048}),\n",
       " Document(page_content=\"And that's law enforcement who want more money and more weapons to make everyone safer,\", metadata={'meeting_id': 40.0, 'row_number': 40.0, 'speaker': 'Speaker 5', 'start_time': 11.6327}),\n",
       " Document(page_content='loopholes where even after you commit a crime, you still can keep your firearm or purchase your firearm.', metadata={'meeting_id': 76.0, 'row_number': 76.0, 'speaker': 'Speaker 2', 'start_time': 24.4593}),\n",
       " Document(page_content=\"who do we have drawing it up? The people who never owned a gun or the people that have owned guns? You know, what's the right answer?\", metadata={'meeting_id': 82.0, 'row_number': 82.0, 'speaker': 'Speaker 3', 'start_time': 27.6383}),\n",
       " Document(page_content='actually used to be a gun control activist. And there were certain events that were', metadata={'meeting_id': 18.0, 'row_number': 18.0, 'speaker': 'Speaker 7', 'start_time': 3.6578}),\n",
       " Document(page_content=\"You were like, so it's not necessarily the guns. I think it totally is the guns. There is a unique gun violence problem in America.\", metadata={'meeting_id': 127.0, 'row_number': 127.0, 'speaker': 'Speaker 8', 'start_time': 40.2813}),\n",
       " Document(page_content=\"A lot of people wouldn't choose to unless they were personally affected by gun violence or had their safety at risk.\", metadata={'meeting_id': 131.0, 'row_number': 131.0, 'speaker': 'Speaker 8', 'start_time': 41.7897}),\n",
       " Document(page_content='The two solutions that are introduced are too heavily focused on the individual and the gun.', metadata={'meeting_id': 36.0, 'row_number': 36.0, 'speaker': 'Speaker 7', 'start_time': 9.114}),\n",
       " Document(page_content='I have a question if we get rid of ar 15 S for law abiding citizens,', metadata={'meeting_id': 112.0, 'row_number': 112.0, 'speaker': 'Speaker 5', 'start_time': 35.6677}),\n",
       " Document(page_content=\"all out after all that,  I think the biggest misconception about gun owners is that we're all the same.\", metadata={'meeting_id': 136.0, 'row_number': 136.0, 'speaker': 'Narrator', 'start_time': 42.6757}),\n",
       " Document(page_content=\"When I was growing up. It was always the bad guys that had guns. And I felt like I didn't have the emotional maturity at that time to own guns.\", metadata={'meeting_id': 17.0, 'row_number': 17.0, 'speaker': 'Speaker 1', 'start_time': 3.3263}),\n",
       " Document(page_content='your hand? And how many are new gun owners who just got into to gun ownership and shooting?', metadata={'meeting_id': 11.0, 'row_number': 11.0, 'speaker': 'Narrator', 'start_time': 1.9302}),\n",
       " Document(page_content='Someone else with an AR-15? No, the thing is as a responsible gun owner, a person who, who owns several rifles.', metadata={'meeting_id': 95.0, 'row_number': 95.0, 'speaker': 'Speaker 6', 'start_time': 32.1363}),\n",
       " Document(page_content=\"red flag law that's called and there's uniformed police officers who go to remove a firearm from the\", metadata={'meeting_id': 87.0, 'row_number': 87.0, 'speaker': 'Speaker 1', 'start_time': 29.9778}),\n",
       " Document(page_content='security who had a handgun who took a shot at the chest and there are armor piercing rounds.', metadata={'meeting_id': 101.0, 'row_number': 101.0, 'speaker': 'Speaker 6', 'start_time': 33.4965}),\n",
       " Document(page_content='The first firearm I received our own was the first firearm my father owned, which is a hunting rifle.', metadata={'meeting_id': 15.0, 'row_number': 15.0, 'speaker': 'Speaker 2', 'start_time': 2.9826}),\n",
       " Document(page_content=\"police. They need police officers don't learn de escalation at the firing range, but they learned to, you know, shoot accurately hopefully and kill\", metadata={'meeting_id': 55.0, 'row_number': 55.0, 'speaker': 'Speaker 4', 'start_time': 16.5807}),\n",
       " Document(page_content='I agree with a lot of things um from what everybody else said, but I feel like a lot of the gun control issues,', metadata={'meeting_id': 38.0, 'row_number': 38.0, 'speaker': 'Speaker 1', 'start_time': 10.1208}),\n",
       " Document(page_content=\"Let, let's talk about real life. All right, the average person is not walking around and the arrest of firearms are not with AK 47 S.\", metadata={'meeting_id': 116.0, 'row_number': 116.0, 'speaker': 'Speaker 3', 'start_time': 36.4336}),\n",
       " Document(page_content='But that is the thing though, with firearms, when you have a weapons carry license, you commit a crime, they revoke your weapons carry license.', metadata={'meeting_id': 75.0, 'row_number': 75.0, 'speaker': 'Speaker 6', 'start_time': 24.2182}),\n",
       " Document(page_content='What are you trying to defend from with an AR-15?', metadata={'meeting_id': 94.0, 'row_number': 94.0, 'speaker': 'Speaker 2', 'start_time': 32.0505}),\n",
       " Document(page_content=\"This is an area that resists reform, resists regulation. We don't get to see the inner workings,\", metadata={'meeting_id': 43.0, 'row_number': 43.0, 'speaker': 'Speaker 5', 'start_time': 12.5158}),\n",
       " Document(page_content=\"I'm curious who are the people who you think shouldn't have guns? You say there are certain people? What do you have in mind?\", metadata={'meeting_id': 80.0, 'row_number': 80.0, 'speaker': 'Narrator', 'start_time': 27.1178}),\n",
       " Document(page_content='When we talk about regulation laws, people need to understand, like, especially on the left.', metadata={'meeting_id': 88.0, 'row_number': 88.0, 'speaker': 'Speaker 4', 'start_time': 30.3664}),\n",
       " Document(page_content='not a handgun with a 30 round magazine, which', metadata={'meeting_id': 104.0, 'row_number': 104.0, 'speaker': 'Speaker 6', 'start_time': 34.3187}),\n",
       " Document(page_content=\"We're in a world where we are literally out arming who's supposed to be protecting us.\", metadata={'meeting_id': 26.0, 'row_number': 26.0, 'speaker': 'Speaker 2', 'start_time': 5.7294}),\n",
       " Document(page_content='They asked the police chief of Buffalo after the shooting, if you were armed with those types of weapons,', metadata={'meeting_id': 100.0, 'row_number': 100.0, 'speaker': 'Speaker 2', 'start_time': 33.2893}),\n",
       " Document(page_content='to all of the people who have been here advocating for responsible gun use and offering your arguments and your life experience.', metadata={'meeting_id': 118.0, 'row_number': 118.0, 'speaker': 'Speaker 5', 'start_time': 37.6403}),\n",
       " Document(page_content='or not people should have guns in certain situations. I think most people would agree.', metadata={'meeting_id': 79.0, 'row_number': 79.0, 'speaker': 'Speaker 7', 'start_time': 26.4683}),\n",
       " Document(page_content='arms race where if someone else has an AR-15, therefore, I need an AR-15 and that the end game is, is that everyone has a', metadata={'meeting_id': 102.0, 'row_number': 102.0, 'speaker': 'Narrator', 'start_time': 33.8144}),\n",
       " Document(page_content='encouraging is the same culture that armed the shooter at tops.', metadata={'meeting_id': 109.0, 'row_number': 109.0, 'speaker': 'Speaker 2', 'start_time': 35.1611}),\n",
       " Document(page_content='are we going after the people that are using them illegally? The second something happens,', metadata={'meeting_id': 30.0, 'row_number': 30.0, 'speaker': 'Speaker 3', 'start_time': 6.7005}),\n",
       " Document(page_content='the reason why I ask is because when you actually shoot rifles and you have experience rifles versus handguns,', metadata={'meeting_id': 97.0, 'row_number': 97.0, 'speaker': 'Speaker 6', 'start_time': 32.8222}),\n",
       " Document(page_content='firearms if shooting a gun is exhausting, like teaching people to shoot guns is even more exhausting.', metadata={'meeting_id': 9.0, 'row_number': 9.0, 'speaker': 'Speaker 4', 'start_time': 1.6758}),\n",
       " Document(page_content='brushing it under the rug and our Children are dying. You know, and I get really frustrated about this,', metadata={'meeting_id': 64.0, 'row_number': 64.0, 'speaker': 'Speaker 2', 'start_time': 20.7959}),\n",
       " Document(page_content=\"You would make it seem like cops are running rampant. There's a lot more oversight than people know whether it's federally\", metadata={'meeting_id': 45.0, 'row_number': 45.0, 'speaker': 'Speaker 3', 'start_time': 13.4734}),\n",
       " Document(page_content='that would have not saved lives. If anything, it would have harmed more people.  I think as a security guard who defended himself using', metadata={'meeting_id': 98.0, 'row_number': 98.0, 'speaker': 'Speaker 2', 'start_time': 33.1368}),\n",
       " Document(page_content='Facts determined. I guess when I, when I pick up a gun loaded, not loaded, am I shooting,', metadata={'meeting_id': 6.0, 'row_number': 6.0, 'speaker': 'Speaker 4', 'start_time': 1.3558}),\n",
       " Document(page_content='But the best way to protect ourselves is to prevent violence.', metadata={'meeting_id': 124.0, 'row_number': 124.0, 'speaker': 'Speaker 2', 'start_time': 39.6647})]"
      ]
     },
     "execution_count": 117,
     "metadata": {},
     "output_type": "execute_result"
    }
   ],
   "source": [
    "query = \"What action United States congress took for gun industry?\"\n",
    "query1=\"What happened in Connecticut?\"\n",
    "vectorstore.similarity_search(\n",
    "    query,\n",
    "    namespace=namespace,# our search query\n",
    "    k=50  # return 3 most relevant docs\n",
    ")\n",
    "#with k less than 10, no agent was not able to generate output"
   ]
  },
  {
   "cell_type": "code",
   "execution_count": null,
   "id": "ec9689a7-5a39-44cd-b8d6-11934ea6e1b1",
   "metadata": {},
   "outputs": [],
   "source": []
  },
  {
   "cell_type": "markdown",
   "id": "1b860f30-0a50-49f4-9f04-56781b003f47",
   "metadata": {},
   "source": [
    "CONVERSATIONAL AGENT"
   ]
  },
  {
   "cell_type": "code",
   "execution_count": 123,
   "id": "9c1930a6-efd0-46e6-b489-597835fb3256",
   "metadata": {},
   "outputs": [],
   "source": [
    "from langchain.chat_models import ChatOpenAI\n",
    "from langchain.chains.conversation.memory import ConversationBufferWindowMemory\n",
    "from langchain.chains import RetrievalQA\n",
    "\n",
    "# chat completion llm\n",
    "llm = ChatOpenAI(\n",
    "    openai_api_key=\"API_key\",\n",
    "    model_name='gpt-3.5-turbo',\n",
    "    temperature=0.0\n",
    ")\n",
    "# conversational memory\n",
    "conversational_memory = ConversationBufferWindowMemory(\n",
    "    memory_key='chat_history',\n",
    "    k=5,\n",
    "    return_messages=True\n",
    ")\n",
    "# retrieval qa chain\n",
    "qa = RetrievalQA.from_chain_type(\n",
    "    llm=llm,\n",
    "    chain_type=\"stuff\",\n",
    "    retriever=vectorstore.as_retriever()\n",
    "    \n",
    ")\n"
   ]
  },
  {
   "cell_type": "code",
   "execution_count": 119,
   "id": "9f90c431-07a7-4dff-ba06-e7a838972ec8",
   "metadata": {},
   "outputs": [
    {
     "data": {
      "text/plain": [
       "'The United States Congress has taken various actions related to the gun industry. Some notable actions include passing the Gun Control Act of 1968, which established licensing requirements for gun dealers and prohibited certain individuals from owning firearms. Additionally, Congress has periodically debated and considered legislation on issues such as background checks for gun purchases, assault weapons bans, and funding for gun violence research. It is important to note that specific actions and legislation can vary over time, so it is recommended to refer to the most recent developments for the most accurate information.'"
      ]
     },
     "execution_count": 119,
     "metadata": {},
     "output_type": "execute_result"
    }
   ],
   "source": [
    "qa.run(query)"
   ]
  },
  {
   "cell_type": "code",
   "execution_count": 120,
   "id": "ddf2db39-04e8-436f-b17b-ef12a9933743",
   "metadata": {},
   "outputs": [],
   "source": [
    "from langchain.agents import Tool\n",
    "\n",
    "tools = [\n",
    "    Tool(\n",
    "        name='Knowledge Base1',\n",
    "        func=qa.run,\n",
    "        description=(\n",
    "            'This tool will be used to answer the query'\n",
    "        )\n",
    "    )\n",
    "]"
   ]
  },
  {
   "cell_type": "code",
   "execution_count": 121,
   "id": "6f7a943f-fd96-4f47-965d-c167a5eaaeaa",
   "metadata": {},
   "outputs": [],
   "source": [
    "from langchain.agents import initialize_agent\n",
    "\n",
    "agent = initialize_agent(\n",
    "    agent='chat-conversational-react-description',\n",
    "    tools=tools,\n",
    "    llm=llm,\n",
    "    verbose=True,\n",
    "    max_iterations=3,\n",
    "    early_stopping_method='generate',\n",
    "    memory=conversational_memory\n",
    ")"
   ]
  },
  {
   "cell_type": "code",
   "execution_count": 122,
   "id": "731ee9cb-2f3a-4cf9-9420-7d474abf1e89",
   "metadata": {},
   "outputs": [
    {
     "name": "stdout",
     "output_type": "stream",
     "text": [
      "\n",
      "\n",
      "\u001b[1m> Entering new AgentExecutor chain...\u001b[0m\n",
      "\u001b[32;1m\u001b[1;3m{\n",
      "    \"action\": \"Knowledge Base1\",\n",
      "    \"action_input\": \"United States congress action on gun industry\"\n",
      "}\u001b[0m\n",
      "Observation: \u001b[36;1m\u001b[1;3mAs an AI language model, I don't have real-time information. However, I can provide you with some general information about United States Congress actions on the gun industry. \n",
      "\n",
      "The United States Congress has taken various actions related to the gun industry over the years. These actions have included passing legislation on gun control, firearms regulations, and background checks. For example, the Gun Control Act of 1968 established licensing requirements for gun dealers and prohibited certain individuals from owning firearms. \n",
      "\n",
      "Additionally, the Brady Handgun Violence Prevention Act of 1993 mandated background checks for firearm purchases from licensed dealers. More recently, there have been discussions and debates in Congress about implementing stricter gun control measures, such as expanding background checks and banning certain types of firearms. However, the specific actions taken by Congress can vary depending on the political climate and the priorities of lawmakers at any given time. \n",
      "\n",
      "For the most up-to-date information on recent actions taken by the United States Congress regarding the gun industry, I recommend checking reliable news sources or government websites.\u001b[0m\n",
      "Thought:\u001b[32;1m\u001b[1;3m{\n",
      "    \"action\": \"Final Answer\",\n",
      "    \"action_input\": \"The United States Congress has taken various actions related to the gun industry over the years. These actions have included passing legislation on gun control, firearms regulations, and background checks. For example, the Gun Control Act of 1968 established licensing requirements for gun dealers and prohibited certain individuals from owning firearms. Additionally, the Brady Handgun Violence Prevention Act of 1993 mandated background checks for firearm purchases from licensed dealers. More recently, there have been discussions and debates in Congress about implementing stricter gun control measures, such as expanding background checks and banning certain types of firearms. However, the specific actions taken by Congress can vary depending on the political climate and the priorities of lawmakers at any given time. For the most up-to-date information on recent actions taken by the United States Congress regarding the gun industry, I recommend checking reliable news sources or government websites.\"\n",
      "}\u001b[0m\n",
      "\n",
      "\u001b[1m> Finished chain.\u001b[0m\n"
     ]
    },
    {
     "data": {
      "text/plain": [
       "{'input': 'What action United States congress took for gun industry?',\n",
       " 'chat_history': [],\n",
       " 'output': 'The United States Congress has taken various actions related to the gun industry over the years. These actions have included passing legislation on gun control, firearms regulations, and background checks. For example, the Gun Control Act of 1968 established licensing requirements for gun dealers and prohibited certain individuals from owning firearms. Additionally, the Brady Handgun Violence Prevention Act of 1993 mandated background checks for firearm purchases from licensed dealers. More recently, there have been discussions and debates in Congress about implementing stricter gun control measures, such as expanding background checks and banning certain types of firearms. However, the specific actions taken by Congress can vary depending on the political climate and the priorities of lawmakers at any given time. For the most up-to-date information on recent actions taken by the United States Congress regarding the gun industry, I recommend checking reliable news sources or government websites.'}"
      ]
     },
     "execution_count": 122,
     "metadata": {},
     "output_type": "execute_result"
    }
   ],
   "source": [
    "agent(\"What action United States congress took for gun industry?\")"
   ]
  },
  {
   "cell_type": "code",
   "execution_count": null,
   "id": "f184c6d6-e2bc-4869-b6de-8200173a5dbb",
   "metadata": {},
   "outputs": [],
   "source": []
  }
 ],
 "metadata": {
  "kernelspec": {
   "display_name": "Python 3 (ipykernel)",
   "language": "python",
   "name": "python3"
  },
  "language_info": {
   "codemirror_mode": {
    "name": "ipython",
    "version": 3
   },
   "file_extension": ".py",
   "mimetype": "text/x-python",
   "name": "python",
   "nbconvert_exporter": "python",
   "pygments_lexer": "ipython3",
   "version": "3.9.13"
  }
 },
 "nbformat": 4,
 "nbformat_minor": 5
}

{
 "cells": [
  {
   "cell_type": "markdown",
   "id": "54ebefba-9c18-4e9d-8498-5ee3c795d33c",
   "metadata": {},
   "source": [
    "Pinecone database storing sentence-transformer embedding. It extract +10 and -10 number of conversations and return only sorted unique conversation (with no repeation). For future, sorting should be done with meeting id and timestamp.\n",
    "Author: Prachitee\n"
   ]
  },
  {
   "cell_type": "code",
   "execution_count": null,
   "id": "3b96e201-2fe0-4ea9-a11b-28ceb560ae70",
   "metadata": {},
   "outputs": [],
   "source": [
    "!pip install sentence-transformers"
   ]
  },
  {
   "cell_type": "code",
   "execution_count": 2,
   "id": "43d0ec02-0186-48ea-8849-6afbfcf18583",
   "metadata": {},
   "outputs": [],
   "source": [
    "from sentence_transformers import SentenceTransformer\n",
    "import numpy as np\n",
    "import pandas as pd\n",
    "\n",
    "from sentence_transformers.util import cos_sim\n"
   ]
  },
  {
   "cell_type": "code",
   "execution_count": 3,
   "id": "ffaebe4c-024e-48d9-a8a1-f95ae4bb1659",
   "metadata": {},
   "outputs": [
    {
     "data": {
      "text/plain": [
       "SentenceTransformer(\n",
       "  (0): Transformer({'max_seq_length': 384, 'do_lower_case': False}) with Transformer model: MPNetModel \n",
       "  (1): Pooling({'word_embedding_dimension': 768, 'pooling_mode_cls_token': False, 'pooling_mode_mean_tokens': True, 'pooling_mode_max_tokens': False, 'pooling_mode_mean_sqrt_len_tokens': False})\n",
       "  (2): Normalize()\n",
       ")"
      ]
     },
     "execution_count": 3,
     "metadata": {},
     "output_type": "execute_result"
    }
   ],
   "source": [
    "mpnet = SentenceTransformer('all-mpnet-base-v2')\n",
    "\n",
    "mpnet"
   ]
  },
  {
   "cell_type": "code",
   "execution_count": 4,
   "id": "eff1d2df-3692-4d6f-aa5d-05537ee7381d",
   "metadata": {},
   "outputs": [
    {
     "data": {
      "text/plain": [
       "5"
      ]
     },
     "execution_count": 4,
     "metadata": {},
     "output_type": "execute_result"
    }
   ],
   "source": [
    "\n",
    "#res = embed.embed_documents(texts)\n",
    "#len(res), len(res[0]) # (x,1536) 1536 is the embedding size\n",
    "sentences = [\n",
    "    \"the fifty mannequin heads floating in the pool kind of freaked them out\",\n",
    "    \"she swore she just saw her sushi move\",\n",
    "    \"he embraced his new life as an eggplant\",\n",
    "    \"my dentist tells me that chewing bricks is very bad for your teeth\",\n",
    "    \"the dental specialist recommended an immediate stop to flossing with construction materials\"\n",
    "]\n",
    "embeddings = mpnet.encode(sentences)\n",
    "\n",
    "sim = np.zeros((len(sentences), len(sentences)))\n",
    "\n",
    "for i in range(len(sentences)):\n",
    "    sim[i:,i] = cos_sim(embeddings[i], embeddings[i:])\n",
    "\n",
    "len(sim[0])"
   ]
  },
  {
   "cell_type": "code",
   "execution_count": 5,
   "id": "4ccdec12-d744-41be-9ff0-a5daa613b8b5",
   "metadata": {},
   "outputs": [
    {
     "data": {
      "text/html": [
       "<div>\n",
       "<style scoped>\n",
       "    .dataframe tbody tr th:only-of-type {\n",
       "        vertical-align: middle;\n",
       "    }\n",
       "\n",
       "    .dataframe tbody tr th {\n",
       "        vertical-align: top;\n",
       "    }\n",
       "\n",
       "    .dataframe thead th {\n",
       "        text-align: right;\n",
       "    }\n",
       "</style>\n",
       "<table border=\"1\" class=\"dataframe\">\n",
       "  <thead>\n",
       "    <tr style=\"text-align: right;\">\n",
       "      <th></th>\n",
       "      <th>Unnamed: 0</th>\n",
       "      <th>start_time</th>\n",
       "      <th>end_time</th>\n",
       "      <th>speaker_label</th>\n",
       "      <th>text</th>\n",
       "    </tr>\n",
       "  </thead>\n",
       "  <tbody>\n",
       "    <tr>\n",
       "      <th>0</th>\n",
       "      <td>0</td>\n",
       "      <td>0.000150</td>\n",
       "      <td>0.083500</td>\n",
       "      <td>Speaker 1</td>\n",
       "      <td>How do I defend myself and my Children against...</td>\n",
       "    </tr>\n",
       "    <tr>\n",
       "      <th>1</th>\n",
       "      <td>1</td>\n",
       "      <td>0.083650</td>\n",
       "      <td>0.128983</td>\n",
       "      <td>Speaker 1</td>\n",
       "      <td>And you said to yourself that the police may n...</td>\n",
       "    </tr>\n",
       "    <tr>\n",
       "      <th>2</th>\n",
       "      <td>2</td>\n",
       "      <td>0.129167</td>\n",
       "      <td>0.135000</td>\n",
       "      <td>Speaker 1</td>\n",
       "      <td>Tell me,</td>\n",
       "    </tr>\n",
       "    <tr>\n",
       "      <th>3</th>\n",
       "      <td>3</td>\n",
       "      <td>0.135150</td>\n",
       "      <td>0.189983</td>\n",
       "      <td>Speaker 2</td>\n",
       "      <td>you know what the best chance you got in a sit...</td>\n",
       "    </tr>\n",
       "    <tr>\n",
       "      <th>4</th>\n",
       "      <td>4</td>\n",
       "      <td>0.190150</td>\n",
       "      <td>0.203983</td>\n",
       "      <td>Speaker 2</td>\n",
       "      <td>She just stated that</td>\n",
       "    </tr>\n",
       "  </tbody>\n",
       "</table>\n",
       "</div>"
      ],
      "text/plain": [
       "   Unnamed: 0  start_time  end_time speaker_label  \\\n",
       "0           0    0.000150  0.083500     Speaker 1   \n",
       "1           1    0.083650  0.128983     Speaker 1   \n",
       "2           2    0.129167  0.135000     Speaker 1   \n",
       "3           3    0.135150  0.189983     Speaker 2   \n",
       "4           4    0.190150  0.203983     Speaker 2   \n",
       "\n",
       "                                                text  \n",
       "0  How do I defend myself and my Children against...  \n",
       "1  And you said to yourself that the police may n...  \n",
       "2                                           Tell me,  \n",
       "3  you know what the best chance you got in a sit...  \n",
       "4                               She just stated that  "
      ]
     },
     "execution_count": 5,
     "metadata": {},
     "output_type": "execute_result"
    }
   ],
   "source": [
    "transcript = pd.read_csv('transcript.csv')\n",
    "transcript.head()"
   ]
  },
  {
   "cell_type": "code",
   "execution_count": 6,
   "id": "227acc5e-2bd4-4a30-bd93-1b8d10a332c7",
   "metadata": {},
   "outputs": [
    {
     "data": {
      "text/plain": [
       "Unnamed: 0       0\n",
       "start_time       0\n",
       "end_time         0\n",
       "speaker_label    0\n",
       "text             0\n",
       "dtype: int64"
      ]
     },
     "execution_count": 6,
     "metadata": {},
     "output_type": "execute_result"
    }
   ],
   "source": [
    "transcript.isna().sum()"
   ]
  },
  {
   "cell_type": "code",
   "execution_count": 7,
   "id": "0d231369-ac72-4935-822f-e8bb272c7b57",
   "metadata": {},
   "outputs": [
    {
     "data": {
      "text/plain": [
       "Unnamed: 0         int64\n",
       "start_time       float64\n",
       "end_time         float64\n",
       "speaker_label     object\n",
       "text              object\n",
       "dtype: object"
      ]
     },
     "execution_count": 7,
     "metadata": {},
     "output_type": "execute_result"
    }
   ],
   "source": [
    "transcript.dtypes"
   ]
  },
  {
   "cell_type": "code",
   "execution_count": 8,
   "id": "08ae9d9f-08ad-4d23-aec1-efd542ca9ea4",
   "metadata": {},
   "outputs": [
    {
     "data": {
      "text/html": [
       "<div>\n",
       "<style scoped>\n",
       "    .dataframe tbody tr th:only-of-type {\n",
       "        vertical-align: middle;\n",
       "    }\n",
       "\n",
       "    .dataframe tbody tr th {\n",
       "        vertical-align: top;\n",
       "    }\n",
       "\n",
       "    .dataframe thead th {\n",
       "        text-align: right;\n",
       "    }\n",
       "</style>\n",
       "<table border=\"1\" class=\"dataframe\">\n",
       "  <thead>\n",
       "    <tr style=\"text-align: right;\">\n",
       "      <th></th>\n",
       "      <th>start_time</th>\n",
       "      <th>speaker_label</th>\n",
       "      <th>text</th>\n",
       "    </tr>\n",
       "  </thead>\n",
       "  <tbody>\n",
       "    <tr>\n",
       "      <th>0</th>\n",
       "      <td>0.000150</td>\n",
       "      <td>Speaker 1</td>\n",
       "      <td>How do I defend myself and my Children against...</td>\n",
       "    </tr>\n",
       "    <tr>\n",
       "      <th>1</th>\n",
       "      <td>0.083650</td>\n",
       "      <td>Speaker 1</td>\n",
       "      <td>And you said to yourself that the police may n...</td>\n",
       "    </tr>\n",
       "    <tr>\n",
       "      <th>2</th>\n",
       "      <td>0.129167</td>\n",
       "      <td>Speaker 1</td>\n",
       "      <td>Tell me,</td>\n",
       "    </tr>\n",
       "    <tr>\n",
       "      <th>3</th>\n",
       "      <td>0.135150</td>\n",
       "      <td>Speaker 2</td>\n",
       "      <td>you know what the best chance you got in a sit...</td>\n",
       "    </tr>\n",
       "    <tr>\n",
       "      <th>4</th>\n",
       "      <td>0.190150</td>\n",
       "      <td>Speaker 2</td>\n",
       "      <td>She just stated that</td>\n",
       "    </tr>\n",
       "  </tbody>\n",
       "</table>\n",
       "</div>"
      ],
      "text/plain": [
       "   start_time speaker_label                                               text\n",
       "0    0.000150     Speaker 1  How do I defend myself and my Children against...\n",
       "1    0.083650     Speaker 1  And you said to yourself that the police may n...\n",
       "2    0.129167     Speaker 1                                           Tell me,\n",
       "3    0.135150     Speaker 2  you know what the best chance you got in a sit...\n",
       "4    0.190150     Speaker 2                               She just stated that"
      ]
     },
     "execution_count": 8,
     "metadata": {},
     "output_type": "execute_result"
    }
   ],
   "source": [
    "\n",
    "transcript.drop(['Unnamed: 0', 'end_time' ], axis=1, inplace=True)\n",
    "transcript.head()"
   ]
  },
  {
   "cell_type": "code",
   "execution_count": 9,
   "id": "a4e03fc1-69ba-4715-a4e8-d2f1634f64de",
   "metadata": {},
   "outputs": [
    {
     "data": {
      "text/plain": [
       "954"
      ]
     },
     "execution_count": 9,
     "metadata": {},
     "output_type": "execute_result"
    }
   ],
   "source": [
    "len(transcript)"
   ]
  },
  {
   "cell_type": "code",
   "execution_count": 10,
   "id": "4a337cd0-e77c-4f25-b489-46b3afa0ef1a",
   "metadata": {},
   "outputs": [],
   "source": [
    "import warnings\n",
    "warnings.filterwarnings(\"ignore\")\n",
    "to_remove=[]\n",
    "for i, record in transcript.iterrows():\n",
    "    if i < len(transcript)-1:\n",
    "        if transcript.speaker_label[i]== transcript.speaker_label[i+1]:\n",
    "            transcript['text'][i]=transcript['text'][i]+\" \"+transcript['text'][i+1]\n",
    "            to_remove.append(i+1)\n",
    "\n",
    "transcript = transcript.drop(to_remove).reset_index(drop=True)\n",
    "            \n",
    "             "
   ]
  },
  {
   "cell_type": "code",
   "execution_count": 11,
   "id": "9627f314-8657-4608-8ff1-3ef011e1227e",
   "metadata": {},
   "outputs": [
    {
     "data": {
      "text/html": [
       "<div>\n",
       "<style scoped>\n",
       "    .dataframe tbody tr th:only-of-type {\n",
       "        vertical-align: middle;\n",
       "    }\n",
       "\n",
       "    .dataframe tbody tr th {\n",
       "        vertical-align: top;\n",
       "    }\n",
       "\n",
       "    .dataframe thead th {\n",
       "        text-align: right;\n",
       "    }\n",
       "</style>\n",
       "<table border=\"1\" class=\"dataframe\">\n",
       "  <thead>\n",
       "    <tr style=\"text-align: right;\">\n",
       "      <th></th>\n",
       "      <th>start_time</th>\n",
       "      <th>speaker_label</th>\n",
       "      <th>text</th>\n",
       "    </tr>\n",
       "  </thead>\n",
       "  <tbody>\n",
       "    <tr>\n",
       "      <th>0</th>\n",
       "      <td>0.000150</td>\n",
       "      <td>Speaker 1</td>\n",
       "      <td>How do I defend myself and my Children against...</td>\n",
       "    </tr>\n",
       "    <tr>\n",
       "      <th>1</th>\n",
       "      <td>0.135150</td>\n",
       "      <td>Speaker 2</td>\n",
       "      <td>you know what the best chance you got in a sit...</td>\n",
       "    </tr>\n",
       "    <tr>\n",
       "      <th>2</th>\n",
       "      <td>0.484650</td>\n",
       "      <td>Narrator</td>\n",
       "      <td>Thank you all for coming today. My name is Kee...</td>\n",
       "    </tr>\n",
       "    <tr>\n",
       "      <th>3</th>\n",
       "      <td>1.232333</td>\n",
       "      <td>Speaker 1</td>\n",
       "      <td>Fun is,</td>\n",
       "    </tr>\n",
       "    <tr>\n",
       "      <th>4</th>\n",
       "      <td>1.241667</td>\n",
       "      <td>Narrator</td>\n",
       "      <td>is pretty much what I'm thinking about and wha...</td>\n",
       "    </tr>\n",
       "  </tbody>\n",
       "</table>\n",
       "</div>"
      ],
      "text/plain": [
       "   start_time speaker_label                                               text\n",
       "0    0.000150     Speaker 1  How do I defend myself and my Children against...\n",
       "1    0.135150     Speaker 2  you know what the best chance you got in a sit...\n",
       "2    0.484650      Narrator  Thank you all for coming today. My name is Kee...\n",
       "3    1.232333     Speaker 1                                            Fun is,\n",
       "4    1.241667      Narrator  is pretty much what I'm thinking about and wha..."
      ]
     },
     "execution_count": 11,
     "metadata": {},
     "output_type": "execute_result"
    }
   ],
   "source": [
    "transcript.head()"
   ]
  },
  {
   "cell_type": "code",
   "execution_count": 12,
   "id": "7737c4e9-52d2-4e84-b5f7-566218ca3905",
   "metadata": {},
   "outputs": [
    {
     "data": {
      "text/plain": [
       "start_time       float64\n",
       "speaker_label     object\n",
       "text              object\n",
       "dtype: object"
      ]
     },
     "execution_count": 12,
     "metadata": {},
     "output_type": "execute_result"
    }
   ],
   "source": [
    "transcript.dtypes"
   ]
  },
  {
   "cell_type": "code",
   "execution_count": 13,
   "id": "4982f29f-84a3-4e1e-a86c-f2e431bdf001",
   "metadata": {},
   "outputs": [
    {
     "data": {
      "text/plain": [
       "0      How do I defend myself and my Children against...\n",
       "1      you know what the best chance you got in a sit...\n",
       "2      Thank you all for coming today. My name is Kee...\n",
       "3                                                Fun is,\n",
       "4      is pretty much what I'm thinking about and wha...\n",
       "                             ...                        \n",
       "137    that those of us who are racially oppressed, w...\n",
       "138    I wasn't surprised by the answers I heard, but...\n",
       "139    I think at the end of the day, we all just wan...\n",
       "140    Some of the stuff I heard in there is like fai...\n",
       "141    I would like to do some training with some of ...\n",
       "Name: text, Length: 142, dtype: string"
      ]
     },
     "execution_count": 13,
     "metadata": {},
     "output_type": "execute_result"
    }
   ],
   "source": [
    "transcript.speaker_label.astype(\"string\")\n",
    "transcript.text.astype(\"string\")"
   ]
  },
  {
   "cell_type": "code",
   "execution_count": 14,
   "id": "b7ff96d6-65ff-4790-b8b8-2480a50d81e2",
   "metadata": {},
   "outputs": [
    {
     "data": {
      "text/plain": [
       "768"
      ]
     },
     "execution_count": 14,
     "metadata": {},
     "output_type": "execute_result"
    }
   ],
   "source": [
    "def create_embedding(text):\n",
    "    return mpnet.encode([text])[0]\n",
    "\n",
    "# get first row of transcript\n",
    "test_embedding_function = create_embedding(transcript.iloc[0]['text'])\n",
    "len(test_embedding_function)  #maximum dimension size is 768"
   ]
  },
  {
   "cell_type": "code",
   "execution_count": 15,
   "id": "87c084d4-9c16-45cc-8178-f2804d60741f",
   "metadata": {},
   "outputs": [],
   "source": [
    "for i,record in transcript.iterrows():\n",
    "    l=0\n",
    "    \n",
    "    if len(transcript.iloc[i]['text']) > l:\n",
    "        l=len(transcript.iloc[i]['text'])"
   ]
  },
  {
   "cell_type": "code",
   "execution_count": 16,
   "id": "38068e41-8d4d-47e7-be7a-1af5a289a43b",
   "metadata": {},
   "outputs": [
    {
     "data": {
      "text/plain": [
       "80"
      ]
     },
     "execution_count": 16,
     "metadata": {},
     "output_type": "execute_result"
    }
   ],
   "source": [
    "l"
   ]
  },
  {
   "cell_type": "code",
   "execution_count": 25,
   "id": "ca10ef79-7664-4180-810b-15a294cb508d",
   "metadata": {},
   "outputs": [],
   "source": [
    "import pinecone\n",
    "import os\n",
    "\n",
    "# Load Pinecone API key\n",
    "api_key = os.environ.get('PINECONE_API_KEY') or 'your_api_key'\n",
    "# Set Pinecone environment. Find next to API key in console\n",
    "env = os.environ.get('PINECONE_ENVIRONMENT') or \"gcp-starter\"\n",
    "\n",
    "pinecone.init(api_key=api_key, environment=env)\n",
    "\n",
    "index_name = \"hello-pinecone\"\n",
    "# Delete the index, if an index of the same name already exists\n",
    "if index_name in pinecone.list_indexes():\n",
    "    pinecone.delete_index(index_name)"
   ]
  },
  {
   "cell_type": "code",
   "execution_count": 26,
   "id": "c1b58a1a-0b82-4b89-9323-d5bacf00494e",
   "metadata": {},
   "outputs": [],
   "source": [
    "import time\n",
    "\n",
    "if index_name in pinecone.list_indexes():\n",
    "    pinecone.delete_index(index_name)\n",
    "\n",
    "# we create a new index\n",
    "pinecone.create_index(\n",
    "    name=index_name,\n",
    "     metric='cosine',# this vector embedding best work with cosine\n",
    "    dimension=768  #max dimension is 768 \n",
    ")\n",
    "\n",
    "# wait for index to be initialized\n",
    "while not pinecone.describe_index(index_name).status['ready']:\n",
    "    time.sleep(1)"
   ]
  },
  {
   "cell_type": "code",
   "execution_count": 27,
   "id": "83d5f6f7-03ae-49c8-a5a0-dd2596d52e3f",
   "metadata": {},
   "outputs": [
    {
     "data": {
      "text/plain": [
       "{'dimension': 768,\n",
       " 'index_fullness': 0.0,\n",
       " 'namespaces': {'': {'vector_count': 0}},\n",
       " 'total_vector_count': 0}"
      ]
     },
     "execution_count": 27,
     "metadata": {},
     "output_type": "execute_result"
    }
   ],
   "source": [
    "index = pinecone.GRPCIndex(index_name)\n",
    "index.describe_index_stats()"
   ]
  },
  {
   "cell_type": "code",
   "execution_count": 28,
   "id": "0d55b431-c594-437a-9b0f-04db1da190c1",
   "metadata": {},
   "outputs": [
    {
     "data": {
      "application/vnd.jupyter.widget-view+json": {
       "model_id": "45585b07306b43fabb42dcb506ca1c7b",
       "version_major": 2,
       "version_minor": 0
      },
      "text/plain": [
       "0it [00:00, ?it/s]"
      ]
     },
     "metadata": {},
     "output_type": "display_data"
    }
   ],
   "source": [
    "from tqdm.auto import tqdm\n",
    "from uuid import uuid4\n",
    "\n",
    "batch_limit = 90\n",
    "texts = []\n",
    "metadatas = []\n",
    "meeting_id = 1\n",
    "namespace = 'meeting_gun_law'\n",
    "row_number=1 #to extract the delta\n",
    "for i, record in tqdm(transcript.iterrows()):\n",
    "    # First get metadata fields for this record\n",
    "    metadata = {\n",
    "        'speaker': record['speaker_label'],\n",
    "        'start_time': round(record['start_time'], 4),\n",
    "        'meeting_id': meeting_id,\n",
    "        'text': record['text'],\n",
    "        'row_number':row_number\n",
    "    }\n",
    "\n",
    "    record_texts = record['text']\n",
    "    texts.append(record_texts)\n",
    "    metadatas.append(metadata)\n",
    "\n",
    "    if len(texts) >= batch_limit:\n",
    "        # Update Pinecone vector database with the batch\n",
    "        ids = [str(uuid4()) for _ in range(len(texts))]\n",
    "        embeds = mpnet.encode(texts)\n",
    "        \n",
    "        index.upsert(vectors=zip(ids, embeds, metadatas), namespace=namespace)\n",
    "        #print(metadatas)\n",
    "        texts = []\n",
    "        metadatas = []\n",
    "\n",
    "    meeting_id += 1\n",
    "    row_number +=1\n",
    "\n",
    "# Update Pinecone vector database with the remaining records (if any)\n",
    "if texts:\n",
    "    ids = [str(uuid4()) for _ in range(len(texts))]\n",
    "    embeds = mpnet.encode(texts)\n",
    "    index.upsert(vectors=zip(ids, embeds, metadatas), namespace=namespace)\n",
    "    #print(metadatas)\n",
    "\n",
    "time.sleep(5)\n"
   ]
  },
  {
   "cell_type": "code",
   "execution_count": 33,
   "id": "8b62163b-cfb3-4a2b-8a2a-4f29b68b96de",
   "metadata": {},
   "outputs": [
    {
     "data": {
      "text/plain": [
       "{'dimension': 768,\n",
       " 'index_fullness': 0.00142,\n",
       " 'namespaces': {'': {'vector_count': 0},\n",
       "                'meeting_gun_law': {'vector_count': 142}},\n",
       " 'total_vector_count': 142}"
      ]
     },
     "execution_count": 33,
     "metadata": {},
     "output_type": "execute_result"
    }
   ],
   "source": [
    "index.describe_index_stats() "
   ]
  },
  {
   "cell_type": "code",
   "execution_count": 63,
   "id": "a248856d-a2c0-4c55-aea4-ba090c94b002",
   "metadata": {},
   "outputs": [
    {
     "name": "stdout",
     "output_type": "stream",
     "text": [
      "0.31: The United States Congress needs to remove all legislation that's introduced to absolve the gun industry of any accountability. :40.985 \n",
      "0.31: day when we talk about the constitution as like this sacred document. I mean, it was written by a bunch of rich white guys who own :4.5253 \n",
      "0.30: There's no changes to gun policy in this country that are not incredibly controversial and divisive. :40.7703 \n",
      "0.28: was pouring billions of dollars into the communities that are suffering from gun violence, :39.1023 \n",
      "0.27: view gun ownership as a right in this country? :4.0588 \n",
      "0.26: We forget to talk about white nationalism and the fact that this country was a settler colonial country based on :9.5133 \n",
      "0.25: Us :42.6313 \n",
      "0.25: This is an area that resists reform, resists regulation. We don't get to see the inner workings, :12.5158 \n",
      "0.23: From what I've heard so far, the two main sort of points I'm hearing is that :36.9723 \n",
      "0.22: Thank you all for coming today. My name is Keegan Hamilton. I'm a correspondent with Vice News. :0.4847 \n"
     ]
    }
   ],
   "source": [
    "query  = \"What was talked regarding United States Congress?\"\n",
    "response = index.query(\n",
    "    vector= mpnet.encode([query])[0],\n",
    "    # filter={\n",
    "    #     \"meeting_id\": {\"$in\":[1, 2]}\n",
    "    # },\n",
    "    namespace=namespace, \n",
    "    top_k=10,\n",
    "    include_metadata=True,\n",
    ")\n",
    "response\n",
    "for match in response['matches']:\n",
    "    print(f\"{match['score']:.2f}: {match['metadata']['text']} :{match['metadata']['start_time']} \")"
   ]
  },
  {
   "cell_type": "code",
   "execution_count": 64,
   "id": "ebd79935-8610-48c6-b9b8-a4942bde172a",
   "metadata": {},
   "outputs": [],
   "source": [
    "# Extract the start_time information from the metadata and store +-10 conversation's start time.\n",
    "\n",
    "\n",
    "existing_timestamp=[]\n",
    "\n",
    "for hit in response[\"matches\"]:\n",
    "    metadata = hit[\"metadata\"]\n",
    "    start_time = metadata[\"start_time\"]\n",
    "    row_number = metadata[\"row_number\"]\n",
    "\n",
    "    # Get the 10 text spoken before and after the identified timestamp\n",
    "    start_row_number=  max(0, row_number-10)\n",
    "    end_row_number= row_number+10\n",
    "    \n",
    "    # Query the Pinecone database to get the relevant text within the specified time window\n",
    "    relevant_texts_response = index.query(\n",
    "        vector = mpnet.encode([metadata[\"text\"]])[0],\n",
    "        filter={\"row_number\": {\"$gte\": start_row_number, \"$lte\": end_row_number}},\n",
    "        top_k=10,  \n",
    "        namespace=namespace,\n",
    "        include_metadata=True\n",
    "    )\n",
    "    for match in relevant_texts_response[\"matches\"]:\n",
    "        existing_timestamp.append(match['metadata']['start_time'])\n"
   ]
  },
  {
   "cell_type": "code",
   "execution_count": 65,
   "id": "404c92e3-9284-4557-a331-0fadcc920df4",
   "metadata": {},
   "outputs": [],
   "source": [
    "existing_timestamp.sort()\n",
    "unique_timestamp= set(existing_timestamp)\n"
   ]
  },
  {
   "cell_type": "code",
   "execution_count": 72,
   "id": "86cc1963-b81e-4552-a746-f2abf5a6e2e5",
   "metadata": {},
   "outputs": [],
   "source": [
    "relevant_match= []\n",
    "relevant_text=[]\n",
    "for single_timestamp in unique_timestamp:\n",
    "    response = index.query(\n",
    "        vector = mpnet.encode([metadata[\"text\"]])[0],\n",
    "        filter={\"start_time\": {\"$eq\": single_timestamp}},\n",
    "        top_k=10,  \n",
    "        namespace=namespace,\n",
    "        include_metadata=True\n",
    "    )\n",
    "    relevant_match.append(response)\n",
    "    for match in response['matches']:\n",
    "        relevant_text.append(match['metadata']['text'])\n",
    "   \n",
    "   "
   ]
  },
  {
   "cell_type": "code",
   "execution_count": 73,
   "id": "20b70e95-f688-4302-9daf-0346359ae586",
   "metadata": {},
   "outputs": [
    {
     "data": {
      "text/plain": [
       "[\"Thank you all for coming today. My name is Keegan Hamilton. I'm a correspondent with Vice News.\",\n",
       " 'Facts determined. I guess when I, when I pick up a gun loaded, not loaded, am I shooting,',\n",
       " \"is pretty much what I'm thinking about and what I'm feeling when I'm shooting a gun, it's a good time.\",\n",
       " ' Fun is,',\n",
       " \"things like that where it's just about doing everything correctly.\",\n",
       " 'I usually feel tired after shooting a lot, a lot of the training is extensive. And as an instructor,',\n",
       " 'your hand? And how many are new gun owners who just got into to gun ownership and shooting?',\n",
       " 'I started, you know, closer to 2018 2019 when I just turned 18',\n",
       " 'I grew up in San Antonio and as a first generation American growing up, I wanted to be a good American.',\n",
       " \"When I was growing up. It was always the bad guys that had guns. And I felt like I didn't have the emotional maturity at that time to own guns.\",\n",
       " 'actually used to be a gun control activist. And there were certain events that were',\n",
       " 'view gun ownership as a right in this country?',\n",
       " 'I think my right to defend myself how I fit comes from my creator, not the second amendment.',\n",
       " 'So as far as two A goes, I do not feel like that is a right that I personally want to protect or defend.',\n",
       " \"We're in a world where we are literally out arming who's supposed to be protecting us.\",\n",
       " 'What do you guys think are actual like good ideas in terms of gun regulation. If any,',\n",
       " \"We've created this image in America and partial blame. The media that violence in black communities is a result of criminal activity.\",\n",
       " 'A lot of folks here say that they own guns as a self defense tool.  How do we feel about that shit is so bleak in America?',\n",
       " 'The two solutions that are introduced are too heavily focused on the individual and the gun.',\n",
       " 'I agree with a lot of things um from what everybody else said, but I feel like a lot of the gun control issues,',\n",
       " \"And that's law enforcement who want more money and more weapons to make everyone safer,\",\n",
       " 'day when we talk about the constitution as like this sacred document. I mean, it was written by a bunch of rich white guys who own',\n",
       " \"It's my right to defend myself. There is an ample amount of time between the time\",\n",
       " \"I can't help but to think about how many people have been lost because of this perceived right or this outdated document.\",\n",
       " 'How do I defend myself and my Children against two guys who have AR-15s? Tell me how. And you said to yourself that the police may not make it there in time.',\n",
       " 'are we going after the people that are using them illegally? The second something happens,',\n",
       " \"we're encouraging responsible gun owners to use the firearm to defend themselves, to defend myself. Yes. If I a single woman who lives at home and 30 intruders come in.\",\n",
       " 'encouraging is the same culture that armed the shooter at tops.',\n",
       " \"Like, aren't we concerned about neighbors?\",\n",
       " \"Let, let's talk about real life. All right, the average person is not walking around and the arrest of firearms are not with AK 47 S.\",\n",
       " \"From what I've heard so far, the two main sort of points I'm hearing is that\",\n",
       " 'to all of the people who have been here advocating for responsible gun use and offering your arguments and your life experience.',\n",
       " 'And my staunch view is more education and training. And then also we know that we are and thank',\n",
       " \"Like I don't blame people for feeling unsafe. Everyone here is concerned with survival.\",\n",
       " 'a solution.',\n",
       " 'No, certainly not. And I think, you know, a huge part of this that we have to, you know, consider is in fact',\n",
       " 'was pouring billions of dollars into the communities that are suffering from gun violence,',\n",
       " \"I wouldn't say that we're buying into it. I think we're simply recognizing the reality that there's a violent\",\n",
       " 'We forget to talk about white nationalism and the fact that this country was a settler colonial country based on',\n",
       " 'But the best way to protect ourselves is to prevent violence.',\n",
       " \"But it's also about self determination and self defense as well. And we have to understand that there are in fact, mechanisms to stop\",\n",
       " \"I'm hearing a lot of consensus that it's not necessarily the guns. It's the reason that people are using\",\n",
       " \"A lot of people wouldn't choose to unless they were personally affected by gun violence or had their safety at risk.\",\n",
       " \"I don't think, you know, turning schools into fortresses having more armed security is a solution here.\",\n",
       " \"I wasn't surprised by the answers I heard, but I was surprised by the background of the people who are sharing some\",\n",
       " 'No one sees what police officers are doing every single day. They hear a news clip,',\n",
       " \"This is an area that resists reform, resists regulation. We don't get to see the inner workings,\",\n",
       " \"There's a lot of oversight and accountability that I don't see with the police and police are people,\",\n",
       " \"You would make it seem like cops are running rampant. There's a lot more oversight than people know whether it's federally\",\n",
       " ' I really struggle with this concept that we have to fund communities or fund.',\n",
       " 'No, we have the resources to fund these communities, to fund solutions that we know, work to invest in education, to invest in violence intervention and victims.',\n",
       " \"We're the richest country in the world and we can't make sure everyone is secure in their life.\",\n",
       " \"You were like, so it's not necessarily the guns. I think it totally is the guns. There is a unique gun violence problem in America.\",\n",
       " \"There's no changes to gun policy in this country that are not incredibly controversial and divisive.\",\n",
       " \"The United States Congress needs to remove all legislation that's introduced to absolve the gun industry of any accountability.\",\n",
       " \"just kind of want to draw people's attention to the fact that there have been a lot of different views on this panel.\",\n",
       " 'Right.',\n",
       " 'Sure. Sure.',\n",
       " 'Us',\n",
       " \"all out after all that,  I think the biggest misconception about gun owners is that we're all the same.\",\n",
       " \"We're not all right leaning, we're not all Christian white male, we look different. We have differing beliefs and it's really grave\",\n",
       " 'that those of us who are racially oppressed, who are gender oppressed,',\n",
       " 'I would like to do some training with some of the women that I met this tonight.']"
      ]
     },
     "execution_count": 73,
     "metadata": {},
     "output_type": "execute_result"
    }
   ],
   "source": [
    " \n",
    "relevant_text"
   ]
  },
  {
   "cell_type": "code",
   "execution_count": null,
   "id": "c6169cfb-e6e1-4df1-b8fb-85d8beacbc22",
   "metadata": {},
   "outputs": [],
   "source": []
  }
 ],
 "metadata": {
  "kernelspec": {
   "display_name": "Python 3 (ipykernel)",
   "language": "python",
   "name": "python3"
  },
  "language_info": {
   "codemirror_mode": {
    "name": "ipython",
    "version": 3
   },
   "file_extension": ".py",
   "mimetype": "text/x-python",
   "name": "python",
   "nbconvert_exporter": "python",
   "pygments_lexer": "ipython3",
   "version": "3.9.13"
  }
 },
 "nbformat": 4,
 "nbformat_minor": 5
}

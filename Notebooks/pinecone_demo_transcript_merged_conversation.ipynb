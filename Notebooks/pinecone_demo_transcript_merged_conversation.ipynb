{
 "cells": [
  {
   "cell_type": "markdown",
   "metadata": {},
   "source": [
    "In this notebook we use a demo transcript and store it into Pinecone and retrieve data according to a query.\n",
    "- Combined Speaker in Transcript\n",
    "\n",
    "Author: Sartaj"
   ]
  },
  {
   "cell_type": "code",
   "execution_count": 109,
   "metadata": {},
   "outputs": [],
   "source": [
    "# # Have the `transcript.csv` file in the same directory as this notebook\n",
    "# # Create a .env file with the following variables:\n",
    "# OPENAI_API_KEY\n",
    "# PINECONE_API_KEY\n",
    "# PINECONE_ENVIRONMENT"
   ]
  },
  {
   "cell_type": "code",
   "execution_count": 1,
   "metadata": {},
   "outputs": [
    {
     "data": {
      "text/plain": [
       "True"
      ]
     },
     "execution_count": 1,
     "metadata": {},
     "output_type": "execute_result"
    }
   ],
   "source": [
    "import pandas as pd\n",
    "import dotenv\n",
    "dotenv.load_dotenv()"
   ]
  },
  {
   "cell_type": "markdown",
   "metadata": {},
   "source": [
    "Read Data and Pre-process"
   ]
  },
  {
   "cell_type": "code",
   "execution_count": 2,
   "metadata": {},
   "outputs": [
    {
     "data": {
      "text/html": [
       "<div>\n",
       "<style scoped>\n",
       "    .dataframe tbody tr th:only-of-type {\n",
       "        vertical-align: middle;\n",
       "    }\n",
       "\n",
       "    .dataframe tbody tr th {\n",
       "        vertical-align: top;\n",
       "    }\n",
       "\n",
       "    .dataframe thead th {\n",
       "        text-align: right;\n",
       "    }\n",
       "</style>\n",
       "<table border=\"1\" class=\"dataframe\">\n",
       "  <thead>\n",
       "    <tr style=\"text-align: right;\">\n",
       "      <th></th>\n",
       "      <th>Unnamed: 0</th>\n",
       "      <th>start_time</th>\n",
       "      <th>end_time</th>\n",
       "      <th>speaker_label</th>\n",
       "      <th>text</th>\n",
       "    </tr>\n",
       "  </thead>\n",
       "  <tbody>\n",
       "    <tr>\n",
       "      <th>0</th>\n",
       "      <td>0</td>\n",
       "      <td>0.000150</td>\n",
       "      <td>0.083500</td>\n",
       "      <td>Speaker 1</td>\n",
       "      <td>How do I defend myself and my Children against...</td>\n",
       "    </tr>\n",
       "    <tr>\n",
       "      <th>1</th>\n",
       "      <td>1</td>\n",
       "      <td>0.083650</td>\n",
       "      <td>0.128983</td>\n",
       "      <td>Speaker 1</td>\n",
       "      <td>And you said to yourself that the police may n...</td>\n",
       "    </tr>\n",
       "    <tr>\n",
       "      <th>2</th>\n",
       "      <td>2</td>\n",
       "      <td>0.129167</td>\n",
       "      <td>0.135000</td>\n",
       "      <td>Speaker 1</td>\n",
       "      <td>Tell me,</td>\n",
       "    </tr>\n",
       "    <tr>\n",
       "      <th>3</th>\n",
       "      <td>3</td>\n",
       "      <td>0.135150</td>\n",
       "      <td>0.189983</td>\n",
       "      <td>Speaker 2</td>\n",
       "      <td>you know what the best chance you got in a sit...</td>\n",
       "    </tr>\n",
       "    <tr>\n",
       "      <th>4</th>\n",
       "      <td>4</td>\n",
       "      <td>0.190150</td>\n",
       "      <td>0.203983</td>\n",
       "      <td>Speaker 2</td>\n",
       "      <td>She just stated that</td>\n",
       "    </tr>\n",
       "  </tbody>\n",
       "</table>\n",
       "</div>"
      ],
      "text/plain": [
       "   Unnamed: 0  start_time  end_time speaker_label  \\\n",
       "0           0    0.000150  0.083500     Speaker 1   \n",
       "1           1    0.083650  0.128983     Speaker 1   \n",
       "2           2    0.129167  0.135000     Speaker 1   \n",
       "3           3    0.135150  0.189983     Speaker 2   \n",
       "4           4    0.190150  0.203983     Speaker 2   \n",
       "\n",
       "                                                text  \n",
       "0  How do I defend myself and my Children against...  \n",
       "1  And you said to yourself that the police may n...  \n",
       "2                                           Tell me,  \n",
       "3  you know what the best chance you got in a sit...  \n",
       "4                               She just stated that  "
      ]
     },
     "execution_count": 2,
     "metadata": {},
     "output_type": "execute_result"
    }
   ],
   "source": [
    "transcript = pd.read_csv('transcript.csv')\n",
    "transcript.head()"
   ]
  },
  {
   "cell_type": "code",
   "execution_count": 3,
   "metadata": {},
   "outputs": [
    {
     "data": {
      "text/html": [
       "<div>\n",
       "<style scoped>\n",
       "    .dataframe tbody tr th:only-of-type {\n",
       "        vertical-align: middle;\n",
       "    }\n",
       "\n",
       "    .dataframe tbody tr th {\n",
       "        vertical-align: top;\n",
       "    }\n",
       "\n",
       "    .dataframe thead th {\n",
       "        text-align: right;\n",
       "    }\n",
       "</style>\n",
       "<table border=\"1\" class=\"dataframe\">\n",
       "  <thead>\n",
       "    <tr style=\"text-align: right;\">\n",
       "      <th></th>\n",
       "      <th>start_time</th>\n",
       "      <th>speaker_label</th>\n",
       "      <th>text</th>\n",
       "    </tr>\n",
       "  </thead>\n",
       "  <tbody>\n",
       "    <tr>\n",
       "      <th>0</th>\n",
       "      <td>0.000150</td>\n",
       "      <td>Speaker 1</td>\n",
       "      <td>How do I defend myself and my Children against...</td>\n",
       "    </tr>\n",
       "    <tr>\n",
       "      <th>1</th>\n",
       "      <td>0.083650</td>\n",
       "      <td>Speaker 1</td>\n",
       "      <td>And you said to yourself that the police may n...</td>\n",
       "    </tr>\n",
       "    <tr>\n",
       "      <th>2</th>\n",
       "      <td>0.129167</td>\n",
       "      <td>Speaker 1</td>\n",
       "      <td>Tell me,</td>\n",
       "    </tr>\n",
       "    <tr>\n",
       "      <th>3</th>\n",
       "      <td>0.135150</td>\n",
       "      <td>Speaker 2</td>\n",
       "      <td>you know what the best chance you got in a sit...</td>\n",
       "    </tr>\n",
       "    <tr>\n",
       "      <th>4</th>\n",
       "      <td>0.190150</td>\n",
       "      <td>Speaker 2</td>\n",
       "      <td>She just stated that</td>\n",
       "    </tr>\n",
       "  </tbody>\n",
       "</table>\n",
       "</div>"
      ],
      "text/plain": [
       "   start_time speaker_label                                               text\n",
       "0    0.000150     Speaker 1  How do I defend myself and my Children against...\n",
       "1    0.083650     Speaker 1  And you said to yourself that the police may n...\n",
       "2    0.129167     Speaker 1                                           Tell me,\n",
       "3    0.135150     Speaker 2  you know what the best chance you got in a sit...\n",
       "4    0.190150     Speaker 2                               She just stated that"
      ]
     },
     "execution_count": 3,
     "metadata": {},
     "output_type": "execute_result"
    }
   ],
   "source": [
    "transcript.dropna(inplace=True)\n",
    "transcript.drop(['Unnamed: 0', 'end_time' ], axis=1, inplace=True)\n",
    "transcript.head()"
   ]
  },
  {
   "cell_type": "code",
   "execution_count": null,
   "metadata": {},
   "outputs": [],
   "source": []
  },
  {
   "cell_type": "code",
   "execution_count": 6,
   "metadata": {},
   "outputs": [],
   "source": [
    "# Combining speakers's rows\n",
    "import warnings\n",
    "warnings.filterwarnings(\"ignore\")\n",
    "to_remove=[]\n",
    "for i, record in transcript.iterrows():\n",
    "    if i < len(transcript)-1:\n",
    "        if transcript.speaker_label[i]== transcript.speaker_label[i+1]:\n",
    "            transcript['text'][i]=transcript['text'][i]+\" \"+transcript['text'][i+1]\n",
    "            to_remove.append(i+1)\n",
    "\n",
    "transcript = transcript.drop(to_remove).reset_index(drop=True)"
   ]
  },
  {
   "cell_type": "code",
   "execution_count": 9,
   "metadata": {},
   "outputs": [
    {
     "data": {
      "text/html": [
       "<div>\n",
       "<style scoped>\n",
       "    .dataframe tbody tr th:only-of-type {\n",
       "        vertical-align: middle;\n",
       "    }\n",
       "\n",
       "    .dataframe tbody tr th {\n",
       "        vertical-align: top;\n",
       "    }\n",
       "\n",
       "    .dataframe thead th {\n",
       "        text-align: right;\n",
       "    }\n",
       "</style>\n",
       "<table border=\"1\" class=\"dataframe\">\n",
       "  <thead>\n",
       "    <tr style=\"text-align: right;\">\n",
       "      <th></th>\n",
       "      <th>start_time</th>\n",
       "      <th>speaker_label</th>\n",
       "      <th>text</th>\n",
       "    </tr>\n",
       "  </thead>\n",
       "  <tbody>\n",
       "    <tr>\n",
       "      <th>0</th>\n",
       "      <td>0.000150</td>\n",
       "      <td>Speaker 1</td>\n",
       "      <td>How do I defend myself and my Children against...</td>\n",
       "    </tr>\n",
       "    <tr>\n",
       "      <th>1</th>\n",
       "      <td>0.135150</td>\n",
       "      <td>Speaker 2</td>\n",
       "      <td>you know what the best chance you got in a sit...</td>\n",
       "    </tr>\n",
       "    <tr>\n",
       "      <th>2</th>\n",
       "      <td>0.484650</td>\n",
       "      <td>Narrator</td>\n",
       "      <td>Thank you all for coming today. My name is Kee...</td>\n",
       "    </tr>\n",
       "    <tr>\n",
       "      <th>3</th>\n",
       "      <td>1.232333</td>\n",
       "      <td>Speaker 1</td>\n",
       "      <td>Fun is,</td>\n",
       "    </tr>\n",
       "    <tr>\n",
       "      <th>4</th>\n",
       "      <td>1.241667</td>\n",
       "      <td>Narrator</td>\n",
       "      <td>is pretty much what I'm thinking about and wha...</td>\n",
       "    </tr>\n",
       "  </tbody>\n",
       "</table>\n",
       "</div>"
      ],
      "text/plain": [
       "   start_time speaker_label                                               text\n",
       "0    0.000150     Speaker 1  How do I defend myself and my Children against...\n",
       "1    0.135150     Speaker 2  you know what the best chance you got in a sit...\n",
       "2    0.484650      Narrator  Thank you all for coming today. My name is Kee...\n",
       "3    1.232333     Speaker 1                                            Fun is,\n",
       "4    1.241667      Narrator  is pretty much what I'm thinking about and wha..."
      ]
     },
     "execution_count": 9,
     "metadata": {},
     "output_type": "execute_result"
    }
   ],
   "source": [
    "transcript.head()"
   ]
  },
  {
   "cell_type": "markdown",
   "metadata": {},
   "source": [
    "Creating Embeddings"
   ]
  },
  {
   "cell_type": "code",
   "execution_count": 10,
   "metadata": {},
   "outputs": [],
   "source": [
    "import os\n",
    "import openai\n",
    "from langchain.embeddings.openai import OpenAIEmbeddings\n",
    "\n",
    "OPENAI_API_KEY = os.getenv('OPENAI_API_KEY') or 'OPENAI_API_KEY'"
   ]
  },
  {
   "cell_type": "code",
   "execution_count": 11,
   "metadata": {},
   "outputs": [],
   "source": [
    "model_name = 'text-embedding-ada-002'\n",
    "\n",
    "embed = OpenAIEmbeddings(\n",
    "    model=model_name,\n",
    "    openai_api_key=OPENAI_API_KEY\n",
    ")"
   ]
  },
  {
   "cell_type": "code",
   "execution_count": 12,
   "metadata": {},
   "outputs": [
    {
     "data": {
      "text/plain": [
       "(2, 1536)"
      ]
     },
     "execution_count": 12,
     "metadata": {},
     "output_type": "execute_result"
    }
   ],
   "source": [
    "texts = [\n",
    "    'this is the first chunk of text',\n",
    "    'then another second chunk of text is here'\n",
    "]\n",
    "\n",
    "res = embed.embed_documents(texts)\n",
    "len(res), len(res[0]) # (x,1536) 1536 is the embedding size"
   ]
  },
  {
   "cell_type": "code",
   "execution_count": 13,
   "metadata": {},
   "outputs": [
    {
     "data": {
      "text/plain": [
       "1536"
      ]
     },
     "execution_count": 13,
     "metadata": {},
     "output_type": "execute_result"
    }
   ],
   "source": [
    "def create_embedding(text):\n",
    "    return embed.embed_documents([text])[0]\n",
    "\n",
    "# get first row of transcript\n",
    "test_embedding_function = create_embedding(transcript.iloc[0]['text'])\n",
    "len(test_embedding_function) # 1 X 1536"
   ]
  },
  {
   "cell_type": "markdown",
   "metadata": {},
   "source": [
    "Pinecone"
   ]
  },
  {
   "cell_type": "code",
   "execution_count": 14,
   "metadata": {},
   "outputs": [],
   "source": [
    "import pinecone\n",
    "import time\n",
    "\n",
    "PINECONE_API_KEY = os.getenv('PINECONE_API_KEY') or 'PINECONE_API_KEY'\n",
    "PINECONE_ENVIRONMENT = os.getenv('PINECONE_ENVIRONMENT') or 'PINECONE_ENVIRONMENT'\n",
    "index_name = 'langchain-retrieval-transcript'\n",
    "namespace = 'meeting_topic'\n",
    "\n",
    "pinecone.init(\n",
    "    api_key=PINECONE_API_KEY,\n",
    "    environment=PINECONE_ENVIRONMENT)"
   ]
  },
  {
   "cell_type": "code",
   "execution_count": 22,
   "metadata": {},
   "outputs": [
    {
     "name": "stdout",
     "output_type": "stream",
     "text": [
      "[]\n"
     ]
    }
   ],
   "source": [
    "print(pinecone.list_indexes())\n",
    "for index in pinecone.list_indexes():\n",
    "    print(pinecone.delete_index(index))"
   ]
  },
  {
   "cell_type": "code",
   "execution_count": 23,
   "metadata": {},
   "outputs": [],
   "source": [
    "# create index\n",
    "if index_name not in pinecone.list_indexes():\n",
    "    pinecone.create_index(\n",
    "        name=index_name,\n",
    "        metric='cosine',\n",
    "        dimension=len(res[0])  # model_name = 'text-embedding-ada-002'; 1536 dim of text-embedding-ada-002\n",
    "    )   \n",
    "    \n",
    "while not pinecone.describe_index(index_name).status['ready']:\n",
    "    time.sleep(1)\n"
   ]
  },
  {
   "cell_type": "code",
   "execution_count": 24,
   "metadata": {},
   "outputs": [
    {
     "data": {
      "text/plain": [
       "{'dimension': 1536,\n",
       " 'index_fullness': 0.0,\n",
       " 'namespaces': {},\n",
       " 'total_vector_count': 0}"
      ]
     },
     "execution_count": 24,
     "metadata": {},
     "output_type": "execute_result"
    }
   ],
   "source": [
    "index = pinecone.Index(index_name)\n",
    "index.describe_index_stats()"
   ]
  },
  {
   "cell_type": "code",
   "execution_count": null,
   "metadata": {},
   "outputs": [],
   "source": [
    "# index.delete(delete_all=True, namespace=namespace)"
   ]
  },
  {
   "cell_type": "markdown",
   "metadata": {},
   "source": [
    "Inserting data into Pinecone"
   ]
  },
  {
   "cell_type": "code",
   "execution_count": 25,
   "metadata": {},
   "outputs": [
    {
     "name": "stderr",
     "output_type": "stream",
     "text": [
      "142it [00:01, 71.23it/s]\n"
     ]
    }
   ],
   "source": [
    "from tqdm.auto import tqdm\n",
    "from uuid import uuid4\n",
    "\n",
    "batch_limit = 50\n",
    "texts = []\n",
    "metadatas = []\n",
    "meeting_id = 1\n",
    "\n",
    "for i, record in tqdm(transcript.iterrows()):\n",
    "    # first get metadata fields for this record\n",
    "    metadata = {\n",
    "        'speaker': record['speaker_label'],\n",
    "        'start_time': round(record['start_time'], 4), # limit to 4 decimal places \n",
    "        'meeting_id': meeting_id,\n",
    "        'text': record['text'], # Storing the text in the metadata for now, later we'd need to decode it from vectors\n",
    "    }\n",
    "\n",
    "    record_texts = record['text']\n",
    "\n",
    "    texts.append(record_texts)\n",
    "    metadatas.append(metadata)\n",
    "\n",
    "    # print(texts)\n",
    "    # print(metadatas)\n",
    "    \n",
    "    # if we have reached the batch_limit we can add texts\n",
    "    if len(texts) >= batch_limit:\n",
    "        ids = [str(uuid4()) for _ in range(len(texts))]\n",
    "        embeds = embed.embed_documents(texts)\n",
    "        index.upsert(vectors=zip(ids, embeds, metadatas), namespace=namespace)\n",
    "        texts = []\n",
    "        metadatas = []\n",
    "        meeting_id += 1\n",
    "\n",
    "# add any remaining texts\n",
    "if len(texts) > 0:\n",
    "    ids = [str(uuid4()) for _ in range(len(texts))]\n",
    "    embeds = embed.embed_documents(texts)\n",
    "    index.upsert(vectors=zip(ids, embeds, metadatas))\n",
    "    \n",
    "time.sleep(5)    "
   ]
  },
  {
   "cell_type": "code",
   "execution_count": 26,
   "metadata": {},
   "outputs": [
    {
     "data": {
      "text/plain": [
       "{'dimension': 1536,\n",
       " 'index_fullness': 0.00142,\n",
       " 'namespaces': {'': {'vector_count': 42},\n",
       "                'meeting_topic': {'vector_count': 100}},\n",
       " 'total_vector_count': 142}"
      ]
     },
     "execution_count": 26,
     "metadata": {},
     "output_type": "execute_result"
    }
   ],
   "source": [
    "index.describe_index_stats()   "
   ]
  },
  {
   "cell_type": "markdown",
   "metadata": {},
   "source": [
    "Querying Pinecone DB"
   ]
  },
  {
   "cell_type": "code",
   "execution_count": null,
   "metadata": {},
   "outputs": [],
   "source": [
    "# Need to look up about using LangChain for retrieval"
   ]
  },
  {
   "cell_type": "code",
   "execution_count": 27,
   "metadata": {},
   "outputs": [
    {
     "data": {
      "text/plain": [
       "{'matches': [{'id': '87d2d060-00b0-4efe-9639-91a584ac25d4',\n",
       "              'metadata': {'meeting_id': 1.0,\n",
       "                           'speaker': 'Narrator',\n",
       "                           'start_time': 4.0588,\n",
       "                           'text': 'view gun ownership as a right in this '\n",
       "                                   'country?'},\n",
       "              'score': 0.788970232,\n",
       "              'values': []},\n",
       "             {'id': 'c90e7f0e-d3fb-489d-a5d4-4823a576363e',\n",
       "              'metadata': {'meeting_id': 1.0,\n",
       "                           'speaker': 'Speaker 2',\n",
       "                           'start_time': 4.9689,\n",
       "                           'text': \"I can't help but to think about how many \"\n",
       "                                   'people have been lost because of this '\n",
       "                                   'perceived right or this outdated '\n",
       "                                   'document.'},\n",
       "              'score': 0.788026214,\n",
       "              'values': []},\n",
       "             {'id': '517181e5-3433-40a3-a3cf-3f5c54f8d056',\n",
       "              'metadata': {'meeting_id': 2.0,\n",
       "                           'speaker': 'Speaker 4',\n",
       "                           'start_time': 30.3664,\n",
       "                           'text': 'When we talk about regulation laws, people '\n",
       "                                   'need to understand, like, especially on '\n",
       "                                   'the left.'},\n",
       "              'score': 0.785988331,\n",
       "              'values': []},\n",
       "             {'id': '7c044fbd-cd27-44f1-9aab-2edf537cd2ac',\n",
       "              'metadata': {'meeting_id': 1.0,\n",
       "                           'speaker': 'Narrator',\n",
       "                           'start_time': 12.0227,\n",
       "                           'text': 'When you hear this group talking about '\n",
       "                                   'cops getting money that they might not put '\n",
       "                                   'to good use.'},\n",
       "              'score': 0.777698576,\n",
       "              'values': []},\n",
       "             {'id': '3dc0e232-528f-4316-bf66-a8f87dd982e4',\n",
       "              'metadata': {'meeting_id': 2.0,\n",
       "                           'speaker': 'Narrator',\n",
       "                           'start_time': 15.6125,\n",
       "                           'text': 'Practically speaking, Kendra, I want to '\n",
       "                                   'hear your thoughts on this.'},\n",
       "              'score': 0.770352542,\n",
       "              'values': []},\n",
       "             {'id': 'b8a02a22-698a-4070-81c2-a9d3b3698262',\n",
       "              'metadata': {'meeting_id': 2.0,\n",
       "                           'speaker': 'Narrator',\n",
       "                           'start_time': 22.0838,\n",
       "                           'text': \"And I'm curious, does everyone here \"\n",
       "                                   'support universal background checks on all '\n",
       "                                   'gun purchases?'},\n",
       "              'score': 0.769307315,\n",
       "              'values': []},\n",
       "             {'id': '62d80ede-214f-4765-840b-0dce76c43045',\n",
       "              'metadata': {'meeting_id': 1.0,\n",
       "                           'speaker': 'Speaker 1',\n",
       "                           'start_time': 10.1208,\n",
       "                           'text': 'I agree with a lot of things um from what '\n",
       "                                   'everybody else said, but I feel like a lot '\n",
       "                                   'of the gun control issues,'},\n",
       "              'score': 0.769303143,\n",
       "              'values': []},\n",
       "             {'id': '5862272e-d417-4202-b112-250b524fb867',\n",
       "              'metadata': {'meeting_id': 1.0,\n",
       "                           'speaker': 'Speaker 6',\n",
       "                           'start_time': 2.7762,\n",
       "                           'text': 'Law enforcement, similar,'},\n",
       "              'score': 0.769235551,\n",
       "              'values': []},\n",
       "             {'id': '03741f30-53e2-499c-bcf1-94fc30f82bab',\n",
       "              'metadata': {'meeting_id': 2.0,\n",
       "                           'speaker': 'Narrator',\n",
       "                           'start_time': 31.4646,\n",
       "                           'text': 'to folks and see, do you support '\n",
       "                                   'restrictions on specific types of guns '\n",
       "                                   'like the AR-15?'},\n",
       "              'score': 0.767757058,\n",
       "              'values': []},\n",
       "             {'id': 'dbbff57b-53b8-4e48-91c0-15859ca7852c',\n",
       "              'metadata': {'meeting_id': 2.0,\n",
       "                           'speaker': 'Speaker 3',\n",
       "                           'start_time': 27.6383,\n",
       "                           'text': 'who do we have drawing it up? The people '\n",
       "                                   'who never owned a gun or the people that '\n",
       "                                   \"have owned guns? You know, what's the \"\n",
       "                                   'right answer?'},\n",
       "              'score': 0.766414642,\n",
       "              'values': []}],\n",
       " 'namespace': 'meeting_topic'}"
      ]
     },
     "execution_count": 27,
     "metadata": {},
     "output_type": "execute_result"
    }
   ],
   "source": [
    "query  = \"What was talked regarding United States Congress?\"\n",
    "downstr_response = index.query(\n",
    "    vector= embed.embed_documents([query])[0],\n",
    "    # filter={\n",
    "    #     \"meeting_id\": {\"$in\":[1, 2]}\n",
    "    # },\n",
    "    namespace=namespace, \n",
    "    top_k=10,\n",
    "    include_metadata=True,\n",
    ")\n",
    "downstr_response"
   ]
  },
  {
   "cell_type": "code",
   "execution_count": null,
   "metadata": {},
   "outputs": [],
   "source": []
  }
 ],
 "metadata": {
  "kernelspec": {
   "display_name": "Python 3",
   "language": "python",
   "name": "python3"
  },
  "language_info": {
   "codemirror_mode": {
    "name": "ipython",
    "version": 3
   },
   "file_extension": ".py",
   "mimetype": "text/x-python",
   "name": "python",
   "nbconvert_exporter": "python",
   "pygments_lexer": "ipython3",
   "version": "3.10.11"
  }
 },
 "nbformat": 4,
 "nbformat_minor": 2
}

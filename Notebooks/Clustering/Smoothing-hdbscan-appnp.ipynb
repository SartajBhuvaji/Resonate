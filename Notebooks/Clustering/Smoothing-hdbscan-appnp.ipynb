{
 "cells": [
  {
   "cell_type": "code",
   "execution_count": 4,
   "metadata": {},
   "outputs": [
    {
     "name": "stdout",
     "output_type": "stream",
     "text": [
      "[0 1]\n",
      "                                                 text          ActualLabel  \\\n",
      "0   the meeting was about the architecture design ...         architecture   \n",
      "1   the meeting was about the weekly sync for the ...         architecture   \n",
      "2   the meeting was about the performance of the d...         architecture   \n",
      "3   this was the second meeting of the new d-goal ...         architecture   \n",
      "4   this is the second meeting of the team. the me...                   HR   \n",
      "5   this meeting was about an investigation into t...                   HR   \n",
      "6   this is a webinar on conducting a disciplinary...                   HR   \n",
      "9   the group was moving to a new building across ...                   HR   \n",
      "10  this meeting was about the design of the new b...                   HR   \n",
      "11  this is the first meeting of the new remote co...  remotecontroldevice   \n",
      "12  this meeting was about the working design of t...  remotecontroldevice   \n",
      "13  this meeting was about the design of the new r...  remotecontroldevice   \n",
      "14  this meeting was about the conceptual design o...  remotecontroldevice   \n",
      "15  this meeting was about technical issues that t...         architecture   \n",
      "16  this is the first time that the team has hoste...         architecture   \n",
      "17  the group product manager introduced the produ...         architecture   \n",
      "18  this meeting was about the logistics of the gr...         architecture   \n",
      "19  the meeting was about the progress of their wo...         architecture   \n",
      "20  this is the second meeting of the group. first...         architecture   \n",
      "21  this meeting was about the progress of the tea...         architecture   \n",
      "\n",
      "    PredictedLabel  \n",
      "0                0  \n",
      "1                0  \n",
      "2                0  \n",
      "3                0  \n",
      "4                0  \n",
      "5                0  \n",
      "6                0  \n",
      "9                0  \n",
      "10               0  \n",
      "11               0  \n",
      "12               0  \n",
      "13               0  \n",
      "14               0  \n",
      "15               0  \n",
      "16               0  \n",
      "17               0  \n",
      "18               0  \n",
      "19               0  \n",
      "20               0  \n",
      "21               0  \n",
      "                                                text   ActualLabel  \\\n",
      "7  this meeting was about the future of social me...  social media   \n",
      "8  this is the second meeting of the group. first...  social media   \n",
      "\n",
      "   PredictedLabel  \n",
      "7               1  \n",
      "8               1  \n"
     ]
    }
   ],
   "source": [
    "import pandas as pd\n",
    "label_dict={ 0:'architecture',1:'HR',2:'social media',3:'remotecontroldevice'}\n",
    "df=pd.read_csv(\"data/Smoothing-hdbscan/appnp/smh-appnp.csv\",index_col=False)\n",
    "df = df.loc[:, ~df.columns.str.contains('^Unnamed')]\n",
    "for col in [\"ActualLabel\"]:\n",
    "    df[col] = df[col].replace(label_dict)\n",
    "print(df['PredictedLabel'].unique())\n",
    "for cat in df['PredictedLabel'].unique():\n",
    "    #category_data = df[df['label'] == category]\n",
    "    globals()[f\"df_{cat}\"]= df[df['PredictedLabel'] == cat]\n",
    "    print(globals()[f\"df_{cat}\"])\n",
    "    globals()[f\"df_{cat}\"].to_csv(f\"data/Smoothing-hdbscan/appnp/smh-appnp_PredLabel_{cat}.csv\")\n",
    "\n"
   ]
  }
 ],
 "metadata": {
  "kernelspec": {
   "display_name": "Python 3",
   "language": "python",
   "name": "python3"
  },
  "language_info": {
   "codemirror_mode": {
    "name": "ipython",
    "version": 3
   },
   "file_extension": ".py",
   "mimetype": "text/x-python",
   "name": "python",
   "nbconvert_exporter": "python",
   "pygments_lexer": "ipython3",
   "version": "3.11.3"
  }
 },
 "nbformat": 4,
 "nbformat_minor": 2
}

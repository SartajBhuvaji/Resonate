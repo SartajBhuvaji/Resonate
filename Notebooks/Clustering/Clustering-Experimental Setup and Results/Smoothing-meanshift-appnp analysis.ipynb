{
 "cells": [
  {
   "cell_type": "code",
   "execution_count": 1,
   "metadata": {},
   "outputs": [
    {
     "name": "stdout",
     "output_type": "stream",
     "text": [
      "[2 0 1 4 3]\n",
      "                                                text   ActualLabel  \\\n",
      "0  this meeting was about the future of social me...  social media   \n",
      "1  this is the second meeting about future of soc...  social media   \n",
      "\n",
      "   PredictedLabel  \n",
      "0               2  \n",
      "1               2  \n",
      "                                                 text        ActualLabel  \\\n",
      "2   the group was moving to a new building across ...  office relocation   \n",
      "3   this meeting was about the design of the new b...  office relocation   \n",
      "4   the meeting was about the new office space in ...  office relocation   \n",
      "5   this meeting was about the design of the new r...  office relocation   \n",
      "10  this meeting was about technical issues that t...       architecture   \n",
      "12  this meeting was about the logistics of the gr...       architecture   \n",
      "13  the meeting was about the architecture design ...       architecture   \n",
      "14  the meeting was about the performance of the d...       architecture   \n",
      "15  the meeting was about the progress of their wo...       architecture   \n",
      "16  the meeting was about the weekly sync for the ...       architecture   \n",
      "18  this meeting was about the progress of the tea...       architecture   \n",
      "19  this was the second meeting of the new d-goal ...       architecture   \n",
      "20  this was the final meeting of the interface pr...       architecture   \n",
      "21  this meeting was about two lists of priorities...       architecture   \n",
      "\n",
      "    PredictedLabel  \n",
      "2                0  \n",
      "3                0  \n",
      "4                0  \n",
      "5                0  \n",
      "10               0  \n",
      "12               0  \n",
      "13               0  \n",
      "14               0  \n",
      "15               0  \n",
      "16               0  \n",
      "18               0  \n",
      "19               0  \n",
      "20               0  \n",
      "21               0  \n",
      "                                                text          ActualLabel  \\\n",
      "6  this is the first meeting of the new remote co...  remotecontroldevice   \n",
      "7  this meeting was about the working design of t...  remotecontroldevice   \n",
      "8  this meeting was about the design of the new r...  remotecontroldevice   \n",
      "9  this meeting was about the conceptual design o...  remotecontroldevice   \n",
      "\n",
      "   PredictedLabel  \n",
      "6               1  \n",
      "7               1  \n",
      "8               1  \n",
      "9               1  \n",
      "                                                 text   ActualLabel  \\\n",
      "11  this is the first time that the team has hoste...  architecture   \n",
      "\n",
      "    PredictedLabel  \n",
      "11               4  \n",
      "                                                 text   ActualLabel  \\\n",
      "17  this is the second meeting of the group. first...  architecture   \n",
      "\n",
      "    PredictedLabel  \n",
      "17               3  \n"
     ]
    }
   ],
   "source": [
    "import pandas as pd\n",
    "\n",
    "label_dict={ 0:'social media',1:'office relocation',2:'remotecontroldevice',3:'architecture'} #\n",
    "df=pd.read_csv(\"data/Smoothing-meanshift/appnp/smms-appnp.csv\",index_col=False)\n",
    "df = df.loc[:, ~df.columns.str.contains('^Unnamed')]\n",
    "for col in [\"ActualLabel\"]:\n",
    "    df[col] = df[col].replace(label_dict)\n",
    "print(df['PredictedLabel'].unique())\n",
    "for cat in df['PredictedLabel'].unique():\n",
    "    #category_data = df[df['label'] == category]\n",
    "    globals()[f\"df_{cat}\"]= df[df['PredictedLabel'] == cat]\n",
    "    print(globals()[f\"df_{cat}\"])\n",
    "    globals()[f\"df_{cat}\"].to_csv(f\"data/Smoothing-meanshift/appnp/smms-appnp_PredLabel_{cat}.csv\")\n",
    "\n"
   ]
  }
 ],
 "metadata": {
  "kernelspec": {
   "display_name": "Python 3",
   "language": "python",
   "name": "python3"
  },
  "language_info": {
   "codemirror_mode": {
    "name": "ipython",
    "version": 3
   },
   "file_extension": ".py",
   "mimetype": "text/x-python",
   "name": "python",
   "nbconvert_exporter": "python",
   "pygments_lexer": "ipython3",
   "version": "3.11.3"
  }
 },
 "nbformat": 4,
 "nbformat_minor": 2
}

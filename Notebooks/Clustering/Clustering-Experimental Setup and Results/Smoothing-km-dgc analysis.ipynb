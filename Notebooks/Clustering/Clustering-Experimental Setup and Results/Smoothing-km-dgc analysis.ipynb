{
 "cells": [
  {
   "cell_type": "code",
   "execution_count": 3,
   "metadata": {},
   "outputs": [
    {
     "name": "stdout",
     "output_type": "stream",
     "text": [
      "[3 1 0 2]\n",
      "                                                text   ActualLabel  \\\n",
      "0  this meeting was about the future of social me...  architecture   \n",
      "1  this is the second meeting about future of soc...  architecture   \n",
      "\n",
      "   PredictedLabel  \n",
      "0               3  \n",
      "1               3  \n",
      "                                                 text          ActualLabel  \\\n",
      "2   the group was moving to a new building across ...                   HR   \n",
      "3   this meeting was about the design of the new b...                   HR   \n",
      "4   the meeting was about the new office space in ...                   HR   \n",
      "13  this meeting was about the logistics of the gr...  remotecontroldevice   \n",
      "18  this is the second meeting of the group. first...  remotecontroldevice   \n",
      "21  this was the final meeting of the interface pr...  remotecontroldevice   \n",
      "\n",
      "    PredictedLabel  \n",
      "2                1  \n",
      "3                1  \n",
      "4                1  \n",
      "13               1  \n",
      "18               1  \n",
      "21               1  \n",
      "                                                 text          ActualLabel  \\\n",
      "5   this meeting was about the design of the new r...                   HR   \n",
      "6   this is the first meeting of the new remote co...         social media   \n",
      "7   this meeting was about the working design of t...         social media   \n",
      "8   this meeting was about the design of the new r...         social media   \n",
      "9   this meeting was about the conceptual design o...         social media   \n",
      "22  this meeting was about two lists of priorities...  remotecontroldevice   \n",
      "\n",
      "    PredictedLabel  \n",
      "5                0  \n",
      "6                0  \n",
      "7                0  \n",
      "8                0  \n",
      "9                0  \n",
      "22               0  \n",
      "                                                 text          ActualLabel  \\\n",
      "10  this meeting was about technical issues that t...  remotecontroldevice   \n",
      "11  this is the first time that the team has hoste...  remotecontroldevice   \n",
      "12  the group product manager introduced the produ...  remotecontroldevice   \n",
      "14  the meeting was about the architecture design ...  remotecontroldevice   \n",
      "15  the meeting was about the performance of the d...  remotecontroldevice   \n",
      "16  the meeting was about the progress of their wo...  remotecontroldevice   \n",
      "17  the meeting was about the weekly sync for the ...  remotecontroldevice   \n",
      "19  this meeting was about the progress of the tea...  remotecontroldevice   \n",
      "20  this was the second meeting of the new d-goal ...  remotecontroldevice   \n",
      "\n",
      "    PredictedLabel  \n",
      "10               2  \n",
      "11               2  \n",
      "12               2  \n",
      "14               2  \n",
      "15               2  \n",
      "16               2  \n",
      "17               2  \n",
      "19               2  \n",
      "20               2  \n"
     ]
    }
   ],
   "source": [
    "import pandas as pd\n",
    "\n",
    "label_dict={0:'architecture', 1:'HR', 2:'social media', 3:'remotecontroldevice'}\n",
    "df=pd.read_csv(\"data/Smoothing-km/dgc/sm-dgc.csv\",index_col=False)\n",
    "df = df.loc[:, ~df.columns.str.contains('^Unnamed')]\n",
    "for col in [\"ActualLabel\"]:\n",
    "    df[col] = df[col].replace(label_dict)\n",
    "print(df['PredictedLabel'].unique())\n",
    "for cat in df['PredictedLabel'].unique():\n",
    "    #category_data = df[df['label'] == category]\n",
    "    globals()[f\"df_{cat}\"]= df[df['PredictedLabel'] == cat]\n",
    "    print(globals()[f\"df_{cat}\"])\n",
    "    globals()[f\"df_{cat}\"].to_csv(f\"data/Smoothing-km/dgc/sm-dgc_PredLabel_{cat}.csv\")\n"
   ]
  }
 ],
 "metadata": {
  "kernelspec": {
   "display_name": "Python 3",
   "language": "python",
   "name": "python3"
  },
  "language_info": {
   "codemirror_mode": {
    "name": "ipython",
    "version": 3
   },
   "file_extension": ".py",
   "mimetype": "text/x-python",
   "name": "python",
   "nbconvert_exporter": "python",
   "pygments_lexer": "ipython3",
   "version": "3.11.3"
  }
 },
 "nbformat": 4,
 "nbformat_minor": 2
}

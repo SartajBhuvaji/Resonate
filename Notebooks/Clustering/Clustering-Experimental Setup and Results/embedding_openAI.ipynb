{
 "cells": [
  {
   "cell_type": "markdown",
   "metadata": {},
   "source": [
    "Creating vector embeddings with OpenAI embeddings"
   ]
  },
  {
   "cell_type": "code",
   "execution_count": 2,
   "metadata": {},
   "outputs": [
    {
     "name": "stdout",
     "output_type": "stream",
     "text": [
      "Embedding:Done\n"
     ]
    }
   ],
   "source": [
    "import pandas as pd\n",
    "import torch\n",
    "from scipy.io import savemat\n",
    "import openai\n",
    "#from openai import OpenAI\n",
    "\n",
    "from langchain.embeddings.openai import OpenAIEmbeddings\n",
    "dataset = 'cluster_data' #abstract.csv\n",
    "df = pd.read_csv(f'data/text/{dataset}.csv')\n",
    "text, labels = df['text'].values, df['label'].values.reshape(-1)\n",
    "# embedding model\n",
    "model_name = 'text-embedding-3-large'\n",
    "open_ai_keys=''#open_ai_api_key\n",
    "embed = OpenAIEmbeddings(\n",
    "    model=model_name,\n",
    "    openai_api_key=open_ai_keys\n",
    ")\n",
    "embeddings=embed.embed_documents(text)\n",
    "savemat(f'data/embeddings/{dataset}-embedding.mat', {'x': embeddings, 'y': labels})\n",
    "print(\"Embedding:Done\")"
   ]
  },
  {
   "cell_type": "code",
   "execution_count": 2,
   "metadata": {},
   "outputs": [
    {
     "data": {
      "text/plain": [
       "3072"
      ]
     },
     "execution_count": 2,
     "metadata": {},
     "output_type": "execute_result"
    }
   ],
   "source": [
    "len(embeddings[0])"
   ]
  }
 ],
 "metadata": {
  "kernelspec": {
   "display_name": "Python 3",
   "language": "python",
   "name": "python3"
  },
  "language_info": {
   "codemirror_mode": {
    "name": "ipython",
    "version": 3
   },
   "file_extension": ".py",
   "mimetype": "text/x-python",
   "name": "python",
   "nbconvert_exporter": "python",
   "pygments_lexer": "ipython3",
   "version": "3.11.3"
  }
 },
 "nbformat": 4,
 "nbformat_minor": 2
}

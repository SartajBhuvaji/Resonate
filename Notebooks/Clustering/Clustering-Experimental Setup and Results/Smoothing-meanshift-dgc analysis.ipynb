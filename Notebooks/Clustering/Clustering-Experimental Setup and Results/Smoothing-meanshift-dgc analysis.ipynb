{
 "cells": [
  {
   "cell_type": "code",
   "execution_count": 1,
   "metadata": {},
   "outputs": [
    {
     "name": "stdout",
     "output_type": "stream",
     "text": [
      "[3 2 1 0]\n",
      "                                                text   ActualLabel  \\\n",
      "0  the meeting was about the architecture design ...  architecture   \n",
      "1  the meeting was about the weekly sync for the ...  architecture   \n",
      "\n",
      "   PredictedLabel  \n",
      "0               3  \n",
      "1               3  \n",
      "                                                text ActualLabel  \\\n",
      "2  the meeting was about the performance of the d...          HR   \n",
      "4  this is the second meeting of the team. the me...          HR   \n",
      "\n",
      "   PredictedLabel  \n",
      "2               2  \n",
      "4               2  \n",
      "                                                text   ActualLabel  \\\n",
      "3  this was the second meeting of the new d-goal ...            HR   \n",
      "5  this meeting was about an investigation into t...            HR   \n",
      "6  this is a webinar on conducting a disciplinary...  social media   \n",
      "7  this meeting was about the future of social me...  social media   \n",
      "8  this is the second meeting of the group. first...  social media   \n",
      "9  the group was moving to a new building across ...  social media   \n",
      "\n",
      "   PredictedLabel  \n",
      "3               1  \n",
      "5               1  \n",
      "6               1  \n",
      "7               1  \n",
      "8               1  \n",
      "9               1  \n",
      "                                                 text          ActualLabel  \\\n",
      "10  this meeting was about the design of the new b...  remotecontroldevice   \n",
      "11  this is the first meeting of the new remote co...  remotecontroldevice   \n",
      "12  this meeting was about the working design of t...  remotecontroldevice   \n",
      "13  this meeting was about the design of the new r...  remotecontroldevice   \n",
      "14  this meeting was about the conceptual design o...  remotecontroldevice   \n",
      "15  this meeting was about technical issues that t...  remotecontroldevice   \n",
      "16  this is the first time that the team has hoste...  remotecontroldevice   \n",
      "17  the group product manager introduced the produ...  remotecontroldevice   \n",
      "18  this meeting was about the logistics of the gr...  remotecontroldevice   \n",
      "19  the meeting was about the progress of their wo...  remotecontroldevice   \n",
      "20  this was the final meeting of the interface pr...  remotecontroldevice   \n",
      "21  this is the second meeting of the group. first...  remotecontroldevice   \n",
      "22  this meeting was about the progress of the tea...  remotecontroldevice   \n",
      "\n",
      "    PredictedLabel  \n",
      "10               0  \n",
      "11               0  \n",
      "12               0  \n",
      "13               0  \n",
      "14               0  \n",
      "15               0  \n",
      "16               0  \n",
      "17               0  \n",
      "18               0  \n",
      "19               0  \n",
      "20               0  \n",
      "21               0  \n",
      "22               0  \n"
     ]
    }
   ],
   "source": [
    "import pandas as pd\n",
    "\n",
    "label_dict={0:'architecture', 1:'HR', 2:'social media', 3:'remotecontroldevice'}\n",
    "df=pd.read_csv(\"data/Smoothing-meanshift/dgc/smms-dgc.csv\",index_col=False)\n",
    "df = df.loc[:, ~df.columns.str.contains('^Unnamed')]\n",
    "for col in [\"ActualLabel\"]:\n",
    "    df[col] = df[col].replace(label_dict)\n",
    "print(df['PredictedLabel'].unique())\n",
    "for cat in df['PredictedLabel'].unique():\n",
    "    #category_data = df[df['label'] == category]\n",
    "    globals()[f\"df_{cat}\"]= df[df['PredictedLabel'] == cat]\n",
    "    print(globals()[f\"df_{cat}\"])\n",
    "    globals()[f\"df_{cat}\"].to_csv(f\"data/Smoothing-meanshift/dgc/smms-dgc_PredLabel_{cat}.csv\")\n",
    "\n"
   ]
  }
 ],
 "metadata": {
  "kernelspec": {
   "display_name": "Python 3",
   "language": "python",
   "name": "python3"
  },
  "language_info": {
   "codemirror_mode": {
    "name": "ipython",
    "version": 3
   },
   "file_extension": ".py",
   "mimetype": "text/x-python",
   "name": "python",
   "nbconvert_exporter": "python",
   "pygments_lexer": "ipython3",
   "version": "3.11.3"
  }
 },
 "nbformat": 4,
 "nbformat_minor": 2
}

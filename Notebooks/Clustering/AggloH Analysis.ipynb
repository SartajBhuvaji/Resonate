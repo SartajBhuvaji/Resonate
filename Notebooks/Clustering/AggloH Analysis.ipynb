{
 "cells": [
  {
   "cell_type": "code",
   "execution_count": 1,
   "metadata": {},
   "outputs": [
    {
     "name": "stdout",
     "output_type": "stream",
     "text": [
      "[2 0 1]\n",
      "                                                text   ActualLabel  \\\n",
      "0  The meeting was about the architecture design ...  architecture   \n",
      "1  The meeting was about the Weekly Sync for the ...  architecture   \n",
      "2  The meeting was about the performance of the D...  architecture   \n",
      "3  This was the second meeting of the new D-goal ...  architecture   \n",
      "6  This meeting was about an investigation into t...            HR   \n",
      "\n",
      "   PredictedLabel  \n",
      "0               2  \n",
      "1               2  \n",
      "2               2  \n",
      "3               2  \n",
      "6               2  \n",
      "                                                 text   ActualLabel  \\\n",
      "4   This meeting was about two lists of priorities...  architecture   \n",
      "5   This is the second meeting of the team. The me...            HR   \n",
      "7   This is a webinar on conducting a disciplinary...            HR   \n",
      "10  The group was moving to a new building across ...            HR   \n",
      "11  This meeting was about the design of the new b...            HR   \n",
      "\n",
      "    PredictedLabel  \n",
      "4                0  \n",
      "5                0  \n",
      "7                0  \n",
      "10               0  \n",
      "11               0  \n",
      "                                                text   ActualLabel  \\\n",
      "8  This meeting was about the future of social me...  Social media   \n",
      "9  This is the second meeting of the group. First...  Social media   \n",
      "\n",
      "   PredictedLabel  \n",
      "8               1  \n",
      "9               1  \n"
     ]
    }
   ],
   "source": [
    "import pandas as pd\n",
    "label_dict={ 0:'architecture',1:'HR',2:'Social media'}\n",
    "df=pd.read_csv(\"data/AggloH/aggloh.csv\",index_col=False)\n",
    "df = df.loc[:, ~df.columns.str.contains('^Unnamed')]\n",
    "for col in [\"ActualLabel\"]:\n",
    "    df[col] = df[col].replace(label_dict)\n",
    "print(df['PredictedLabel'].unique())\n",
    "for cat in df['PredictedLabel'].unique():\n",
    "    #category_data = df[df['label'] == category]\n",
    "    globals()[f\"df_{cat}\"]= df[df['PredictedLabel'] == cat]\n",
    "    print(globals()[f\"df_{cat}\"])\n",
    "    globals()[f\"df_{cat}\"].to_csv(f\"data/AggloH/AggloH_PredLabel_{cat}.csv\")\n",
    "\n"
   ]
  },
  {
   "cell_type": "code",
   "execution_count": null,
   "metadata": {},
   "outputs": [],
   "source": []
  }
 ],
 "metadata": {
  "kernelspec": {
   "display_name": "Python 3",
   "language": "python",
   "name": "python3"
  },
  "language_info": {
   "codemirror_mode": {
    "name": "ipython",
    "version": 3
   },
   "file_extension": ".py",
   "mimetype": "text/x-python",
   "name": "python",
   "nbconvert_exporter": "python",
   "pygments_lexer": "ipython3",
   "version": "3.11.3"
  }
 },
 "nbformat": 4,
 "nbformat_minor": 2
}

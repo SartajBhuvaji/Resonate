{
 "cells": [
  {
   "cell_type": "code",
   "execution_count": 97,
   "id": "91e6d745",
   "metadata": {},
   "outputs": [],
   "source": [
    "from sklearn.cluster import KMeans\n",
    "from graph_filters import graph_filtering\n",
    "from scipy.io import loadmat\n",
    "from sklearn.metrics.cluster import adjusted_mutual_info_score as ami\n",
    "import numpy as np\n",
    "from sklearn.metrics import adjusted_rand_score as ari\n",
    "from time import time\n",
    "from sklearn.metrics import silhouette_score, davies_bouldin_score, calinski_harabasz_score\n",
    "from sklearn.metrics import mutual_info_score, adjusted_rand_score\n",
    "from sklearn.cluster import AgglomerativeClustering\n",
    "import matplotlib as plt\n",
    "import pandas as pd\n",
    "\n"
   ]
  },
  {
   "cell_type": "code",
   "execution_count": null,
   "id": "8199583c",
   "metadata": {},
   "outputs": [],
   "source": [
    "\n",
    "#  /Users/prachiteechouhan/Documents/CPSC DSP /Topic-based clustering/SentenceTransformer-Smoothing/data/embeddings\n",
    "metrics_all={}\n",
    "\n",
    "def smoothing_kmeans():\n",
    "    runs = 5\n",
    "    degree = 2\n",
    "    metrics_sm_kmeans={}\n",
    "    for method in [\n",
    "        None,  # no filter\n",
    "        'sgc',\n",
    "        's2gc',\n",
    "        'dgc',\n",
    "        'appnp'\n",
    "    ]:\n",
    "        print(f'{method}:')\n",
    "        for dataset in ['abstract']: #'classic4', 'dbpedia', 'ohsumed', 'R8', '20ng','ag_news', 'bbc', 'classic3 ]:\n",
    "            print(f'  {dataset}:')\n",
    "\n",
    "            data = loadmat(f'/Users/prachiteechouhan/Documents/CPSC DSP /Topic-based clustering/SentenceTransformer-Smoothing/data/embeddings/{dataset}-embedding.mat')\n",
    "            features = data['x']\n",
    "            labels = data['y'].reshape(-1)\n",
    "\n",
    "            n_clusters = len(np.unique(labels))\n",
    "\n",
    "            t0 = time()\n",
    "            if method:\n",
    "                features = graph_filtering(features, method=method)\n",
    "            pre_time = time() - t0\n",
    "        \n",
    "            metrics_sm = {'silhouettescore':[],'db_index':[],'ch_index':[],'ami': [], 'ari': []}\n",
    "\n",
    "            for run in range(runs):\n",
    "                t0 = time()\n",
    "                Z = KMeans(n_clusters, n_init=10).fit_predict(features)\n",
    "                metrics_sm['silhouettescore'].append(silhouette_score(features, Z, metric='euclidean'))\n",
    "                metrics_sm['db_index'].append(davies_bouldin_score(features, Z))\n",
    "                metrics_sm['ch_index'].append(calinski_harabasz_score(features, Z))\n",
    "                \n",
    "                metrics_sm['ami'].append(ami(labels, Z))\n",
    "                metrics_sm['ari'].append(ari(labels, Z))\n",
    "                #metrics_sm['time'].append(pre_time + time() - t0)\n",
    "            results = {\n",
    "                'mean': {k: (np.mean(v)).round(4) for k, v in metrics_sm.items()},\n",
    "                'std': {k: (np.std(v)).round(4) for k, v in metrics_sm.items()}\n",
    "            }\n",
    "            means = results['mean']\n",
    "            stds = results['std']\n",
    "            means_std=[means,stds]\n",
    "            #print(f'\\tmeans: ', means['silhouettescore'],means['db_index'],means['ch_index'],means['ami'], means['ari'], sep='&')\n",
    "            #print(f'\\tstds: ', stds['silhouettescore'],stds['db_index'],stds['ch_index'],stds['ami'], stds['ari'], sep='&')\n",
    "        metrics_sm_kmeans[method]=means_std\n",
    "    #metrics_all['smoothing_kmeans']=metrics_sm_kmeans\n",
    "    return metrics_sm_kmeans"
   ]
  },
  {
   "cell_type": "code",
   "execution_count": null,
   "id": "a34fbb07",
   "metadata": {},
   "outputs": [],
   "source": []
  },
  {
   "cell_type": "code",
   "execution_count": 95,
   "id": "513d3519",
   "metadata": {
    "lines_to_next_cell": 1
   },
   "outputs": [],
   "source": [
    "def kmeans_clustering():\n",
    "    for dataset in ['abstract']:\n",
    "        data = loadmat(f'/Users/prachiteechouhan/Documents/CPSC DSP /Topic-based clustering/SentenceTransformer-Smoothing/data/embeddings/{dataset}-embedding.mat')\n",
    "        features = data['x']\n",
    "        labels = data['y'].reshape(-1)\n",
    "\n",
    "        n_clusters = len(np.unique(labels))\n",
    "\n",
    "        clusterer = KMeans(n_clusters=n_clusters, random_state=0)\n",
    "        y_pred_kmeans = clusterer.fit_predict(features)\n",
    "        # centers = clusterer.cluster_centers_\n",
    "        silhouettescore = silhouette_score (features, y_pred_kmeans, metric='euclidean')\n",
    "        \n",
    "        ari = adjusted_rand_score(labels, y_pred_kmeans)\n",
    "        mi = ami(labels, y_pred_kmeans) \n",
    "        db_index = davies_bouldin_score(features, y_pred_kmeans)\n",
    "        ch_index = calinski_harabasz_score(features, y_pred_kmeans) \n",
    "\n",
    "        # Print the metric scores\n",
    "        #print(f\"K-Means for dataset: {dataset}\")\n",
    "        #print(f\"Silhouette Score: {silhouettescore:.2f}\")\n",
    "        #print(f\"Davies-Bouldin Index: {db_index:.2f}\")\n",
    "        #print(f\"Calinski-Harabasz Index: {ch_index:.2f}\")\n",
    "        #print(f\"Mutual Information (MI): {mi:.2f}\")\n",
    "        #print(f\"Adjusted Rand Index: {ari:.2f}\")\n",
    "       \n",
    "    metrics_kmeans={'silhouettescore':silhouettescore,'db_index':db_index,'ch_index':ch_index,'ami':mi,'ari':ari}\n",
    "    return metrics_kmeans"
   ]
  },
  {
   "cell_type": "code",
   "execution_count": 96,
   "id": "89cce675",
   "metadata": {},
   "outputs": [],
   "source": [
    "def agglomerativeClustering():\n",
    "    for dataset in ['abstract']:\n",
    "        data = loadmat(f'/Users/prachiteechouhan/Documents/CPSC DSP /Topic-based clustering/SentenceTransformer-Smoothing/data/embeddings/{dataset}-embedding.mat')\n",
    "        features = data['x']\n",
    "        labels = data['y'].reshape(-1)\n",
    "\n",
    "        n_clusters = len(np.unique(labels))\n",
    "\n",
    "        hierarchical_cluster = AgglomerativeClustering(n_clusters=n_clusters, linkage='ward')\n",
    "        y_pred_agglo = hierarchical_cluster.fit_predict(features)\n",
    "\n",
    "        silhouette_AgglomerativeClustering = silhouette_score(features, y_pred_agglo)\n",
    "        db_index_AgglomerativeClustering = davies_bouldin_score(features, y_pred_agglo)\n",
    "        ch_index_AgglomerativeClustering = calinski_harabasz_score(features, y_pred_agglo)\n",
    "        ari_AgglomerativeClustering = adjusted_rand_score(labels, y_pred_agglo)\n",
    "        mi_AgglomerativeClustering = ami(labels, y_pred_agglo)\n",
    " \n",
    "        # Print the metric scores\n",
    "        #print(f\"Agglomerative Clustering for dataset: {dataset}\")\n",
    "        #print(f\"Silhouette Score: {silhouette_AgglomerativeClustering:.2f}\")\n",
    "        #print(f\"Davies-Bouldin Index: {db_index_AgglomerativeClustering:.2f}\")\n",
    "        #print(f\"Calinski-Harabasz Index: {ch_index_AgglomerativeClustering:.2f}\")\n",
    "        #print(f\"Mutual Information (MI): {mi_AgglomerativeClustering:.2f}\")\n",
    "        #print(f\"Adjusted Rand Index: {ari_AgglomerativeClustering:.2f}\")\n",
    "        \n",
    "    metrics_kmeans={'silhouettescore':silhouette_AgglomerativeClustering,'db_index':db_index_AgglomerativeClustering,'ch_index':ch_index_AgglomerativeClustering,'ami':mi_AgglomerativeClustering,'ari':ari_AgglomerativeClustering}\n",
    "    return metrics_kmeans"
   ]
  },
  {
   "cell_type": "code",
   "execution_count": null,
   "id": "8382d0e0",
   "metadata": {},
   "outputs": [],
   "source": []
  },
  {
   "cell_type": "markdown",
   "id": "63fe295d",
   "metadata": {},
   "source": [
    "Smoothing - Graph Filter"
   ]
  },
  {
   "cell_type": "code",
   "execution_count": 24,
   "id": "f4eca32c",
   "metadata": {},
   "outputs": [
    {
     "name": "stdout",
     "output_type": "stream",
     "text": [
      "None:\n",
      "  abstract:\n",
      "\tmeans: &0.081&3.3244&1023.2456&0.8342&0.8652\n",
      "\tstds: &1e-04&0.0008&0.0021&0.0005&0.0009\n",
      "sgc:\n",
      "  abstract:\n",
      "\tmeans: &0.1502&2.2744&2225.3038&0.8349&0.8686\n",
      "\tstds: &0.0&0.0&0.0&0.0&0.0\n",
      "s2gc:\n",
      "  abstract:\n",
      "\tmeans: &0.1138&2.7131&1554.3073&0.8402&0.8716\n",
      "\tstds: &0.0&0.0&0.0004&0.0002&0.0001\n",
      "dgc:\n",
      "  abstract:\n",
      "\tmeans: &0.1901&1.9422&3056.694&0.8296&0.8631\n",
      "\tstds: &0.0&0.0&0.0&0.0&0.0\n",
      "appnp:\n",
      "  abstract:\n",
      "\tmeans: &0.1046&2.8592&1397.8295&0.8404&0.8706\n",
      "\tstds: &0.0&0.0&0.0&0.0&0.0\n"
     ]
    }
   ],
   "source": [
    "eval_sm= smoothing_kmeans()"
   ]
  },
  {
   "cell_type": "code",
   "execution_count": 45,
   "id": "6727dd4a",
   "metadata": {},
   "outputs": [
    {
     "name": "stdout",
     "output_type": "stream",
     "text": [
      "{None: [{'silhouettescore': 0.081, 'db_index': 3.3244, 'ch_index': 1023.2456, 'ami': 0.8342, 'ari': 0.8652}, {'silhouettescore': 1e-04, 'db_index': 0.0008, 'ch_index': 0.0021, 'ami': 0.0005, 'ari': 0.0009}], 'sgc': [{'silhouettescore': 0.1502, 'db_index': 2.2744, 'ch_index': 2225.3038, 'ami': 0.8349, 'ari': 0.8686}, {'silhouettescore': 0.0, 'db_index': 0.0, 'ch_index': 0.0, 'ami': 0.0, 'ari': 0.0}], 's2gc': [{'silhouettescore': 0.1138, 'db_index': 2.7131, 'ch_index': 1554.3073, 'ami': 0.8402, 'ari': 0.8716}, {'silhouettescore': 0.0, 'db_index': 0.0, 'ch_index': 0.0004, 'ami': 0.0002, 'ari': 0.0001}], 'dgc': [{'silhouettescore': 0.1901, 'db_index': 1.9422, 'ch_index': 3056.694, 'ami': 0.8296, 'ari': 0.8631}, {'silhouettescore': 0.0, 'db_index': 0.0, 'ch_index': 0.0, 'ami': 0.0, 'ari': 0.0}], 'appnp': [{'silhouettescore': 0.1046, 'db_index': 2.8592, 'ch_index': 1397.8295, 'ami': 0.8404, 'ari': 0.8706}, {'silhouettescore': 0.0, 'db_index': 0.0, 'ch_index': 0.0, 'ami': 0.0, 'ari': 0.0}]}\n"
     ]
    }
   ],
   "source": [
    "print(eval_sm)"
   ]
  },
  {
   "cell_type": "code",
   "execution_count": 46,
   "id": "89ff26c6",
   "metadata": {},
   "outputs": [
    {
     "name": "stdout",
     "output_type": "stream",
     "text": [
      "None: list_of_dicts[0].values()\n",
      "sgc: list_of_dicts[0].values()\n",
      "s2gc: list_of_dicts[0].values()\n",
      "dgc: list_of_dicts[0].values()\n",
      "appnp: list_of_dicts[0].values()\n"
     ]
    }
   ],
   "source": [
    "\n",
    "eval_s={}\n",
    "for group, list_of_dicts in eval_sm.items():\n",
    "    print(f'{group}: list_of_dicts[0].values()')\n",
    "    eval_s[group]=list(list_of_dicts[0].values())"
   ]
  },
  {
   "cell_type": "code",
   "execution_count": 81,
   "id": "f369d694",
   "metadata": {},
   "outputs": [
    {
     "data": {
      "text/html": [
       "<div>\n",
       "<style scoped>\n",
       "    .dataframe tbody tr th:only-of-type {\n",
       "        vertical-align: middle;\n",
       "    }\n",
       "\n",
       "    .dataframe tbody tr th {\n",
       "        vertical-align: top;\n",
       "    }\n",
       "\n",
       "    .dataframe thead th {\n",
       "        text-align: right;\n",
       "    }\n",
       "</style>\n",
       "<table border=\"1\" class=\"dataframe\">\n",
       "  <thead>\n",
       "    <tr style=\"text-align: right;\">\n",
       "      <th></th>\n",
       "      <th>Silhouette score</th>\n",
       "      <th>Davies-Bouldin Index</th>\n",
       "      <th>Calinski-Harabasz Index</th>\n",
       "      <th>Adjusted Mutual Information</th>\n",
       "      <th>Adjusted Rand Index</th>\n",
       "    </tr>\n",
       "  </thead>\n",
       "  <tbody>\n",
       "    <tr>\n",
       "      <th>None</th>\n",
       "      <td>0.0810</td>\n",
       "      <td>3.3244</td>\n",
       "      <td>1023.2456</td>\n",
       "      <td>0.8342</td>\n",
       "      <td>0.8652</td>\n",
       "    </tr>\n",
       "    <tr>\n",
       "      <th>sgc</th>\n",
       "      <td>0.1502</td>\n",
       "      <td>2.2744</td>\n",
       "      <td>2225.3038</td>\n",
       "      <td>0.8349</td>\n",
       "      <td>0.8686</td>\n",
       "    </tr>\n",
       "    <tr>\n",
       "      <th>s2gc</th>\n",
       "      <td>0.1138</td>\n",
       "      <td>2.7131</td>\n",
       "      <td>1554.3073</td>\n",
       "      <td>0.8402</td>\n",
       "      <td>0.8716</td>\n",
       "    </tr>\n",
       "    <tr>\n",
       "      <th>dgc</th>\n",
       "      <td>0.1901</td>\n",
       "      <td>1.9422</td>\n",
       "      <td>3056.6940</td>\n",
       "      <td>0.8296</td>\n",
       "      <td>0.8631</td>\n",
       "    </tr>\n",
       "    <tr>\n",
       "      <th>appnp</th>\n",
       "      <td>0.1046</td>\n",
       "      <td>2.8592</td>\n",
       "      <td>1397.8295</td>\n",
       "      <td>0.8404</td>\n",
       "      <td>0.8706</td>\n",
       "    </tr>\n",
       "  </tbody>\n",
       "</table>\n",
       "</div>"
      ],
      "text/plain": [
       "       Silhouette score  Davies-Bouldin Index  Calinski-Harabasz Index  \\\n",
       "None             0.0810                3.3244                1023.2456   \n",
       "sgc              0.1502                2.2744                2225.3038   \n",
       "s2gc             0.1138                2.7131                1554.3073   \n",
       "dgc              0.1901                1.9422                3056.6940   \n",
       "appnp            0.1046                2.8592                1397.8295   \n",
       "\n",
       "       Adjusted Mutual Information  Adjusted Rand Index  \n",
       "None                        0.8342               0.8652  \n",
       "sgc                         0.8349               0.8686  \n",
       "s2gc                        0.8402               0.8716  \n",
       "dgc                         0.8296               0.8631  \n",
       "appnp                       0.8404               0.8706  "
      ]
     },
     "execution_count": 81,
     "metadata": {},
     "output_type": "execute_result"
    }
   ],
   "source": [
    "new_eval_s_df = pd.DataFrame(eval_s).transpose()\n",
    "new_eval_s_df.columns=['Silhouette score', 'Davies-Bouldin Index','Calinski-Harabasz Index','Adjusted Mutual Information','Adjusted Rand Index']\n",
    "new_eval_s_df"
   ]
  },
  {
   "cell_type": "code",
   "execution_count": null,
   "id": "a53e0599",
   "metadata": {},
   "outputs": [],
   "source": []
  },
  {
   "cell_type": "markdown",
   "id": "6d25e53f",
   "metadata": {},
   "source": [
    "K_means"
   ]
  },
  {
   "cell_type": "code",
   "execution_count": 88,
   "id": "b605ef44",
   "metadata": {},
   "outputs": [
    {
     "name": "stdout",
     "output_type": "stream",
     "text": [
      "K-Means for dataset: abstract\n",
      "Silhouette Score: 0.08\n",
      "Davies-Bouldin Index: 3.32\n",
      "Calinski-Harabasz Index: 1023.24\n",
      "Mutual Information (MI): 0.83\n",
      "Adjusted Rand Index: 0.87\n"
     ]
    }
   ],
   "source": [
    "eval_kmeans= kmeans_clustering()"
   ]
  },
  {
   "cell_type": "code",
   "execution_count": 89,
   "id": "7d88cd35",
   "metadata": {},
   "outputs": [
    {
     "data": {
      "text/html": [
       "<div>\n",
       "<style scoped>\n",
       "    .dataframe tbody tr th:only-of-type {\n",
       "        vertical-align: middle;\n",
       "    }\n",
       "\n",
       "    .dataframe tbody tr th {\n",
       "        vertical-align: top;\n",
       "    }\n",
       "\n",
       "    .dataframe thead th {\n",
       "        text-align: right;\n",
       "    }\n",
       "</style>\n",
       "<table border=\"1\" class=\"dataframe\">\n",
       "  <thead>\n",
       "    <tr style=\"text-align: right;\">\n",
       "      <th></th>\n",
       "      <th>Silhouette score</th>\n",
       "      <th>Davies-Bouldin Index</th>\n",
       "      <th>Calinski-Harabasz Index</th>\n",
       "      <th>Adjusted Mutual Information</th>\n",
       "      <th>Adjusted Rand Index</th>\n",
       "    </tr>\n",
       "  </thead>\n",
       "  <tbody>\n",
       "    <tr>\n",
       "      <th>K-means Clustering</th>\n",
       "      <td>0.081064</td>\n",
       "      <td>3.323358</td>\n",
       "      <td>1023.242821</td>\n",
       "      <td>0.834896</td>\n",
       "      <td>0.8664</td>\n",
       "    </tr>\n",
       "  </tbody>\n",
       "</table>\n",
       "</div>"
      ],
      "text/plain": [
       "                    Silhouette score  Davies-Bouldin Index  \\\n",
       "K-means Clustering          0.081064              3.323358   \n",
       "\n",
       "                    Calinski-Harabasz Index  Adjusted Mutual Information  \\\n",
       "K-means Clustering              1023.242821                     0.834896   \n",
       "\n",
       "                    Adjusted Rand Index  \n",
       "K-means Clustering               0.8664  "
      ]
     },
     "execution_count": 89,
     "metadata": {},
     "output_type": "execute_result"
    }
   ],
   "source": [
    "\n",
    "new_eval_kmeans_df= pd.DataFrame(eval_kmeans, index=['K-means Clustering'])\n",
    "new_eval_kmeans_df.columns=['Silhouette score', 'Davies-Bouldin Index','Calinski-Harabasz Index','Adjusted Mutual Information','Adjusted Rand Index']\n",
    "new_eval_kmeans_df"
   ]
  },
  {
   "cell_type": "markdown",
   "id": "6052ca63",
   "metadata": {},
   "source": [
    "Agglomerative Clustering"
   ]
  },
  {
   "cell_type": "code",
   "execution_count": 79,
   "id": "24107b69",
   "metadata": {},
   "outputs": [
    {
     "name": "stdout",
     "output_type": "stream",
     "text": [
      "Agglomerative Clustering for dataset: abstract\n",
      "Silhouette Score: 0.07\n",
      "Davies-Bouldin Index: 3.56\n",
      "Calinski-Harabasz Index: 896.46\n",
      "Mutual Information (MI): 0.71\n",
      "Adjusted Rand Index: 0.76\n"
     ]
    }
   ],
   "source": [
    "eval_agglo=agglomerativeClustering()\n"
   ]
  },
  {
   "cell_type": "code",
   "execution_count": 80,
   "id": "d7555b7d",
   "metadata": {},
   "outputs": [
    {
     "data": {
      "text/html": [
       "<div>\n",
       "<style scoped>\n",
       "    .dataframe tbody tr th:only-of-type {\n",
       "        vertical-align: middle;\n",
       "    }\n",
       "\n",
       "    .dataframe tbody tr th {\n",
       "        vertical-align: top;\n",
       "    }\n",
       "\n",
       "    .dataframe thead th {\n",
       "        text-align: right;\n",
       "    }\n",
       "</style>\n",
       "<table border=\"1\" class=\"dataframe\">\n",
       "  <thead>\n",
       "    <tr style=\"text-align: right;\">\n",
       "      <th></th>\n",
       "      <th>Silhouette score</th>\n",
       "      <th>Davies-Bouldin Index</th>\n",
       "      <th>Calinski-Harabasz Index</th>\n",
       "      <th>Adjusted Mutual Information</th>\n",
       "      <th>Adjusted Rand Index</th>\n",
       "    </tr>\n",
       "  </thead>\n",
       "  <tbody>\n",
       "    <tr>\n",
       "      <th>Agglomerative Clustering</th>\n",
       "      <td>0.071277</td>\n",
       "      <td>3.560338</td>\n",
       "      <td>896.458517</td>\n",
       "      <td>0.710783</td>\n",
       "      <td>0.758978</td>\n",
       "    </tr>\n",
       "  </tbody>\n",
       "</table>\n",
       "</div>"
      ],
      "text/plain": [
       "                          Silhouette score  Davies-Bouldin Index  \\\n",
       "Agglomerative Clustering          0.071277              3.560338   \n",
       "\n",
       "                          Calinski-Harabasz Index  \\\n",
       "Agglomerative Clustering               896.458517   \n",
       "\n",
       "                          Adjusted Mutual Information  Adjusted Rand Index  \n",
       "Agglomerative Clustering                     0.710783             0.758978  "
      ]
     },
     "execution_count": 80,
     "metadata": {},
     "output_type": "execute_result"
    }
   ],
   "source": [
    "import pandas as pd\n",
    "\n",
    "new_eval_agglo_df= pd.DataFrame(eval_agglo, index=['Agglomerative Clustering'])\n",
    "new_eval_agglo_df.columns=['Silhouette score', 'Davies-Bouldin Index','Calinski-Harabasz Index','Adjusted Mutual Information','Adjusted Rand Index']\n",
    "new_eval_agglo_df"
   ]
  },
  {
   "cell_type": "code",
   "execution_count": 92,
   "id": "fa8ef3f9",
   "metadata": {},
   "outputs": [],
   "source": [
    "evaluation_metric = pd.concat([new_eval_s_df,new_eval_agglo_df, new_eval_kmeans_df])\n"
   ]
  },
  {
   "cell_type": "code",
   "execution_count": 93,
   "id": "fcbf9d1f",
   "metadata": {},
   "outputs": [
    {
     "data": {
      "text/html": [
       "<div>\n",
       "<style scoped>\n",
       "    .dataframe tbody tr th:only-of-type {\n",
       "        vertical-align: middle;\n",
       "    }\n",
       "\n",
       "    .dataframe tbody tr th {\n",
       "        vertical-align: top;\n",
       "    }\n",
       "\n",
       "    .dataframe thead th {\n",
       "        text-align: right;\n",
       "    }\n",
       "</style>\n",
       "<table border=\"1\" class=\"dataframe\">\n",
       "  <thead>\n",
       "    <tr style=\"text-align: right;\">\n",
       "      <th></th>\n",
       "      <th>Silhouette score</th>\n",
       "      <th>Davies-Bouldin Index</th>\n",
       "      <th>Calinski-Harabasz Index</th>\n",
       "      <th>Adjusted Mutual Information</th>\n",
       "      <th>Adjusted Rand Index</th>\n",
       "    </tr>\n",
       "  </thead>\n",
       "  <tbody>\n",
       "    <tr>\n",
       "      <th>None</th>\n",
       "      <td>0.081000</td>\n",
       "      <td>3.324400</td>\n",
       "      <td>1023.245600</td>\n",
       "      <td>0.834200</td>\n",
       "      <td>0.865200</td>\n",
       "    </tr>\n",
       "    <tr>\n",
       "      <th>sgc</th>\n",
       "      <td>0.150200</td>\n",
       "      <td>2.274400</td>\n",
       "      <td>2225.303800</td>\n",
       "      <td>0.834900</td>\n",
       "      <td>0.868600</td>\n",
       "    </tr>\n",
       "    <tr>\n",
       "      <th>s2gc</th>\n",
       "      <td>0.113800</td>\n",
       "      <td>2.713100</td>\n",
       "      <td>1554.307300</td>\n",
       "      <td>0.840200</td>\n",
       "      <td>0.871600</td>\n",
       "    </tr>\n",
       "    <tr>\n",
       "      <th>dgc</th>\n",
       "      <td>0.190100</td>\n",
       "      <td>1.942200</td>\n",
       "      <td>3056.694000</td>\n",
       "      <td>0.829600</td>\n",
       "      <td>0.863100</td>\n",
       "    </tr>\n",
       "    <tr>\n",
       "      <th>appnp</th>\n",
       "      <td>0.104600</td>\n",
       "      <td>2.859200</td>\n",
       "      <td>1397.829500</td>\n",
       "      <td>0.840400</td>\n",
       "      <td>0.870600</td>\n",
       "    </tr>\n",
       "    <tr>\n",
       "      <th>Agglomerative Clustering</th>\n",
       "      <td>0.071277</td>\n",
       "      <td>3.560338</td>\n",
       "      <td>896.458517</td>\n",
       "      <td>0.710783</td>\n",
       "      <td>0.758978</td>\n",
       "    </tr>\n",
       "    <tr>\n",
       "      <th>K-means Clustering</th>\n",
       "      <td>0.081064</td>\n",
       "      <td>3.323358</td>\n",
       "      <td>1023.242821</td>\n",
       "      <td>0.834896</td>\n",
       "      <td>0.866400</td>\n",
       "    </tr>\n",
       "  </tbody>\n",
       "</table>\n",
       "</div>"
      ],
      "text/plain": [
       "                          Silhouette score  Davies-Bouldin Index  \\\n",
       "None                              0.081000              3.324400   \n",
       "sgc                               0.150200              2.274400   \n",
       "s2gc                              0.113800              2.713100   \n",
       "dgc                               0.190100              1.942200   \n",
       "appnp                             0.104600              2.859200   \n",
       "Agglomerative Clustering          0.071277              3.560338   \n",
       "K-means Clustering                0.081064              3.323358   \n",
       "\n",
       "                          Calinski-Harabasz Index  \\\n",
       "None                                  1023.245600   \n",
       "sgc                                   2225.303800   \n",
       "s2gc                                  1554.307300   \n",
       "dgc                                   3056.694000   \n",
       "appnp                                 1397.829500   \n",
       "Agglomerative Clustering               896.458517   \n",
       "K-means Clustering                    1023.242821   \n",
       "\n",
       "                          Adjusted Mutual Information  Adjusted Rand Index  \n",
       "None                                         0.834200             0.865200  \n",
       "sgc                                          0.834900             0.868600  \n",
       "s2gc                                         0.840200             0.871600  \n",
       "dgc                                          0.829600             0.863100  \n",
       "appnp                                        0.840400             0.870600  \n",
       "Agglomerative Clustering                     0.710783             0.758978  \n",
       "K-means Clustering                           0.834896             0.866400  "
      ]
     },
     "execution_count": 93,
     "metadata": {},
     "output_type": "execute_result"
    }
   ],
   "source": [
    "evaluation_metric"
   ]
  }
 ],
 "metadata": {
  "jupytext": {
   "cell_metadata_filter": "-all",
   "main_language": "python",
   "notebook_metadata_filter": "-all"
  },
  "kernelspec": {
   "display_name": "Python 3",
   "language": "python",
   "name": "python3"
  },
  "language_info": {
   "codemirror_mode": {
    "name": "ipython",
    "version": 3
   },
   "file_extension": ".py",
   "mimetype": "text/x-python",
   "name": "python",
   "nbconvert_exporter": "python",
   "pygments_lexer": "ipython3",
   "version": "3.11.3"
  }
 },
 "nbformat": 4,
 "nbformat_minor": 5
}

{
 "cells": [
  {
   "cell_type": "code",
   "execution_count": null,
   "id": "7a1ab8c1-1ed0-4f54-ae9a-6142a883d188",
   "metadata": {},
   "outputs": [],
   "source": [
    "#topic based clustering-abstrative summary \n",
    "# based on Parrot project"
   ]
  },
  {
   "cell_type": "code",
   "execution_count": 26,
   "id": "30b671a9",
   "metadata": {},
   "outputs": [],
   "source": [
    "import keybert\n",
    "from transformers import pipeline\n",
    "import tqdm as notebook_tqdm\n",
    "import pandas as pd\n",
    "import math"
   ]
  },
  {
   "cell_type": "code",
   "execution_count": null,
   "id": "828015ea",
   "metadata": {},
   "outputs": [],
   "source": []
  },
  {
   "cell_type": "code",
   "execution_count": 4,
   "id": "169bc63e",
   "metadata": {},
   "outputs": [
    {
     "name": "stderr",
     "output_type": "stream",
     "text": [
      "/opt/homebrew/lib/python3.11/site-packages/torch/_utils.py:831: UserWarning: TypedStorage is deprecated. It will be removed in the future and UntypedStorage will be the only storage class. This should only matter to you if you are using storages directly.  To access UntypedStorage directly, use tensor.untyped_storage() instead of tensor.storage()\n",
      "  return self.fget.__get__(instance, owner)()\n"
     ]
    }
   ],
   "source": [
    "# Initialization of summarizer based on Bart\n",
    "summarizer = pipeline(\"summarization\", \"vmarklynn/bart-large-cnn-samsum-acsi-ami-v2\", truncation=True)\n",
    "kw_model = keybert.KeyBERT(model='all-mpnet-base-v2')"
   ]
  },
  {
   "cell_type": "code",
   "execution_count": 12,
   "id": "f70298c6",
   "metadata": {},
   "outputs": [],
   "source": [
    "def formatText(text):\n",
    "    formatted_data = [f\"{row['speaker_label']}: {row['text']}\" for _, row in text.iterrows()]\n",
    "    formatted_text = \"\\n\".join([f\"{line}\" for line in formatted_data])\n",
    "    return formatted_text"
   ]
  },
  {
   "cell_type": "code",
   "execution_count": 27,
   "id": "5c1adbf8",
   "metadata": {},
   "outputs": [],
   "source": [
    "def summarizeText(transcirpt):\n",
    "    \n",
    "    \n",
    "    text = formatText(transcirpt)\n",
    "    \n",
    "    #print(\"\\n\\n\", text, \"\\n\\n\")\n",
    "    # print( \"min: \", math.ceil(int(wordCount) * 0.1), \"max: \", math.ceil(int(wordCount) * 0.25))\n",
    "    print(\"\\n\\nSummarizing...\")\n",
    "    summary = summarizer(text)[0]['summary_text']\n",
    "    print(\"\\n\", summary, \"\\n\")\n",
    "    \n",
    "    keywords = kw_model.extract_keywords(text, \n",
    "                                     keyphrase_ngram_range=(1, 1), \n",
    "                                     stop_words='english', \n",
    "                                     highlight=False,\n",
    "                                     top_n=5)\n",
    "    keywords_list_1= list(dict(keywords).keys())\n",
    "    print(keywords_list_1)\n",
    "    keywords = kw_model.extract_keywords(text, \n",
    "                                     keyphrase_ngram_range=(2, 2), \n",
    "                                     stop_words='english', \n",
    "                                     highlight=False,\n",
    "                                     top_n=5)\n",
    "    keywords_list_2= list(dict(keywords).keys())\n",
    "    print(keywords_list_2)    \n",
    "    keywords = kw_model.extract_keywords(text, \n",
    "                                     keyphrase_ngram_range=(3, 3), \n",
    "                                     stop_words='english', \n",
    "                                     highlight=False,\n",
    "                                     top_n=5)    \n",
    "    keywords_list_3 = list(dict(keywords).keys())\n",
    "    print(keywords_list_3)\n",
    "    \n",
    "    response = {'transcription': formatText, 'summary': summary, \n",
    "                'keywords_list_1': keywords_list_1, 'keywords_list_2': keywords_list_2,\n",
    "                'keywords_list_3': keywords_list_3,}\n",
    "    return response\n",
    "\n",
    "#-----------------------------------------------------------------------------------------------------               \n",
    "\n",
    "def summarizeSummary(summary_input):\n",
    "    \n",
    "    \n",
    "    wordCount = 1024 #post_data.get('wordCount-summ')\n",
    "    \n",
    "    print( \"min: \", math.ceil(int(wordCount) * 0.1), \"max: \", math.ceil(int(wordCount) * 0.25))\n",
    "    print(\"\\n\\nSummarizing again...\")\n",
    "    summary = summarizer(summary_input, min_length = math.ceil(int(wordCount) * 0.1), max_length = math.ceil(int(wordCount) * 0.25))[0]['summary_text']\n",
    "    print(\"\\n\", summary, \"\\n\")\n",
    "    \n",
    "    response = {'summary': summary}\n",
    "    return response"
   ]
  },
  {
   "cell_type": "code",
   "execution_count": null,
   "id": "22f093e2",
   "metadata": {},
   "outputs": [],
   "source": []
  },
  {
   "cell_type": "code",
   "execution_count": 5,
   "id": "0c6bbd3a",
   "metadata": {},
   "outputs": [],
   "source": [
    "transcirpt=pd.read_csv('transcript_1.csv')"
   ]
  },
  {
   "cell_type": "code",
   "execution_count": 6,
   "id": "d65489bd",
   "metadata": {},
   "outputs": [
    {
     "data": {
      "text/html": [
       "<div>\n",
       "<style scoped>\n",
       "    .dataframe tbody tr th:only-of-type {\n",
       "        vertical-align: middle;\n",
       "    }\n",
       "\n",
       "    .dataframe tbody tr th {\n",
       "        vertical-align: top;\n",
       "    }\n",
       "\n",
       "    .dataframe thead th {\n",
       "        text-align: right;\n",
       "    }\n",
       "</style>\n",
       "<table border=\"1\" class=\"dataframe\">\n",
       "  <thead>\n",
       "    <tr style=\"text-align: right;\">\n",
       "      <th></th>\n",
       "      <th>speaker_label</th>\n",
       "      <th>start_time</th>\n",
       "      <th>end_time</th>\n",
       "      <th>text</th>\n",
       "    </tr>\n",
       "  </thead>\n",
       "  <tbody>\n",
       "    <tr>\n",
       "      <th>0</th>\n",
       "      <td>spk_0</td>\n",
       "      <td>0.000150</td>\n",
       "      <td>1.190317</td>\n",
       "      <td>I can record and we dont have a ton of items t...</td>\n",
       "    </tr>\n",
       "    <tr>\n",
       "      <th>1</th>\n",
       "      <td>spk_1</td>\n",
       "      <td>1.203483</td>\n",
       "      <td>1.265167</td>\n",
       "      <td>I thought we had in Slack sort of farmed each ...</td>\n",
       "    </tr>\n",
       "    <tr>\n",
       "      <th>2</th>\n",
       "      <td>spk_0</td>\n",
       "      <td>1.277667</td>\n",
       "      <td>1.901833</td>\n",
       "      <td>Thats so I guess that the next, so it looks li...</td>\n",
       "    </tr>\n",
       "    <tr>\n",
       "      <th>3</th>\n",
       "      <td>spk_2</td>\n",
       "      <td>1.947317</td>\n",
       "      <td>2.007650</td>\n",
       "      <td>uh, on Slack only and on the issue actually?</td>\n",
       "    </tr>\n",
       "    <tr>\n",
       "      <th>4</th>\n",
       "      <td>spk_3</td>\n",
       "      <td>2.014333</td>\n",
       "      <td>2.270333</td>\n",
       "      <td>Yeah, same, not in, not in real time, but, you...</td>\n",
       "    </tr>\n",
       "  </tbody>\n",
       "</table>\n",
       "</div>"
      ],
      "text/plain": [
       "  speaker_label  start_time  end_time  \\\n",
       "0         spk_0    0.000150  1.190317   \n",
       "1         spk_1    1.203483  1.265167   \n",
       "2         spk_0    1.277667  1.901833   \n",
       "3         spk_2    1.947317  2.007650   \n",
       "4         spk_3    2.014333  2.270333   \n",
       "\n",
       "                                                text  \n",
       "0  I can record and we dont have a ton of items t...  \n",
       "1  I thought we had in Slack sort of farmed each ...  \n",
       "2  Thats so I guess that the next, so it looks li...  \n",
       "3       uh, on Slack only and on the issue actually?  \n",
       "4  Yeah, same, not in, not in real time, but, you...  "
      ]
     },
     "execution_count": 6,
     "metadata": {},
     "output_type": "execute_result"
    }
   ],
   "source": [
    "transcirpt.head()"
   ]
  },
  {
   "cell_type": "code",
   "execution_count": 28,
   "id": "a99aa75c",
   "metadata": {},
   "outputs": [
    {
     "name": "stdout",
     "output_type": "stream",
     "text": [
      "\n",
      "\n",
      "Summarizing...\n",
      "\n",
      " The meeting was about the progress of the team's work on the C-zero project. The meeting began with a general overview of the last meeting. The team was very satisfied with the progress they had made on the project, but they were still looking for more work to do. After that, the team discussed the future direction of the project. They discussed how the team could further improve the project and how they could make it better for the next meeting. Finally, the meeting ended with a brief discussion about the future of their project. \n",
      "\n",
      "['events', 'support', 'announcements', 'sponsors', 'slack']\n",
      "['events team', 'event support', 'sponsors event', 'corporate events', 'pr team']\n",
      "['support gtm teams', 'corp events team', 'event support pm', 'sponsors event support', 'event support need']\n",
      "The meeting was about the progress of the team's work on the C-zero project. The meeting began with a general overview of the last meeting. The team was very satisfied with the progress they had made on the project, but they were still looking for more work to do. After that, the team discussed the future direction of the project. They discussed how the team could further improve the project and how they could make it better for the next meeting. Finally, the meeting ended with a brief discussion about the future of their project.\n"
     ]
    }
   ],
   "source": [
    "summary_transcript= summarizeText(transcirpt)\n",
    "print(summary_transcript['summary'])"
   ]
  },
  {
   "cell_type": "code",
   "execution_count": 29,
   "id": "d333da4b",
   "metadata": {},
   "outputs": [
    {
     "name": "stderr",
     "output_type": "stream",
     "text": [
      "Your max_length is set to 256, but your input_length is only 109. Since this is a summarization task, where outputs shorter than the input are typically wanted, you might consider decreasing max_length manually, e.g. summarizer('...', max_length=54)\n"
     ]
    },
    {
     "name": "stdout",
     "output_type": "stream",
     "text": [
      "min:  103 max:  256\n",
      "\n",
      "\n",
      "Summarizing again...\n",
      "\n",
      " The meeting was about the progress of the team's work on the C-zero project. The team was satisfied with the progress they had made on the project, but they were still looking for more work to do. They discussed the future direction of the project and how they could make it better for the next meeting. The meeting ended with a brief discussion about the future of their project, including how they would further improve the project for future meetings and future work on their C- zero project.  \n",
      "\n"
     ]
    }
   ],
   "source": [
    "summarized_summary = summarizeSummary(summary_transcript['summary'])"
   ]
  },
  {
   "cell_type": "code",
   "execution_count": null,
   "id": "84d206bf",
   "metadata": {},
   "outputs": [],
   "source": []
  }
 ],
 "metadata": {
  "kernelspec": {
   "display_name": "Python 3 (ipykernel)",
   "language": "python",
   "name": "python3"
  },
  "language_info": {
   "codemirror_mode": {
    "name": "ipython",
    "version": 3
   },
   "file_extension": ".py",
   "mimetype": "text/x-python",
   "name": "python",
   "nbconvert_exporter": "python",
   "pygments_lexer": "ipython3",
   "version": "3.11.3"
  }
 },
 "nbformat": 4,
 "nbformat_minor": 5
}

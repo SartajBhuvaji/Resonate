{
 "cells": [
  {
   "cell_type": "markdown",
   "metadata": {},
   "source": [
    "### ROUGE\n",
    "#### ROUGE, or Recall-Oriented Understudy for Gisting Evaluation, is a set of metrics and a software package used for evaluating automatic summarization and machine translation software. It is a widely used metric for evaluating the quality of generated text, and it is often used in conjunction with other metrics, such as BLEU and CIDEr.\n",
    "#### ROUGE measures the overlap between the generated text and the reference text, which is a human-written summary of the same document. ROUGE considers both the order and frequency of words in the generated text.\n",
    "\n",
    "#### There are several different ROUGE metrics, each of which focuses on a different aspect of the generated text. The most common ROUGE metrics are:\n",
    "\n",
    "#### ROUGE-N: This metric measures the overlap of n-grams between the generated text and the reference text.\n",
    "#### ROUGE-L: This metric measures the longest common subsequence between the generated text and the reference text.\n",
    "#### ROUGE-S: This metric measures the skip-n-gram overlap between the generated text and the reference text.\n",
    "#### ROUGE scores are typically reported as a percentage, with higher scores indicating better quality. A perfect ROUGE score of 100% indicates that the generated text is identical to the reference text.\n",
    "\n",
    "#### ROUGE evaluations are useful for a variety of reasons. First, they provide a quantitative measure of the quality of generated text. Second, they can be used to compare different summarization and machine translation systems. Third, they can be used to track the progress of summarization and machine translation systems over time.\n",
    "\n",
    "#### Here are some of the advantages of using ROUGE evaluations:\n",
    "\n",
    "#### ROUGE is a widely used metric, so it is easy to compare the results of different summarization and machine translation systems.\n",
    "#### ROUGE is relatively easy to understand and interpret.\n",
    "#### ROUGE is robust to different types of summarization and machine translation systems.\n",
    "#### ROUGE is available as a software package, so it is easy to use."
   ]
  },
  {
   "cell_type": "code",
   "execution_count": 1,
   "metadata": {},
   "outputs": [
    {
     "name": "stdout",
     "output_type": "stream",
     "text": [
      "Defaulting to user installation because normal site-packages is not writeable\n",
      "Requirement already satisfied: transformers in c:\\users\\madhu\\appdata\\roaming\\python\\python311\\site-packages (4.37.2)\n",
      "Requirement already satisfied: filelock in c:\\users\\madhu\\appdata\\roaming\\python\\python311\\site-packages (from transformers) (3.13.1)\n",
      "Requirement already satisfied: huggingface-hub<1.0,>=0.19.3 in c:\\users\\madhu\\appdata\\roaming\\python\\python311\\site-packages (from transformers) (0.20.2)\n",
      "Requirement already satisfied: numpy>=1.17 in c:\\users\\madhu\\appdata\\roaming\\python\\python311\\site-packages (from transformers) (1.26.0)\n",
      "Requirement already satisfied: packaging>=20.0 in c:\\users\\madhu\\appdata\\roaming\\python\\python311\\site-packages (from transformers) (23.2)\n",
      "Requirement already satisfied: pyyaml>=5.1 in c:\\users\\madhu\\appdata\\roaming\\python\\python311\\site-packages (from transformers) (6.0.1)\n",
      "Requirement already satisfied: regex!=2019.12.17 in c:\\users\\madhu\\appdata\\roaming\\python\\python311\\site-packages (from transformers) (2023.12.25)\n",
      "Requirement already satisfied: requests in c:\\users\\madhu\\appdata\\roaming\\python\\python311\\site-packages (from transformers) (2.31.0)\n",
      "Requirement already satisfied: tokenizers<0.19,>=0.14 in c:\\users\\madhu\\appdata\\roaming\\python\\python311\\site-packages (from transformers) (0.15.1)\n",
      "Requirement already satisfied: safetensors>=0.4.1 in c:\\users\\madhu\\appdata\\roaming\\python\\python311\\site-packages (from transformers) (0.4.2)\n",
      "Requirement already satisfied: tqdm>=4.27 in c:\\users\\madhu\\appdata\\roaming\\python\\python311\\site-packages (from transformers) (4.66.1)\n",
      "Requirement already satisfied: fsspec>=2023.5.0 in c:\\users\\madhu\\appdata\\roaming\\python\\python311\\site-packages (from huggingface-hub<1.0,>=0.19.3->transformers) (2023.9.2)\n",
      "Requirement already satisfied: typing-extensions>=3.7.4.3 in c:\\users\\madhu\\appdata\\roaming\\python\\python311\\site-packages (from huggingface-hub<1.0,>=0.19.3->transformers) (4.9.0)\n",
      "Requirement already satisfied: colorama in c:\\users\\madhu\\appdata\\roaming\\python\\python311\\site-packages (from tqdm>=4.27->transformers) (0.4.6)\n",
      "Requirement already satisfied: charset-normalizer<4,>=2 in c:\\users\\madhu\\appdata\\roaming\\python\\python311\\site-packages (from requests->transformers) (3.3.2)\n",
      "Requirement already satisfied: idna<4,>=2.5 in c:\\users\\madhu\\appdata\\roaming\\python\\python311\\site-packages (from requests->transformers) (3.6)\n",
      "Requirement already satisfied: urllib3<3,>=1.21.1 in c:\\users\\madhu\\appdata\\roaming\\python\\python311\\site-packages (from requests->transformers) (2.0.7)\n",
      "Requirement already satisfied: certifi>=2017.4.17 in c:\\users\\madhu\\appdata\\roaming\\python\\python311\\site-packages (from requests->transformers) (2023.11.17)\n"
     ]
    },
    {
     "name": "stderr",
     "output_type": "stream",
     "text": [
      "\n",
      "[notice] A new release of pip is available: 23.3.2 -> 24.0\n",
      "[notice] To update, run: python.exe -m pip install --upgrade pip\n"
     ]
    },
    {
     "name": "stdout",
     "output_type": "stream",
     "text": [
      "Defaulting to user installation because normal site-packages is not writeable\n"
     ]
    },
    {
     "name": "stderr",
     "output_type": "stream",
     "text": [
      "ERROR: Invalid requirement: '//Install'\n",
      "\n",
      "[notice] A new release of pip is available: 23.3.2 -> 24.0\n",
      "[notice] To update, run: python.exe -m pip install --upgrade pip\n"
     ]
    },
    {
     "name": "stdout",
     "output_type": "stream",
     "text": [
      "Defaulting to user installation because normal site-packages is not writeable\n",
      "Collecting evaluate\n",
      "  Downloading evaluate-0.4.1-py3-none-any.whl.metadata (9.4 kB)\n",
      "Collecting datasets>=2.0.0 (from evaluate)\n",
      "  Downloading datasets-2.17.0-py3-none-any.whl.metadata (20 kB)\n",
      "Requirement already satisfied: numpy>=1.17 in c:\\users\\madhu\\appdata\\roaming\\python\\python311\\site-packages (from evaluate) (1.26.0)\n",
      "Collecting dill (from evaluate)\n",
      "  Downloading dill-0.3.8-py3-none-any.whl.metadata (10 kB)\n",
      "Requirement already satisfied: pandas in c:\\users\\madhu\\appdata\\roaming\\python\\python311\\site-packages (from evaluate) (2.1.4)\n",
      "Requirement already satisfied: requests>=2.19.0 in c:\\users\\madhu\\appdata\\roaming\\python\\python311\\site-packages (from evaluate) (2.31.0)\n",
      "Requirement already satisfied: tqdm>=4.62.1 in c:\\users\\madhu\\appdata\\roaming\\python\\python311\\site-packages (from evaluate) (4.66.1)\n",
      "Collecting xxhash (from evaluate)\n",
      "  Downloading xxhash-3.4.1-cp311-cp311-win_amd64.whl.metadata (12 kB)\n",
      "Collecting multiprocess (from evaluate)\n",
      "  Downloading multiprocess-0.70.16-py311-none-any.whl.metadata (7.2 kB)\n",
      "Requirement already satisfied: fsspec>=2021.05.0 in c:\\users\\madhu\\appdata\\roaming\\python\\python311\\site-packages (from fsspec[http]>=2021.05.0->evaluate) (2023.9.2)\n",
      "Requirement already satisfied: huggingface-hub>=0.7.0 in c:\\users\\madhu\\appdata\\roaming\\python\\python311\\site-packages (from evaluate) (0.20.2)\n",
      "Requirement already satisfied: packaging in c:\\users\\madhu\\appdata\\roaming\\python\\python311\\site-packages (from evaluate) (23.2)\n",
      "Collecting responses<0.19 (from evaluate)\n",
      "  Downloading responses-0.18.0-py3-none-any.whl (38 kB)\n",
      "Requirement already satisfied: filelock in c:\\users\\madhu\\appdata\\roaming\\python\\python311\\site-packages (from datasets>=2.0.0->evaluate) (3.13.1)\n",
      "Collecting pyarrow>=12.0.0 (from datasets>=2.0.0->evaluate)\n",
      "  Downloading pyarrow-15.0.0-cp311-cp311-win_amd64.whl.metadata (3.1 kB)\n",
      "Collecting pyarrow-hotfix (from datasets>=2.0.0->evaluate)\n",
      "  Downloading pyarrow_hotfix-0.6-py3-none-any.whl.metadata (3.6 kB)\n",
      "Requirement already satisfied: aiohttp in c:\\users\\madhu\\appdata\\roaming\\python\\python311\\site-packages (from datasets>=2.0.0->evaluate) (3.9.1)\n",
      "Requirement already satisfied: pyyaml>=5.1 in c:\\users\\madhu\\appdata\\roaming\\python\\python311\\site-packages (from datasets>=2.0.0->evaluate) (6.0.1)\n",
      "Requirement already satisfied: typing-extensions>=3.7.4.3 in c:\\users\\madhu\\appdata\\roaming\\python\\python311\\site-packages (from huggingface-hub>=0.7.0->evaluate) (4.9.0)\n",
      "Requirement already satisfied: charset-normalizer<4,>=2 in c:\\users\\madhu\\appdata\\roaming\\python\\python311\\site-packages (from requests>=2.19.0->evaluate) (3.3.2)\n",
      "Requirement already satisfied: idna<4,>=2.5 in c:\\users\\madhu\\appdata\\roaming\\python\\python311\\site-packages (from requests>=2.19.0->evaluate) (3.6)\n",
      "Requirement already satisfied: urllib3<3,>=1.21.1 in c:\\users\\madhu\\appdata\\roaming\\python\\python311\\site-packages (from requests>=2.19.0->evaluate) (2.0.7)\n",
      "Requirement already satisfied: certifi>=2017.4.17 in c:\\users\\madhu\\appdata\\roaming\\python\\python311\\site-packages (from requests>=2.19.0->evaluate) (2023.11.17)\n",
      "Requirement already satisfied: colorama in c:\\users\\madhu\\appdata\\roaming\\python\\python311\\site-packages (from tqdm>=4.62.1->evaluate) (0.4.6)\n",
      "Requirement already satisfied: python-dateutil>=2.8.2 in c:\\users\\madhu\\appdata\\roaming\\python\\python311\\site-packages (from pandas->evaluate) (2.8.2)\n",
      "Requirement already satisfied: pytz>=2020.1 in c:\\users\\madhu\\appdata\\roaming\\python\\python311\\site-packages (from pandas->evaluate) (2023.3.post1)\n",
      "Requirement already satisfied: tzdata>=2022.1 in c:\\users\\madhu\\appdata\\roaming\\python\\python311\\site-packages (from pandas->evaluate) (2023.3)\n",
      "Requirement already satisfied: attrs>=17.3.0 in c:\\users\\madhu\\appdata\\roaming\\python\\python311\\site-packages (from aiohttp->datasets>=2.0.0->evaluate) (23.2.0)\n",
      "Requirement already satisfied: multidict<7.0,>=4.5 in c:\\users\\madhu\\appdata\\roaming\\python\\python311\\site-packages (from aiohttp->datasets>=2.0.0->evaluate) (6.0.4)\n",
      "Requirement already satisfied: yarl<2.0,>=1.0 in c:\\users\\madhu\\appdata\\roaming\\python\\python311\\site-packages (from aiohttp->datasets>=2.0.0->evaluate) (1.9.4)\n",
      "Requirement already satisfied: frozenlist>=1.1.1 in c:\\users\\madhu\\appdata\\roaming\\python\\python311\\site-packages (from aiohttp->datasets>=2.0.0->evaluate) (1.4.1)\n",
      "Requirement already satisfied: aiosignal>=1.1.2 in c:\\users\\madhu\\appdata\\roaming\\python\\python311\\site-packages (from aiohttp->datasets>=2.0.0->evaluate) (1.3.1)\n",
      "Requirement already satisfied: six>=1.5 in c:\\users\\madhu\\appdata\\roaming\\python\\python311\\site-packages (from python-dateutil>=2.8.2->pandas->evaluate) (1.16.0)\n",
      "Downloading evaluate-0.4.1-py3-none-any.whl (84 kB)\n",
      "   ---------------------------------------- 0.0/84.1 kB ? eta -:--:--\n",
      "   -------------------------------------- - 81.9/84.1 kB 2.3 MB/s eta 0:00:01\n",
      "   ---------------------------------------- 84.1/84.1 kB 1.6 MB/s eta 0:00:00\n",
      "Downloading datasets-2.17.0-py3-none-any.whl (536 kB)\n",
      "   ---------------------------------------- 0.0/536.6 kB ? eta -:--:--\n",
      "   --------------------- ------------------ 286.7/536.6 kB 8.9 MB/s eta 0:00:01\n",
      "   ---------------------------------------- 536.6/536.6 kB 6.7 MB/s eta 0:00:00\n",
      "Downloading dill-0.3.8-py3-none-any.whl (116 kB)\n",
      "   ---------------------------------------- 0.0/116.3 kB ? eta -:--:--\n",
      "   ---------------------------------------- 116.3/116.3 kB 3.4 MB/s eta 0:00:00\n",
      "Downloading multiprocess-0.70.16-py311-none-any.whl (143 kB)\n",
      "   ---------------------------------------- 0.0/143.5 kB ? eta -:--:--\n",
      "   ---------------------------------------- 143.5/143.5 kB 8.9 MB/s eta 0:00:00\n",
      "Downloading xxhash-3.4.1-cp311-cp311-win_amd64.whl (29 kB)\n",
      "Downloading pyarrow-15.0.0-cp311-cp311-win_amd64.whl (24.8 MB)\n",
      "   ---------------------------------------- 0.0/24.8 MB ? eta -:--:--\n",
      "   - -------------------------------------- 1.0/24.8 MB 32.3 MB/s eta 0:00:01\n",
      "   --- ------------------------------------ 2.3/24.8 MB 35.9 MB/s eta 0:00:01\n",
      "   ------ --------------------------------- 3.9/24.8 MB 31.2 MB/s eta 0:00:01\n",
      "   --------- ------------------------------ 6.2/24.8 MB 36.0 MB/s eta 0:00:01\n",
      "   -------------- ------------------------- 8.7/24.8 MB 39.8 MB/s eta 0:00:01\n",
      "   ---------------- ----------------------- 10.4/24.8 MB 38.5 MB/s eta 0:00:01\n",
      "   --------------------- ------------------ 13.0/24.8 MB 46.7 MB/s eta 0:00:01\n",
      "   ------------------------- -------------- 15.8/24.8 MB 54.7 MB/s eta 0:00:01\n",
      "   ----------------------------- ---------- 18.1/24.8 MB 50.4 MB/s eta 0:00:01\n",
      "   --------------------------------- ------ 20.8/24.8 MB 54.4 MB/s eta 0:00:01\n",
      "   ------------------------------------- -- 23.2/24.8 MB 50.4 MB/s eta 0:00:01\n",
      "   ---------------------------------------  24.8/24.8 MB 54.7 MB/s eta 0:00:01\n",
      "   ---------------------------------------  24.8/24.8 MB 54.7 MB/s eta 0:00:01\n",
      "   ---------------------------------------  24.8/24.8 MB 54.7 MB/s eta 0:00:01\n",
      "   ---------------------------------------  24.8/24.8 MB 54.7 MB/s eta 0:00:01\n",
      "   ---------------------------------------- 24.8/24.8 MB 28.5 MB/s eta 0:00:00\n",
      "Downloading pyarrow_hotfix-0.6-py3-none-any.whl (7.9 kB)\n",
      "Installing collected packages: xxhash, pyarrow-hotfix, pyarrow, dill, responses, multiprocess, datasets, evaluate\n",
      "Successfully installed datasets-2.17.0 dill-0.3.8 evaluate-0.4.1 multiprocess-0.70.16 pyarrow-15.0.0 pyarrow-hotfix-0.6 responses-0.18.0 xxhash-3.4.1\n"
     ]
    },
    {
     "name": "stderr",
     "output_type": "stream",
     "text": [
      "\n",
      "[notice] A new release of pip is available: 23.3.2 -> 24.0\n",
      "[notice] To update, run: python.exe -m pip install --upgrade pip\n"
     ]
    },
    {
     "name": "stdout",
     "output_type": "stream",
     "text": [
      "Defaulting to user installation because normal site-packages is not writeable\n",
      "Collecting rouge_score\n",
      "  Downloading rouge_score-0.1.2.tar.gz (17 kB)\n",
      "  Preparing metadata (setup.py): started\n",
      "  Preparing metadata (setup.py): finished with status 'done'\n",
      "Requirement already satisfied: absl-py in c:\\users\\madhu\\appdata\\roaming\\python\\python311\\site-packages (from rouge_score) (2.0.0)\n",
      "Requirement already satisfied: nltk in c:\\users\\madhu\\appdata\\roaming\\python\\python311\\site-packages (from rouge_score) (3.8.1)\n",
      "Requirement already satisfied: numpy in c:\\users\\madhu\\appdata\\roaming\\python\\python311\\site-packages (from rouge_score) (1.26.0)\n",
      "Requirement already satisfied: six>=1.14.0 in c:\\users\\madhu\\appdata\\roaming\\python\\python311\\site-packages (from rouge_score) (1.16.0)\n",
      "Requirement already satisfied: click in c:\\users\\madhu\\appdata\\roaming\\python\\python311\\site-packages (from nltk->rouge_score) (8.1.7)\n",
      "Requirement already satisfied: joblib in c:\\users\\madhu\\appdata\\roaming\\python\\python311\\site-packages (from nltk->rouge_score) (1.3.2)\n",
      "Requirement already satisfied: regex>=2021.8.3 in c:\\users\\madhu\\appdata\\roaming\\python\\python311\\site-packages (from nltk->rouge_score) (2023.12.25)\n",
      "Requirement already satisfied: tqdm in c:\\users\\madhu\\appdata\\roaming\\python\\python311\\site-packages (from nltk->rouge_score) (4.66.1)\n",
      "Requirement already satisfied: colorama in c:\\users\\madhu\\appdata\\roaming\\python\\python311\\site-packages (from click->nltk->rouge_score) (0.4.6)\n",
      "Building wheels for collected packages: rouge_score\n",
      "  Building wheel for rouge_score (setup.py): started\n",
      "  Building wheel for rouge_score (setup.py): finished with status 'done'\n",
      "  Created wheel for rouge_score: filename=rouge_score-0.1.2-py3-none-any.whl size=24989 sha256=4e196a01311d4f0c1d27dffeda82e99a058c877e21d36d010aa9bfa6e8f16c7f\n",
      "  Stored in directory: c:\\users\\madhu\\appdata\\local\\pip\\cache\\wheels\\1e\\19\\43\\8a442dc83660ca25e163e1bd1f89919284ab0d0c1475475148\n",
      "Successfully built rouge_score\n",
      "Installing collected packages: rouge_score\n",
      "Successfully installed rouge_score-0.1.2\n"
     ]
    },
    {
     "name": "stderr",
     "output_type": "stream",
     "text": [
      "\n",
      "[notice] A new release of pip is available: 23.3.2 -> 24.0\n",
      "[notice] To update, run: python.exe -m pip install --upgrade pip\n"
     ]
    },
    {
     "name": "stdout",
     "output_type": "stream",
     "text": [
      "Defaulting to user installation because normal site-packages is not writeable\n",
      "Collecting gradio\n",
      "  Downloading gradio-4.18.0-py3-none-any.whl.metadata (15 kB)\n",
      "Collecting aiofiles<24.0,>=22.0 (from gradio)\n",
      "  Downloading aiofiles-23.2.1-py3-none-any.whl.metadata (9.7 kB)\n",
      "Collecting altair<6.0,>=4.2.0 (from gradio)\n",
      "  Downloading altair-5.2.0-py3-none-any.whl.metadata (8.7 kB)\n",
      "Collecting fastapi (from gradio)\n",
      "  Downloading fastapi-0.109.2-py3-none-any.whl.metadata (25 kB)\n",
      "Collecting ffmpy (from gradio)\n",
      "  Downloading ffmpy-0.3.2.tar.gz (5.5 kB)\n",
      "  Preparing metadata (setup.py): started\n",
      "  Preparing metadata (setup.py): finished with status 'done'\n",
      "Collecting gradio-client==0.10.0 (from gradio)\n",
      "  Downloading gradio_client-0.10.0-py3-none-any.whl.metadata (7.1 kB)\n",
      "Requirement already satisfied: httpx in c:\\users\\madhu\\appdata\\roaming\\python\\python311\\site-packages (from gradio) (0.26.0)\n",
      "Requirement already satisfied: huggingface-hub>=0.19.3 in c:\\users\\madhu\\appdata\\roaming\\python\\python311\\site-packages (from gradio) (0.20.2)\n",
      "Collecting importlib-resources<7.0,>=1.3 (from gradio)\n",
      "  Downloading importlib_resources-6.1.1-py3-none-any.whl.metadata (4.1 kB)\n",
      "Requirement already satisfied: jinja2<4.0 in c:\\users\\madhu\\appdata\\roaming\\python\\python311\\site-packages (from gradio) (3.1.2)\n",
      "Requirement already satisfied: markupsafe~=2.0 in c:\\users\\madhu\\appdata\\roaming\\python\\python311\\site-packages (from gradio) (2.1.3)\n",
      "Requirement already satisfied: matplotlib~=3.0 in c:\\users\\madhu\\appdata\\roaming\\python\\python311\\site-packages (from gradio) (3.8.2)\n",
      "Requirement already satisfied: numpy~=1.0 in c:\\users\\madhu\\appdata\\roaming\\python\\python311\\site-packages (from gradio) (1.26.0)\n",
      "Collecting orjson~=3.0 (from gradio)\n",
      "  Downloading orjson-3.9.13-cp311-none-win_amd64.whl.metadata (50 kB)\n",
      "     ---------------------------------------- 0.0/50.6 kB ? eta -:--:--\n",
      "     ------------------------------ ------- 41.0/50.6 kB 991.0 kB/s eta 0:00:01\n",
      "     -------------------------------------- 50.6/50.6 kB 858.7 kB/s eta 0:00:00\n",
      "Requirement already satisfied: packaging in c:\\users\\madhu\\appdata\\roaming\\python\\python311\\site-packages (from gradio) (23.2)\n",
      "Requirement already satisfied: pandas<3.0,>=1.0 in c:\\users\\madhu\\appdata\\roaming\\python\\python311\\site-packages (from gradio) (2.1.4)\n",
      "Requirement already satisfied: pillow<11.0,>=8.0 in c:\\users\\madhu\\appdata\\roaming\\python\\python311\\site-packages (from gradio) (10.1.0)\n",
      "Requirement already satisfied: pydantic>=2.0 in c:\\users\\madhu\\appdata\\roaming\\python\\python311\\site-packages (from gradio) (2.5.3)\n",
      "Collecting pydub (from gradio)\n",
      "  Downloading pydub-0.25.1-py2.py3-none-any.whl (32 kB)\n",
      "Collecting python-multipart (from gradio)\n",
      "  Downloading python_multipart-0.0.9-py3-none-any.whl.metadata (2.5 kB)\n",
      "Requirement already satisfied: pyyaml<7.0,>=5.0 in c:\\users\\madhu\\appdata\\roaming\\python\\python311\\site-packages (from gradio) (6.0.1)\n",
      "Collecting ruff>=0.1.7 (from gradio)\n",
      "  Downloading ruff-0.2.1-py3-none-win_amd64.whl.metadata (23 kB)\n",
      "Collecting semantic-version~=2.0 (from gradio)\n",
      "  Downloading semantic_version-2.10.0-py2.py3-none-any.whl (15 kB)\n",
      "Collecting tomlkit==0.12.0 (from gradio)\n",
      "  Downloading tomlkit-0.12.0-py3-none-any.whl.metadata (2.7 kB)\n",
      "Requirement already satisfied: typer<1.0,>=0.9 in c:\\users\\madhu\\appdata\\roaming\\python\\python311\\site-packages (from typer[all]<1.0,>=0.9->gradio) (0.9.0)\n",
      "Requirement already satisfied: typing-extensions~=4.0 in c:\\users\\madhu\\appdata\\roaming\\python\\python311\\site-packages (from gradio) (4.9.0)\n",
      "Collecting uvicorn>=0.14.0 (from gradio)\n",
      "  Downloading uvicorn-0.27.1-py3-none-any.whl.metadata (6.3 kB)\n",
      "Requirement already satisfied: fsspec in c:\\users\\madhu\\appdata\\roaming\\python\\python311\\site-packages (from gradio-client==0.10.0->gradio) (2023.9.2)\n",
      "Collecting websockets<12.0,>=10.0 (from gradio-client==0.10.0->gradio)\n",
      "  Downloading websockets-11.0.3-cp311-cp311-win_amd64.whl (124 kB)\n",
      "     ---------------------------------------- 0.0/124.7 kB ? eta -:--:--\n",
      "     -------------------------------------- 124.7/124.7 kB 3.7 MB/s eta 0:00:00\n",
      "Collecting jsonschema>=3.0 (from altair<6.0,>=4.2.0->gradio)\n",
      "  Downloading jsonschema-4.21.1-py3-none-any.whl.metadata (7.8 kB)\n",
      "Collecting toolz (from altair<6.0,>=4.2.0->gradio)\n",
      "  Downloading toolz-0.12.1-py3-none-any.whl.metadata (5.1 kB)\n",
      "Requirement already satisfied: filelock in c:\\users\\madhu\\appdata\\roaming\\python\\python311\\site-packages (from huggingface-hub>=0.19.3->gradio) (3.13.1)\n",
      "Requirement already satisfied: requests in c:\\users\\madhu\\appdata\\roaming\\python\\python311\\site-packages (from huggingface-hub>=0.19.3->gradio) (2.31.0)\n",
      "Requirement already satisfied: tqdm>=4.42.1 in c:\\users\\madhu\\appdata\\roaming\\python\\python311\\site-packages (from huggingface-hub>=0.19.3->gradio) (4.66.1)\n",
      "Requirement already satisfied: contourpy>=1.0.1 in c:\\users\\madhu\\appdata\\roaming\\python\\python311\\site-packages (from matplotlib~=3.0->gradio) (1.2.0)\n",
      "Requirement already satisfied: cycler>=0.10 in c:\\users\\madhu\\appdata\\roaming\\python\\python311\\site-packages (from matplotlib~=3.0->gradio) (0.12.1)\n",
      "Requirement already satisfied: fonttools>=4.22.0 in c:\\users\\madhu\\appdata\\roaming\\python\\python311\\site-packages (from matplotlib~=3.0->gradio) (4.47.0)\n",
      "Requirement already satisfied: kiwisolver>=1.3.1 in c:\\users\\madhu\\appdata\\roaming\\python\\python311\\site-packages (from matplotlib~=3.0->gradio) (1.4.5)\n",
      "Requirement already satisfied: pyparsing>=2.3.1 in c:\\users\\madhu\\appdata\\roaming\\python\\python311\\site-packages (from matplotlib~=3.0->gradio) (3.1.1)\n",
      "Requirement already satisfied: python-dateutil>=2.7 in c:\\users\\madhu\\appdata\\roaming\\python\\python311\\site-packages (from matplotlib~=3.0->gradio) (2.8.2)\n",
      "Requirement already satisfied: pytz>=2020.1 in c:\\users\\madhu\\appdata\\roaming\\python\\python311\\site-packages (from pandas<3.0,>=1.0->gradio) (2023.3.post1)\n",
      "Requirement already satisfied: tzdata>=2022.1 in c:\\users\\madhu\\appdata\\roaming\\python\\python311\\site-packages (from pandas<3.0,>=1.0->gradio) (2023.3)\n",
      "Requirement already satisfied: annotated-types>=0.4.0 in c:\\users\\madhu\\appdata\\roaming\\python\\python311\\site-packages (from pydantic>=2.0->gradio) (0.6.0)\n",
      "Requirement already satisfied: pydantic-core==2.14.6 in c:\\users\\madhu\\appdata\\roaming\\python\\python311\\site-packages (from pydantic>=2.0->gradio) (2.14.6)\n",
      "Requirement already satisfied: click<9.0.0,>=7.1.1 in c:\\users\\madhu\\appdata\\roaming\\python\\python311\\site-packages (from typer<1.0,>=0.9->typer[all]<1.0,>=0.9->gradio) (8.1.7)\n",
      "Requirement already satisfied: colorama<0.5.0,>=0.4.3 in c:\\users\\madhu\\appdata\\roaming\\python\\python311\\site-packages (from typer[all]<1.0,>=0.9->gradio) (0.4.6)\n",
      "Requirement already satisfied: shellingham<2.0.0,>=1.3.0 in c:\\users\\madhu\\appdata\\roaming\\python\\python311\\site-packages (from typer[all]<1.0,>=0.9->gradio) (1.5.4)\n",
      "Requirement already satisfied: rich<14.0.0,>=10.11.0 in c:\\users\\madhu\\appdata\\roaming\\python\\python311\\site-packages (from typer[all]<1.0,>=0.9->gradio) (13.7.0)\n",
      "Requirement already satisfied: h11>=0.8 in c:\\users\\madhu\\appdata\\roaming\\python\\python311\\site-packages (from uvicorn>=0.14.0->gradio) (0.14.0)\n",
      "Collecting starlette<0.37.0,>=0.36.3 (from fastapi->gradio)\n",
      "  Downloading starlette-0.36.3-py3-none-any.whl.metadata (5.9 kB)\n",
      "Requirement already satisfied: anyio in c:\\users\\madhu\\appdata\\roaming\\python\\python311\\site-packages (from httpx->gradio) (4.2.0)\n",
      "Requirement already satisfied: certifi in c:\\users\\madhu\\appdata\\roaming\\python\\python311\\site-packages (from httpx->gradio) (2023.11.17)\n",
      "Requirement already satisfied: httpcore==1.* in c:\\users\\madhu\\appdata\\roaming\\python\\python311\\site-packages (from httpx->gradio) (1.0.2)\n",
      "Requirement already satisfied: idna in c:\\users\\madhu\\appdata\\roaming\\python\\python311\\site-packages (from httpx->gradio) (3.6)\n",
      "Requirement already satisfied: sniffio in c:\\users\\madhu\\appdata\\roaming\\python\\python311\\site-packages (from httpx->gradio) (1.3.0)\n",
      "Requirement already satisfied: attrs>=22.2.0 in c:\\users\\madhu\\appdata\\roaming\\python\\python311\\site-packages (from jsonschema>=3.0->altair<6.0,>=4.2.0->gradio) (23.2.0)\n",
      "Collecting jsonschema-specifications>=2023.03.6 (from jsonschema>=3.0->altair<6.0,>=4.2.0->gradio)\n",
      "  Downloading jsonschema_specifications-2023.12.1-py3-none-any.whl.metadata (3.0 kB)\n",
      "Collecting referencing>=0.28.4 (from jsonschema>=3.0->altair<6.0,>=4.2.0->gradio)\n",
      "  Downloading referencing-0.33.0-py3-none-any.whl.metadata (2.7 kB)\n",
      "Collecting rpds-py>=0.7.1 (from jsonschema>=3.0->altair<6.0,>=4.2.0->gradio)\n",
      "  Downloading rpds_py-0.17.1-cp311-none-win_amd64.whl.metadata (4.2 kB)\n",
      "Requirement already satisfied: six>=1.5 in c:\\users\\madhu\\appdata\\roaming\\python\\python311\\site-packages (from python-dateutil>=2.7->matplotlib~=3.0->gradio) (1.16.0)\n",
      "Requirement already satisfied: markdown-it-py>=2.2.0 in c:\\users\\madhu\\appdata\\roaming\\python\\python311\\site-packages (from rich<14.0.0,>=10.11.0->typer[all]<1.0,>=0.9->gradio) (3.0.0)\n",
      "Requirement already satisfied: pygments<3.0.0,>=2.13.0 in c:\\users\\madhu\\appdata\\roaming\\python\\python311\\site-packages (from rich<14.0.0,>=10.11.0->typer[all]<1.0,>=0.9->gradio) (2.17.2)\n",
      "Requirement already satisfied: charset-normalizer<4,>=2 in c:\\users\\madhu\\appdata\\roaming\\python\\python311\\site-packages (from requests->huggingface-hub>=0.19.3->gradio) (3.3.2)\n",
      "Requirement already satisfied: urllib3<3,>=1.21.1 in c:\\users\\madhu\\appdata\\roaming\\python\\python311\\site-packages (from requests->huggingface-hub>=0.19.3->gradio) (2.0.7)\n",
      "Requirement already satisfied: mdurl~=0.1 in c:\\users\\madhu\\appdata\\roaming\\python\\python311\\site-packages (from markdown-it-py>=2.2.0->rich<14.0.0,>=10.11.0->typer[all]<1.0,>=0.9->gradio) (0.1.2)\n",
      "Downloading gradio-4.18.0-py3-none-any.whl (16.8 MB)\n",
      "   ---------------------------------------- 0.0/16.8 MB ? eta -:--:--\n",
      "   -- ------------------------------------- 1.2/16.8 MB 25.1 MB/s eta 0:00:01\n",
      "   ------ --------------------------------- 2.8/16.8 MB 29.8 MB/s eta 0:00:01\n",
      "   ------------ --------------------------- 5.2/16.8 MB 36.7 MB/s eta 0:00:01\n",
      "   ----------------- ---------------------- 7.2/16.8 MB 38.1 MB/s eta 0:00:01\n",
      "   ----------------------- ---------------- 9.7/16.8 MB 41.4 MB/s eta 0:00:01\n",
      "   ----------------------------- ---------- 12.5/16.8 MB 50.1 MB/s eta 0:00:01\n",
      "   ---------------------------------- ----- 14.6/16.8 MB 50.4 MB/s eta 0:00:01\n",
      "   ---------------------------------------  16.6/16.8 MB 50.4 MB/s eta 0:00:01\n",
      "   ---------------------------------------  16.7/16.8 MB 46.7 MB/s eta 0:00:01\n",
      "   ---------------------------------------- 16.8/16.8 MB 36.4 MB/s eta 0:00:00\n",
      "Downloading gradio_client-0.10.0-py3-none-any.whl (307 kB)\n",
      "   ---------------------------------------- 0.0/307.7 kB ? eta -:--:--\n",
      "   ---------------------------------------- 307.7/307.7 kB 9.6 MB/s eta 0:00:00\n",
      "Downloading tomlkit-0.12.0-py3-none-any.whl (37 kB)\n",
      "Downloading aiofiles-23.2.1-py3-none-any.whl (15 kB)\n",
      "Downloading altair-5.2.0-py3-none-any.whl (996 kB)\n",
      "   ---------------------------------------- 0.0/996.9 kB ? eta -:--:--\n",
      "   --------------------------------------- 996.9/996.9 kB 21.0 MB/s eta 0:00:00\n",
      "Downloading importlib_resources-6.1.1-py3-none-any.whl (33 kB)\n",
      "Downloading orjson-3.9.13-cp311-none-win_amd64.whl (134 kB)\n",
      "   ---------------------------------------- 0.0/134.2 kB ? eta -:--:--\n",
      "   ---------------------------------------- 134.2/134.2 kB 7.7 MB/s eta 0:00:00\n",
      "Downloading ruff-0.2.1-py3-none-win_amd64.whl (7.4 MB)\n",
      "   ---------------------------------------- 0.0/7.4 MB ? eta -:--:--\n",
      "   ----------- ---------------------------- 2.2/7.4 MB 45.8 MB/s eta 0:00:01\n",
      "   ---------------------- ----------------- 4.2/7.4 MB 45.0 MB/s eta 0:00:01\n",
      "   ------------------------------------- -- 6.9/7.4 MB 55.4 MB/s eta 0:00:01\n",
      "   ---------------------------------------  7.4/7.4 MB 52.4 MB/s eta 0:00:01\n",
      "   ---------------------------------------  7.4/7.4 MB 52.4 MB/s eta 0:00:01\n",
      "   ---------------------------------------- 7.4/7.4 MB 31.6 MB/s eta 0:00:00\n",
      "Downloading uvicorn-0.27.1-py3-none-any.whl (60 kB)\n",
      "   ---------------------------------------- 0.0/60.8 kB ? eta -:--:--\n",
      "   ---------------------------------------- 60.8/60.8 kB 3.4 MB/s eta 0:00:00\n",
      "Downloading fastapi-0.109.2-py3-none-any.whl (92 kB)\n",
      "   ---------------------------------------- 0.0/92.1 kB ? eta -:--:--\n",
      "   ---------------------------------------- 92.1/92.1 kB 5.1 MB/s eta 0:00:00\n",
      "Downloading python_multipart-0.0.9-py3-none-any.whl (22 kB)\n",
      "Downloading jsonschema-4.21.1-py3-none-any.whl (85 kB)\n",
      "   ---------------------------------------- 0.0/85.5 kB ? eta -:--:--\n",
      "   ---------------------------------------- 85.5/85.5 kB 4.7 MB/s eta 0:00:00\n",
      "Downloading starlette-0.36.3-py3-none-any.whl (71 kB)\n",
      "   ---------------------------------------- 0.0/71.5 kB ? eta -:--:--\n",
      "   ---------------------------------------- 71.5/71.5 kB 3.8 MB/s eta 0:00:00\n",
      "Downloading toolz-0.12.1-py3-none-any.whl (56 kB)\n",
      "   ---------------------------------------- 0.0/56.1 kB ? eta -:--:--\n",
      "   ---------------------------------------- 56.1/56.1 kB 1.4 MB/s eta 0:00:00\n",
      "Downloading jsonschema_specifications-2023.12.1-py3-none-any.whl (18 kB)\n",
      "Downloading referencing-0.33.0-py3-none-any.whl (26 kB)\n",
      "Downloading rpds_py-0.17.1-cp311-none-win_amd64.whl (205 kB)\n",
      "   ---------------------------------------- 0.0/205.9 kB ? eta -:--:--\n",
      "   --------------------------------------- 205.9/205.9 kB 13.0 MB/s eta 0:00:00\n",
      "Building wheels for collected packages: ffmpy\n",
      "  Building wheel for ffmpy (setup.py): started\n",
      "  Building wheel for ffmpy (setup.py): finished with status 'done'\n",
      "  Created wheel for ffmpy: filename=ffmpy-0.3.2-py3-none-any.whl size=5624 sha256=864ddf4835baad3fbcc9e1ebbf2715ad9d32555045dad9f3f9029bc11569ff7d\n",
      "  Stored in directory: c:\\users\\madhu\\appdata\\local\\pip\\cache\\wheels\\55\\3c\\f2\\f6e34046bac0d57c13c7d08123b85872423b89c8f59bafda51\n",
      "Successfully built ffmpy\n",
      "Installing collected packages: pydub, ffmpy, websockets, toolz, tomlkit, semantic-version, ruff, rpds-py, python-multipart, orjson, importlib-resources, aiofiles, uvicorn, starlette, referencing, jsonschema-specifications, gradio-client, fastapi, jsonschema, altair, gradio\n",
      "Successfully installed aiofiles-23.2.1 altair-5.2.0 fastapi-0.109.2 ffmpy-0.3.2 gradio-4.18.0 gradio-client-0.10.0 importlib-resources-6.1.1 jsonschema-4.21.1 jsonschema-specifications-2023.12.1 orjson-3.9.13 pydub-0.25.1 python-multipart-0.0.9 referencing-0.33.0 rpds-py-0.17.1 ruff-0.2.1 semantic-version-2.10.0 starlette-0.36.3 tomlkit-0.12.0 toolz-0.12.1 uvicorn-0.27.1 websockets-11.0.3\n"
     ]
    },
    {
     "name": "stderr",
     "output_type": "stream",
     "text": [
      "\n",
      "[notice] A new release of pip is available: 23.3.2 -> 24.0\n",
      "[notice] To update, run: python.exe -m pip install --upgrade pip\n"
     ]
    }
   ],
   "source": [
    "!pip install transformers\n",
    "!pip install  --upgrade tensorflow //Install the upgraded version for compatiblity\n",
    "!pip install evaluate\n",
    "!pip install rouge_score\n",
    "!pip install gradio"
   ]
  },
  {
   "cell_type": "code",
   "execution_count": 8,
   "metadata": {},
   "outputs": [
    {
     "name": "stdout",
     "output_type": "stream",
     "text": [
      "Defaulting to user installation because normal site-packages is not writeable\n"
     ]
    },
    {
     "name": "stderr",
     "output_type": "stream",
     "text": [
      "ERROR: Invalid requirement: '#'\n",
      "\n",
      "[notice] A new release of pip is available: 23.3.2 -> 24.0\n",
      "[notice] To update, run: python.exe -m pip install --upgrade pip\n"
     ]
    },
    {
     "name": "stdout",
     "output_type": "stream",
     "text": [
      "Defaulting to user installation because normal site-packages is not writeable\n",
      "Collecting bert-score\n",
      "  Downloading bert_score-0.3.13-py3-none-any.whl (61 kB)\n",
      "     ---------------------------------------- 0.0/61.1 kB ? eta -:--:--\n",
      "     ------ --------------------------------- 10.2/61.1 kB ? eta -:--:--\n",
      "     ------------------------- ------------ 41.0/61.1 kB 281.8 kB/s eta 0:00:01\n",
      "     -------------------------------------- 61.1/61.1 kB 363.5 kB/s eta 0:00:00\n",
      "Requirement already satisfied: torch>=1.0.0 in c:\\users\\madhu\\appdata\\roaming\\python\\python311\\site-packages (from bert-score) (2.1.2)\n",
      "Requirement already satisfied: pandas>=1.0.1 in c:\\users\\madhu\\appdata\\roaming\\python\\python311\\site-packages (from bert-score) (2.1.4)\n",
      "Requirement already satisfied: transformers>=3.0.0 in c:\\users\\madhu\\appdata\\roaming\\python\\python311\\site-packages (from bert-score) (4.37.2)\n",
      "Requirement already satisfied: numpy in c:\\users\\madhu\\appdata\\roaming\\python\\python311\\site-packages (from bert-score) (1.26.0)\n",
      "Requirement already satisfied: requests in c:\\users\\madhu\\appdata\\roaming\\python\\python311\\site-packages (from bert-score) (2.31.0)\n",
      "Requirement already satisfied: tqdm>=4.31.1 in c:\\users\\madhu\\appdata\\roaming\\python\\python311\\site-packages (from bert-score) (4.66.1)\n",
      "Requirement already satisfied: matplotlib in c:\\users\\madhu\\appdata\\roaming\\python\\python311\\site-packages (from bert-score) (3.8.2)\n",
      "Requirement already satisfied: packaging>=20.9 in c:\\users\\madhu\\appdata\\roaming\\python\\python311\\site-packages (from bert-score) (23.2)\n",
      "Requirement already satisfied: python-dateutil>=2.8.2 in c:\\users\\madhu\\appdata\\roaming\\python\\python311\\site-packages (from pandas>=1.0.1->bert-score) (2.8.2)\n",
      "Requirement already satisfied: pytz>=2020.1 in c:\\users\\madhu\\appdata\\roaming\\python\\python311\\site-packages (from pandas>=1.0.1->bert-score) (2023.3.post1)\n",
      "Requirement already satisfied: tzdata>=2022.1 in c:\\users\\madhu\\appdata\\roaming\\python\\python311\\site-packages (from pandas>=1.0.1->bert-score) (2023.3)\n",
      "Requirement already satisfied: filelock in c:\\users\\madhu\\appdata\\roaming\\python\\python311\\site-packages (from torch>=1.0.0->bert-score) (3.13.1)\n",
      "Requirement already satisfied: typing-extensions in c:\\users\\madhu\\appdata\\roaming\\python\\python311\\site-packages (from torch>=1.0.0->bert-score) (4.9.0)\n",
      "Requirement already satisfied: sympy in c:\\users\\madhu\\appdata\\roaming\\python\\python311\\site-packages (from torch>=1.0.0->bert-score) (1.12)\n",
      "Requirement already satisfied: networkx in c:\\users\\madhu\\appdata\\roaming\\python\\python311\\site-packages (from torch>=1.0.0->bert-score) (3.1)\n",
      "Requirement already satisfied: jinja2 in c:\\users\\madhu\\appdata\\roaming\\python\\python311\\site-packages (from torch>=1.0.0->bert-score) (3.1.2)\n",
      "Requirement already satisfied: fsspec in c:\\users\\madhu\\appdata\\roaming\\python\\python311\\site-packages (from torch>=1.0.0->bert-score) (2023.9.2)\n",
      "Requirement already satisfied: colorama in c:\\users\\madhu\\appdata\\roaming\\python\\python311\\site-packages (from tqdm>=4.31.1->bert-score) (0.4.6)\n",
      "Requirement already satisfied: huggingface-hub<1.0,>=0.19.3 in c:\\users\\madhu\\appdata\\roaming\\python\\python311\\site-packages (from transformers>=3.0.0->bert-score) (0.20.2)\n",
      "Requirement already satisfied: pyyaml>=5.1 in c:\\users\\madhu\\appdata\\roaming\\python\\python311\\site-packages (from transformers>=3.0.0->bert-score) (6.0.1)\n",
      "Requirement already satisfied: regex!=2019.12.17 in c:\\users\\madhu\\appdata\\roaming\\python\\python311\\site-packages (from transformers>=3.0.0->bert-score) (2023.12.25)\n",
      "Requirement already satisfied: tokenizers<0.19,>=0.14 in c:\\users\\madhu\\appdata\\roaming\\python\\python311\\site-packages (from transformers>=3.0.0->bert-score) (0.15.1)\n",
      "Requirement already satisfied: safetensors>=0.4.1 in c:\\users\\madhu\\appdata\\roaming\\python\\python311\\site-packages (from transformers>=3.0.0->bert-score) (0.4.2)\n",
      "Requirement already satisfied: contourpy>=1.0.1 in c:\\users\\madhu\\appdata\\roaming\\python\\python311\\site-packages (from matplotlib->bert-score) (1.2.0)\n",
      "Requirement already satisfied: cycler>=0.10 in c:\\users\\madhu\\appdata\\roaming\\python\\python311\\site-packages (from matplotlib->bert-score) (0.12.1)\n",
      "Requirement already satisfied: fonttools>=4.22.0 in c:\\users\\madhu\\appdata\\roaming\\python\\python311\\site-packages (from matplotlib->bert-score) (4.47.0)\n",
      "Requirement already satisfied: kiwisolver>=1.3.1 in c:\\users\\madhu\\appdata\\roaming\\python\\python311\\site-packages (from matplotlib->bert-score) (1.4.5)\n",
      "Requirement already satisfied: pillow>=8 in c:\\users\\madhu\\appdata\\roaming\\python\\python311\\site-packages (from matplotlib->bert-score) (10.1.0)\n",
      "Requirement already satisfied: pyparsing>=2.3.1 in c:\\users\\madhu\\appdata\\roaming\\python\\python311\\site-packages (from matplotlib->bert-score) (3.1.1)\n",
      "Requirement already satisfied: charset-normalizer<4,>=2 in c:\\users\\madhu\\appdata\\roaming\\python\\python311\\site-packages (from requests->bert-score) (3.3.2)\n",
      "Requirement already satisfied: idna<4,>=2.5 in c:\\users\\madhu\\appdata\\roaming\\python\\python311\\site-packages (from requests->bert-score) (3.6)\n",
      "Requirement already satisfied: urllib3<3,>=1.21.1 in c:\\users\\madhu\\appdata\\roaming\\python\\python311\\site-packages (from requests->bert-score) (2.0.7)\n",
      "Requirement already satisfied: certifi>=2017.4.17 in c:\\users\\madhu\\appdata\\roaming\\python\\python311\\site-packages (from requests->bert-score) (2023.11.17)\n",
      "Requirement already satisfied: six>=1.5 in c:\\users\\madhu\\appdata\\roaming\\python\\python311\\site-packages (from python-dateutil>=2.8.2->pandas>=1.0.1->bert-score) (1.16.0)\n",
      "Requirement already satisfied: MarkupSafe>=2.0 in c:\\users\\madhu\\appdata\\roaming\\python\\python311\\site-packages (from jinja2->torch>=1.0.0->bert-score) (2.1.3)\n",
      "Requirement already satisfied: mpmath>=0.19 in c:\\users\\madhu\\appdata\\roaming\\python\\python311\\site-packages (from sympy->torch>=1.0.0->bert-score) (1.3.0)\n",
      "Installing collected packages: bert-score\n",
      "Successfully installed bert-score-0.3.13\n"
     ]
    },
    {
     "name": "stderr",
     "output_type": "stream",
     "text": [
      "\n",
      "[notice] A new release of pip is available: 23.3.2 -> 24.0\n",
      "[notice] To update, run: python.exe -m pip install --upgrade pip\n"
     ]
    }
   ],
   "source": [
    "!pip install transformers # If you are using collab, \"!\" is required to download\n",
    "!pip install bert-score"
   ]
  },
  {
   "cell_type": "code",
   "execution_count": 2,
   "metadata": {},
   "outputs": [
    {
     "name": "stderr",
     "output_type": "stream",
     "text": [
      "C:\\Users\\madhu\\AppData\\Roaming\\Python\\Python311\\site-packages\\tqdm\\auto.py:21: TqdmWarning: IProgress not found. Please update jupyter and ipywidgets. See https://ipywidgets.readthedocs.io/en/stable/user_install.html\n",
      "  from .autonotebook import tqdm as notebook_tqdm\n"
     ]
    },
    {
     "name": "stdout",
     "output_type": "stream",
     "text": [
      "WARNING:tensorflow:From C:\\Users\\madhu\\AppData\\Roaming\\Python\\Python311\\site-packages\\keras\\src\\losses.py:2976: The name tf.losses.sparse_softmax_cross_entropy is deprecated. Please use tf.compat.v1.losses.sparse_softmax_cross_entropy instead.\n",
      "\n"
     ]
    },
    {
     "name": "stderr",
     "output_type": "stream",
     "text": [
      "Downloading builder script: 100%|██████████| 6.27k/6.27k [00:00<00:00, 3.11MB/s]\n"
     ]
    }
   ],
   "source": [
    "#Evaluating the Summarization Model with ROUGE\n",
    "import evaluate\n",
    "\n",
    "rouge_evaluator = evaluate.load(\"rouge\")\n",
    "\n"
   ]
  },
  {
   "cell_type": "code",
   "execution_count": 7,
   "metadata": {},
   "outputs": [
    {
     "name": "stdout",
     "output_type": "stream",
     "text": [
      "\n",
      "Results for Row 1 : {'rouge1': 0.22295081967213115, 'rouge2': 0.026402640264026406, 'rougeL': 0.14426229508196722, 'rougeLsum': 0.14426229508196722}\n",
      "\n",
      "Results for Row 2 : {'rouge1': 0.5207100591715976, 'rouge2': 0.23952095808383234, 'rougeL': 0.37869822485207105, 'rougeLsum': 0.37869822485207105}\n",
      "\n",
      "Results for Row 3 : {'rouge1': 0.5121951219512195, 'rouge2': 0.22085889570552147, 'rougeL': 0.3780487804878048, 'rougeLsum': 0.38414634146341464}\n",
      "\n",
      "Results for Row 4 : {'rouge1': 0.4126984126984127, 'rouge2': 0.11764705882352941, 'rougeL': 0.30687830687830686, 'rougeLsum': 0.30687830687830686}\n"
     ]
    }
   ],
   "source": [
    "import pandas as pd\n",
    "import evaluate\n",
    "\n",
    "# Load ROUGE evaluator\n",
    "rouge_evaluator = evaluate.load(\"rouge\")\n",
    "\n",
    "# Read data from CSV\n",
    "data = pd.read_csv('ground_truth.csv')\n",
    "\n",
    "# Iterate over each row\n",
    "for index, row in data.iterrows():\n",
    "    summary = row['abstractive_summary']\n",
    "    ground_truth = row['ground_truth']\n",
    "    \n",
    "    # Evaluate using ROUGE\n",
    "    eval_results = rouge_evaluator.compute(predictions=[summary], references=[ground_truth])\n",
    "    \n",
    "    # Print evaluation results for each row\n",
    "    print(\"\\nResults for Row\", index+1, \":\", eval_results)\n"
   ]
  },
  {
   "cell_type": "markdown",
   "metadata": {},
   "source": [
    "https://haticeozbolat17.medium.com/text-summarization-how-to-calculate-bertscore-771a51022964"
   ]
  },
  {
   "cell_type": "code",
   "execution_count": 9,
   "metadata": {},
   "outputs": [
    {
     "name": "stderr",
     "output_type": "stream",
     "text": [
      "tokenizer_config.json: 100%|██████████| 28.0/28.0 [00:00<?, ?B/s]\n",
      "C:\\Users\\madhu\\AppData\\Roaming\\Python\\Python311\\site-packages\\huggingface_hub\\file_download.py:149: UserWarning: `huggingface_hub` cache-system uses symlinks by default to efficiently store duplicated files but your machine does not support them in C:\\Users\\madhu\\.cache\\huggingface\\hub\\models--bert-base-uncased. Caching files will still work but in a degraded version that might require more space on your disk. This warning can be disabled by setting the `HF_HUB_DISABLE_SYMLINKS_WARNING` environment variable. For more details, see https://huggingface.co/docs/huggingface_hub/how-to-cache#limitations.\n",
      "To support symlinks on Windows, you either need to activate Developer Mode or to run Python as an administrator. In order to see activate developer mode, see this article: https://docs.microsoft.com/en-us/windows/apps/get-started/enable-your-device-for-development\n",
      "  warnings.warn(message)\n",
      "config.json: 100%|██████████| 570/570 [00:00<?, ?B/s] \n",
      "vocab.txt: 100%|██████████| 232k/232k [00:00<00:00, 2.76MB/s]\n",
      "tokenizer.json: 100%|██████████| 466k/466k [00:00<00:00, 3.56MB/s]\n",
      "model.safetensors: 100%|██████████| 440M/440M [00:08<00:00, 50.0MB/s] \n"
     ]
    },
    {
     "name": "stdout",
     "output_type": "stream",
     "text": [
      "BERTScore Precision: 0.5840, Recall: 0.5869, F1: 0.5854\n",
      "BERTScore Precision: 0.7197, Recall: 0.6982, F1: 0.7088\n",
      "BERTScore Precision: 0.6973, Recall: 0.7240, F1: 0.7104\n",
      "BERTScore Precision: 0.7157, Recall: 0.7052, F1: 0.7104\n"
     ]
    }
   ],
   "source": [
    "from transformers import BertTokenizer, BertForMaskedLM, BertModel\n",
    "from bert_score import BERTScorer\n",
    "\n",
    "for index, row in data.iterrows():\n",
    "    summary = row['abstractive_summary']\n",
    "    ground_truth = row['ground_truth']\n",
    "    scorer = BERTScorer(model_type='bert-base-uncased')\n",
    "    P, R, F1 = scorer.score([summary], [ground_truth])\n",
    "    print(f\"BERTScore Precision: {P.mean():.4f}, Recall: {R.mean():.4f}, F1: {F1.mean():.4f}\")"
   ]
  },
  {
   "cell_type": "code",
   "execution_count": 10,
   "metadata": {},
   "outputs": [
    {
     "name": "stdout",
     "output_type": "stream",
     "text": [
      "Similarity between the texts: 0.8641\n",
      "Similarity between the texts: 0.8981\n",
      "Similarity between the texts: 0.9114\n",
      "Similarity between the texts: 0.9049\n"
     ]
    }
   ],
   "source": [
    "import torch\n",
    "import numpy as np\n",
    "for index, row in data.iterrows():\n",
    "    # Step 2: Load the pre-trained BERT model and tokenizer\n",
    "    tokenizer = BertTokenizer.from_pretrained(\"bert-base-uncased\")\n",
    "    model = BertModel.from_pretrained(\"bert-base-uncased\")\n",
    "\n",
    "# Step 3: Define the two texts to compare\n",
    "    summary = row['abstractive_summary']\n",
    "    ground_truth = row['ground_truth']\n",
    "\n",
    "# Step 4: Prepare the texts for BERT\n",
    "    inputs1 = tokenizer(summary, return_tensors=\"pt\", padding=True, truncation=True)\n",
    "    inputs2 = tokenizer(ground_truth, return_tensors=\"pt\", padding=True, truncation=True)\n",
    "\n",
    "# Step 5: Feed the texts to the BERT model\n",
    "    outputs1 = model(**inputs1)\n",
    "    outputs2 = model(**inputs2)\n",
    "\n",
    "# Step 6: Obtain the representation vectors\n",
    "    embeddings1 = outputs1.last_hidden_state.mean(dim=1).detach().numpy()\n",
    "    embeddings2 = outputs2.last_hidden_state.mean(dim=1).detach().numpy()\n",
    "\n",
    "# Step 7: Calculate cosine similarity\n",
    "    similarity = np.dot(embeddings1, embeddings2.T) / (np.linalg.norm(embeddings1) * np.linalg.norm(embeddings2))\n",
    "\n",
    "# Step 8: Print the result\n",
    "    print(\"Similarity between the texts: {:.4f}\".format(similarity[0][0]))\n"
   ]
  },
  {
   "cell_type": "code",
   "execution_count": null,
   "metadata": {},
   "outputs": [],
   "source": []
  }
 ],
 "metadata": {
  "kernelspec": {
   "display_name": "Python 3",
   "language": "python",
   "name": "python3"
  },
  "language_info": {
   "codemirror_mode": {
    "name": "ipython",
    "version": 3
   },
   "file_extension": ".py",
   "mimetype": "text/x-python",
   "name": "python",
   "nbconvert_exporter": "python",
   "pygments_lexer": "ipython3",
   "version": "3.11.7"
  }
 },
 "nbformat": 4,
 "nbformat_minor": 2
}

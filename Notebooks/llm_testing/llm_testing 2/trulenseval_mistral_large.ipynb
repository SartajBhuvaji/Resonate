{
 "cells": [
  {
   "cell_type": "markdown",
   "metadata": {},
   "source": [
    "Mistral AI LLM evaluation- Model is mistral-large-latest aka mistral-large-2402"
   ]
  },
  {
   "cell_type": "code",
   "execution_count": 1,
   "metadata": {},
   "outputs": [
    {
     "name": "stderr",
     "output_type": "stream",
     "text": [
      "Package protobuf is installed but has a version conflict:\n",
      "\t(protobuf 4.21.12 (/opt/homebrew/lib/python3.11/site-packages), Requirement.parse('protobuf>=4.23.2'))\n",
      "\n",
      "This package is optional for trulens_eval so this may not be a problem but if\n",
      "you need to use the related optional features and find there are errors, you\n",
      "will need to resolve the conflict:\n",
      "\n",
      "    ```bash\n",
      "    pip install 'protobuf>=4.23.2'\n",
      "    ```\n",
      "\n",
      "If you are running trulens_eval in a notebook, you may need to restart the\n",
      "kernel after resolving the conflict. If your distribution is in a bad place\n",
      "beyond this package, you may need to reinstall trulens_eval so that all of the\n",
      "dependencies get installed and hopefully corrected:\n",
      "    \n",
      "    ```bash\n",
      "    pip uninstall -y trulens_eval\n",
      "    pip install trulens_eval\n",
      "    ```\n",
      "\n",
      "Package scikit-learn is installed but has a version conflict:\n",
      "\t(scikit-learn 1.3.0 (/opt/homebrew/lib/python3.11/site-packages), Requirement.parse('scikit-learn>=1.3.1'))\n",
      "\n",
      "This package is optional for trulens_eval so this may not be a problem but if\n",
      "you need to use the related optional features and find there are errors, you\n",
      "will need to resolve the conflict:\n",
      "\n",
      "    ```bash\n",
      "    pip install 'scikit-learn>=1.3.1'\n",
      "    ```\n",
      "\n",
      "If you are running trulens_eval in a notebook, you may need to restart the\n",
      "kernel after resolving the conflict. If your distribution is in a bad place\n",
      "beyond this package, you may need to reinstall trulens_eval so that all of the\n",
      "dependencies get installed and hopefully corrected:\n",
      "    \n",
      "    ```bash\n",
      "    pip uninstall -y trulens_eval\n",
      "    pip install trulens_eval\n",
      "    ```\n",
      "\n",
      "Package evaluate is installed but has a version conflict:\n",
      "\t(evaluate 0.3.0 (/opt/homebrew/lib/python3.11/site-packages), Requirement.parse('evaluate>=0.4.0'))\n",
      "\n",
      "This package is optional for trulens_eval so this may not be a problem but if\n",
      "you need to use the related optional features and find there are errors, you\n",
      "will need to resolve the conflict:\n",
      "\n",
      "    ```bash\n",
      "    pip install 'evaluate>=0.4.0'\n",
      "    ```\n",
      "\n",
      "If you are running trulens_eval in a notebook, you may need to restart the\n",
      "kernel after resolving the conflict. If your distribution is in a bad place\n",
      "beyond this package, you may need to reinstall trulens_eval so that all of the\n",
      "dependencies get installed and hopefully corrected:\n",
      "    \n",
      "    ```bash\n",
      "    pip uninstall -y trulens_eval\n",
      "    pip install trulens_eval\n",
      "    ```\n",
      "\n",
      "Using legacy llama_index version None. Consider upgrading to 0.10.0 or later.\n"
     ]
    },
    {
     "name": "stdout",
     "output_type": "stream",
     "text": [
      "🦑 Tru initialized with db url sqlite:///default.sqlite .\n",
      "🛑 Secret keys may be written to the database. See the `database_redact_keys` option of Tru` to prevent this.\n"
     ]
    }
   ],
   "source": [
    "from trulens_eval import TruChain, Feedback, Tru, feedback, Select\n",
    "from trulens_eval.tru_custom_app import instrument\n",
    "tru = Tru()\n",
    "import dotenv\n",
    "dotenv.load_dotenv()\n",
    "from pinecone_code import PineconeServerless\n",
    "from mistralai.client import MistralClient\n",
    "from mistralai.models.chat_completion import ChatMessage\n",
    "import os\n",
    "from trulens_eval import Feedback, Select\n",
    "from trulens_eval.feedback import Groundedness\n",
    "from trulens_eval.feedback.provider.openai import OpenAI as fOpenAI\n",
    "import numpy as np\n",
    "import pandas as pd\n",
    "from sklearn.feature_extraction.text import CountVectorizer\n",
    "from sklearn.metrics.pairwise import cosine_similarity\n"
   ]
  },
  {
   "cell_type": "code",
   "execution_count": 3,
   "metadata": {},
   "outputs": [],
   "source": [
    "prompt  = \"You are a friendly chat model. You will respond to the user's message using only the context provided. The context can be anything from a single message to a whole conversation. You can also ask questions to the user.\""
   ]
  },
  {
   "cell_type": "code",
   "execution_count": 4,
   "metadata": {},
   "outputs": [],
   "source": [
    "\n",
    "\n",
    "\n",
    "def parse_conversations(conversations) -> str:\n",
    "    data = []\n",
    "    for cluster_id, cluster_df in conversations.items():\n",
    "        for i, row in cluster_df.iterrows():\n",
    "            data.append(\n",
    "                f\"{row['start_time']} - {row['speaker']}: {row['text']}\"\n",
    "            )\n",
    "        data.append(\"\\n\\n\")\n",
    "    data = \"\\n\".join(data)\n",
    "    return data"
   ]
  },
  {
   "cell_type": "code",
   "execution_count": 5,
   "metadata": {},
   "outputs": [],
   "source": [
    "class RAG_from_scratch:\n",
    "    @instrument\n",
    "    def retrieve(self, query: str, in_filter: list) -> list:\n",
    "        \"\"\"\n",
    "        Retrieve relevant text from vector store.\n",
    "        \"\"\"\n",
    "        obj1 = PineconeServerless()\n",
    "        response1 = obj1.query_pinecone(query, in_filter)\n",
    "        conversation1_df = obj1.query_delta_conversations()\n",
    "        #text_list = list(conversation1_df)\n",
    "        context = parse_conversations(conversation1_df)\n",
    "        return context\n",
    "    \n",
    "    @instrument\n",
    "    def generate_completion(self, query: str, context_str) -> str:\n",
    "        \"\"\"\n",
    "        Generate answer from context.\n",
    "        \"\"\"\n",
    "        api_key = os.environ[\"MISTRAL_API_KEY\"]\n",
    "        model = \"mistral-large-latest\"\n",
    "        client = MistralClient(api_key=api_key)\n",
    "\n",
    "        messages = [\n",
    "            ChatMessage(role=\"user\", content=f\"We have provided context information below. \\n\"\n",
    "                f\"---------------------\\n\"\n",
    "                f\"{context_str}\"\n",
    "                f\"\\n---------------------\\n\"\n",
    "                f\"Given this information, please answer the question: {query}\"\n",
    "            )\n",
    "            ]\n",
    "\n",
    "        # No streaming\n",
    "        completion = client.chat(\n",
    "            model=model,\n",
    "            messages=messages,\n",
    "        ).choices[0].message.content\n",
    "        print(completion)\n",
    "        return completion  \n",
    "\n",
    "    @instrument\n",
    "    def query(self, query: str, in_filter:list) -> str:\n",
    "        context_str = self.retrieve(query, in_filter)\n",
    "        print(\"CONTEXT \",context_str)\n",
    "        completion = self.generate_completion(query, context_str)\n",
    "        return completion,context_str\n",
    "\n",
    "rag = RAG_from_scratch()"
   ]
  },
  {
   "cell_type": "markdown",
   "metadata": {},
   "source": []
  },
  {
   "cell_type": "code",
   "execution_count": 6,
   "metadata": {},
   "outputs": [
    {
     "name": "stdout",
     "output_type": "stream",
     "text": [
      "✅ In Groundedness, input source will be set to __record__.app.retrieve.rets.collect() .\n",
      "✅ In Groundedness, input statement will be set to __record__.main_output or `Select.RecordOutput` .\n",
      "✅ In Answer Relevance, input prompt will be set to __record__.app.retrieve.args.query .\n",
      "✅ In Answer Relevance, input response will be set to __record__.main_output or `Select.RecordOutput` .\n",
      "✅ In Context Relevance, input question will be set to __record__.app.retrieve.args.query .\n",
      "✅ In Context Relevance, input statement will be set to __record__.app.retrieve.rets.collect() .\n"
     ]
    }
   ],
   "source": [
    "\n",
    "# Initialize provider class\n",
    "fopenai = fOpenAI()\n",
    "\n",
    "grounded = Groundedness(groundedness_provider=fopenai)\n",
    "\n",
    "# Define a groundedness feedback function\n",
    "f_groundedness = (\n",
    "    Feedback(grounded.groundedness_measure_with_cot_reasons, name = \"Groundedness\")\n",
    "    .on(Select.RecordCalls.retrieve.rets.collect())\n",
    "    .on_output()\n",
    "    .aggregate(grounded.grounded_statements_aggregator)\n",
    ")\n",
    "\n",
    "# Question/answer relevance between overall question and answer.\n",
    "f_qa_relevance = (\n",
    "    Feedback(fopenai.relevance_with_cot_reasons, name = \"Answer Relevance\")\n",
    "    .on(Select.RecordCalls.retrieve.args.query)\n",
    "    .on_output()\n",
    ")\n",
    "\n",
    "# Question/statement relevance between question and each context chunk.\n",
    "f_context_relevance = (\n",
    "    Feedback(fopenai.qs_relevance_with_cot_reasons, name = \"Context Relevance\")\n",
    "    .on(Select.RecordCalls.retrieve.args.query)\n",
    "    .on(Select.RecordCalls.retrieve.rets.collect())\n",
    "    .aggregate(np.mean)\n",
    ")"
   ]
  },
  {
   "cell_type": "code",
   "execution_count": 7,
   "metadata": {},
   "outputs": [],
   "source": [
    "from trulens_eval import TruCustomApp\n",
    "tru_rag = TruCustomApp(rag,\n",
    "    app_id = 'RAG mistral',\n",
    "    feedbacks = [f_groundedness, f_qa_relevance, f_context_relevance])"
   ]
  },
  {
   "cell_type": "code",
   "execution_count": 8,
   "metadata": {},
   "outputs": [],
   "source": [
    "# if testing with clustering \n",
    "#in_filter = ['a4454589-6c49-4d8d-a6f6-c2b5c99ef229', '7c3c7ac7-94ee-4045-b94a-e9b1695c5b7e']\n",
    "in_filter = []  #if not using clustering"
   ]
  },
  {
   "cell_type": "code",
   "execution_count": 9,
   "metadata": {},
   "outputs": [],
   "source": [
    "\n",
    "import pandas as pd \n",
    "questions= pd.read_csv(\"Questions_old.csv\")\n",
    "queries = questions['Question']\n",
    "\n",
    "ground_truths = questions['Groundtruth']\n",
    "qna = []"
   ]
  },
  {
   "cell_type": "code",
   "execution_count": 10,
   "metadata": {},
   "outputs": [],
   "source": [
    "queries=queries.to_list()\n",
    "ground_truths=ground_truths.to_list()"
   ]
  },
  {
   "cell_type": "code",
   "execution_count": null,
   "metadata": {},
   "outputs": [
    {
     "name": "stdout",
     "output_type": "stream",
     "text": [
      "last_conversation_no fetched from master json:  20207\n",
      "conversation length:  3\n",
      "LENGTH delta_conversation_df:  15\n",
      "CONTEXT  00:15:35 - spk_6: social media has changed your\n",
      "00:15:36 - spk_0: life 100%? I dont think I would be the person I am if it wasnt for social media. I first came out on Tik Tok and my parents didnt even know thats how they found out. Actually,\n",
      "00:15:47 - spk_6: Children under the age of 13 should not be allowed on social media.\n",
      "00:15:58 - spk_5: Well, um its kind of funny because I talked to a lot of organizations with log off. And the main point that they try to get across is that theyre trying to advocate for kids to get cell phones and technology and social media at an older age. Um, and, you know, years ago I would have said thats really stupid. Thats like the drug talk, like, dont do drugs, dont be on social media. Im not gonna listen to that. But then after years of kind of self reflection, I wish someone would have said you dont need Instagram to have a social  life\n",
      " if I go back to like my 13 year old self and like,\n",
      "00:16:25 - spk_2: I didnt have all the experiences I had and I just kind of knew like, oh, its a good place I would be posting God knows what right. Kids are dumb and if you give kids a platform to do whatever they want, theyre gonna be dumb.\n",
      "00:16:51 - spk_4: You know, I just feel like its almost, its just unrealistic when I was 13, I was fully on social media making videos every single day. So I just feel like if anything, it helped me more when I was 13, like it really allowed me to just know what things were and not be so what is going on.  Like, you know, not knowing a lot of things\n",
      " because like, I was on social media,\n",
      "00:17:07 - spk_0: like 11 years old, like I was a child and on social media and my, my dad told me he was like, you know, but youre also trans and youre also like LGBT, you know, you need to be able to meet people because your bubble that you would know of trans people would be zero.\n",
      "00:17:21 - spk_1: Heres the thing we, we, I think were underestimating Children. Theyre relentless. We put an age limit on Instagram or an age limit on like um an adult type website. Theyre still gonna get through.\n",
      "00:17:30 - spk_3: I didnt have social media. I was probably like the last couple of people out of my like friends because my mom knew the restrictions and how the things that are on the internet is. You cant control what other people are posting and you cant control what your kids are seeing. But I believe that like other kids mature at different ages and we cant really rest like restrict certain people from going on this platform when its public.\n",
      "00:17:51 - spk_5: Its difficult because I, I do think what you said is true where if I was 13 and someone said you have to be 13 to get on this app or you or like you have to be older, I would have lied about my, my age and I know there are millions of kids like that that are like, he, he, he break the system and be, like, put in a different age.  See,\n",
      " thats the thing with any problem.\n",
      "00:18:11 - spk_1: You cant just take the problem and move it over here. Its all about the education. It should be a class, like how sex ed is,  there should be like tech ed, like\n",
      " computer lab days exist.\n",
      "\n",
      "\n",
      "\n",
      "The common recommendation is that children under the age of 13 should not be allowed on social media platforms. However, some people argue that social media can have positive effects for children, especially in terms of helping them connect with others and learn about the world. Ultimately, the decision about when a child is ready for social media depends on their maturity level and ability to use technology responsibly. Education about online safety and appropriate use of technology can also be helpful in preparing children for social media use at an older age.\n"
     ]
    },
    {
     "name": "stderr",
     "output_type": "stream",
     "text": [
      "2024-03-10 10:57:40,398 ERROR trulens_eval.feedback.provider.endpoint.base: openai request failed <class 'openai.AuthenticationError'>=Error code: 401 - {'error': {'message': 'Incorrect API key provided: \"sk-t9Bc************************************************rtaj. You can find your API key at https://platform.openai.com/account/api-keys.', 'type': 'invalid_request_error', 'param': None, 'code': 'invalid_api_key'}}. Retries remaining=3.\n",
      "2024-03-10 10:57:40,479 ERROR trulens_eval.feedback.provider.endpoint.base: openai request failed <class 'openai.AuthenticationError'>=Error code: 401 - {'error': {'message': 'Incorrect API key provided: \"sk-t9Bc************************************************rtaj. You can find your API key at https://platform.openai.com/account/api-keys.', 'type': 'invalid_request_error', 'param': None, 'code': 'invalid_api_key'}}. Retries remaining=3.\n",
      "2024-03-10 10:57:40,508 ERROR trulens_eval.feedback.provider.endpoint.base: openai request failed <class 'openai.AuthenticationError'>=Error code: 401 - {'error': {'message': 'Incorrect API key provided: \"sk-t9Bc************************************************rtaj. You can find your API key at https://platform.openai.com/account/api-keys.', 'type': 'invalid_request_error', 'param': None, 'code': 'invalid_api_key'}}. Retries remaining=3.\n"
     ]
    },
    {
     "name": "stdout",
     "output_type": "stream",
     "text": [
      "The common recommendation is that children under the age of 13 should not be allowed on social media platforms. However, some people argue that social media can have positive effects for children, especially in terms of helping them connect with others and learn about the world. Ultimately, the decision about when a child is ready for social media depends on their maturity level and ability to use technology responsibly. Education about online safety and appropriate use of technology can also be helpful in preparing children for social media use at an older age.\n",
      "last_conversation_no fetched from master json:  20207\n",
      "conversation length:  3\n",
      "LENGTH delta_conversation_df:  15\n",
      "CONTEXT  00:09:05 - spk_0: Even if youre not on social media, you know, its gonna do that anyway. Like if youre searching anything on, like if youre searching something up on safari and you go onto your computer onto Chrome, the ads will probably be the same, you know, its just,  its just technology,\n",
      " you know.\n",
      "00:09:17 - spk_1: Um I sat down here saying that social media makes people antisocial. But hearing Alexa and Alex speak, it makes me remember that um social media isnt just, you know, the whole tiktok scene. Its also schools, theres clubs and stuff. Um Ive made a couple of new friends from social media because um they live in Ventura, I live in San Diego. So I dont think its necessarily just the whole big fame thing. Theres also the smaller group. Yeah. I, Id like to say social media changed my life. Im uh more confident. I actually think about what I wear. I used to just roll out bed, grab whats near. I do see how social media can be bad, but I, I like to think of it in a positive light.\n",
      "00:09:55 - spk_6: I have been bullied on social media.\n",
      "00:10:01 - spk_4: Mhm I know you guys remember like those musically days, I feel like that was my biggest bullying because its like when you, its just like entering a whole different society, its just like when youre going out, youre making videos, you dont really know what you wanna post or what you wanna do or what you wanna look like. So it is gonna be cringy at first and its not gonna be great.  Musically\n",
      " was definitely a dark time.\n",
      "00:10:22 - spk_0: Um More recently, I did have a hate account on Instagram. They um like told me to kill myself and told me that like, because I was upset about my pet dying that I should kill myself. And that I like, was ugly and I looked like a clown and, yeah, I really, really, really let it get to me for a long time. But then I realized, you know, like, theyre only making fun of me because Im giving them attention about it. So I just had to, like, block them from all my accounts and block all the people they were following and block all the people that were following them and then I just had to stop looking. And if I dont look at it,  then I dont know what theyre saying.\n",
      " Right. And thats the thing.\n",
      "00:10:56 - spk_4: Its just like, once you stop looking into it, its, you just stop beating the fire and it will die eventually because  you just dont even pay it. No mind.\n",
      " I dont have a big following.\n",
      "00:11:04 - spk_3: So its mostly, mostly people I know usually its Tik Toks and its not with my name in it, but you can tell that its implied towards me and I try not to comment but like, theres some points where theyre coming out and saying like, completely false things about me posting and hating on someone through the internet is completely different from in person because its there forever. You dont have control over that because its up to them to delete it.\n",
      "00:11:27 - spk_5: So I have had rude comments been made about me, but Ive never been like, heavily cyberbullied because I dont really have a big following and because of the community that Im in, Ive just read hundreds of stories about kids who, like, felt like they wanted to kill themselves because of the rude comments they were getting. And I just remember like, there were nights when I,  I would cry and Id be so upset because I couldnt really do anything about\n",
      " it.\n",
      "00:11:50 - spk_2: My cyberbullying experience the first, like, big one I was in like this like dance team, right? And I was the shortest kid, the fattest kid and like one of like three Asians. So I clearly stuck out no matter what I did. And you know, like after practice, like all the girls would like do that like 2014 like ass out like like the duck face thing pose one day, like one of them like invited me to take the photo with them and I thought like this was the only way you could pose on Instagram. So like I did it and then they took the photo and they were all like laughing and they started uploading it. I didnt know why over like the next 2.5, 3 years, they would continuously like bring me into the photo. Like I would never just go up, theyd always ask me, hey, do you wanna be in the photo? Do you wanna be in the photo? So I felt like I was being included. But when I like got a phone and when I got on Instagram and when I started following like my fellow dance team members, I would look at their Instagrams and like from the beginning its photos of me. Theyll zoom in on me and theyll be like, look at that fat thing, that monster like, is it trying to pose? Like what is like, what does that thing think it is? Like, do they think theyre cute? I wasnt like elementary school. Like, I dont know how to deal with myself. Like I barely know how to open a peanut butter jar and you expect me to know how to deal with people calling me it and like a monster. You know what I mean?\n",
      "00:13:01 - spk_6:  Social media can cause young people to hurt\n",
      " themselves.\n",
      "00:13:10 - spk_5: Instagram, tiktok. Everything is the highlight reel. My Instagram, Im not gonna post the ugliest picture of me when I scroll to my friends, I in the back of my head, I should know that that, thats the same for them yet. Im like, they look so pretty. Why do I not look like that? And I think for younger generations its really scary  that theyre gonna have to deal with\n",
      " this.\n",
      "\n",
      "\n",
      "\n"
     ]
    },
    {
     "name": "stderr",
     "output_type": "stream",
     "text": [
      "2024-03-10 10:57:42,493 ERROR trulens_eval.feedback.provider.endpoint.base: openai request failed <class 'openai.AuthenticationError'>=Error code: 401 - {'error': {'message': 'Incorrect API key provided: \"sk-t9Bc************************************************rtaj. You can find your API key at https://platform.openai.com/account/api-keys.', 'type': 'invalid_request_error', 'param': None, 'code': 'invalid_api_key'}}. Retries remaining=2.\n",
      "2024-03-10 10:57:42,570 ERROR trulens_eval.feedback.provider.endpoint.base: openai request failed <class 'openai.AuthenticationError'>=Error code: 401 - {'error': {'message': 'Incorrect API key provided: \"sk-t9Bc************************************************rtaj. You can find your API key at https://platform.openai.com/account/api-keys.', 'type': 'invalid_request_error', 'param': None, 'code': 'invalid_api_key'}}. Retries remaining=2.\n",
      "2024-03-10 10:57:42,615 ERROR trulens_eval.feedback.provider.endpoint.base: openai request failed <class 'openai.AuthenticationError'>=Error code: 401 - {'error': {'message': 'Incorrect API key provided: \"sk-t9Bc************************************************rtaj. You can find your API key at https://platform.openai.com/account/api-keys.', 'type': 'invalid_request_error', 'param': None, 'code': 'invalid_api_key'}}. Retries remaining=2.\n"
     ]
    },
    {
     "name": "stdout",
     "output_type": "stream",
     "text": [
      "Several speakers in the conversation shared their experiences with cyberbullying on social media platforms such as Instagram, TikTok, and Musically. They talked about how it can be emotionally distressing and harmful, leading some to feel low self-esteem and even consider suicide. Speakers mentioned that cyberbullying can be particularly challenging because once the harmful comments are posted, they can be seen by a large audience and are permanent. Some speakers noted that they tried to ignore the bullying by not looking at it or blocking the bullies, but it was not always easy to do so. Others mentioned that they had been bullied for their appearance, weight, or race. Overall, the conversation highlighted the negative impacts of cyberbullying on young people and the need to deal with it in a healthy and supportive way.\n",
      "Several speakers in the conversation shared their experiences with cyberbullying on social media platforms such as Instagram, TikTok, and Musically. They talked about how it can be emotionally distressing and harmful, leading some to feel low self-esteem and even consider suicide. Speakers mentioned that cyberbullying can be particularly challenging because once the harmful comments are posted, they can be seen by a large audience and are permanent. Some speakers noted that they tried to ignore the bullying by not looking at it or blocking the bullies, but it was not always easy to do so. Others mentioned that they had been bullied for their appearance, weight, or race. Overall, the conversation highlighted the negative impacts of cyberbullying on young people and the need to deal with it in a healthy and supportive way.\n"
     ]
    },
    {
     "name": "stderr",
     "output_type": "stream",
     "text": [
      "2024-03-10 10:57:43,909 ERROR trulens_eval.feedback.provider.endpoint.base: openai request failed <class 'openai.AuthenticationError'>=Error code: 401 - {'error': {'message': 'Incorrect API key provided: \"sk-t9Bc************************************************rtaj. You can find your API key at https://platform.openai.com/account/api-keys.', 'type': 'invalid_request_error', 'param': None, 'code': 'invalid_api_key'}}. Retries remaining=3.\n",
      "2024-03-10 10:57:43,942 ERROR trulens_eval.feedback.provider.endpoint.base: openai request failed <class 'openai.AuthenticationError'>=Error code: 401 - {'error': {'message': 'Incorrect API key provided: \"sk-t9Bc************************************************rtaj. You can find your API key at https://platform.openai.com/account/api-keys.', 'type': 'invalid_request_error', 'param': None, 'code': 'invalid_api_key'}}. Retries remaining=3.\n",
      "2024-03-10 10:57:44,005 ERROR trulens_eval.feedback.provider.endpoint.base: openai request failed <class 'openai.AuthenticationError'>=Error code: 401 - {'error': {'message': 'Incorrect API key provided: \"sk-t9Bc************************************************rtaj. You can find your API key at https://platform.openai.com/account/api-keys.', 'type': 'invalid_request_error', 'param': None, 'code': 'invalid_api_key'}}. Retries remaining=3.\n"
     ]
    },
    {
     "name": "stdout",
     "output_type": "stream",
     "text": [
      "last_conversation_no fetched from master json:  20207\n",
      "conversation length:  3\n",
      "LENGTH delta_conversation_df:  15\n",
      "CONTEXT  00:11:27 - spk_5: So I have had rude comments been made about me, but Ive never been like, heavily cyberbullied because I dont really have a big following and because of the community that Im in, Ive just read hundreds of stories about kids who, like, felt like they wanted to kill themselves because of the rude comments they were getting. And I just remember like, there were nights when I,  I would cry and Id be so upset because I couldnt really do anything about\n",
      " it.\n",
      "00:11:50 - spk_2: My cyberbullying experience the first, like, big one I was in like this like dance team, right? And I was the shortest kid, the fattest kid and like one of like three Asians. So I clearly stuck out no matter what I did. And you know, like after practice, like all the girls would like do that like 2014 like ass out like like the duck face thing pose one day, like one of them like invited me to take the photo with them and I thought like this was the only way you could pose on Instagram. So like I did it and then they took the photo and they were all like laughing and they started uploading it. I didnt know why over like the next 2.5, 3 years, they would continuously like bring me into the photo. Like I would never just go up, theyd always ask me, hey, do you wanna be in the photo? Do you wanna be in the photo? So I felt like I was being included. But when I like got a phone and when I got on Instagram and when I started following like my fellow dance team members, I would look at their Instagrams and like from the beginning its photos of me. Theyll zoom in on me and theyll be like, look at that fat thing, that monster like, is it trying to pose? Like what is like, what does that thing think it is? Like, do they think theyre cute? I wasnt like elementary school. Like, I dont know how to deal with myself. Like I barely know how to open a peanut butter jar and you expect me to know how to deal with people calling me it and like a monster. You know what I mean?\n",
      "00:13:01 - spk_6:  Social media can cause young people to hurt\n",
      " themselves.\n",
      "00:13:10 - spk_5: Instagram, tiktok. Everything is the highlight reel. My Instagram, Im not gonna post the ugliest picture of me when I scroll to my friends, I in the back of my head, I should know that that, thats the same for them yet. Im like, they look so pretty. Why do I not look like that? And I think for younger generations its really scary  that theyre gonna have to deal with\n",
      " this.\n",
      "00:13:28 - spk_2: I have this one photo thats so vivid in my memory and like Im at like an aquarium and Im leaning against like one of the fish tanks and my dad and my dad and my brother are next to me and Im like half my brothers height, my face sagging my body like my clothes dont fit on me. And Im like, at that time I didnt realize how depressed I was and how, how much these, like, these, like, dance photos were ruining me. Thats kind of when I knew like, social media is not something I like, Im not safe here, you know, and so an excuse I can make for not pleasing people online is that I dont use it and then Ill be ok.\n",
      "00:18:25 - spk_2: when you practice typing, like, instead of just practicing typing, practice how to not be an idiot online and, like, how to, like, learn and understand, like, the harm of it because, like, if I had that education, I know that, like, I would have, like, at least braced myself for it once COVID kinda hit I realized like, I need social media or else I cant, like, find anyone. I know some people that kind of think, like, when I say that I dont use social media a lot, theyre like, oh, do you think youre cooler than us because you dont need, like, social media validation? But its more like Im afraid of if I search for that validation that Im not gonna get it.\n",
      "00:19:02 - spk_6: Social media more than my school heart.\n",
      "00:19:10 - spk_3: Yes. I know all schools they dont talk about some deep topics that social media brings to light and it teaches you and it teaches you how to get through it and how to do it without talking to your family if you are uncomfortable and without talking to the school because sometimes schools dont have that education in place.  My\n",
      " teacher told everyone\n",
      "00:19:29 - spk_0: that Rupauls drag race was a good example of trans people. Of course, like I got in trouble for like, correcting him or whatever, but it was like, I could not let him spread fake information like that. Those are not trans people, those are drag queens. And that is a totally different topic. Im very far in my transition for 16 and it social media definitely helped me a lot.\n",
      "00:19:51 - spk_1: And then the fact that you even got in trouble for that shows that school is that like, you know, theyre lacking,  you\n",
      " know, personal experience is how you learn the most, you know,\n",
      "00:19:58 - spk_4: you go on social media and theres someone talking about this eating disorder, this depression that they went to. Its just someone actually talking to a camera giving you real advice that a school really can never do.\n",
      "00:20:10 - spk_5: I wanna preface it with. I am kind of like, Im very lucky. Um The school that I go to Altamont is like a private school in Alabama and theyre very, very good with kind of integrating these conversations into the academic dialogue. I, I totally agree with everything yall have said. Ive learned how to Rainbow Loom and Ive done a bunch of different things on social media but Ive also looked up like election and theres been misinformation after misinformation and with COVID. So for yall that answered, how do you, how you kind of outweigh like the chance to learn a bunch of new things, but also the chance of seeing a lot of stuff that isnt necessarily true.  I\n",
      " think you just have to look for credible websites.\n",
      "00:20:44 - spk_4: I mean, its just like when youre doing an essay, you wouldnt believe. I, I just feel like blogs, any of that kind of stuff. It is easy to get a lot of misinformation, but its also easy to see that this information is fake.  Like, but\n",
      " what about like a young kid that cant really discern that?\n",
      "\n",
      "\n",
      "\n"
     ]
    },
    {
     "name": "stderr",
     "output_type": "stream",
     "text": [
      "2024-03-10 10:57:46,030 ERROR trulens_eval.feedback.provider.endpoint.base: openai request failed <class 'openai.AuthenticationError'>=Error code: 401 - {'error': {'message': 'Incorrect API key provided: \"sk-t9Bc************************************************rtaj. You can find your API key at https://platform.openai.com/account/api-keys.', 'type': 'invalid_request_error', 'param': None, 'code': 'invalid_api_key'}}. Retries remaining=2.\n",
      "2024-03-10 10:57:46,031 ERROR trulens_eval.feedback.provider.endpoint.base: openai request failed <class 'openai.AuthenticationError'>=Error code: 401 - {'error': {'message': 'Incorrect API key provided: \"sk-t9Bc************************************************rtaj. You can find your API key at https://platform.openai.com/account/api-keys.', 'type': 'invalid_request_error', 'param': None, 'code': 'invalid_api_key'}}. Retries remaining=2.\n",
      "2024-03-10 10:57:46,169 ERROR trulens_eval.feedback.provider.endpoint.base: openai request failed <class 'openai.AuthenticationError'>=Error code: 401 - {'error': {'message': 'Incorrect API key provided: \"sk-t9Bc************************************************rtaj. You can find your API key at https://platform.openai.com/account/api-keys.', 'type': 'invalid_request_error', 'param': None, 'code': 'invalid_api_key'}}. Retries remaining=2.\n"
     ]
    },
    {
     "name": "stdout",
     "output_type": "stream",
     "text": [
      "Yes, they did discuss social media and eating disorders. Speaker 1 mentioned that they had come across someone talking about an eating disorder on social media and giving real advice. Speaker 5 also touched on the topic of social media and misinformation related to eating disorders and COVID.\n"
     ]
    },
    {
     "name": "stderr",
     "output_type": "stream",
     "text": [
      "2024-03-10 10:57:46,265 ERROR trulens_eval.feedback.provider.endpoint.base: openai request failed <class 'openai.AuthenticationError'>=Error code: 401 - {'error': {'message': 'Incorrect API key provided: \"sk-t9Bc************************************************rtaj. You can find your API key at https://platform.openai.com/account/api-keys.', 'type': 'invalid_request_error', 'param': None, 'code': 'invalid_api_key'}}. Retries remaining=3.\n",
      "2024-03-10 10:57:46,322 ERROR trulens_eval.feedback.provider.endpoint.base: openai request failed <class 'openai.AuthenticationError'>=Error code: 401 - {'error': {'message': 'Incorrect API key provided: \"sk-t9Bc************************************************rtaj. You can find your API key at https://platform.openai.com/account/api-keys.', 'type': 'invalid_request_error', 'param': None, 'code': 'invalid_api_key'}}. Retries remaining=3.\n",
      "2024-03-10 10:57:46,399 ERROR trulens_eval.feedback.provider.endpoint.base: openai request failed <class 'openai.AuthenticationError'>=Error code: 401 - {'error': {'message': 'Incorrect API key provided: \"sk-t9Bc************************************************rtaj. You can find your API key at https://platform.openai.com/account/api-keys.', 'type': 'invalid_request_error', 'param': None, 'code': 'invalid_api_key'}}. Retries remaining=3.\n"
     ]
    },
    {
     "name": "stdout",
     "output_type": "stream",
     "text": [
      "Yes, they did discuss social media and eating disorders. Speaker 1 mentioned that they had come across someone talking about an eating disorder on social media and giving real advice. Speaker 5 also touched on the topic of social media and misinformation related to eating disorders and COVID.\n"
     ]
    },
    {
     "name": "stderr",
     "output_type": "stream",
     "text": [
      "2024-03-10 10:57:46,595 ERROR trulens_eval.feedback.provider.endpoint.base: openai request failed <class 'openai.AuthenticationError'>=Error code: 401 - {'error': {'message': 'Incorrect API key provided: \"sk-t9Bc************************************************rtaj. You can find your API key at https://platform.openai.com/account/api-keys.', 'type': 'invalid_request_error', 'param': None, 'code': 'invalid_api_key'}}. Retries remaining=1.\n",
      "2024-03-10 10:57:46,659 ERROR trulens_eval.feedback.provider.endpoint.base: openai request failed <class 'openai.AuthenticationError'>=Error code: 401 - {'error': {'message': 'Incorrect API key provided: \"sk-t9Bc************************************************rtaj. You can find your API key at https://platform.openai.com/account/api-keys.', 'type': 'invalid_request_error', 'param': None, 'code': 'invalid_api_key'}}. Retries remaining=1.\n",
      "2024-03-10 10:57:46,702 ERROR trulens_eval.feedback.provider.endpoint.base: openai request failed <class 'openai.AuthenticationError'>=Error code: 401 - {'error': {'message': 'Incorrect API key provided: \"sk-t9Bc************************************************rtaj. You can find your API key at https://platform.openai.com/account/api-keys.', 'type': 'invalid_request_error', 'param': None, 'code': 'invalid_api_key'}}. Retries remaining=1.\n",
      "2024-03-10 10:57:48,368 ERROR trulens_eval.feedback.provider.endpoint.base: openai request failed <class 'openai.AuthenticationError'>=Error code: 401 - {'error': {'message': 'Incorrect API key provided: \"sk-t9Bc************************************************rtaj. You can find your API key at https://platform.openai.com/account/api-keys.', 'type': 'invalid_request_error', 'param': None, 'code': 'invalid_api_key'}}. Retries remaining=2.\n",
      "2024-03-10 10:57:48,420 ERROR trulens_eval.feedback.provider.endpoint.base: openai request failed <class 'openai.AuthenticationError'>=Error code: 401 - {'error': {'message': 'Incorrect API key provided: \"sk-t9Bc************************************************rtaj. You can find your API key at https://platform.openai.com/account/api-keys.', 'type': 'invalid_request_error', 'param': None, 'code': 'invalid_api_key'}}. Retries remaining=2.\n",
      "2024-03-10 10:57:48,487 ERROR trulens_eval.feedback.provider.endpoint.base: openai request failed <class 'openai.AuthenticationError'>=Error code: 401 - {'error': {'message': 'Incorrect API key provided: \"sk-t9Bc************************************************rtaj. You can find your API key at https://platform.openai.com/account/api-keys.', 'type': 'invalid_request_error', 'param': None, 'code': 'invalid_api_key'}}. Retries remaining=2.\n",
      "2024-03-10 10:57:50,133 ERROR trulens_eval.feedback.provider.endpoint.base: openai request failed <class 'openai.AuthenticationError'>=Error code: 401 - {'error': {'message': 'Incorrect API key provided: \"sk-t9Bc************************************************rtaj. You can find your API key at https://platform.openai.com/account/api-keys.', 'type': 'invalid_request_error', 'param': None, 'code': 'invalid_api_key'}}. Retries remaining=1.\n",
      "2024-03-10 10:57:50,134 ERROR trulens_eval.feedback.provider.endpoint.base: openai request failed <class 'openai.AuthenticationError'>=Error code: 401 - {'error': {'message': 'Incorrect API key provided: \"sk-t9Bc************************************************rtaj. You can find your API key at https://platform.openai.com/account/api-keys.', 'type': 'invalid_request_error', 'param': None, 'code': 'invalid_api_key'}}. Retries remaining=1.\n",
      "2024-03-10 10:57:50,267 ERROR trulens_eval.feedback.provider.endpoint.base: openai request failed <class 'openai.AuthenticationError'>=Error code: 401 - {'error': {'message': 'Incorrect API key provided: \"sk-t9Bc************************************************rtaj. You can find your API key at https://platform.openai.com/account/api-keys.', 'type': 'invalid_request_error', 'param': None, 'code': 'invalid_api_key'}}. Retries remaining=1.\n",
      "2024-03-10 10:57:52,480 ERROR trulens_eval.feedback.provider.endpoint.base: openai request failed <class 'openai.AuthenticationError'>=Error code: 401 - {'error': {'message': 'Incorrect API key provided: \"sk-t9Bc************************************************rtaj. You can find your API key at https://platform.openai.com/account/api-keys.', 'type': 'invalid_request_error', 'param': None, 'code': 'invalid_api_key'}}. Retries remaining=1.\n",
      "2024-03-10 10:57:52,577 ERROR trulens_eval.feedback.provider.endpoint.base: openai request failed <class 'openai.AuthenticationError'>=Error code: 401 - {'error': {'message': 'Incorrect API key provided: \"sk-t9Bc************************************************rtaj. You can find your API key at https://platform.openai.com/account/api-keys.', 'type': 'invalid_request_error', 'param': None, 'code': 'invalid_api_key'}}. Retries remaining=1.\n",
      "2024-03-10 10:57:52,616 ERROR trulens_eval.feedback.provider.endpoint.base: openai request failed <class 'openai.AuthenticationError'>=Error code: 401 - {'error': {'message': 'Incorrect API key provided: \"sk-t9Bc************************************************rtaj. You can find your API key at https://platform.openai.com/account/api-keys.', 'type': 'invalid_request_error', 'param': None, 'code': 'invalid_api_key'}}. Retries remaining=1.\n",
      "2024-03-10 10:57:54,679 ERROR trulens_eval.feedback.provider.endpoint.base: openai request failed <class 'openai.AuthenticationError'>=Error code: 401 - {'error': {'message': 'Incorrect API key provided: \"sk-t9Bc************************************************rtaj. You can find your API key at https://platform.openai.com/account/api-keys.', 'type': 'invalid_request_error', 'param': None, 'code': 'invalid_api_key'}}. Retries remaining=0.\n",
      "2024-03-10 10:57:54,739 ERROR trulens_eval.feedback.provider.endpoint.base: openai request failed <class 'openai.AuthenticationError'>=Error code: 401 - {'error': {'message': 'Incorrect API key provided: \"sk-t9Bc************************************************rtaj. You can find your API key at https://platform.openai.com/account/api-keys.', 'type': 'invalid_request_error', 'param': None, 'code': 'invalid_api_key'}}. Retries remaining=0.\n",
      "2024-03-10 10:57:54,808 ERROR trulens_eval.feedback.provider.endpoint.base: openai request failed <class 'openai.AuthenticationError'>=Error code: 401 - {'error': {'message': 'Incorrect API key provided: \"sk-t9Bc************************************************rtaj. You can find your API key at https://platform.openai.com/account/api-keys.', 'type': 'invalid_request_error', 'param': None, 'code': 'invalid_api_key'}}. Retries remaining=0.\n",
      "2024-03-10 10:57:58,241 ERROR trulens_eval.feedback.provider.endpoint.base: openai request failed <class 'openai.AuthenticationError'>=Error code: 401 - {'error': {'message': 'Incorrect API key provided: \"sk-t9Bc************************************************rtaj. You can find your API key at https://platform.openai.com/account/api-keys.', 'type': 'invalid_request_error', 'param': None, 'code': 'invalid_api_key'}}. Retries remaining=0.\n",
      "2024-03-10 10:57:58,242 ERROR trulens_eval.feedback.provider.endpoint.base: openai request failed <class 'openai.AuthenticationError'>=Error code: 401 - {'error': {'message': 'Incorrect API key provided: \"sk-t9Bc************************************************rtaj. You can find your API key at https://platform.openai.com/account/api-keys.', 'type': 'invalid_request_error', 'param': None, 'code': 'invalid_api_key'}}. Retries remaining=0.\n",
      "2024-03-10 10:57:58,360 ERROR trulens_eval.feedback.provider.endpoint.base: openai request failed <class 'openai.AuthenticationError'>=Error code: 401 - {'error': {'message': 'Incorrect API key provided: \"sk-t9Bc************************************************rtaj. You can find your API key at https://platform.openai.com/account/api-keys.', 'type': 'invalid_request_error', 'param': None, 'code': 'invalid_api_key'}}. Retries remaining=0.\n",
      "2024-03-10 10:58:00,575 ERROR trulens_eval.feedback.provider.endpoint.base: openai request failed <class 'openai.AuthenticationError'>=Error code: 401 - {'error': {'message': 'Incorrect API key provided: \"sk-t9Bc************************************************rtaj. You can find your API key at https://platform.openai.com/account/api-keys.', 'type': 'invalid_request_error', 'param': None, 'code': 'invalid_api_key'}}. Retries remaining=0.\n",
      "2024-03-10 10:58:00,679 ERROR trulens_eval.feedback.provider.endpoint.base: openai request failed <class 'openai.AuthenticationError'>=Error code: 401 - {'error': {'message': 'Incorrect API key provided: \"sk-t9Bc************************************************rtaj. You can find your API key at https://platform.openai.com/account/api-keys.', 'type': 'invalid_request_error', 'param': None, 'code': 'invalid_api_key'}}. Retries remaining=0.\n",
      "2024-03-10 10:58:00,697 ERROR trulens_eval.feedback.provider.endpoint.base: openai request failed <class 'openai.AuthenticationError'>=Error code: 401 - {'error': {'message': 'Incorrect API key provided: \"sk-t9Bc************************************************rtaj. You can find your API key at https://platform.openai.com/account/api-keys.', 'type': 'invalid_request_error', 'param': None, 'code': 'invalid_api_key'}}. Retries remaining=0.\n"
     ]
    },
    {
     "name": "stdout",
     "output_type": "stream",
     "text": [
      "last_conversation_no fetched from master json:  20207\n",
      "conversation length:  3\n",
      "LENGTH delta_conversation_df:  15\n",
      "CONTEXT  00:04:09 - spk_2: So we only get one printer for 15 people.\n",
      "00:04:12 - spk_1: Um, well, we get one sort of networked printer and then I think some of us have personal printers. I think Susan has a personal printer. Gisella has one. Maybe I cant remember who else. Yeah. But no one else gets their own printer in terms of equip ment. Its sort of the sa me thing as we have now. Um, so what Id propose is that we sort of discuss various concepts without getting into specifics and then go off and think about it over lunch and then come back later in the day with sort of more specific proposals as to exactly where to put people. Does that work? Oh, and on the map, the little half circular, well, quarter circles or doors, which Im assuming you figured out. But just in case and theres just the one room that actually has two doors going into it. The, the three person room on the right. Yeah.\n",
      "00:05:16 - spk_0: And do we need a room? Like a reading room?\n",
      "00:05:19 - spk_1: Yes. Yeah. A lot of people were saying that they wanted to have a reading room so we should leave a space for that and we cant because like I said, maximum 18 people in those rooms and theres only 15 of us and I dont know if you noticed, but two of usa re only here half the time. So Martin and David, um a re half the time A T the EPFL and half the time in Geneva. So, I sort of keep that in mind, I guess when youre doing the actual planning.\n",
      "00:06:01 - spk_0: Mhm. The first split we can do is between administration and researcher. Yeah, I know. Its completely different work so we can deal with administration and decide something for administration. And then,\n",
      "\n",
      "\n",
      "\n",
      "00:03:52 - spk_0: but it may be more sort of practical in terms of working environments for people. Yeah.\n",
      "00:03:59 - spk_3: Yeah, it would be nicer.\n",
      "00:04:02 - spk_2: And what about the reading room?\n",
      "00:04:07 - spk_0:  But again, one of the reasons for putting the reading or more,\n",
      " I, I\n",
      "00:04:10 - spk_2: you, I mean uh I think everybody is supposed to spend more time in the office than in the reading room. So we might think that its better to have a more comfortable office than a more comfortable reading room. I dont know, it changed the plan of the morning. Im sorry, but I just realise that stupid architect put on the one windows who built this building. Do we know that? I dont know. I dunno, do you think?  I\n",
      " dunno, we spent\n",
      "00:25:27 - spk_3: heart of the,\n",
      "00:25:29 - spk_2: and since you n you will meet the administrator. Can we ask for a coffee machine somewhere\n",
      "00:25:37 - spk_3:  in the reading room? That would be\n",
      " good.\n",
      "00:25:39 - spk_2: Yeah. Or in that hall? I mean the sixth floor, theres no coffee machine.\n",
      "00:25:44 - spk_0: Its, you mean like  a little machine\n",
      " or a vending\n",
      "\n",
      "\n",
      "\n",
      "Based on the information provided, yes, people have expressed a desire for a reading room. However, it seems that there are concerns about the size of the rooms and the availability of space for all team members, especially since some are only present in the office half the time. Additionally, there is a suggestion that people might spend more time in the office than in the reading room. The team also discusses the possibility of having a coffee machine in the reading room or in the sixth floor hall.\n",
      "Based on the information provided, yes, people have expressed a desire for a reading room. However, it seems that there are concerns about the size of the rooms and the availability of space for all team members, especially since some are only present in the office half the time. Additionally, there is a suggestion that people might spend more time in the office than in the reading room. The team also discusses the possibility of having a coffee machine in the reading room or in the sixth floor hall.\n"
     ]
    },
    {
     "name": "stderr",
     "output_type": "stream",
     "text": [
      "2024-03-10 10:58:10,434 ERROR trulens_eval.feedback.provider.endpoint.base: openai request failed <class 'openai.AuthenticationError'>=Error code: 401 - {'error': {'message': 'Incorrect API key provided: \"sk-t9Bc************************************************rtaj. You can find your API key at https://platform.openai.com/account/api-keys.', 'type': 'invalid_request_error', 'param': None, 'code': 'invalid_api_key'}}. Retries remaining=3.\n",
      "2024-03-10 10:58:10,462 ERROR trulens_eval.feedback.provider.endpoint.base: openai request failed <class 'openai.AuthenticationError'>=Error code: 401 - {'error': {'message': 'Incorrect API key provided: \"sk-t9Bc************************************************rtaj. You can find your API key at https://platform.openai.com/account/api-keys.', 'type': 'invalid_request_error', 'param': None, 'code': 'invalid_api_key'}}. Retries remaining=3.\n",
      "2024-03-10 10:58:10,509 ERROR trulens_eval.feedback.provider.endpoint.base: openai request failed <class 'openai.AuthenticationError'>=Error code: 401 - {'error': {'message': 'Incorrect API key provided: \"sk-t9Bc************************************************rtaj. You can find your API key at https://platform.openai.com/account/api-keys.', 'type': 'invalid_request_error', 'param': None, 'code': 'invalid_api_key'}}. Retries remaining=3.\n",
      "2024-03-10 10:58:12,523 ERROR trulens_eval.feedback.provider.endpoint.base: openai request failed <class 'openai.AuthenticationError'>=Error code: 401 - {'error': {'message': 'Incorrect API key provided: \"sk-t9Bc************************************************rtaj. You can find your API key at https://platform.openai.com/account/api-keys.', 'type': 'invalid_request_error', 'param': None, 'code': 'invalid_api_key'}}. Retries remaining=2.\n",
      "2024-03-10 10:58:12,562 ERROR trulens_eval.feedback.provider.endpoint.base: openai request failed <class 'openai.AuthenticationError'>=Error code: 401 - {'error': {'message': 'Incorrect API key provided: \"sk-t9Bc************************************************rtaj. You can find your API key at https://platform.openai.com/account/api-keys.', 'type': 'invalid_request_error', 'param': None, 'code': 'invalid_api_key'}}. Retries remaining=2.\n",
      "2024-03-10 10:58:12,620 ERROR trulens_eval.feedback.provider.endpoint.base: openai request failed <class 'openai.AuthenticationError'>=Error code: 401 - {'error': {'message': 'Incorrect API key provided: \"sk-t9Bc************************************************rtaj. You can find your API key at https://platform.openai.com/account/api-keys.', 'type': 'invalid_request_error', 'param': None, 'code': 'invalid_api_key'}}. Retries remaining=2.\n",
      "2024-03-10 10:58:16,618 ERROR trulens_eval.feedback.provider.endpoint.base: openai request failed <class 'openai.AuthenticationError'>=Error code: 401 - {'error': {'message': 'Incorrect API key provided: \"sk-t9Bc************************************************rtaj. You can find your API key at https://platform.openai.com/account/api-keys.', 'type': 'invalid_request_error', 'param': None, 'code': 'invalid_api_key'}}. Retries remaining=1.\n",
      "2024-03-10 10:58:16,670 ERROR trulens_eval.feedback.provider.endpoint.base: openai request failed <class 'openai.AuthenticationError'>=Error code: 401 - {'error': {'message': 'Incorrect API key provided: \"sk-t9Bc************************************************rtaj. You can find your API key at https://platform.openai.com/account/api-keys.', 'type': 'invalid_request_error', 'param': None, 'code': 'invalid_api_key'}}. Retries remaining=1.\n",
      "2024-03-10 10:58:16,699 ERROR trulens_eval.feedback.provider.endpoint.base: openai request failed <class 'openai.AuthenticationError'>=Error code: 401 - {'error': {'message': 'Incorrect API key provided: \"sk-t9Bc************************************************rtaj. You can find your API key at https://platform.openai.com/account/api-keys.', 'type': 'invalid_request_error', 'param': None, 'code': 'invalid_api_key'}}. Retries remaining=1.\n",
      "2024-03-10 10:58:24,755 ERROR trulens_eval.feedback.provider.endpoint.base: openai request failed <class 'openai.AuthenticationError'>=Error code: 401 - {'error': {'message': 'Incorrect API key provided: \"sk-t9Bc************************************************rtaj. You can find your API key at https://platform.openai.com/account/api-keys.', 'type': 'invalid_request_error', 'param': None, 'code': 'invalid_api_key'}}. Retries remaining=0.\n",
      "2024-03-10 10:58:24,781 ERROR trulens_eval.feedback.provider.endpoint.base: openai request failed <class 'openai.AuthenticationError'>=Error code: 401 - {'error': {'message': 'Incorrect API key provided: \"sk-t9Bc************************************************rtaj. You can find your API key at https://platform.openai.com/account/api-keys.', 'type': 'invalid_request_error', 'param': None, 'code': 'invalid_api_key'}}. Retries remaining=0.\n",
      "2024-03-10 10:58:24,824 ERROR trulens_eval.feedback.provider.endpoint.base: openai request failed <class 'openai.AuthenticationError'>=Error code: 401 - {'error': {'message': 'Incorrect API key provided: \"sk-t9Bc************************************************rtaj. You can find your API key at https://platform.openai.com/account/api-keys.', 'type': 'invalid_request_error', 'param': None, 'code': 'invalid_api_key'}}. Retries remaining=0.\n"
     ]
    },
    {
     "name": "stdout",
     "output_type": "stream",
     "text": [
      "last_conversation_no fetched from master json:  20207\n",
      "conversation length:  3\n",
      "LENGTH delta_conversation_df:  15\n",
      "CONTEXT  00:26:13 - spk_3: Ok, good. So,\n",
      "00:26:19 - spk_0: so how many rooms and how many  places do we\n",
      " have? So we have reserved now to\n",
      "00:26:27 - spk_3:  why dont I\n",
      " change it on here as well?\n",
      "00:26:33 - spk_1: So thats Gisela\n",
      "00:14:37 - spk_1: Yeah, I think everybody agrees on that. One person will be too small. Anyways. How about, how about this room?\n",
      "00:14:44 - spk_2: The bottom? Yeah, a t the bottom in the middle with, due to the mountains? Yeah,  it has three windows. So I think its, uh,\n",
      " 22. Well, which\n",
      "00:14:53 - spk_1: w theres 32 person rooms,\n",
      "00:14:55 - spk_2: the, the middle one  that\n",
      " has two windows. Yeah,\n",
      "00:14:59 - spk_1: its, which is fine.  Its still a\n",
      " big room. Big black stripe is the windows.\n",
      "00:25:56 - spk_1: Uh The building design is pretty much the same as the one we have. Now were just getting more space this way because we couldnt move in the other building because it was occupied by the other departments.\n",
      "\n",
      "\n",
      "\n",
      "00:05:12 - spk_3: Well, lets uh how we can uh fill the three person rooms.\n",
      "00:05:18 - spk_2: What, what, what, uh,\n",
      "00:05:20 - spk_3: how we can, who we gonna put in the three person rooms. I mean, we have now, uh, 23 person rooms left. And, um,\n",
      "00:05:32 - spk_2: no, no, but the main problem, we have the sa me number of places and the sa me number of people now. So everyone has to go somewhere. Yeah. And, uh, I just noticed that we have these two people room, we\n",
      "00:05:46 - spk_0: have one  room with two windows. I\n",
      " dont mind going into this office\n",
      "\n",
      "\n",
      "\n",
      "Based on the information provided, there are rooms with a capacity of 22 people (rooms with three windows) and 32 people (rooms with no mention of the number of windows). Additionally, there are rooms with a capacity of two people. Therefore, the maximum capacity of the rooms varies depending on the size of the room.\n",
      "Based on the information provided, there are rooms with a capacity of 22 people (rooms with three windows) and 32 people (rooms with no mention of the number of windows). Additionally, there are rooms with a capacity of two people. Therefore, the maximum capacity of the rooms varies depending on the size of the room.\n"
     ]
    },
    {
     "name": "stderr",
     "output_type": "stream",
     "text": [
      "2024-03-10 10:58:32,976 ERROR trulens_eval.feedback.provider.endpoint.base: openai request failed <class 'openai.AuthenticationError'>=Error code: 401 - {'error': {'message': 'Incorrect API key provided: \"sk-t9Bc************************************************rtaj. You can find your API key at https://platform.openai.com/account/api-keys.', 'type': 'invalid_request_error', 'param': None, 'code': 'invalid_api_key'}}. Retries remaining=3.\n",
      "2024-03-10 10:58:33,006 ERROR trulens_eval.feedback.provider.endpoint.base: openai request failed <class 'openai.AuthenticationError'>=Error code: 401 - {'error': {'message': 'Incorrect API key provided: \"sk-t9Bc************************************************rtaj. You can find your API key at https://platform.openai.com/account/api-keys.', 'type': 'invalid_request_error', 'param': None, 'code': 'invalid_api_key'}}. Retries remaining=3.\n",
      "2024-03-10 10:58:33,043 ERROR trulens_eval.feedback.provider.endpoint.base: openai request failed <class 'openai.AuthenticationError'>=Error code: 401 - {'error': {'message': 'Incorrect API key provided: \"sk-t9Bc************************************************rtaj. You can find your API key at https://platform.openai.com/account/api-keys.', 'type': 'invalid_request_error', 'param': None, 'code': 'invalid_api_key'}}. Retries remaining=3.\n",
      "2024-03-10 10:58:35,078 ERROR trulens_eval.feedback.provider.endpoint.base: openai request failed <class 'openai.AuthenticationError'>=Error code: 401 - {'error': {'message': 'Incorrect API key provided: \"sk-t9Bc************************************************rtaj. You can find your API key at https://platform.openai.com/account/api-keys.', 'type': 'invalid_request_error', 'param': None, 'code': 'invalid_api_key'}}. Retries remaining=2.\n",
      "2024-03-10 10:58:35,111 ERROR trulens_eval.feedback.provider.endpoint.base: openai request failed <class 'openai.AuthenticationError'>=Error code: 401 - {'error': {'message': 'Incorrect API key provided: \"sk-t9Bc************************************************rtaj. You can find your API key at https://platform.openai.com/account/api-keys.', 'type': 'invalid_request_error', 'param': None, 'code': 'invalid_api_key'}}. Retries remaining=2.\n",
      "2024-03-10 10:58:35,140 ERROR trulens_eval.feedback.provider.endpoint.base: openai request failed <class 'openai.AuthenticationError'>=Error code: 401 - {'error': {'message': 'Incorrect API key provided: \"sk-t9Bc************************************************rtaj. You can find your API key at https://platform.openai.com/account/api-keys.', 'type': 'invalid_request_error', 'param': None, 'code': 'invalid_api_key'}}. Retries remaining=2.\n",
      "2024-03-10 10:58:39,179 ERROR trulens_eval.feedback.provider.endpoint.base: openai request failed <class 'openai.AuthenticationError'>=Error code: 401 - {'error': {'message': 'Incorrect API key provided: \"sk-t9Bc************************************************rtaj. You can find your API key at https://platform.openai.com/account/api-keys.', 'type': 'invalid_request_error', 'param': None, 'code': 'invalid_api_key'}}. Retries remaining=1.\n",
      "2024-03-10 10:58:39,195 ERROR trulens_eval.feedback.provider.endpoint.base: openai request failed <class 'openai.AuthenticationError'>=Error code: 401 - {'error': {'message': 'Incorrect API key provided: \"sk-t9Bc************************************************rtaj. You can find your API key at https://platform.openai.com/account/api-keys.', 'type': 'invalid_request_error', 'param': None, 'code': 'invalid_api_key'}}. Retries remaining=1.\n",
      "2024-03-10 10:58:39,226 ERROR trulens_eval.feedback.provider.endpoint.base: openai request failed <class 'openai.AuthenticationError'>=Error code: 401 - {'error': {'message': 'Incorrect API key provided: \"sk-t9Bc************************************************rtaj. You can find your API key at https://platform.openai.com/account/api-keys.', 'type': 'invalid_request_error', 'param': None, 'code': 'invalid_api_key'}}. Retries remaining=1.\n",
      "2024-03-10 10:58:47,361 ERROR trulens_eval.feedback.provider.endpoint.base: openai request failed <class 'openai.AuthenticationError'>=Error code: 401 - {'error': {'message': 'Incorrect API key provided: \"sk-t9Bc************************************************rtaj. You can find your API key at https://platform.openai.com/account/api-keys.', 'type': 'invalid_request_error', 'param': None, 'code': 'invalid_api_key'}}. Retries remaining=0.\n",
      "2024-03-10 10:58:47,362 ERROR trulens_eval.feedback.provider.endpoint.base: openai request failed <class 'openai.AuthenticationError'>=Error code: 401 - {'error': {'message': 'Incorrect API key provided: \"sk-t9Bc************************************************rtaj. You can find your API key at https://platform.openai.com/account/api-keys.', 'type': 'invalid_request_error', 'param': None, 'code': 'invalid_api_key'}}. Retries remaining=0.\n",
      "2024-03-10 10:58:47,415 ERROR trulens_eval.feedback.provider.endpoint.base: openai request failed <class 'openai.AuthenticationError'>=Error code: 401 - {'error': {'message': 'Incorrect API key provided: \"sk-t9Bc************************************************rtaj. You can find your API key at https://platform.openai.com/account/api-keys.', 'type': 'invalid_request_error', 'param': None, 'code': 'invalid_api_key'}}. Retries remaining=0.\n"
     ]
    },
    {
     "name": "stdout",
     "output_type": "stream",
     "text": [
      "last_conversation_no fetched from master json:  20207\n",
      "conversation length:  3\n",
      "LENGTH delta_conversation_df:  15\n",
      "CONTEXT  00:25:25 - spk_1: Is the heart of the\n",
      "00:25:27 - spk_3: heart of the,\n",
      "00:25:29 - spk_2: and since you n you will meet the administrator. Can we ask for a coffee machine somewhere\n",
      "00:25:37 - spk_3:  in the reading room? That would be\n",
      " good.\n",
      "00:25:39 - spk_2: Yeah. Or in that hall? I mean the sixth floor, theres no coffee machine.\n",
      "00:25:44 - spk_0: Its, you mean like  a little machine\n",
      " or a vending\n",
      "00:25:49 - spk_2: a vending machine?\n",
      "\n",
      "\n",
      "\n",
      "00:31:25 - spk_1:  We can bring your coffee in the reading\n",
      " room and\n",
      "00:31:28 - spk_2: buying the coffee machine.\n",
      "00:31:29 - spk_1: So, so since maybe youre part time here and part time, part time. A tepfl there a reat least two coffee machines in the building. One A T the third floor, one A T the first floor and we can close our coffee, no uh automatic uh coffee machine. Ok. So uh yeah,  no, theres\n",
      " the cafeterias downstairs\n",
      "00:31:48 - spk_0: but they close A T five. The main problem. Yeah, but theres the two machines and theyre uh the vending machines where you just put the\n",
      "00:31:56 - spk_2: machine and you can bring your coffee in the,\n",
      "\n",
      "\n",
      "\n",
      "Based on the context provided, there is no coffee machine on the sixth floor of the office. The speakers discussed the presence of coffee machines on the third and first floors, and mentioned bringing coffee from there to the reading room on the sixth floor.\n",
      "Based on the context provided, there is no coffee machine on the sixth floor of the office. The speakers discussed the presence of coffee machines on the third and first floors, and mentioned bringing coffee from there to the reading room on the sixth floor.\n"
     ]
    },
    {
     "name": "stderr",
     "output_type": "stream",
     "text": [
      "2024-03-10 10:58:55,816 ERROR trulens_eval.feedback.provider.endpoint.base: openai request failed <class 'openai.AuthenticationError'>=Error code: 401 - {'error': {'message': 'Incorrect API key provided: \"sk-t9Bc************************************************rtaj. You can find your API key at https://platform.openai.com/account/api-keys.', 'type': 'invalid_request_error', 'param': None, 'code': 'invalid_api_key'}}. Retries remaining=3.\n",
      "2024-03-10 10:58:55,868 ERROR trulens_eval.feedback.provider.endpoint.base: openai request failed <class 'openai.AuthenticationError'>=Error code: 401 - {'error': {'message': 'Incorrect API key provided: \"sk-t9Bc************************************************rtaj. You can find your API key at https://platform.openai.com/account/api-keys.', 'type': 'invalid_request_error', 'param': None, 'code': 'invalid_api_key'}}. Retries remaining=3.\n",
      "2024-03-10 10:58:55,875 ERROR trulens_eval.feedback.provider.endpoint.base: openai request failed <class 'openai.AuthenticationError'>=Error code: 401 - {'error': {'message': 'Incorrect API key provided: \"sk-t9Bc************************************************rtaj. You can find your API key at https://platform.openai.com/account/api-keys.', 'type': 'invalid_request_error', 'param': None, 'code': 'invalid_api_key'}}. Retries remaining=3.\n",
      "2024-03-10 10:58:57,923 ERROR trulens_eval.feedback.provider.endpoint.base: openai request failed <class 'openai.AuthenticationError'>=Error code: 401 - {'error': {'message': 'Incorrect API key provided: \"sk-t9Bc************************************************rtaj. You can find your API key at https://platform.openai.com/account/api-keys.', 'type': 'invalid_request_error', 'param': None, 'code': 'invalid_api_key'}}. Retries remaining=2.\n",
      "2024-03-10 10:58:57,975 ERROR trulens_eval.feedback.provider.endpoint.base: openai request failed <class 'openai.AuthenticationError'>=Error code: 401 - {'error': {'message': 'Incorrect API key provided: \"sk-t9Bc************************************************rtaj. You can find your API key at https://platform.openai.com/account/api-keys.', 'type': 'invalid_request_error', 'param': None, 'code': 'invalid_api_key'}}. Retries remaining=2.\n",
      "2024-03-10 10:58:57,977 ERROR trulens_eval.feedback.provider.endpoint.base: openai request failed <class 'openai.AuthenticationError'>=Error code: 401 - {'error': {'message': 'Incorrect API key provided: \"sk-t9Bc************************************************rtaj. You can find your API key at https://platform.openai.com/account/api-keys.', 'type': 'invalid_request_error', 'param': None, 'code': 'invalid_api_key'}}. Retries remaining=2.\n",
      "2024-03-10 10:59:02,020 ERROR trulens_eval.feedback.provider.endpoint.base: openai request failed <class 'openai.AuthenticationError'>=Error code: 401 - {'error': {'message': 'Incorrect API key provided: \"sk-t9Bc************************************************rtaj. You can find your API key at https://platform.openai.com/account/api-keys.', 'type': 'invalid_request_error', 'param': None, 'code': 'invalid_api_key'}}. Retries remaining=1.\n",
      "2024-03-10 10:59:02,059 ERROR trulens_eval.feedback.provider.endpoint.base: openai request failed <class 'openai.AuthenticationError'>=Error code: 401 - {'error': {'message': 'Incorrect API key provided: \"sk-t9Bc************************************************rtaj. You can find your API key at https://platform.openai.com/account/api-keys.', 'type': 'invalid_request_error', 'param': None, 'code': 'invalid_api_key'}}. Retries remaining=1.\n",
      "2024-03-10 10:59:02,065 ERROR trulens_eval.feedback.provider.endpoint.base: openai request failed <class 'openai.AuthenticationError'>=Error code: 401 - {'error': {'message': 'Incorrect API key provided: \"sk-t9Bc************************************************rtaj. You can find your API key at https://platform.openai.com/account/api-keys.', 'type': 'invalid_request_error', 'param': None, 'code': 'invalid_api_key'}}. Retries remaining=1.\n",
      "2024-03-10 10:59:10,207 ERROR trulens_eval.feedback.provider.endpoint.base: openai request failed <class 'openai.AuthenticationError'>=Error code: 401 - {'error': {'message': 'Incorrect API key provided: \"sk-t9Bc************************************************rtaj. You can find your API key at https://platform.openai.com/account/api-keys.', 'type': 'invalid_request_error', 'param': None, 'code': 'invalid_api_key'}}. Retries remaining=0.\n",
      "2024-03-10 10:59:10,270 ERROR trulens_eval.feedback.provider.endpoint.base: openai request failed <class 'openai.AuthenticationError'>=Error code: 401 - {'error': {'message': 'Incorrect API key provided: \"sk-t9Bc************************************************rtaj. You can find your API key at https://platform.openai.com/account/api-keys.', 'type': 'invalid_request_error', 'param': None, 'code': 'invalid_api_key'}}. Retries remaining=0.\n",
      "2024-03-10 10:59:10,271 ERROR trulens_eval.feedback.provider.endpoint.base: openai request failed <class 'openai.AuthenticationError'>=Error code: 401 - {'error': {'message': 'Incorrect API key provided: \"sk-t9Bc************************************************rtaj. You can find your API key at https://platform.openai.com/account/api-keys.', 'type': 'invalid_request_error', 'param': None, 'code': 'invalid_api_key'}}. Retries remaining=0.\n"
     ]
    },
    {
     "name": "stdout",
     "output_type": "stream",
     "text": [
      "last_conversation_no fetched from master json:  20207\n",
      "conversation length:  3\n",
      "LENGTH delta_conversation_df:  15\n",
      "CONTEXT  00:24:18 - spk_1: East anyways\n",
      "00:24:22 - spk_0: anyways\n",
      "00:24:23 - spk_1: this office, right?\n",
      "00:24:26 - spk_0: You know, because with mountain mountains and old town its not. No, sorry. But\n",
      "00:24:32 - spk_1: Im very bad at orienting. Whereas North in Geneva, I always get it wrong. But I just assumed Nicos was talking with orientation here. Sunrise and sunshine is quite\n",
      "\n",
      "\n",
      "\n",
      "00:05:20 - spk_3: how we can, who we gonna put in the three person rooms. I mean, we have now, uh, 23 person rooms left. And, um,\n",
      "00:05:32 - spk_2: no, no, but the main problem, we have the sa me number of places and the sa me number of people now. So everyone has to go somewhere. Yeah. And, uh, I just noticed that we have these two people room, we\n",
      "00:05:46 - spk_0: have one  room with two windows. I\n",
      " dont mind going into this office\n",
      "00:05:50 - spk_2: you dont mind to have. Okay. So Nikos and you have to sign. Yeah, you have to find somebody agree to come with you and its not a question of you. Its a question of windows. Who would you put with you? Lets put a 50%. So,\n",
      "00:06:13 - spk_1: oh, why not?\n",
      "00:26:19 - spk_2: for the afternoon? Yeah, because with strong coffee, I dont sleep\n",
      "00:26:25 - spk_3: if youre late. Uh, if you work late. Yeah.  And you drink, uh, coffee.\n",
      " Yeah.\n",
      "00:26:34 - spk_2: And do we know if there will be air conditioning?\n",
      "00:26:39 - spk_3: Is there actually a smoking area somewhere?  No, not\n",
      " for\n",
      "00:26:43 - spk_0:  non smoking\n",
      " building.\n",
      "\n",
      "\n",
      "\n",
      "Based on the context provided, there is no mention of air conditioning in the office.\n",
      "Based on the context provided, there is no mention of air conditioning in the office.\n"
     ]
    },
    {
     "name": "stderr",
     "output_type": "stream",
     "text": [
      "2024-03-10 10:59:18,372 ERROR trulens_eval.feedback.provider.endpoint.base: openai request failed <class 'openai.AuthenticationError'>=Error code: 401 - {'error': {'message': 'Incorrect API key provided: \"sk-t9Bc************************************************rtaj. You can find your API key at https://platform.openai.com/account/api-keys.', 'type': 'invalid_request_error', 'param': None, 'code': 'invalid_api_key'}}. Retries remaining=3.\n",
      "2024-03-10 10:59:18,396 ERROR trulens_eval.feedback.provider.endpoint.base: openai request failed <class 'openai.AuthenticationError'>=Error code: 401 - {'error': {'message': 'Incorrect API key provided: \"sk-t9Bc************************************************rtaj. You can find your API key at https://platform.openai.com/account/api-keys.', 'type': 'invalid_request_error', 'param': None, 'code': 'invalid_api_key'}}. Retries remaining=3.\n",
      "2024-03-10 10:59:18,475 ERROR trulens_eval.feedback.provider.endpoint.base: openai request failed <class 'openai.AuthenticationError'>=Error code: 401 - {'error': {'message': 'Incorrect API key provided: \"sk-t9Bc************************************************rtaj. You can find your API key at https://platform.openai.com/account/api-keys.', 'type': 'invalid_request_error', 'param': None, 'code': 'invalid_api_key'}}. Retries remaining=3.\n"
     ]
    },
    {
     "name": "stdout",
     "output_type": "stream",
     "text": [
      "last_conversation_no fetched from master json:  20207\n",
      "conversation length:  3\n",
      "LENGTH delta_conversation_df:  15\n",
      "CONTEXT  00:01:57 - spk_0: accommodate all time zones.\n",
      "00:01:58 - spk_0: Um\n",
      "00:02:00 - spk_0: So we were thinking about it and we were thinking about having a two times per week,\n",
      "00:02:04 - spk_0: alternating time slots.\n",
      "00:02:06 - spk_0: And the idea here is that we have one on a Tuesday, one on a Thursday.\n",
      "00:02:11 - spk_0: And if eventually some tasks come out of Tuesday,\n",
      "00:02:13 - spk_0: they could be presented the outcomes on a Thursday or vice versa.\n",
      "00:06:22 - spk_0: um\n",
      "00:06:24 - spk_0: unless anybody has any objections,\n",
      "00:06:26 - spk_0: we would go forward with the plan of having two calls,\n",
      "00:06:30 - spk_0: but the specific times still open for discussion and we\n",
      "00:06:33 - spk_0: can tweak them before the next iteration of those calls.\n",
      "\n",
      "\n",
      "\n"
     ]
    },
    {
     "name": "stderr",
     "output_type": "stream",
     "text": [
      "2024-03-10 10:59:20,489 ERROR trulens_eval.feedback.provider.endpoint.base: openai request failed <class 'openai.AuthenticationError'>=Error code: 401 - {'error': {'message': 'Incorrect API key provided: \"sk-t9Bc************************************************rtaj. You can find your API key at https://platform.openai.com/account/api-keys.', 'type': 'invalid_request_error', 'param': None, 'code': 'invalid_api_key'}}. Retries remaining=2.\n",
      "2024-03-10 10:59:20,492 ERROR trulens_eval.feedback.provider.endpoint.base: openai request failed <class 'openai.AuthenticationError'>=Error code: 401 - {'error': {'message': 'Incorrect API key provided: \"sk-t9Bc************************************************rtaj. You can find your API key at https://platform.openai.com/account/api-keys.', 'type': 'invalid_request_error', 'param': None, 'code': 'invalid_api_key'}}. Retries remaining=2.\n",
      "2024-03-10 10:59:20,566 ERROR trulens_eval.feedback.provider.endpoint.base: openai request failed <class 'openai.AuthenticationError'>=Error code: 401 - {'error': {'message': 'Incorrect API key provided: \"sk-t9Bc************************************************rtaj. You can find your API key at https://platform.openai.com/account/api-keys.', 'type': 'invalid_request_error', 'param': None, 'code': 'invalid_api_key'}}. Retries remaining=2.\n"
     ]
    },
    {
     "name": "stdout",
     "output_type": "stream",
     "text": [
      "Based on the information provided, it appears that there is a proposal to have two calls per week, one on Tuesday and one on Thursday, in order to accommodate different time zones. This plan is open for further discussion and the specific times for the calls have not been decided yet. Therefore, it is up to the team to consider this proposal and make a decision based on any objections or considerations they may have. If there are no objections, then they may move forward with the plan while adjusting the times as needed before the next iteration of the calls.\n",
      "Based on the information provided, it appears that there is a proposal to have two calls per week, one on Tuesday and one on Thursday, in order to accommodate different time zones. This plan is open for further discussion and the specific times for the calls have not been decided yet. Therefore, it is up to the team to consider this proposal and make a decision based on any objections or considerations they may have. If there are no objections, then they may move forward with the plan while adjusting the times as needed before the next iteration of the calls.\n"
     ]
    },
    {
     "name": "stderr",
     "output_type": "stream",
     "text": [
      "2024-03-10 10:59:22,729 ERROR trulens_eval.feedback.provider.endpoint.base: openai request failed <class 'openai.AuthenticationError'>=Error code: 401 - {'error': {'message': 'Incorrect API key provided: \"sk-t9Bc************************************************rtaj. You can find your API key at https://platform.openai.com/account/api-keys.', 'type': 'invalid_request_error', 'param': None, 'code': 'invalid_api_key'}}. Retries remaining=3.\n",
      "2024-03-10 10:59:22,730 ERROR trulens_eval.feedback.provider.endpoint.base: openai request failed <class 'openai.AuthenticationError'>=Error code: 401 - {'error': {'message': 'Incorrect API key provided: \"sk-t9Bc************************************************rtaj. You can find your API key at https://platform.openai.com/account/api-keys.', 'type': 'invalid_request_error', 'param': None, 'code': 'invalid_api_key'}}. Retries remaining=3.\n",
      "2024-03-10 10:59:22,737 ERROR trulens_eval.feedback.provider.endpoint.base: openai request failed <class 'openai.AuthenticationError'>=Error code: 401 - {'error': {'message': 'Incorrect API key provided: \"sk-t9Bc************************************************rtaj. You can find your API key at https://platform.openai.com/account/api-keys.', 'type': 'invalid_request_error', 'param': None, 'code': 'invalid_api_key'}}. Retries remaining=3.\n",
      "2024-03-10 10:59:24,583 ERROR trulens_eval.feedback.provider.endpoint.base: openai request failed <class 'openai.AuthenticationError'>=Error code: 401 - {'error': {'message': 'Incorrect API key provided: \"sk-t9Bc************************************************rtaj. You can find your API key at https://platform.openai.com/account/api-keys.', 'type': 'invalid_request_error', 'param': None, 'code': 'invalid_api_key'}}. Retries remaining=1.\n",
      "2024-03-10 10:59:24,586 ERROR trulens_eval.feedback.provider.endpoint.base: openai request failed <class 'openai.AuthenticationError'>=Error code: 401 - {'error': {'message': 'Incorrect API key provided: \"sk-t9Bc************************************************rtaj. You can find your API key at https://platform.openai.com/account/api-keys.', 'type': 'invalid_request_error', 'param': None, 'code': 'invalid_api_key'}}. Retries remaining=1.\n",
      "2024-03-10 10:59:24,661 ERROR trulens_eval.feedback.provider.endpoint.base: openai request failed <class 'openai.AuthenticationError'>=Error code: 401 - {'error': {'message': 'Incorrect API key provided: \"sk-t9Bc************************************************rtaj. You can find your API key at https://platform.openai.com/account/api-keys.', 'type': 'invalid_request_error', 'param': None, 'code': 'invalid_api_key'}}. Retries remaining=1.\n",
      "2024-03-10 10:59:24,834 ERROR trulens_eval.feedback.provider.endpoint.base: openai request failed <class 'openai.AuthenticationError'>=Error code: 401 - {'error': {'message': 'Incorrect API key provided: \"sk-t9Bc************************************************rtaj. You can find your API key at https://platform.openai.com/account/api-keys.', 'type': 'invalid_request_error', 'param': None, 'code': 'invalid_api_key'}}. Retries remaining=2.\n",
      "2024-03-10 10:59:24,842 ERROR trulens_eval.feedback.provider.endpoint.base: openai request failed <class 'openai.AuthenticationError'>=Error code: 401 - {'error': {'message': 'Incorrect API key provided: \"sk-t9Bc************************************************rtaj. You can find your API key at https://platform.openai.com/account/api-keys.', 'type': 'invalid_request_error', 'param': None, 'code': 'invalid_api_key'}}. Retries remaining=2.\n",
      "2024-03-10 10:59:24,853 ERROR trulens_eval.feedback.provider.endpoint.base: openai request failed <class 'openai.AuthenticationError'>=Error code: 401 - {'error': {'message': 'Incorrect API key provided: \"sk-t9Bc************************************************rtaj. You can find your API key at https://platform.openai.com/account/api-keys.', 'type': 'invalid_request_error', 'param': None, 'code': 'invalid_api_key'}}. Retries remaining=2.\n",
      "2024-03-10 10:59:28,937 ERROR trulens_eval.feedback.provider.endpoint.base: openai request failed <class 'openai.AuthenticationError'>=Error code: 401 - {'error': {'message': 'Incorrect API key provided: \"sk-t9Bc************************************************rtaj. You can find your API key at https://platform.openai.com/account/api-keys.', 'type': 'invalid_request_error', 'param': None, 'code': 'invalid_api_key'}}. Retries remaining=1.\n",
      "2024-03-10 10:59:28,938 ERROR trulens_eval.feedback.provider.endpoint.base: openai request failed <class 'openai.AuthenticationError'>=Error code: 401 - {'error': {'message': 'Incorrect API key provided: \"sk-t9Bc************************************************rtaj. You can find your API key at https://platform.openai.com/account/api-keys.', 'type': 'invalid_request_error', 'param': None, 'code': 'invalid_api_key'}}. Retries remaining=1.\n",
      "2024-03-10 10:59:28,950 ERROR trulens_eval.feedback.provider.endpoint.base: openai request failed <class 'openai.AuthenticationError'>=Error code: 401 - {'error': {'message': 'Incorrect API key provided: \"sk-t9Bc************************************************rtaj. You can find your API key at https://platform.openai.com/account/api-keys.', 'type': 'invalid_request_error', 'param': None, 'code': 'invalid_api_key'}}. Retries remaining=1.\n",
      "2024-03-10 10:59:32,691 ERROR trulens_eval.feedback.provider.endpoint.base: openai request failed <class 'openai.AuthenticationError'>=Error code: 401 - {'error': {'message': 'Incorrect API key provided: \"sk-t9Bc************************************************rtaj. You can find your API key at https://platform.openai.com/account/api-keys.', 'type': 'invalid_request_error', 'param': None, 'code': 'invalid_api_key'}}. Retries remaining=0.\n",
      "2024-03-10 10:59:32,694 ERROR trulens_eval.feedback.provider.endpoint.base: openai request failed <class 'openai.AuthenticationError'>=Error code: 401 - {'error': {'message': 'Incorrect API key provided: \"sk-t9Bc************************************************rtaj. You can find your API key at https://platform.openai.com/account/api-keys.', 'type': 'invalid_request_error', 'param': None, 'code': 'invalid_api_key'}}. Retries remaining=0.\n",
      "2024-03-10 10:59:32,751 ERROR trulens_eval.feedback.provider.endpoint.base: openai request failed <class 'openai.AuthenticationError'>=Error code: 401 - {'error': {'message': 'Incorrect API key provided: \"sk-t9Bc************************************************rtaj. You can find your API key at https://platform.openai.com/account/api-keys.', 'type': 'invalid_request_error', 'param': None, 'code': 'invalid_api_key'}}. Retries remaining=0.\n",
      "2024-03-10 10:59:37,018 ERROR trulens_eval.feedback.provider.endpoint.base: openai request failed <class 'openai.AuthenticationError'>=Error code: 401 - {'error': {'message': 'Incorrect API key provided: \"sk-t9Bc************************************************rtaj. You can find your API key at https://platform.openai.com/account/api-keys.', 'type': 'invalid_request_error', 'param': None, 'code': 'invalid_api_key'}}. Retries remaining=0.\n",
      "2024-03-10 10:59:37,030 ERROR trulens_eval.feedback.provider.endpoint.base: openai request failed <class 'openai.AuthenticationError'>=Error code: 401 - {'error': {'message': 'Incorrect API key provided: \"sk-t9Bc************************************************rtaj. You can find your API key at https://platform.openai.com/account/api-keys.', 'type': 'invalid_request_error', 'param': None, 'code': 'invalid_api_key'}}. Retries remaining=0.\n",
      "2024-03-10 10:59:37,039 ERROR trulens_eval.feedback.provider.endpoint.base: openai request failed <class 'openai.AuthenticationError'>=Error code: 401 - {'error': {'message': 'Incorrect API key provided: \"sk-t9Bc************************************************rtaj. You can find your API key at https://platform.openai.com/account/api-keys.', 'type': 'invalid_request_error', 'param': None, 'code': 'invalid_api_key'}}. Retries remaining=0.\n"
     ]
    },
    {
     "name": "stdout",
     "output_type": "stream",
     "text": [
      "last_conversation_no fetched from master json:  20207\n",
      "conversation length:  3\n",
      "LENGTH delta_conversation_df:  15\n",
      "CONTEXT  00:07:30 - spk_1: press page.\n",
      "00:07:32 - spk_1: So I open an Mr to add some\n",
      "00:07:34 - spk_1: basic flow charts\n",
      "00:07:36 - spk_1: and\n",
      "00:07:37 - spk_1: they will be\n",
      "00:09:52 - spk_0: is it also achievable from the repository\n",
      "00:09:56 - spk_0: to have this sort of um\n",
      "00:09:58 - spk_0: flow charts?\n",
      "00:10:01 - spk_3: -- Yeah. Yeah, it's gonna be done. It's gonna\n",
      "-- be done.\n",
      "00:10:03 - spk_0: I know you, I know you're trying to squint to kind of see what's in there.\n",
      "00:13:57 - spk_0: But is the target to also have a mermaid chart created out of that\n",
      "00:14:01 - spk_0: ex college\n",
      "00:14:02 - spk_0: flow chart?\n",
      "00:14:04 - spk_2: I think Amy wanted me to make one but like I thought like me mermaid. So\n",
      "00:14:09 - spk_2: didn't fancy me.\n",
      "\n",
      "\n",
      "\n",
      "Based on the provided context information, it is unclear if the new flow charts from Patrick include the Gitaly side of things. The conversation seems to focus more on whether the flow charts can be accessed from the repository and if mermaid charts are also a requirement. There is no explicit mention of Gitaly in the conversation.\n",
      "Based on the provided context information, it is unclear if the new flow charts from Patrick include the Gitaly side of things. The conversation seems to focus more on whether the flow charts can be accessed from the repository and if mermaid charts are also a requirement. There is no explicit mention of Gitaly in the conversation.\n"
     ]
    },
    {
     "name": "stderr",
     "output_type": "stream",
     "text": [
      "2024-03-10 10:59:45,929 ERROR trulens_eval.feedback.provider.endpoint.base: openai request failed <class 'openai.AuthenticationError'>=Error code: 401 - {'error': {'message': 'Incorrect API key provided: \"sk-t9Bc************************************************rtaj. You can find your API key at https://platform.openai.com/account/api-keys.', 'type': 'invalid_request_error', 'param': None, 'code': 'invalid_api_key'}}. Retries remaining=3.\n",
      "2024-03-10 10:59:45,961 ERROR trulens_eval.feedback.provider.endpoint.base: openai request failed <class 'openai.AuthenticationError'>=Error code: 401 - {'error': {'message': 'Incorrect API key provided: \"sk-t9Bc************************************************rtaj. You can find your API key at https://platform.openai.com/account/api-keys.', 'type': 'invalid_request_error', 'param': None, 'code': 'invalid_api_key'}}. Retries remaining=3.\n",
      "2024-03-10 10:59:46,033 ERROR trulens_eval.feedback.provider.endpoint.base: openai request failed <class 'openai.AuthenticationError'>=Error code: 401 - {'error': {'message': 'Incorrect API key provided: \"sk-t9Bc************************************************rtaj. You can find your API key at https://platform.openai.com/account/api-keys.', 'type': 'invalid_request_error', 'param': None, 'code': 'invalid_api_key'}}. Retries remaining=3.\n",
      "2024-03-10 10:59:48,016 ERROR trulens_eval.feedback.provider.endpoint.base: openai request failed <class 'openai.AuthenticationError'>=Error code: 401 - {'error': {'message': 'Incorrect API key provided: \"sk-t9Bc************************************************rtaj. You can find your API key at https://platform.openai.com/account/api-keys.', 'type': 'invalid_request_error', 'param': None, 'code': 'invalid_api_key'}}. Retries remaining=2.\n",
      "2024-03-10 10:59:48,060 ERROR trulens_eval.feedback.provider.endpoint.base: openai request failed <class 'openai.AuthenticationError'>=Error code: 401 - {'error': {'message': 'Incorrect API key provided: \"sk-t9Bc************************************************rtaj. You can find your API key at https://platform.openai.com/account/api-keys.', 'type': 'invalid_request_error', 'param': None, 'code': 'invalid_api_key'}}. Retries remaining=2.\n",
      "2024-03-10 10:59:48,132 ERROR trulens_eval.feedback.provider.endpoint.base: openai request failed <class 'openai.AuthenticationError'>=Error code: 401 - {'error': {'message': 'Incorrect API key provided: \"sk-t9Bc************************************************rtaj. You can find your API key at https://platform.openai.com/account/api-keys.', 'type': 'invalid_request_error', 'param': None, 'code': 'invalid_api_key'}}. Retries remaining=2.\n",
      "2024-03-10 10:59:52,173 ERROR trulens_eval.feedback.provider.endpoint.base: openai request failed <class 'openai.AuthenticationError'>=Error code: 401 - {'error': {'message': 'Incorrect API key provided: \"sk-t9Bc************************************************rtaj. You can find your API key at https://platform.openai.com/account/api-keys.', 'type': 'invalid_request_error', 'param': None, 'code': 'invalid_api_key'}}. Retries remaining=1.\n",
      "2024-03-10 10:59:52,173 ERROR trulens_eval.feedback.provider.endpoint.base: openai request failed <class 'openai.AuthenticationError'>=Error code: 401 - {'error': {'message': 'Incorrect API key provided: \"sk-t9Bc************************************************rtaj. You can find your API key at https://platform.openai.com/account/api-keys.', 'type': 'invalid_request_error', 'param': None, 'code': 'invalid_api_key'}}. Retries remaining=1.\n",
      "2024-03-10 10:59:52,377 ERROR trulens_eval.feedback.provider.endpoint.base: openai request failed <class 'openai.AuthenticationError'>=Error code: 401 - {'error': {'message': 'Incorrect API key provided: \"sk-t9Bc************************************************rtaj. You can find your API key at https://platform.openai.com/account/api-keys.', 'type': 'invalid_request_error', 'param': None, 'code': 'invalid_api_key'}}. Retries remaining=1.\n",
      "2024-03-10 11:00:00,310 ERROR trulens_eval.feedback.provider.endpoint.base: openai request failed <class 'openai.AuthenticationError'>=Error code: 401 - {'error': {'message': 'Incorrect API key provided: \"sk-t9Bc************************************************rtaj. You can find your API key at https://platform.openai.com/account/api-keys.', 'type': 'invalid_request_error', 'param': None, 'code': 'invalid_api_key'}}. Retries remaining=0.\n",
      "2024-03-10 11:00:00,318 ERROR trulens_eval.feedback.provider.endpoint.base: openai request failed <class 'openai.AuthenticationError'>=Error code: 401 - {'error': {'message': 'Incorrect API key provided: \"sk-t9Bc************************************************rtaj. You can find your API key at https://platform.openai.com/account/api-keys.', 'type': 'invalid_request_error', 'param': None, 'code': 'invalid_api_key'}}. Retries remaining=0.\n",
      "2024-03-10 11:00:00,501 ERROR trulens_eval.feedback.provider.endpoint.base: openai request failed <class 'openai.AuthenticationError'>=Error code: 401 - {'error': {'message': 'Incorrect API key provided: \"sk-t9Bc************************************************rtaj. You can find your API key at https://platform.openai.com/account/api-keys.', 'type': 'invalid_request_error', 'param': None, 'code': 'invalid_api_key'}}. Retries remaining=0.\n"
     ]
    },
    {
     "name": "stdout",
     "output_type": "stream",
     "text": [
      "last_conversation_no fetched from master json:  20207\n",
      "conversation length:  3\n",
      "LENGTH delta_conversation_df:  15\n",
      "CONTEXT  00:13:50 - spk_0: OK. We could keep uh we could give that to Thomas to cover that part of the, the flow.\n",
      "00:13:56 - spk_0: Um\n",
      "00:13:57 - spk_0: But is the target to also have a mermaid chart created out of that\n",
      "00:14:01 - spk_0: ex college\n",
      "00:14:02 - spk_0: flow chart?\n",
      "00:16:17 - spk_4: Um\n",
      "00:16:19 - spk_4: Right.\n",
      "00:16:20 - spk_4: Did you want just to convert this to Mermaid for\n",
      "00:16:23 - spk_4: the next Tuesday meeting or do you want the,\n",
      "00:16:25 - spk_4: the whole front end Ds as a Mermaid?\n",
      "00:16:57 - spk_0: um It reduces a lot of the logic.\n",
      "00:16:59 - spk_0: It just, it's the way that the files are loaded and, and stuff like that.\n",
      "00:17:03 - spk_0: Um So it might just be a separate Mermaid chart altogether.\n",
      "00:17:06 - spk_0: Um\n",
      "00:17:07 - spk_0: So this is a nice start to have. So\n",
      "\n",
      "\n",
      "\n",
      "Based on the provided context, it appears that the current front-end mermaid chart does not include the file-by-file A/B mode logic. Speaker 0 mentions that converting the current flow chart to Mermaid might involve creating a separate Mermaid chart for the file loading logic, suggesting that these two aspects of the system are distinguished in the design.\n",
      "Based on the provided context, it appears that the current front-end mermaid chart does not include the file-by-file A/B mode logic. Speaker 0 mentions that converting the current flow chart to Mermaid might involve creating a separate Mermaid chart for the file loading logic, suggesting that these two aspects of the system are distinguished in the design.\n"
     ]
    },
    {
     "name": "stderr",
     "output_type": "stream",
     "text": [
      "2024-03-10 11:00:08,976 ERROR trulens_eval.feedback.provider.endpoint.base: openai request failed <class 'openai.AuthenticationError'>=Error code: 401 - {'error': {'message': 'Incorrect API key provided: \"sk-t9Bc************************************************rtaj. You can find your API key at https://platform.openai.com/account/api-keys.', 'type': 'invalid_request_error', 'param': None, 'code': 'invalid_api_key'}}. Retries remaining=3.\n",
      "2024-03-10 11:00:09,000 ERROR trulens_eval.feedback.provider.endpoint.base: openai request failed <class 'openai.AuthenticationError'>=Error code: 401 - {'error': {'message': 'Incorrect API key provided: \"sk-t9Bc************************************************rtaj. You can find your API key at https://platform.openai.com/account/api-keys.', 'type': 'invalid_request_error', 'param': None, 'code': 'invalid_api_key'}}. Retries remaining=3.\n",
      "2024-03-10 11:00:09,008 ERROR trulens_eval.feedback.provider.endpoint.base: openai request failed <class 'openai.AuthenticationError'>=Error code: 401 - {'error': {'message': 'Incorrect API key provided: \"sk-t9Bc************************************************rtaj. You can find your API key at https://platform.openai.com/account/api-keys.', 'type': 'invalid_request_error', 'param': None, 'code': 'invalid_api_key'}}. Retries remaining=3.\n",
      "2024-03-10 11:00:11,082 ERROR trulens_eval.feedback.provider.endpoint.base: openai request failed <class 'openai.AuthenticationError'>=Error code: 401 - {'error': {'message': 'Incorrect API key provided: \"sk-t9Bc************************************************rtaj. You can find your API key at https://platform.openai.com/account/api-keys.', 'type': 'invalid_request_error', 'param': None, 'code': 'invalid_api_key'}}. Retries remaining=2.\n",
      "2024-03-10 11:00:11,117 ERROR trulens_eval.feedback.provider.endpoint.base: openai request failed <class 'openai.AuthenticationError'>=Error code: 401 - {'error': {'message': 'Incorrect API key provided: \"sk-t9Bc************************************************rtaj. You can find your API key at https://platform.openai.com/account/api-keys.', 'type': 'invalid_request_error', 'param': None, 'code': 'invalid_api_key'}}. Retries remaining=2.\n",
      "2024-03-10 11:00:11,122 ERROR trulens_eval.feedback.provider.endpoint.base: openai request failed <class 'openai.AuthenticationError'>=Error code: 401 - {'error': {'message': 'Incorrect API key provided: \"sk-t9Bc************************************************rtaj. You can find your API key at https://platform.openai.com/account/api-keys.', 'type': 'invalid_request_error', 'param': None, 'code': 'invalid_api_key'}}. Retries remaining=2.\n",
      "2024-03-10 11:00:15,178 ERROR trulens_eval.feedback.provider.endpoint.base: openai request failed <class 'openai.AuthenticationError'>=Error code: 401 - {'error': {'message': 'Incorrect API key provided: \"sk-t9Bc************************************************rtaj. You can find your API key at https://platform.openai.com/account/api-keys.', 'type': 'invalid_request_error', 'param': None, 'code': 'invalid_api_key'}}. Retries remaining=1.\n",
      "2024-03-10 11:00:15,214 ERROR trulens_eval.feedback.provider.endpoint.base: openai request failed <class 'openai.AuthenticationError'>=Error code: 401 - {'error': {'message': 'Incorrect API key provided: \"sk-t9Bc************************************************rtaj. You can find your API key at https://platform.openai.com/account/api-keys.', 'type': 'invalid_request_error', 'param': None, 'code': 'invalid_api_key'}}. Retries remaining=1.\n",
      "2024-03-10 11:00:15,220 ERROR trulens_eval.feedback.provider.endpoint.base: openai request failed <class 'openai.AuthenticationError'>=Error code: 401 - {'error': {'message': 'Incorrect API key provided: \"sk-t9Bc************************************************rtaj. You can find your API key at https://platform.openai.com/account/api-keys.', 'type': 'invalid_request_error', 'param': None, 'code': 'invalid_api_key'}}. Retries remaining=1.\n",
      "2024-03-10 11:00:23,329 ERROR trulens_eval.feedback.provider.endpoint.base: openai request failed <class 'openai.AuthenticationError'>=Error code: 401 - {'error': {'message': 'Incorrect API key provided: \"sk-t9Bc************************************************rtaj. You can find your API key at https://platform.openai.com/account/api-keys.', 'type': 'invalid_request_error', 'param': None, 'code': 'invalid_api_key'}}. Retries remaining=0.\n",
      "2024-03-10 11:00:23,350 ERROR trulens_eval.feedback.provider.endpoint.base: openai request failed <class 'openai.AuthenticationError'>=Error code: 401 - {'error': {'message': 'Incorrect API key provided: \"sk-t9Bc************************************************rtaj. You can find your API key at https://platform.openai.com/account/api-keys.', 'type': 'invalid_request_error', 'param': None, 'code': 'invalid_api_key'}}. Retries remaining=0.\n",
      "2024-03-10 11:00:23,360 ERROR trulens_eval.feedback.provider.endpoint.base: openai request failed <class 'openai.AuthenticationError'>=Error code: 401 - {'error': {'message': 'Incorrect API key provided: \"sk-t9Bc************************************************rtaj. You can find your API key at https://platform.openai.com/account/api-keys.', 'type': 'invalid_request_error', 'param': None, 'code': 'invalid_api_key'}}. Retries remaining=0.\n"
     ]
    },
    {
     "name": "stdout",
     "output_type": "stream",
     "text": [
      "last_conversation_no fetched from master json:  20207\n",
      "conversation length:  3\n",
      "LENGTH delta_conversation_df:  15\n",
      "CONTEXT  00:07:04 - spk_0: Um\n",
      "00:07:06 - spk_0: Last week we started discussing about documenting the current implementation of\n",
      "00:07:09 - spk_0: DS across Git lab\n",
      "00:07:11 - spk_0: and Patrick just sort of like a status.\n",
      "00:07:14 - spk_0: You have uh an update here.\n",
      "\n",
      "\n",
      "\n",
      "00:04:55 - spk_1: We're also working on enabling the web ID E extension marketplace\n",
      "00:04:59 - spk_1: uh for uh third party extensions within the web ID E.\n",
      "00:05:03 - spk_1: Uh This will be enabled for GIT lab.com uh\n",
      "00:05:06 - spk_1: SAS users only in January and we'll be working on\n",
      "00:05:10 - spk_1: adding it for self manage users uh after that. Uh\n",
      "00:25:14 - spk_5: to read those responses as they're streaming in.\n",
      "00:25:16 - spk_5: This will help chat feel more performant and faster at responding to questions.\n",
      "00:25:21 - spk_5: This will mirror how this works in the git lab\n",
      "00:25:24 - spk_5: uh dot com U I. Today,\n",
      "00:25:26 - spk_5: we're also working on improving support for slash commands\n",
      "\n",
      "\n",
      "\n",
      "One new feature planned for GitLab Pages in 16.8 is the enabling of the web ID E extension marketplace for GitLab.com SAS users only in January, with plans to add it for self-managed users after that. This will allow for the use of third-party extensions within the web ID E for GitLab Pages. Additionally, improvements are being made to support slash commands.\n",
      "One new feature planned for GitLab Pages in 16.8 is the enabling of the web ID E extension marketplace for GitLab.com SAS users only in January, with plans to add it for self-managed users after that. This will allow for the use of third-party extensions within the web ID E for GitLab Pages. Additionally, improvements are being made to support slash commands.\n"
     ]
    },
    {
     "name": "stderr",
     "output_type": "stream",
     "text": [
      "2024-03-10 11:00:31,639 ERROR trulens_eval.feedback.provider.endpoint.base: openai request failed <class 'openai.AuthenticationError'>=Error code: 401 - {'error': {'message': 'Incorrect API key provided: \"sk-t9Bc************************************************rtaj. You can find your API key at https://platform.openai.com/account/api-keys.', 'type': 'invalid_request_error', 'param': None, 'code': 'invalid_api_key'}}. Retries remaining=3.\n",
      "2024-03-10 11:00:31,649 ERROR trulens_eval.feedback.provider.endpoint.base: openai request failed <class 'openai.AuthenticationError'>=Error code: 401 - {'error': {'message': 'Incorrect API key provided: \"sk-t9Bc************************************************rtaj. You can find your API key at https://platform.openai.com/account/api-keys.', 'type': 'invalid_request_error', 'param': None, 'code': 'invalid_api_key'}}. Retries remaining=3.\n",
      "2024-03-10 11:00:31,667 ERROR trulens_eval.feedback.provider.endpoint.base: openai request failed <class 'openai.AuthenticationError'>=Error code: 401 - {'error': {'message': 'Incorrect API key provided: \"sk-t9Bc************************************************rtaj. You can find your API key at https://platform.openai.com/account/api-keys.', 'type': 'invalid_request_error', 'param': None, 'code': 'invalid_api_key'}}. Retries remaining=3.\n",
      "2024-03-10 11:00:33,740 ERROR trulens_eval.feedback.provider.endpoint.base: openai request failed <class 'openai.AuthenticationError'>=Error code: 401 - {'error': {'message': 'Incorrect API key provided: \"sk-t9Bc************************************************rtaj. You can find your API key at https://platform.openai.com/account/api-keys.', 'type': 'invalid_request_error', 'param': None, 'code': 'invalid_api_key'}}. Retries remaining=2.\n",
      "2024-03-10 11:00:33,741 ERROR trulens_eval.feedback.provider.endpoint.base: openai request failed <class 'openai.AuthenticationError'>=Error code: 401 - {'error': {'message': 'Incorrect API key provided: \"sk-t9Bc************************************************rtaj. You can find your API key at https://platform.openai.com/account/api-keys.', 'type': 'invalid_request_error', 'param': None, 'code': 'invalid_api_key'}}. Retries remaining=2.\n",
      "2024-03-10 11:00:33,764 ERROR trulens_eval.feedback.provider.endpoint.base: openai request failed <class 'openai.AuthenticationError'>=Error code: 401 - {'error': {'message': 'Incorrect API key provided: \"sk-t9Bc************************************************rtaj. You can find your API key at https://platform.openai.com/account/api-keys.', 'type': 'invalid_request_error', 'param': None, 'code': 'invalid_api_key'}}. Retries remaining=2.\n",
      "2024-03-10 11:00:37,838 ERROR trulens_eval.feedback.provider.endpoint.base: openai request failed <class 'openai.AuthenticationError'>=Error code: 401 - {'error': {'message': 'Incorrect API key provided: \"sk-t9Bc************************************************rtaj. You can find your API key at https://platform.openai.com/account/api-keys.', 'type': 'invalid_request_error', 'param': None, 'code': 'invalid_api_key'}}. Retries remaining=1.\n",
      "2024-03-10 11:00:37,838 ERROR trulens_eval.feedback.provider.endpoint.base: openai request failed <class 'openai.AuthenticationError'>=Error code: 401 - {'error': {'message': 'Incorrect API key provided: \"sk-t9Bc************************************************rtaj. You can find your API key at https://platform.openai.com/account/api-keys.', 'type': 'invalid_request_error', 'param': None, 'code': 'invalid_api_key'}}. Retries remaining=1.\n",
      "2024-03-10 11:00:37,860 ERROR trulens_eval.feedback.provider.endpoint.base: openai request failed <class 'openai.AuthenticationError'>=Error code: 401 - {'error': {'message': 'Incorrect API key provided: \"sk-t9Bc************************************************rtaj. You can find your API key at https://platform.openai.com/account/api-keys.', 'type': 'invalid_request_error', 'param': None, 'code': 'invalid_api_key'}}. Retries remaining=1.\n",
      "2024-03-10 11:00:45,945 ERROR trulens_eval.feedback.provider.endpoint.base: openai request failed <class 'openai.AuthenticationError'>=Error code: 401 - {'error': {'message': 'Incorrect API key provided: \"sk-t9Bc************************************************rtaj. You can find your API key at https://platform.openai.com/account/api-keys.', 'type': 'invalid_request_error', 'param': None, 'code': 'invalid_api_key'}}. Retries remaining=0.\n",
      "2024-03-10 11:00:45,951 ERROR trulens_eval.feedback.provider.endpoint.base: openai request failed <class 'openai.AuthenticationError'>=Error code: 401 - {'error': {'message': 'Incorrect API key provided: \"sk-t9Bc************************************************rtaj. You can find your API key at https://platform.openai.com/account/api-keys.', 'type': 'invalid_request_error', 'param': None, 'code': 'invalid_api_key'}}. Retries remaining=0.\n",
      "2024-03-10 11:00:45,979 ERROR trulens_eval.feedback.provider.endpoint.base: openai request failed <class 'openai.AuthenticationError'>=Error code: 401 - {'error': {'message': 'Incorrect API key provided: \"sk-t9Bc************************************************rtaj. You can find your API key at https://platform.openai.com/account/api-keys.', 'type': 'invalid_request_error', 'param': None, 'code': 'invalid_api_key'}}. Retries remaining=0.\n"
     ]
    }
   ],
   "source": [
    "for query in queries:\n",
    "    with tru_rag as recording:\n",
    "        completion,context = rag.query(query, in_filter=[])\n",
    "        print(completion)\n",
    "        qna.append([query, completion, ground_truths[queries.index(query)], context])"
   ]
  },
  {
   "cell_type": "code",
   "execution_count": null,
   "metadata": {},
   "outputs": [],
   "source": [
    "for q,a,con,gt in qna:\n",
    "    print(f\"Query: {q}\\nAnswer: {a}\\nContext: {con}\", f\"\\nGround Truth: {gt}\\n\\n\")"
   ]
  },
  {
   "cell_type": "markdown",
   "metadata": {},
   "source": [
    "Storing results"
   ]
  },
  {
   "cell_type": "markdown",
   "metadata": {},
   "source": [
    "Mistral AI"
   ]
  },
  {
   "cell_type": "code",
   "execution_count": 12,
   "metadata": {},
   "outputs": [],
   "source": [
    "import pandas as pd\n",
    "res = pd.DataFrame(qna, columns = ['Query', 'Answer', 'Ground Truth','Context'])\n",
    "res.to_csv('rag_results_mistrallarge.csv', index = False)"
   ]
  },
  {
   "cell_type": "code",
   "execution_count": 14,
   "metadata": {},
   "outputs": [],
   "source": [
    "results_df=tru.get_records_and_feedback(app_ids=[\"RAG mistral\"])[0]\n",
    "results_df.to_csv(\"mistrallarge_results.csv\")\n",
    "#results_df = results_df.loc[:,['record_id','input','output','Groundedness','Answer Relevance','Context Relevance','latency','total_tokens','total_cost']].copy()\n",
    "#results_df.to_csv(\"mistrallarge_results.csv\")\n",
    "results_df=results_df.tail(11)\n",
    "#results_df.to_csv(\"mistrallarge_results.csv\")\n"
   ]
  },
  {
   "cell_type": "code",
   "execution_count": 15,
   "metadata": {},
   "outputs": [],
   "source": [
    "\n",
    "\n",
    "df=pd.read_csv(\"rag_results_mistrallarge.csv\")\n",
    "col1=df['Answer']\n",
    "col2=df['Ground Truth']\n",
    "\n",
    "def calculate_cosine_similarity(text1, text2):\n",
    "    vectorizer = CountVectorizer().fit_transform([text1, text2])\n",
    "    vectors = vectorizer.toarray()\n",
    "    return cosine_similarity([vectors[0]], [vectors[1]])[0][0]\n",
    "\n",
    "results_df['cosine_similarity']= df.apply(lambda row: calculate_cosine_similarity(row['Answer'], row['Ground Truth']), axis=1)\n",
    "\n",
    "results_df.to_csv(\"mistrallarge_results.csv\")"
   ]
  },
  {
   "cell_type": "markdown",
   "metadata": {},
   "source": []
  }
 ],
 "metadata": {
  "kernelspec": {
   "display_name": "Python 3",
   "language": "python",
   "name": "python3"
  },
  "language_info": {
   "codemirror_mode": {
    "name": "ipython",
    "version": 3
   },
   "file_extension": ".py",
   "mimetype": "text/x-python",
   "name": "python",
   "nbconvert_exporter": "python",
   "pygments_lexer": "ipython3",
   "version": "3.11.3"
  }
 },
 "nbformat": 4,
 "nbformat_minor": 2
}

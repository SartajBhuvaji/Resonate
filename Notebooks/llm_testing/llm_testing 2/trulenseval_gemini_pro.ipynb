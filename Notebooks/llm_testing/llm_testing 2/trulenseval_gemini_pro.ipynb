{
 "cells": [
  {
   "cell_type": "markdown",
   "metadata": {},
   "source": [
    "Gemini LLM evaluation - Model is gemini-pro"
   ]
  },
  {
   "cell_type": "code",
   "execution_count": null,
   "metadata": {},
   "outputs": [],
   "source": [
    "from trulens_eval import TruChain, Feedback, Tru, feedback, Select\n",
    "\n",
    "from trulens_eval.tru_custom_app import instrument\n",
    "tru = Tru()\n",
    "import dotenv\n",
    "dotenv.load_dotenv()\n",
    "from pinecone_code import PineconeServerless\n",
    "import pandas as pd\n",
    "from sklearn.feature_extraction.text import CountVectorizer\n",
    "from sklearn.metrics.pairwise import cosine_similarity\n",
    "\n"
   ]
  },
  {
   "cell_type": "code",
   "execution_count": null,
   "metadata": {},
   "outputs": [],
   "source": [
    "prompt  = \"You are a friendly chat model. You will respond to the user's message using only the context provided. The context can be anything from a single message to a whole conversation. You can also ask questions to the user.\""
   ]
  },
  {
   "cell_type": "code",
   "execution_count": null,
   "metadata": {},
   "outputs": [],
   "source": [
    "import google.generativeai as genai\n",
    "import os\n",
    "genai.configure(api_key=os.getenv(\"GOOGLE_API_KEY\"))\n",
    "model = genai.GenerativeModel('gemini-pro')"
   ]
  },
  {
   "cell_type": "code",
   "execution_count": null,
   "metadata": {},
   "outputs": [],
   "source": [
    "def parse_conversations(conversations) -> str:\n",
    "    data = []\n",
    "    for cluster_id, cluster_df in conversations.items():\n",
    "        for i, row in cluster_df.iterrows():\n",
    "            data.append(\n",
    "                f\"{row['start_time']} - {row['speaker']}: {row['text']}\"\n",
    "            )\n",
    "        data.append(\"\\n\\n\")\n",
    "    data = \"\\n\".join(data)\n",
    "    return data"
   ]
  },
  {
   "cell_type": "code",
   "execution_count": null,
   "metadata": {},
   "outputs": [],
   "source": [
    "class RAG_from_scratch:\n",
    "    @instrument\n",
    "    def retrieve(self, query: str, in_filter: list) -> list:\n",
    "        \"\"\"\n",
    "        Retrieve relevant text from vector store.\n",
    "        \"\"\"\n",
    "        obj1 = PineconeServerless()\n",
    "        response1 = obj1.query_pinecone(query, in_filter)\n",
    "        conversation1_df = obj1.query_delta_conversations()\n",
    "        #text_list = list(conversation1_df)\n",
    "        context = parse_conversations(conversation1_df)\n",
    "        return context\n",
    "    \n",
    "    @instrument\n",
    "    def generate_completion(self, query: str, context_str) -> str:\n",
    "        \"\"\"\n",
    "        Generate answer from context.\n",
    "        \"\"\"\n",
    "        completion = model.generate_content(f\"[We have provided context information below.{context_str}Given this information, please answer the question: {query}]\",safety_settings={'HARASSMENT':'block_none','HARM_CATEGORY_HARASSMENT':'block_none', 'HARM_CATEGORY_HATE_SPEECH':'block_none', 'HARM_CATEGORY_SEXUALLY_EXPLICIT':'block_none', 'HARM_CATEGORY_DANGEROUS_CONTENT':'block_none'})\n",
    "        print(completion.prompt_feedback)\n",
    "        return completion.text\n",
    "        \n",
    "        \n",
    "\n",
    "    @instrument\n",
    "    def query(self, query: str, in_filter:list) -> str:\n",
    "        context_str = self.retrieve(query, in_filter)\n",
    "        print(\"CONTEXT \",context_str)\n",
    "        completion = self.generate_completion(query, context_str)\n",
    "        return completion,context_str\n",
    "\n",
    "rag = RAG_from_scratch()"
   ]
  },
  {
   "cell_type": "markdown",
   "metadata": {},
   "source": []
  },
  {
   "cell_type": "code",
   "execution_count": null,
   "metadata": {},
   "outputs": [],
   "source": [
    "from trulens_eval import Feedback, Select\n",
    "from trulens_eval.feedback import Groundedness\n",
    "from trulens_eval.feedback.provider.openai import OpenAI as fOpenAI\n",
    "\n",
    "import numpy as np\n",
    "# Initialize provider class\n",
    "fopenai = fOpenAI()\n",
    "\n",
    "grounded = Groundedness(groundedness_provider=fopenai)\n",
    "\n",
    "# Define a groundedness feedback function\n",
    "f_groundedness = (\n",
    "    Feedback(grounded.groundedness_measure_with_cot_reasons, name = \"Groundedness\")\n",
    "    .on(Select.RecordCalls.retrieve.rets.collect())\n",
    "    .on_output()\n",
    "    .aggregate(grounded.grounded_statements_aggregator)\n",
    ")\n",
    "\n",
    "# Question/answer relevance between overall question and answer.\n",
    "f_qa_relevance = (\n",
    "    Feedback(fopenai.relevance_with_cot_reasons, name = \"Answer Relevance\")\n",
    "    .on(Select.RecordCalls.retrieve.args.query)\n",
    "    .on_output()\n",
    ")\n",
    "\n",
    "# Question/statement relevance between question and each context chunk.\n",
    "f_context_relevance = (\n",
    "    Feedback(fopenai.qs_relevance_with_cot_reasons, name = \"Context Relevance\")\n",
    "    .on(Select.RecordCalls.retrieve.args.query)\n",
    "    .on(Select.RecordCalls.retrieve.rets.collect())\n",
    "    .aggregate(np.mean)\n",
    ")"
   ]
  },
  {
   "cell_type": "code",
   "execution_count": null,
   "metadata": {},
   "outputs": [],
   "source": [
    "from trulens_eval import TruCustomApp\n",
    "tru_rag = TruCustomApp(rag,\n",
    "    app_id = 'RAG gemini',\n",
    "    feedbacks = [f_groundedness, f_qa_relevance, f_context_relevance])"
   ]
  },
  {
   "cell_type": "code",
   "execution_count": null,
   "metadata": {},
   "outputs": [],
   "source": [
    "# if testing with clustering \n",
    "#in_filter = ['a4454589-6c49-4d8d-a6f6-c2b5c99ef229', '7c3c7ac7-94ee-4045-b94a-e9b1695c5b7e']\n",
    "in_filter = []  #if not using clustering"
   ]
  },
  {
   "cell_type": "code",
   "execution_count": null,
   "metadata": {},
   "outputs": [],
   "source": [
    "\n",
    "import pandas as pd \n",
    "questions= pd.read_csv(\"Questions.csv\")\n",
    "queries = questions['Question']\n",
    "\n",
    "ground_truths = questions['Groundtruth']\n",
    "qna = []"
   ]
  },
  {
   "cell_type": "code",
   "execution_count": null,
   "metadata": {},
   "outputs": [],
   "source": [
    "queries=queries.to_list()\n",
    "ground_truths=ground_truths.to_list()"
   ]
  },
  {
   "cell_type": "code",
   "execution_count": null,
   "metadata": {},
   "outputs": [],
   "source": [
    "for query in queries:\n",
    "    with tru_rag as recording:\n",
    "        completion,context = rag.query(query, in_filter)\n",
    "        print(completion)\n",
    "        qna.append([query, completion, ground_truths[queries.index(query)], context])"
   ]
  },
  {
   "cell_type": "code",
   "execution_count": null,
   "metadata": {},
   "outputs": [],
   "source": [
    "for q,a,con,gt in qna:\n",
    "    print(f\"Query: {q}\\nAnswer: {a}\\nContext: {con}\", f\"\\nGround Truth: {gt}\\n\\n\")"
   ]
  },
  {
   "cell_type": "code",
   "execution_count": null,
   "metadata": {},
   "outputs": [],
   "source": [
    "import pandas as pd\n",
    "res = pd.DataFrame(qna, columns = ['Query', 'Answer', 'Ground Truth','Context'])\n",
    "res.to_csv('rag_results_gemini.csv', index = False)"
   ]
  },
  {
   "cell_type": "code",
   "execution_count": null,
   "metadata": {},
   "outputs": [],
   "source": [
    "results_df=tru.get_records_and_feedback(app_ids=[\"RAG gemini\"])[0]"
   ]
  },
  {
   "cell_type": "code",
   "execution_count": 1,
   "metadata": {},
   "outputs": [],
   "source": [
    "df=pd.read_csv(\"rag_results_gemini.csv\")\n",
    "\n",
    "\n",
    "def calculate_cosine_similarity(text1, text2):\n",
    "    vectorizer = CountVectorizer().fit_transform([text1, text2])\n",
    "    vectors = vectorizer.toarray()\n",
    "    return cosine_similarity([vectors[0]], [vectors[1]])[0][0]\n",
    "\n",
    "results_df['cosine_similarity']= df.apply(lambda row: calculate_cosine_similarity(row['Answer'], row['Ground Truth']), axis=1)\n",
    "\n",
    "results_df.to_csv(\"gemini_pro_results.csv\")"
   ]
  }
 ],
 "metadata": {
  "kernelspec": {
   "display_name": "Python 3",
   "language": "python",
   "name": "python3"
  },
  "language_info": {
   "codemirror_mode": {
    "name": "ipython",
    "version": 3
   },
   "file_extension": ".py",
   "mimetype": "text/x-python",
   "name": "python",
   "nbconvert_exporter": "python",
   "pygments_lexer": "ipython3",
   "version": "3.11.3"
  }
 },
 "nbformat": 4,
 "nbformat_minor": 2
}

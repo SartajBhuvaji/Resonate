{
  "cells": [
    {
      "cell_type": "code",
      "execution_count": null,
      "metadata": {
        "id": "1JIQn6R7HiyM"
      },
      "outputs": [],
      "source": [
        "#!pip install pinecone-client"
      ]
    },
    {
      "cell_type": "code",
      "execution_count": null,
      "metadata": {
        "colab": {
          "base_uri": "https://localhost:8080/"
        },
        "id": "B0UMU0QiTHcY",
        "outputId": "35924530-f96c-4f46-fd2a-1eb9d53eca59"
      },
      "outputs": [
        {
          "name": "stderr",
          "output_type": "stream",
          "text": [
            "/usr/local/lib/python3.10/dist-packages/pinecone/index.py:4: TqdmExperimentalWarning: Using `tqdm.autonotebook.tqdm` in notebook mode. Use `tqdm.tqdm` instead to force console mode (e.g. in jupyter console)\n",
            "  from tqdm.autonotebook import tqdm\n"
          ]
        }
      ],
      "source": [
        "import pinecone\n",
        "import dotenv\n",
        "dotenv.load_dotenv()\n",
        "import time\n",
        "import os\n",
        "\n",
        "API_KEY = ''\n",
        "ENV = 'gcp-starter'\n",
        "\n",
        "api_key = os.environ.get('PINECONE_API_KEY') or API_KEY\n",
        "env = os.environ.get('PINECONE_ENVIRONMENT') or ENV\n",
        "\n",
        "pinecone.init(api_key=api_key, environment=env)"
      ]
    },
    {
      "cell_type": "code",
      "execution_count": null,
      "metadata": {
        "colab": {
          "base_uri": "https://localhost:8080/"
        },
        "id": "82TFnp1HeFhy",
        "outputId": "228739ef-6263-46ca-d0e3-b7aa7bdc3b58"
      },
      "outputs": [
        {
          "data": {
            "text/plain": [
              "['company-name']"
            ]
          },
          "execution_count": 8,
          "metadata": {},
          "output_type": "execute_result"
        }
      ],
      "source": [
        "pinecone.list_indexes()"
      ]
    },
    {
      "cell_type": "code",
      "execution_count": null,
      "metadata": {
        "id": "tqrwIj_yd48M"
      },
      "outputs": [],
      "source": [
        "# pinecone.delete_index(index_name)"
      ]
    },
    {
      "cell_type": "code",
      "execution_count": null,
      "metadata": {
        "id": "IcMJoEz8Tm3r"
      },
      "outputs": [],
      "source": [
        "index_name = \"company-name\"\n",
        "dimension = 4 # dimensions of Encoder\n",
        "namespace = \"meeting-title\""
      ]
    },
    {
      "cell_type": "code",
      "execution_count": null,
      "metadata": {
        "colab": {
          "base_uri": "https://localhost:8080/"
        },
        "id": "ZEJk0LD9TTYI",
        "outputId": "fcf4acea-c44a-4403-a313-307d75dc5e25"
      },
      "outputs": [
        {
          "name": "stdout",
          "output_type": "stream",
          "text": [
            "IndexDescription(name='company-name', metric='dotproduct', replicas=1, dimension=4.0, shards=1, pods=1, pod_type='starter', status={'ready': True, 'state': 'Ready'}, metadata_config=None, source_collection='')\n"
          ]
        }
      ],
      "source": [
        "if index_name in pinecone.list_indexes():\n",
        "    pinecone.delete_index(index_name)\n",
        "\n",
        "# we create a new index\n",
        "pinecone.create_index(\n",
        "    name=index_name, # meeting_name\n",
        "    metric='dotproduct', # need to check\n",
        "    dimension=dimension,\n",
        "    #pod_type, # need to check\n",
        "    #metadata_config --> need to check\n",
        ")\n",
        "\n",
        "# wait for index to be initialized\n",
        "while not pinecone.describe_index(index_name).status['ready']:\n",
        "    time.sleep(1)\n",
        "\n",
        "print(pinecone.describe_index(index_name))"
      ]
    },
    {
      "cell_type": "code",
      "execution_count": null,
      "metadata": {
        "id": "5gotwZFVTTao"
      },
      "outputs": [],
      "source": [
        "index = pinecone.Index(index_name)\n",
        "# data class\n",
        "data = [\n",
        "        #(\"id\", [vector_data], {metadata})\n",
        "        #(\"namespace_metadata\", [0], {})\n",
        "        (\"person_1\", [0.1, 0.2, 0.3, 0.4], {\"timestamp\": \"04012024\", \"meeting_no\": 1 ,\"speaker\": \"person_1\"}),\n",
        "        (\"person_2\", [0.2, 0.3, 0.4, 0.5], {\"timestamp\": \"04012024\", \"meeting_no\": 1}),\n",
        "\n",
        "        (\"person_1\", [0.5, 0.5, 0.5, 0.5], {\"timestamp\": \"05012024\", \"meeting_no\": 2}),\n",
        "        (\"person_2\", [0.4, 0.4, 0.4, 0.4], {\"timestamp\": \"05012024\", \"meeting_no\": 2})\n",
        "    ]"
      ]
    },
    {
      "cell_type": "code",
      "execution_count": null,
      "metadata": {
        "id": "0Ho4PP3CTTdO"
      },
      "outputs": [],
      "source": [
        "# function to insert data\n",
        "upsert_response = index.upsert(\n",
        "    vectors=data,\n",
        "    namespace=namespace\n",
        ")"
      ]
    },
    {
      "cell_type": "code",
      "execution_count": null,
      "metadata": {
        "id": "AktKyT2hTTfi"
      },
      "outputs": [],
      "source": [
        "# a func to get relevale id's\n",
        "downstr_response = index.query(\n",
        "    vector=[0.45, 0.45, 0.45, 0.45],\n",
        "    filter={\n",
        "        \"meeting_no\": {\"$in\":[1, 2]}\n",
        "    },\n",
        "    namespace=namespace, # restricting search by meeting_title\n",
        "    top_k=2,\n",
        "    include_metadata=True,\n",
        ")"
      ]
    },
    {
      "cell_type": "code",
      "execution_count": null,
      "metadata": {
        "colab": {
          "base_uri": "https://localhost:8080/"
        },
        "id": "YrhjuJAXTTh-",
        "outputId": "e3a555b6-98a7-47f4-afd7-b409c7f529f7"
      },
      "outputs": [
        {
          "data": {
            "text/plain": [
              "{'matches': [{'id': 'person_1',\n",
              "              'metadata': {'meeting_no': 2.0, 'timestamp': '05012024'},\n",
              "              'score': 0.9,\n",
              "              'values': []},\n",
              "             {'id': 'person_2',\n",
              "              'metadata': {'meeting_no': 2.0, 'timestamp': '05012024'},\n",
              "              'score': 0.719999969,\n",
              "              'values': []}],\n",
              " 'namespace': 'meeting-title'}"
            ]
          },
          "execution_count": 19,
          "metadata": {},
          "output_type": "execute_result"
        }
      ],
      "source": [
        "downstr_response"
      ]
    },
    {
      "cell_type": "code",
      "execution_count": null,
      "metadata": {
        "colab": {
          "base_uri": "https://localhost:8080/"
        },
        "id": "kLzpFKm2grIf",
        "outputId": "c7736448-0352-470b-9d90-3adbe9bfb031"
      },
      "outputs": [
        {
          "data": {
            "text/plain": [
              "{'namespace': 'meeting-title',\n",
              " 'vectors': {'person_1': {'id': 'person_1',\n",
              "                          'metadata': {'meeting_no': 2.0,\n",
              "                                       'timestamp': '05012024'},\n",
              "                          'values': [0.5, 0.5, 0.5, 0.5]},\n",
              "             'person_2': {'id': 'person_2',\n",
              "                          'metadata': {'meeting_no': 2.0,\n",
              "                                       'timestamp': '05012024'},\n",
              "                          'values': [0.4, 0.4, 0.4, 0.4]}}}"
            ]
          },
          "execution_count": 21,
          "metadata": {},
          "output_type": "execute_result"
        }
      ],
      "source": [
        "# a func to get data from id's : we need to filter by relevence scores!\n",
        "id_list = [match['id'] for match in downstr_response['matches']]\n",
        "fetch_response = index.fetch(ids=id_list, namespace=namespace)\n",
        "fetch_response"
      ]
    },
    {
      "cell_type": "code",
      "execution_count": null,
      "metadata": {
        "id": "uIUoXKJZhC70"
      },
      "outputs": [],
      "source": []
    }
  ],
  "metadata": {
    "colab": {
      "provenance": []
    },
    "kernelspec": {
      "display_name": "Python 3",
      "name": "python3"
    },
    "language_info": {
      "name": "python"
    }
  },
  "nbformat": 4,
  "nbformat_minor": 0
}

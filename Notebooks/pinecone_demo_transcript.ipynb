{
 "cells": [
  {
   "cell_type": "markdown",
   "metadata": {},
   "source": [
    "In this notebook we use a demo transcript and store it into Pinecone and retrieve data according to a query.\n",
    "\n",
    "Author: Sartaj"
   ]
  },
  {
   "cell_type": "code",
   "execution_count": 109,
   "metadata": {},
   "outputs": [],
   "source": [
    "# # Have the `transcript.csv` file in the same directory as this notebook\n",
    "# # Create a .env file with the following variables:\n",
    "# OPENAI_API_KEY\n",
    "# PINECONE_API_KEY\n",
    "# PINECONE_ENVIRONMENT"
   ]
  },
  {
   "cell_type": "code",
   "execution_count": 16,
   "metadata": {},
   "outputs": [
    {
     "data": {
      "text/plain": [
       "False"
      ]
     },
     "execution_count": 16,
     "metadata": {},
     "output_type": "execute_result"
    }
   ],
   "source": [
    "import pandas as pd\n",
    "import dotenv\n",
    "dotenv.load_dotenv()"
   ]
  },
  {
   "cell_type": "markdown",
   "metadata": {},
   "source": [
    "Read Data and Pre-process"
   ]
  },
  {
   "cell_type": "code",
   "execution_count": 33,
   "metadata": {},
   "outputs": [
    {
     "data": {
      "text/html": [
       "<div>\n",
       "<style scoped>\n",
       "    .dataframe tbody tr th:only-of-type {\n",
       "        vertical-align: middle;\n",
       "    }\n",
       "\n",
       "    .dataframe tbody tr th {\n",
       "        vertical-align: top;\n",
       "    }\n",
       "\n",
       "    .dataframe thead th {\n",
       "        text-align: right;\n",
       "    }\n",
       "</style>\n",
       "<table border=\"1\" class=\"dataframe\">\n",
       "  <thead>\n",
       "    <tr style=\"text-align: right;\">\n",
       "      <th></th>\n",
       "      <th>Unnamed: 0</th>\n",
       "      <th>start_time</th>\n",
       "      <th>end_time</th>\n",
       "      <th>speaker_label</th>\n",
       "      <th>text</th>\n",
       "    </tr>\n",
       "  </thead>\n",
       "  <tbody>\n",
       "    <tr>\n",
       "      <th>0</th>\n",
       "      <td>0</td>\n",
       "      <td>0.000150</td>\n",
       "      <td>0.083500</td>\n",
       "      <td>Speaker 1</td>\n",
       "      <td>How do I defend myself and my Children against...</td>\n",
       "    </tr>\n",
       "    <tr>\n",
       "      <th>1</th>\n",
       "      <td>1</td>\n",
       "      <td>0.083650</td>\n",
       "      <td>0.128983</td>\n",
       "      <td>Speaker 1</td>\n",
       "      <td>And you said to yourself that the police may n...</td>\n",
       "    </tr>\n",
       "    <tr>\n",
       "      <th>2</th>\n",
       "      <td>2</td>\n",
       "      <td>0.129167</td>\n",
       "      <td>0.135000</td>\n",
       "      <td>Speaker 1</td>\n",
       "      <td>Tell me,</td>\n",
       "    </tr>\n",
       "    <tr>\n",
       "      <th>3</th>\n",
       "      <td>3</td>\n",
       "      <td>0.135150</td>\n",
       "      <td>0.189983</td>\n",
       "      <td>Speaker 2</td>\n",
       "      <td>you know what the best chance you got in a sit...</td>\n",
       "    </tr>\n",
       "    <tr>\n",
       "      <th>4</th>\n",
       "      <td>4</td>\n",
       "      <td>0.190150</td>\n",
       "      <td>0.203983</td>\n",
       "      <td>Speaker 2</td>\n",
       "      <td>She just stated that</td>\n",
       "    </tr>\n",
       "  </tbody>\n",
       "</table>\n",
       "</div>"
      ],
      "text/plain": [
       "   Unnamed: 0  start_time  end_time speaker_label  \\\n",
       "0           0    0.000150  0.083500     Speaker 1   \n",
       "1           1    0.083650  0.128983     Speaker 1   \n",
       "2           2    0.129167  0.135000     Speaker 1   \n",
       "3           3    0.135150  0.189983     Speaker 2   \n",
       "4           4    0.190150  0.203983     Speaker 2   \n",
       "\n",
       "                                                text  \n",
       "0  How do I defend myself and my Children against...  \n",
       "1  And you said to yourself that the police may n...  \n",
       "2                                           Tell me,  \n",
       "3  you know what the best chance you got in a sit...  \n",
       "4                               She just stated that  "
      ]
     },
     "execution_count": 33,
     "metadata": {},
     "output_type": "execute_result"
    }
   ],
   "source": [
    "transcript = pd.read_csv('transcript.csv')\n",
    "transcript.head()"
   ]
  },
  {
   "cell_type": "code",
   "execution_count": 34,
   "metadata": {},
   "outputs": [
    {
     "data": {
      "text/html": [
       "<div>\n",
       "<style scoped>\n",
       "    .dataframe tbody tr th:only-of-type {\n",
       "        vertical-align: middle;\n",
       "    }\n",
       "\n",
       "    .dataframe tbody tr th {\n",
       "        vertical-align: top;\n",
       "    }\n",
       "\n",
       "    .dataframe thead th {\n",
       "        text-align: right;\n",
       "    }\n",
       "</style>\n",
       "<table border=\"1\" class=\"dataframe\">\n",
       "  <thead>\n",
       "    <tr style=\"text-align: right;\">\n",
       "      <th></th>\n",
       "      <th>start_time</th>\n",
       "      <th>speaker_label</th>\n",
       "      <th>text</th>\n",
       "    </tr>\n",
       "  </thead>\n",
       "  <tbody>\n",
       "    <tr>\n",
       "      <th>0</th>\n",
       "      <td>0.000150</td>\n",
       "      <td>Speaker 1</td>\n",
       "      <td>How do I defend myself and my Children against...</td>\n",
       "    </tr>\n",
       "    <tr>\n",
       "      <th>1</th>\n",
       "      <td>0.083650</td>\n",
       "      <td>Speaker 1</td>\n",
       "      <td>And you said to yourself that the police may n...</td>\n",
       "    </tr>\n",
       "    <tr>\n",
       "      <th>2</th>\n",
       "      <td>0.129167</td>\n",
       "      <td>Speaker 1</td>\n",
       "      <td>Tell me,</td>\n",
       "    </tr>\n",
       "    <tr>\n",
       "      <th>3</th>\n",
       "      <td>0.135150</td>\n",
       "      <td>Speaker 2</td>\n",
       "      <td>you know what the best chance you got in a sit...</td>\n",
       "    </tr>\n",
       "    <tr>\n",
       "      <th>4</th>\n",
       "      <td>0.190150</td>\n",
       "      <td>Speaker 2</td>\n",
       "      <td>She just stated that</td>\n",
       "    </tr>\n",
       "  </tbody>\n",
       "</table>\n",
       "</div>"
      ],
      "text/plain": [
       "   start_time speaker_label                                               text\n",
       "0    0.000150     Speaker 1  How do I defend myself and my Children against...\n",
       "1    0.083650     Speaker 1  And you said to yourself that the police may n...\n",
       "2    0.129167     Speaker 1                                           Tell me,\n",
       "3    0.135150     Speaker 2  you know what the best chance you got in a sit...\n",
       "4    0.190150     Speaker 2                               She just stated that"
      ]
     },
     "execution_count": 34,
     "metadata": {},
     "output_type": "execute_result"
    }
   ],
   "source": [
    "transcript.dropna(inplace=True)\n",
    "transcript.drop(['Unnamed: 0', 'end_time' ], axis=1, inplace=True)\n",
    "transcript.head()"
   ]
  },
  {
   "cell_type": "markdown",
   "metadata": {},
   "source": [
    "Creating Embeddings"
   ]
  },
  {
   "cell_type": "code",
   "execution_count": 6,
   "metadata": {},
   "outputs": [],
   "source": [
    "import os\n",
    "import openai\n",
    "from langchain.embeddings.openai import OpenAIEmbeddings\n",
    "\n",
    "OPENAI_API_KEY = os.getenv('OPENAI_API_KEY') or 'OPENAI_API_KEY'"
   ]
  },
  {
   "cell_type": "code",
   "execution_count": 7,
   "metadata": {},
   "outputs": [],
   "source": [
    "model_name = 'text-embedding-ada-002'\n",
    "\n",
    "embed = OpenAIEmbeddings(\n",
    "    model=model_name,\n",
    "    openai_api_key=OPENAI_API_KEY\n",
    ")"
   ]
  },
  {
   "cell_type": "code",
   "execution_count": 8,
   "metadata": {},
   "outputs": [
    {
     "data": {
      "text/plain": [
       "(2, 1536)"
      ]
     },
     "execution_count": 8,
     "metadata": {},
     "output_type": "execute_result"
    }
   ],
   "source": [
    "texts = [\n",
    "    'this is the first chunk of text',\n",
    "    'then another second chunk of text is here'\n",
    "]\n",
    "\n",
    "res = embed.embed_documents(texts)\n",
    "len(res), len(res[0]) # (x,1536) 1536 is the embedding size"
   ]
  },
  {
   "cell_type": "code",
   "execution_count": 53,
   "metadata": {},
   "outputs": [
    {
     "data": {
      "text/plain": [
       "1536"
      ]
     },
     "execution_count": 53,
     "metadata": {},
     "output_type": "execute_result"
    }
   ],
   "source": [
    "def create_embedding(text):\n",
    "    return embed.embed_documents([text])[0]\n",
    "\n",
    "# get first row of transcript\n",
    "test_embedding_function = create_embedding(transcript.iloc[0]['text'])\n",
    "len(test_embedding_function) # 1 X 1536"
   ]
  },
  {
   "cell_type": "markdown",
   "metadata": {},
   "source": [
    "Pinecone"
   ]
  },
  {
   "cell_type": "code",
   "execution_count": null,
   "metadata": {},
   "outputs": [],
   "source": [
    "import pinecone\n",
    "import time\n",
    "\n",
    "PINECONE_API_KEY = os.getenv('PINECONE_API_KEY') or 'PINECONE_API_KEY'\n",
    "PINECONE_ENVIRONMENT = os.getenv('PINECONE_ENVIRONMENT') or 'PINECONE_ENVIRONMENT'\n",
    "index_name = 'langchain-retrieval-transcript'\n",
    "namespace = 'meeting_topic'\n",
    "\n",
    "pinecone.init(\n",
    "    api_key=PINECONE_API_KEY,\n",
    "    environment=PINECONE_ENVIRONMENT)"
   ]
  },
  {
   "cell_type": "code",
   "execution_count": 100,
   "metadata": {},
   "outputs": [
    {
     "name": "stdout",
     "output_type": "stream",
     "text": [
      "[]\n"
     ]
    }
   ],
   "source": [
    "print(pinecone.list_indexes())\n",
    "for index in pinecone.list_indexes():\n",
    "    print(pinecone.delete_index(index))"
   ]
  },
  {
   "cell_type": "code",
   "execution_count": 101,
   "metadata": {},
   "outputs": [],
   "source": [
    "# create index\n",
    "if index_name not in pinecone.list_indexes():\n",
    "    pinecone.create_index(\n",
    "        name=index_name,\n",
    "        metric='cosine',\n",
    "        dimension=len(res[0])  # model_name = 'text-embedding-ada-002'; 1536 dim of text-embedding-ada-002\n",
    "    )   \n",
    "    \n",
    "while not pinecone.describe_index(index_name).status['ready']:\n",
    "    time.sleep(1)\n"
   ]
  },
  {
   "cell_type": "code",
   "execution_count": 102,
   "metadata": {},
   "outputs": [
    {
     "data": {
      "text/plain": [
       "{'dimension': 1536,\n",
       " 'index_fullness': 0.0,\n",
       " 'namespaces': {},\n",
       " 'total_vector_count': 0}"
      ]
     },
     "execution_count": 102,
     "metadata": {},
     "output_type": "execute_result"
    }
   ],
   "source": [
    "index = pinecone.Index(index_name)\n",
    "index.describe_index_stats()"
   ]
  },
  {
   "cell_type": "code",
   "execution_count": 91,
   "metadata": {},
   "outputs": [
    {
     "data": {
      "text/plain": [
       "{}"
      ]
     },
     "execution_count": 91,
     "metadata": {},
     "output_type": "execute_result"
    }
   ],
   "source": [
    "# index.delete(delete_all=True, namespace=namespace)"
   ]
  },
  {
   "cell_type": "markdown",
   "metadata": {},
   "source": [
    "Inserting data into Pinecone"
   ]
  },
  {
   "cell_type": "code",
   "execution_count": 103,
   "metadata": {},
   "outputs": [
    {
     "name": "stderr",
     "output_type": "stream",
     "text": [
      "954it [00:18, 51.25it/s]\n"
     ]
    }
   ],
   "source": [
    "from tqdm.auto import tqdm\n",
    "from uuid import uuid4\n",
    "\n",
    "batch_limit = 50\n",
    "texts = []\n",
    "metadatas = []\n",
    "meeting_id = 1\n",
    "\n",
    "for i, record in tqdm(transcript.iterrows()):\n",
    "    # first get metadata fields for this record\n",
    "    metadata = {\n",
    "        'speaker': record['speaker_label'],\n",
    "        'start_time': round(record['start_time'], 4), # limit to 4 decimal places \n",
    "        'meeting_id': meeting_id,\n",
    "        'text': record['text'], # Storing the text in the metadata for now, later we'd need to decode it from vectors\n",
    "    }\n",
    "\n",
    "    record_texts = record['text']\n",
    "\n",
    "    texts.append(record_texts)\n",
    "    metadatas.append(metadata)\n",
    "\n",
    "    # print(texts)\n",
    "    # print(metadatas)\n",
    "    \n",
    "    # if we have reached the batch_limit we can add texts\n",
    "    if len(texts) >= batch_limit:\n",
    "        ids = [str(uuid4()) for _ in range(len(texts))]\n",
    "        embeds = embed.embed_documents(texts)\n",
    "        index.upsert(vectors=zip(ids, embeds, metadatas), namespace=namespace)\n",
    "        texts = []\n",
    "        metadatas = []\n",
    "        meeting_id += 1\n",
    "\n",
    "# add any remaining texts\n",
    "if len(texts) > 0:\n",
    "    ids = [str(uuid4()) for _ in range(len(texts))]\n",
    "    embeds = embed.embed_documents(texts)\n",
    "    index.upsert(vectors=zip(ids, embeds, metadatas))\n",
    "    \n",
    "time.sleep(5)    "
   ]
  },
  {
   "cell_type": "code",
   "execution_count": 106,
   "metadata": {},
   "outputs": [
    {
     "data": {
      "text/plain": [
       "{'dimension': 1536,\n",
       " 'index_fullness': 0.00954,\n",
       " 'namespaces': {'': {'vector_count': 4},\n",
       "                'meeting_topic': {'vector_count': 950}},\n",
       " 'total_vector_count': 954}"
      ]
     },
     "execution_count": 106,
     "metadata": {},
     "output_type": "execute_result"
    }
   ],
   "source": [
    "index.describe_index_stats()   "
   ]
  },
  {
   "cell_type": "markdown",
   "metadata": {},
   "source": [
    "Querying Pinecone DB"
   ]
  },
  {
   "cell_type": "code",
   "execution_count": null,
   "metadata": {},
   "outputs": [],
   "source": [
    "# Need to look up about using LangChain for retrieval"
   ]
  },
  {
   "cell_type": "code",
   "execution_count": 108,
   "metadata": {},
   "outputs": [
    {
     "data": {
      "text/plain": [
       "{'matches': [{'id': '704f8d0c-23dc-49aa-a016-dba4364fbdd2',\n",
       "              'metadata': {'meeting_id': 12.0,\n",
       "                           'speaker': 'Speaker 7',\n",
       "                           'start_time': 27.0078,\n",
       "                           'text': 'The question is more so will the United '\n",
       "                                   'States of America'},\n",
       "              'score': 0.829302073,\n",
       "              'values': []},\n",
       "             {'id': 'e93c5dad-3b61-4250-83b4-e97156f9079a',\n",
       "              'metadata': {'meeting_id': 12.0,\n",
       "                           'speaker': 'Speaker 7',\n",
       "                           'start_time': 26.584,\n",
       "                           'text': 'But I think the question is more so will '\n",
       "                                   'the United States of America'},\n",
       "              'score': 0.819661617,\n",
       "              'values': []},\n",
       "             {'id': '61d40cda-804c-4994-84ae-8fa1581e9a22',\n",
       "              'metadata': {'meeting_id': 2.0,\n",
       "                           'speaker': 'Narrator',\n",
       "                           'start_time': 4.5253,\n",
       "                           'text': 'day when we talk about the constitution as '\n",
       "                                   'like this sacred document.'},\n",
       "              'score': 0.819337666,\n",
       "              'values': []},\n",
       "             {'id': '363ba14e-b0d4-4eb8-9cc4-505205d139ca',\n",
       "              'metadata': {'meeting_id': 5.0,\n",
       "                           'speaker': 'Speaker 7',\n",
       "                           'start_time': 9.3533,\n",
       "                           'text': \"And I think that's something that in \"\n",
       "                                   \"America we're not talking about.\"},\n",
       "              'score': 0.816306114,\n",
       "              'values': []},\n",
       "             {'id': '7671de0f-359f-4132-9c5d-339061a688d8',\n",
       "              'metadata': {'meeting_id': 19.0,\n",
       "                           'speaker': 'Speaker 5',\n",
       "                           'start_time': 42.6313,\n",
       "                           'text': 'Us'},\n",
       "              'score': 0.807339668,\n",
       "              'values': []},\n",
       "             {'id': '11022d06-9524-4ef5-bb9d-0754b09fb635',\n",
       "              'metadata': {'meeting_id': 19.0,\n",
       "                           'speaker': 'Speaker 7',\n",
       "                           'start_time': 41.1358,\n",
       "                           'text': 'our elected officials are in fact '\n",
       "                                   'advocating for such'},\n",
       "              'score': 0.806104958,\n",
       "              'values': []},\n",
       "             {'id': '3234ae79-9723-4d0d-9895-53688f9181d0',\n",
       "              'metadata': {'meeting_id': 19.0,\n",
       "                           'speaker': 'Narrator',\n",
       "                           'start_time': 42.0947,\n",
       "                           'text': 'there have been a lot of different views '\n",
       "                                   'on this panel.'},\n",
       "              'score': 0.803455591,\n",
       "              'values': []},\n",
       "             {'id': 'f0b8728c-7204-40f7-a059-eadb75fd2e25',\n",
       "              'metadata': {'meeting_id': 5.0,\n",
       "                           'speaker': 'Speaker 7',\n",
       "                           'start_time': 9.309,\n",
       "                           'text': 'of weapons being introduced into America.'},\n",
       "              'score': 0.799421906,\n",
       "              'values': []},\n",
       "             {'id': 'a451fa3b-fb10-4c74-bad9-8335ad7f24ff',\n",
       "              'metadata': {'meeting_id': 19.0,\n",
       "                           'speaker': 'Speaker 7',\n",
       "                           'start_time': 40.985,\n",
       "                           'text': 'The United States Congress needs to remove '\n",
       "                                   \"all legislation that's\"},\n",
       "              'score': 0.798455656,\n",
       "              'values': []},\n",
       "             {'id': '307b8c0d-6e45-40de-83c3-bbc508232a69',\n",
       "              'metadata': {'meeting_id': 5.0,\n",
       "                           'speaker': 'Speaker 7',\n",
       "                           'start_time': 9.4446,\n",
       "                           'text': 'the gun capitalists accountable in this '\n",
       "                                   'conversation.'},\n",
       "              'score': 0.796806335,\n",
       "              'values': []}],\n",
       " 'namespace': 'meeting_topic'}"
      ]
     },
     "execution_count": 108,
     "metadata": {},
     "output_type": "execute_result"
    }
   ],
   "source": [
    "query  = \"What was talked regarding United States Congress?\"\n",
    "downstr_response = index.query(\n",
    "    vector= embed.embed_documents([query])[0],\n",
    "    # filter={\n",
    "    #     \"meeting_id\": {\"$in\":[1, 2]}\n",
    "    # },\n",
    "    namespace=namespace, \n",
    "    top_k=10,\n",
    "    include_metadata=True,\n",
    ")\n",
    "downstr_response"
   ]
  },
  {
   "cell_type": "code",
   "execution_count": null,
   "metadata": {},
   "outputs": [],
   "source": []
  }
 ],
 "metadata": {
  "kernelspec": {
   "display_name": "Python 3",
   "language": "python",
   "name": "python3"
  },
  "language_info": {
   "codemirror_mode": {
    "name": "ipython",
    "version": 3
   },
   "file_extension": ".py",
   "mimetype": "text/x-python",
   "name": "python",
   "nbconvert_exporter": "python",
   "pygments_lexer": "ipython3",
   "version": "3.10.11"
  }
 },
 "nbformat": 4,
 "nbformat_minor": 2
}

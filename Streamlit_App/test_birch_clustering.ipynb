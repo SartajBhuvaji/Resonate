{
 "cells": [
  {
   "cell_type": "code",
   "execution_count": null,
   "metadata": {},
   "outputs": [],
   "source": [
    "import os\n",
    "\n",
    "import numpy as np\n",
    "import openai\n",
    "import pandas as pd\n",
    "\n",
    "\n",
    "\n",
    "from sklearn.cluster import Birch\n",
    "\n",
    "\n",
    "from sklearn.metrics import silhouette_score\n",
    "\n",
    "\n",
    "\n",
    "from sklearn.model_selection import GridSearchCV\n",
    "\n",
    "\n",
    "\n",
    "# Set your OpenAI API key\n",
    "\n",
    "\n",
    "\n",
    "openai.api_key = \"OPENAI_API_KEY\"\n",
    "\n",
    "\n",
    "\n",
    "# Load your data from CSV into a DataFrame\n",
    "\n",
    "\n",
    "df = pd.read_csv(\"data\\broken_summary_new_data.csv\")\n",
    "\n",
    "\n",
    "\n",
    "# Extract text data from the 'text' column\n",
    "\n",
    "\n",
    "\n",
    "text_data = df[\"text\"].tolist()\n",
    "\n",
    "\n",
    "\n",
    "# Initialize an empty list to store embeddings\n",
    "\n",
    "\n",
    "\n",
    "all_embeddings = []\n",
    "\n",
    "\n",
    "\n",
    "# Define maximum chunk size (adjust as needed)\n",
    "\n",
    "\n",
    "\n",
    "max_chunk_size = 500  # You can adjust this value based on your requirements\n",
    "\n",
    "\n",
    "\n",
    "# Generate embeddings for each chunk of text\n",
    "\n",
    "\n",
    "for summary in text_data:\n",
    "\n",
    "    # Split the summary into chunks of maximum size\n",
    "\n",
    "    chunks = [\n",
    "        summary[i : i + max_chunk_size] for i in range(0, len(summary), max_chunk_size)\n",
    "    ]\n",
    "\n",
    "\n",
    "    # Generate embeddings for each chunk\n",
    "\n",
    "    chunk_embeddings = []\n",
    "\n",
    "    for chunk in chunks:\n",
    "\n",
    "        # Generate embeddings for the chunk using Ada-002\n",
    "\n",
    "        embedding = openai.Embed(\"ada-002\", texts=chunk)\n",
    "\n",
    "        chunk_embeddings.append(embedding)\n",
    "\n",
    "\n",
    "    # Aggregate embeddings of chunks (e.g., by averaging)\n",
    "\n",
    "    aggregated_embedding = np.mean(chunk_embeddings, axis=0)\n",
    "\n",
    "\n",
    "    # Append the aggregated embedding to the list of all embeddings\n",
    "\n",
    "    all_embeddings.append(aggregated_embedding)\n",
    "\n",
    "\n",
    "\n",
    "# Convert the list of embeddings to a numpy array\n",
    "\n",
    "\n",
    "\n",
    "embeddings = np.array(all_embeddings)\n",
    "\n",
    "\n",
    "\n",
    "# Create Birch clustering object\n",
    "\n",
    "\n",
    "\n",
    "birch = Birch()\n",
    "\n",
    "\n",
    "\n",
    "# Define hyperparameters for tuning\n",
    "\n",
    "\n",
    "\n",
    "param_grid = {\"threshold\": [0.1, 0.5, 1.0], \"branching_factor\": [50, 100, 200]}\n",
    "\n",
    "\n",
    "\n",
    "# Perform grid search with cross-validation\n",
    "\n",
    "\n",
    "\n",
    "grid_search = GridSearchCV(birch, param_grid, cv=5, scoring=\"silhouette\")\n",
    "\n",
    "\n",
    "grid_search.fit(embeddings)\n",
    "\n",
    "\n",
    "\n",
    "# Get best parameters and best silhouette score\n",
    "\n",
    "\n",
    "best_params = grid_search.best_params_\n",
    "\n",
    "\n",
    "best_score = grid_search.best_score_\n",
    "\n",
    "\n",
    "\n",
    "print(\"Best Parameters:\", best_params)\n",
    "\n",
    "\n",
    "print(\"Best Silhouette Score:\", best_score)\n",
    "\n",
    "\n",
    "\n",
    "# Fit Birch clustering with best parameters\n",
    "\n",
    "\n",
    "\n",
    "best_birch = Birch(**best_params)\n",
    "\n",
    "\n",
    "best_birch.fit(embeddings)\n",
    "\n",
    "\n",
    "\n",
    "# Predict clusters\n",
    "\n",
    "\n",
    "labels = best_birch.predict(embeddings)"
   ]
  },
  {
   "cell_type": "code",
   "execution_count": null,
   "metadata": {},
   "outputs": [],
   "source": [
    "import pandas as pd\n",
    "import requests\n",
    "\n",
    "\n",
    "# Step 1: Parse CSV file into Whisper API format\n",
    "def parse_transcripts_to_whisper_format(csv_file):\n",
    "    # Read CSV file into DataFrame\n",
    "    df = pd.read_csv(csv_file)\n",
    "\n",
    "    # Group text by speaker\n",
    "    grouped_text = (\n",
    "        df.groupby(\"speaker_label\")[\"text\"].apply(lambda x: \" \".join(x)).reset_index()\n",
    "    )\n",
    "\n",
    "    # Concatenate text for each speaker into a single string\n",
    "    conversations = grouped_text[\"text\"].tolist()\n",
    "\n",
    "    # Format conversations for Whisper API input\n",
    "    whisper_input = {\"input\": \"\\n\".join(conversations)}\n",
    "\n",
    "    return whisper_input\n",
    "\n",
    "\n",
    "# Step 2: Use the Whisper API to generate a summary\n",
    "def generate_summary_with_whisper(whisper_input):\n",
    "    # API endpoint for Whisper summarization\n",
    "    api_endpoint = \"https://api.openai.com/v1/agents/whisper/summaries\"\n",
    "\n",
    "    # Set your OpenAI API key\n",
    "    api_key = \"your_openai_api_key\"\n",
    "\n",
    "    # Set request headers\n",
    "    headers = {\"Content-Type\": \"application/json\", \"Authorization\": f\"Bearer {api_key}\"}\n",
    "\n",
    "    # Send request to Whisper API\n",
    "    response = requests.post(api_endpoint, json=whisper_input, headers=headers)\n",
    "\n",
    "    # Check if request was successful\n",
    "    if response.status_code == 200:\n",
    "        summary = response.json()[\"summary\"]\n",
    "        return summary\n",
    "    else:\n",
    "        print(\"Error:\", response.text)\n",
    "        return None\n",
    "\n",
    "\n",
    "# Step 3: Retrieve and process the summary generated by the Whisper API\n",
    "def main(csv_file):\n",
    "    # Step 1: Parse CSV file into Whisper API format\n",
    "    whisper_input = parse_transcripts_to_whisper_format(csv_file)\n",
    "\n",
    "    # Step 2: Use the Whisper API to generate a summary\n",
    "    summary = generate_summary_with_whisper(whisper_input)\n",
    "\n",
    "    # Step 3: Process and print the summary\n",
    "    if summary:\n",
    "        print(\"Summary:\", summary)\n",
    "    else:\n",
    "        print(\"Failed to generate summary.\")\n",
    "\n",
    "\n",
    "# Replace 'your_openai_api_key' with your actual OpenAI API key\n",
    "main(\"conversation_transcripts.csv\")"
   ]
  },
  {
   "cell_type": "markdown",
   "metadata": {},
   "source": [
    "# Start from here\n"
   ]
  },
  {
   "cell_type": "code",
   "execution_count": 1,
   "metadata": {},
   "outputs": [],
   "source": [
    "import pandas as pd\n",
    "import re\n",
    "from transformers import pipeline"
   ]
  },
  {
   "cell_type": "code",
   "execution_count": 11,
   "metadata": {},
   "outputs": [
    {
     "name": "stdout",
     "output_type": "stream",
     "text": [
      "2024-feb-23-11-43-am\n"
     ]
    }
   ],
   "source": [
    "from datetime import datetime\n",
    "\n",
    "current_timestamp = str.lower(datetime.now().strftime(\"%Y-%b-%d-%I-%M-%p\"))\n",
    "print(current_timestamp)"
   ]
  },
  {
   "cell_type": "code",
   "execution_count": 2,
   "metadata": {},
   "outputs": [
    {
     "data": {
      "text/html": [
       "<div>\n",
       "<style scoped>\n",
       "    .dataframe tbody tr th:only-of-type {\n",
       "        vertical-align: middle;\n",
       "    }\n",
       "\n",
       "    .dataframe tbody tr th {\n",
       "        vertical-align: top;\n",
       "    }\n",
       "\n",
       "    .dataframe thead th {\n",
       "        text-align: right;\n",
       "    }\n",
       "</style>\n",
       "<table border=\"1\" class=\"dataframe\">\n",
       "  <thead>\n",
       "    <tr style=\"text-align: right;\">\n",
       "      <th></th>\n",
       "      <th>speaker_label</th>\n",
       "      <th>start_time</th>\n",
       "      <th>end_time</th>\n",
       "      <th>text</th>\n",
       "    </tr>\n",
       "  </thead>\n",
       "  <tbody>\n",
       "    <tr>\n",
       "      <th>0</th>\n",
       "      <td>spk_0</td>\n",
       "      <td>0.088483</td>\n",
       "      <td>0.136650</td>\n",
       "      <td>Into the tank is an accessory for the tech gen...</td>\n",
       "    </tr>\n",
       "    <tr>\n",
       "      <th>1</th>\n",
       "      <td>spk_1</td>\n",
       "      <td>0.318983</td>\n",
       "      <td>2.756150</td>\n",
       "      <td>Hi. My name is Joe Croft. Im from San Clemente...</td>\n",
       "    </tr>\n",
       "    <tr>\n",
       "      <th>2</th>\n",
       "      <td>spk_2</td>\n",
       "      <td>2.756333</td>\n",
       "      <td>2.864483</td>\n",
       "      <td>So yellow light is more calming and better for...</td>\n",
       "    </tr>\n",
       "    <tr>\n",
       "      <th>3</th>\n",
       "      <td>spk_1</td>\n",
       "      <td>2.864667</td>\n",
       "      <td>3.019983</td>\n",
       "      <td>much better and why blue light which is very c...</td>\n",
       "    </tr>\n",
       "    <tr>\n",
       "      <th>4</th>\n",
       "      <td>spk_0</td>\n",
       "      <td>3.024650</td>\n",
       "      <td>3.098317</td>\n",
       "      <td>Tell us about your sales. Theres gonna be a lo...</td>\n",
       "    </tr>\n",
       "  </tbody>\n",
       "</table>\n",
       "</div>"
      ],
      "text/plain": [
       "  speaker_label  start_time  end_time  \\\n",
       "0         spk_0    0.088483  0.136650   \n",
       "1         spk_1    0.318983  2.756150   \n",
       "2         spk_2    2.756333  2.864483   \n",
       "3         spk_1    2.864667  3.019983   \n",
       "4         spk_0    3.024650  3.098317   \n",
       "\n",
       "                                                text  \n",
       "0  Into the tank is an accessory for the tech gen...  \n",
       "1  Hi. My name is Joe Croft. Im from San Clemente...  \n",
       "2  So yellow light is more calming and better for...  \n",
       "3  much better and why blue light which is very c...  \n",
       "4  Tell us about your sales. Theres gonna be a lo...  "
      ]
     },
     "metadata": {},
     "output_type": "display_data"
    },
    {
     "name": "stdout",
     "output_type": "stream",
     "text": [
      "Into the tank is an accessory for the tech generation. Hi. My name is Joe Croft. Im from San Clemente California and Im here asking for $750,000 in exchange for 5% of my company, Gunner Optics Sharks. We live in a world dominated by screens, phones, computers, tablets, P CS. Youre probably staring at a screen 6 to 8 hours a day. At the end of a long day. Your eyes might feel a little bit like this, like theyre covered in sand or perhaps theyre dry and irritated because they take a pounding or maybe youve got a burning sensation from all that harsh blue light or maybe you just have a headache that wont go away. Computer eye strain has become the number one health related office complaint in the United States outstripping carpal tunnel by 40 to 1. Now, all those screens arent going away anytime soon. So, whats the solution? Gunner optics that um I work for a digital age. Our patented optical technology is the only clinically proven solution for relieving all four major symptoms of computer eye strain. Gunner can help prevent dry eyes, reduce muscular, eye fatigue fight against glare and very importantly, scientifically proven to reduce that harmful blue light emitted from those screens by 65%. Using your eye wear, youll find an increase in optical clarity, focus and visual performance. So hopefully those long days at work dont feel quite so long. So sharks, lets make headaches and digital eye fatigue. A thing of the past in a world where screens are never more than a few feet away. The need to protect your eyes has never been so clear. So Ive got some samples here to pass out. Good. Lovely. Here you go. For name. There you go, sir. And for you. Thank you so much. Thank you Joe for you. Thank you very much. So, as you hold that out in the computer viewing distance, youll see that the contrast is enhanced. Theres a  feel your eyes relax, it  blocks the blue light. Correct. Absolutely. In fact, weve scientifically measured it, we block 65% of the blue light thats emitted from all those screens. So yellow light is more calming and better for the eyes.  So theres  a lot of science that goes into why yellow light is much better and why blue light which is very close to the UV. Part of the spectrum is high energy and it is actually imaging to you and it can disrupt your sleep patterns.  So lets get right into the  business. Tell us about your sales. Theres gonna be a lot of sales with the $16 million valuation. Last year, we sold $6.5 million worth of eyewear. Wow. I like it. What about this year? This year were trending towards 7.5. We are approaching 60% gross margin. Thats great.  Whats the average price point, average, price point right now is around 60 to  80?  Then are you making money? And if so how much  the answer is? Yes. And last year you bet do was 500. Youre doing a 60% margin, which is great, but you only made half a million E but wheres the cost going? So we are going to build a brand. We have penetrated into the gaming category. I was thinking for gamers, this would be absolutely. Strength has been right. Gaming is where you basically deliver this with the gaming crowd. We sponsor a number of E sports athletes. E sports is the wild west right now. Do you have a patent? That is a great question because we not only have a patent, weve got battle tested. IP we have gone toe to toe with some of the largest people in the industry out there. Weve gone into the courtroom and come out victorious. Joe. Does that have to? Whats your experience in the eyewear business?  I  spent a formative part of my career at Oakley, which as you guys probably know, dominates the performance category of sports. How much did you raise? Weve over the course of a company raised $9 million.  Theres the rock just got dropped.  How much do you owe me personally? At 20%? Ok.  What happened to the  wrist as you raise you dilute, youve had to continue to raise money.  That means something  didnt work. We really have only raised money in two large tranches. So we havent raised any money for the last several years. The company is profitable. Right. Ok. Well, good for you. Thats a good start.  Absolutely. If you  can give the numbers, it might help just rapidly. What your revenue has been last year? 6.5 the year prior we were 8 million, 8 million. Correct? And your prior was about the same. What are you gonna use the money for marketing? Thats a key thing. We need to get the exposure out. We are evangelists about how bad peoples eyes are becoming. So then you must have debt. We do have debt, how much debt? 1.2. 0, wow. When I see an entrepreneur who has a 20% stake in the business, I stopped looking at them as an entrepreneur. Honestly, I think of them as an employee with an incentive. It makes me feel very uncertain. Im mel ok. Im in the computer business. I work with 300 computer geeky guys. I will buy them anything they want. We look at screens 24 hours a day, seven days a week for some of the biggest companies. In the world. No one has ever come to me and said my gosh, I need a pair of yellow glasses. Youve raised $9 million. Theres just a lot of uncertainty for me. Sorry, Im out. You deserve a lot of credit. A ton of credit because you are an eyewear industry. Survivor. Theres not a lot of those, but in looking for an investment, Im not looking for a Survivor. Im looking for a Thriver. Right. It, its not obvious to me that you know exactly how youre going to use the money.  What  we do need to do is go from a niche marketed product which is strictly in the gaming space. We need to get out into the mainstream. We need to go QVC. You need to no, see youre making my point. Right. Bouncing, bouncing, pivoting, pivoting, pivoting, looking for something to take you to the next level, but you dont know what that is yet. And because you dont know what that answer is. I have to say a mountain look, Im torn because I love the brand. I like you. You got the energy, you got the passion and I think you have a brand name here that can truly be built. But what I do well is I add fuel to growth brands and much as I love your passion. I feel that the time has been there to take this brand into channels that would have caught and much as my heart is saying, jump in with the guy. My gut from a financial standpoint is reticent. And for that reason, I a good luck Joe. Theres no, theres more four sharks are out and Laurie is Joes last chance at a deal for his computer Safe Eyewear company, Gunner Optics. When you put those glasses on two things I noticed happen. One that irritating blue light is gone. Two, its much clearer and its almost like the letters get bigger and more defined. Very interesting to me because I have sold a product called Neo Neo Sunglasses. Ive sold probably $30 million worth of them. My concern here is that you have a lot of debt. You dont have a lot of equity. I see a solution. I see the solution is I do feel TV is what you need. You need the demonstration because once you look through them, youre sold, Im gonna give you a flyer, but its gonna be this, Im gonna give you 375 as an investment, 375 as a loan at 8% for 8%  and Ill try to blow it up for you.  Thats a no brainer. That, that is amazing. I love the fact that we have an offer on the table  and  the only offer on the table  it  is the only offer on the table.  I feel  confident that I can sell these and I know you can out of respect to our current investment base because just like you would want me to care for your money. I need to care for the money of our current investors taking that much of the company would be tough for those current investments. What if I gave you the 750 K all as a loan at 8% and I take 5%. Listen, I see me as a great lifeline for you because you need awareness. You really need awareness,  you know your margins, we know our margins.  Absolutely. So you know how much more you have to sell  to pay back? The 750  1000 that 750 K coming in is beautiful. We love it. The equity slice just seems a little bit rich. Id love to counter with 2.5% on the equity slice. Wow,  2.5 you came in here offering five  exactly 5750 straight straight equity. Youre dealing with one of the biggest brand builders in America here and we know that we wouldnt nickel and dime it like you wanna go from 6 to 60 not from 6 to 7.  I wouldnt play with  fire. The 2.5% is just  so small.  Is there somewhere in the middle there? Are you really gonna  do that for just 2.5%? Nickel  and diamond? Yeah, I, Im asking the question because we really want to get a deal done and say  yes to the five  percent.  If you really want to  do a deal, the only reason I mentioned the equity is with that growth and again, being in a space where theres a ton of danger of losing the one deal you have on the table. Hold on. Were having a nice discussion, Joe, youre gonna lose the 2.5. Take  my  deal. Are we up to? How about four? I dont want to do. All right, lets go ahead and do it. Yes. Lets go ahead and do it. All right. Here we go. All right. This should be fun. This great product. It is a great product. The product. Congratulations. Congratulations. When it came down to the actual deal on the table, it got very, very real. Youre taking money, thats real dollars. This is real investors that are gonna be affected by it. Thats when I started to sweat. But at the end of the day we got the deal done. I think my blood pressures coming down just a little bit.\n"
     ]
    }
   ],
   "source": [
    "# Load your CSV file\n",
    "data = pd.read_csv(\"data\\Shark_Tank_US_Top_3_Products_For_Gamers_1.csv\", index_col=0)\n",
    "data.dropna(inplace=True)\n",
    "data.reset_index(drop=True, inplace=True)\n",
    "display(data.head())\n",
    "\n",
    "# Extract the text from transcript\n",
    "transcript_text = \" \".join(\n",
    "    data[\"text\"].tolist()\n",
    ")  # Replace \"column_name\" with your actual column name\n",
    "\n",
    "newlines_reg = r\"\\n|\\r|\\r\\n\"  # Match `\\n`, `\\r`, or `\\r\\n`\n",
    "transcript_text = re.sub(newlines_reg, \" \", transcript_text)\n",
    "\n",
    "print(transcript_text)"
   ]
  },
  {
   "cell_type": "code",
   "execution_count": 3,
   "metadata": {},
   "outputs": [
    {
     "name": "stdout",
     "output_type": "stream",
     "text": [
      "['C:\\\\Users\\\\41222/nltk_data', 'c:\\\\GitHub_Repos\\\\SartajBhuvaji\\\\Resonate\\\\Streamlit_App\\\\.venv\\\\nltk_data', 'c:\\\\GitHub_Repos\\\\SartajBhuvaji\\\\Resonate\\\\Streamlit_App\\\\.venv\\\\share\\\\nltk_data', 'c:\\\\GitHub_Repos\\\\SartajBhuvaji\\\\Resonate\\\\Streamlit_App\\\\.venv\\\\lib\\\\nltk_data', 'C:\\\\Users\\\\41222\\\\AppData\\\\Roaming\\\\nltk_data', 'C:\\\\nltk_data', 'D:\\\\nltk_data', 'E:\\\\nltk_data']\n"
     ]
    },
    {
     "name": "stderr",
     "output_type": "stream",
     "text": [
      "[nltk_data] Downloading package punkt to\n",
      "[nltk_data]     C:\\Users\\41222\\AppData\\Roaming\\nltk_data...\n",
      "[nltk_data]   Package punkt is already up-to-date!\n"
     ]
    }
   ],
   "source": [
    "import nltk  # For sentence segmentation\n",
    "\n",
    "nltk.download(\"punkt\")\n",
    "print(nltk.data.path)  # Prints the NLTK data directory path"
   ]
  },
  {
   "cell_type": "code",
   "execution_count": 4,
   "metadata": {},
   "outputs": [],
   "source": [
    "def chunk_text_preserving_sentences(text, max_chunk_size):\n",
    "    \"\"\"Chunks a given text while respecting sentence boundaries and combining\n",
    "    sentences to meet the chunk size limit.\n",
    "\n",
    "    Args:\n",
    "        text (str): The input text to be chunked.\n",
    "        max_chunk_size (int): The maximum allowed size for each chunk in characters.\n",
    "\n",
    "    Returns:\n",
    "        list: A list of text chunks, each respecting sentence boundaries\n",
    "                and potentially consisting of combined sentences.\n",
    "    \"\"\"\n",
    "\n",
    "    chunks = []\n",
    "    current_chunk = \"\"\n",
    "    sentence_tokenizer = nltk.sent_tokenize\n",
    "\n",
    "    # Tokenize the text into sentences\n",
    "    sentences = sentence_tokenizer(text)\n",
    "\n",
    "    for sentence in sentences:\n",
    "        # Calculate remaining space in the current chunk\n",
    "        remaining_space = max_chunk_size - len(current_chunk)\n",
    "\n",
    "        # If sentence fits within remaining space, add it directly\n",
    "        if len(sentence) <= remaining_space:\n",
    "            current_chunk += \" \" + sentence  # Add space between sentences\n",
    "        else:\n",
    "            # Sentence doesn't fit, check if combined with next sentence fits\n",
    "            combined_sentence = current_chunk + \" \" + sentence\n",
    "            if len(combined_sentence) <= max_chunk_size:\n",
    "                # Combined sentence fits, add and clear current chunk\n",
    "                chunks.append(combined_sentence)\n",
    "                current_chunk = \"\"\n",
    "            else:\n",
    "                # Neither sentence nor combined version fit, add current chunk and\n",
    "                # start a new one with the current sentence\n",
    "                chunks.append(current_chunk)\n",
    "                current_chunk = sentence\n",
    "\n",
    "    # Add any remaining sentences or the final chunk if not empty\n",
    "    if current_chunk:\n",
    "        chunks.append(current_chunk)\n",
    "\n",
    "    return chunks"
   ]
  },
  {
   "cell_type": "code",
   "execution_count": 5,
   "metadata": {},
   "outputs": [
    {
     "data": {
      "text/plain": [
       "[' Into the tank is an accessory for the tech generation. Hi. My name is Joe Croft. Im from San Clemente California and Im here asking for $750,000 in exchange for 5% of my company, Gunner Optics Sharks. We live in a world dominated by screens, phones, computers, tablets, P CS. Youre probably staring at a screen 6 to 8 hours a day. At the end of a long day. Your eyes might feel a little bit like this, like theyre covered in sand or perhaps theyre dry and irritated because they take a pounding or maybe youve got a burning sensation from all that harsh blue light or maybe you just have a headache that wont go away. Computer eye strain has become the number one health related office complaint in the United States outstripping carpal tunnel by 40 to 1. Now, all those screens arent going away anytime soon. So, whats the solution? Gunner optics that um I work for a digital age. Our patented optical technology is the only clinically proven solution for relieving all four major symptoms of computer eye strain.',\n",
       " 'Gunner can help prevent dry eyes, reduce muscular, eye fatigue fight against glare and very importantly, scientifically proven to reduce that harmful blue light emitted from those screens by 65%. Using your eye wear, youll find an increase in optical clarity, focus and visual performance. So hopefully those long days at work dont feel quite so long. So sharks, lets make headaches and digital eye fatigue. A thing of the past in a world where screens are never more than a few feet away. The need to protect your eyes has never been so clear. So Ive got some samples here to pass out. Good. Lovely. Here you go. For name. There you go, sir. And for you. Thank you so much. Thank you Joe for you. Thank you very much. So, as you hold that out in the computer viewing distance, youll see that the contrast is enhanced. Theres a  feel your eyes relax, it  blocks the blue light. Correct. Absolutely. In fact, weve scientifically measured it, we block 65% of the blue light thats emitted from all those screens.',\n",
       " 'So yellow light is more calming and better for the eyes. So theres  a lot of science that goes into why yellow light is much better and why blue light which is very close to the UV. Part of the spectrum is high energy and it is actually imaging to you and it can disrupt your sleep patterns. So lets get right into the  business. Tell us about your sales. Theres gonna be a lot of sales with the $16 million valuation. Last year, we sold $6.5 million worth of eyewear. Wow. I like it. What about this year? This year were trending towards 7.5. We are approaching 60% gross margin. Thats great. Whats the average price point, average, price point right now is around 60 to  80? Then are you making money? And if so how much  the answer is? Yes. And last year you bet do was 500. Youre doing a 60% margin, which is great, but you only made half a million E but wheres the cost going? So we are going to build a brand. We have penetrated into the gaming category. I was thinking for gamers, this would be absolutely.',\n",
       " 'Strength has been right. Gaming is where you basically deliver this with the gaming crowd. We sponsor a number of E sports athletes. E sports is the wild west right now. Do you have a patent? That is a great question because we not only have a patent, weve got battle tested. IP we have gone toe to toe with some of the largest people in the industry out there. Weve gone into the courtroom and come out victorious. Joe. Does that have to? Whats your experience in the eyewear business? I  spent a formative part of my career at Oakley, which as you guys probably know, dominates the performance category of sports. How much did you raise? Weve over the course of a company raised $9 million. Theres the rock just got dropped. How much do you owe me personally? At 20%? Ok.  What happened to the  wrist as you raise you dilute, youve had to continue to raise money. That means something  didnt work. We really have only raised money in two large tranches. So we havent raised any money for the last several years.',\n",
       " 'The company is profitable. Right. Ok. Well, good for you. Thats a good start. Absolutely. If you  can give the numbers, it might help just rapidly. What your revenue has been last year? 6.5 the year prior we were 8 million, 8 million. Correct? And your prior was about the same. What are you gonna use the money for marketing? Thats a key thing. We need to get the exposure out. We are evangelists about how bad peoples eyes are becoming. So then you must have debt. We do have debt, how much debt? 1.2. 0, wow. When I see an entrepreneur who has a 20% stake in the business, I stopped looking at them as an entrepreneur. Honestly, I think of them as an employee with an incentive. It makes me feel very uncertain. Im mel ok. Im in the computer business. I work with 300 computer geeky guys. I will buy them anything they want. We look at screens 24 hours a day, seven days a week for some of the biggest companies. In the world. No one has ever come to me and said my gosh, I need a pair of yellow glasses.',\n",
       " 'Youve raised $9 million. Theres just a lot of uncertainty for me. Sorry, Im out. You deserve a lot of credit. A ton of credit because you are an eyewear industry. Survivor. Theres not a lot of those, but in looking for an investment, Im not looking for a Survivor. Im looking for a Thriver. Right. It, its not obvious to me that you know exactly how youre going to use the money. What  we do need to do is go from a niche marketed product which is strictly in the gaming space. We need to get out into the mainstream. We need to go QVC. You need to no, see youre making my point. Right. Bouncing, bouncing, pivoting, pivoting, pivoting, looking for something to take you to the next level, but you dont know what that is yet. And because you dont know what that answer is. I have to say a mountain look, Im torn because I love the brand. I like you. You got the energy, you got the passion and I think you have a brand name here that can truly be built.',\n",
       " 'But what I do well is I add fuel to growth brands and much as I love your passion. I feel that the time has been there to take this brand into channels that would have caught and much as my heart is saying, jump in with the guy. My gut from a financial standpoint is reticent. And for that reason, I a good luck Joe. Theres no, theres more four sharks are out and Laurie is Joes last chance at a deal for his computer Safe Eyewear company, Gunner Optics. When you put those glasses on two things I noticed happen. One that irritating blue light is gone. Two, its much clearer and its almost like the letters get bigger and more defined. Very interesting to me because I have sold a product called Neo Neo Sunglasses. Ive sold probably $30 million worth of them. My concern here is that you have a lot of debt. You dont have a lot of equity. I see a solution. I see the solution is I do feel TV is what you need.',\n",
       " 'You need the demonstration because once you look through them, youre sold, Im gonna give you a flyer, but its gonna be this, Im gonna give you 375 as an investment, 375 as a loan at 8% for 8%  and Ill try to blow it up for you. Thats a no brainer. That, that is amazing. I love the fact that we have an offer on the table  and  the only offer on the table  it  is the only offer on the table. I feel  confident that I can sell these and I know you can out of respect to our current investment base because just like you would want me to care for your money. I need to care for the money of our current investors taking that much of the company would be tough for those current investments. What if I gave you the 750 K all as a loan at 8% and I take 5%. Listen, I see me as a great lifeline for you because you need awareness. You really need awareness,  you know your margins, we know our margins. Absolutely. So you know how much more you have to sell  to pay back? The 750  1000 that 750 K coming in is beautiful.',\n",
       " 'We love it. The equity slice just seems a little bit rich. Id love to counter with 2.5% on the equity slice. Wow,  2.5 you came in here offering five  exactly 5750 straight straight equity. Youre dealing with one of the biggest brand builders in America here and we know that we wouldnt nickel and dime it like you wanna go from 6 to 60 not from 6 to 7. I wouldnt play with  fire. The 2.5% is just  so small. Is there somewhere in the middle there? Are you really gonna  do that for just 2.5%? Nickel  and diamond? Yeah, I, Im asking the question because we really want to get a deal done and say  yes to the five  percent. If you really want to  do a deal, the only reason I mentioned the equity is with that growth and again, being in a space where theres a ton of danger of losing the one deal you have on the table. Hold on. Were having a nice discussion, Joe, youre gonna lose the 2.5. Take  my  deal. Are we up to? How about four? I dont want to do. All right, lets go ahead and do it. Yes. Lets go ahead and do it.',\n",
       " 'All right. Here we go. All right. This should be fun. This great product. It is a great product. The product. Congratulations. Congratulations. When it came down to the actual deal on the table, it got very, very real. Youre taking money, thats real dollars. This is real investors that are gonna be affected by it. Thats when I started to sweat. But at the end of the day we got the deal done. I think my blood pressures coming down just a little bit.']"
      ]
     },
     "metadata": {},
     "output_type": "display_data"
    }
   ],
   "source": [
    "max_chunk_size = 1024\n",
    "\n",
    "chunks = chunk_text_preserving_sentences(transcript_text, max_chunk_size)\n",
    "display(chunks)"
   ]
  },
  {
   "cell_type": "code",
   "execution_count": 6,
   "metadata": {},
   "outputs": [
    {
     "data": {
      "application/vnd.jupyter.widget-view+json": {
       "model_id": "1e8ee9236494495a97aaaa4d8e8b53be",
       "version_major": 2,
       "version_minor": 0
      },
      "text/plain": [
       "config.json:   0%|          | 0.00/1.58k [00:00<?, ?B/s]"
      ]
     },
     "metadata": {},
     "output_type": "display_data"
    },
    {
     "data": {
      "application/vnd.jupyter.widget-view+json": {
       "model_id": "c7b301c0faec4c59b71469103a29ad11",
       "version_major": 2,
       "version_minor": 0
      },
      "text/plain": [
       "model.safetensors:   0%|          | 0.00/1.63G [00:00<?, ?B/s]"
      ]
     },
     "metadata": {},
     "output_type": "display_data"
    },
    {
     "data": {
      "application/vnd.jupyter.widget-view+json": {
       "model_id": "a7e80cce35764a80987c4ea86de95657",
       "version_major": 2,
       "version_minor": 0
      },
      "text/plain": [
       "generation_config.json:   0%|          | 0.00/363 [00:00<?, ?B/s]"
      ]
     },
     "metadata": {},
     "output_type": "display_data"
    },
    {
     "data": {
      "application/vnd.jupyter.widget-view+json": {
       "model_id": "83997e9ff7f54c78bad3bacaa298ccf1",
       "version_major": 2,
       "version_minor": 0
      },
      "text/plain": [
       "vocab.json:   0%|          | 0.00/899k [00:00<?, ?B/s]"
      ]
     },
     "metadata": {},
     "output_type": "display_data"
    },
    {
     "data": {
      "application/vnd.jupyter.widget-view+json": {
       "model_id": "83983787f0c14d65b937a7f861adb1bd",
       "version_major": 2,
       "version_minor": 0
      },
      "text/plain": [
       "merges.txt:   0%|          | 0.00/456k [00:00<?, ?B/s]"
      ]
     },
     "metadata": {},
     "output_type": "display_data"
    },
    {
     "data": {
      "application/vnd.jupyter.widget-view+json": {
       "model_id": "18775d7ffcf04739b698a5805c280ece",
       "version_major": 2,
       "version_minor": 0
      },
      "text/plain": [
       "tokenizer.json:   0%|          | 0.00/1.36M [00:00<?, ?B/s]"
      ]
     },
     "metadata": {},
     "output_type": "display_data"
    },
    {
     "name": "stderr",
     "output_type": "stream",
     "text": [
      "Some weights of PegasusForConditionalGeneration were not initialized from the model checkpoint at google/pegasus-large and are newly initialized: ['model.decoder.embed_positions.weight', 'model.encoder.embed_positions.weight']\n",
      "You should probably TRAIN this model on a down-stream task to be able to use it for predictions and inference.\n"
     ]
    }
   ],
   "source": [
    "# Load an extractive summarization pipeline\n",
    "extractive_summarizer_facebook_bart = pipeline(\n",
    "    \"summarization\",\n",
    "    model=\"facebook/bart-large-cnn\",\n",
    "    max_length=150,\n",
    "    min_length=30,\n",
    "    do_sample=False,\n",
    ")\n",
    "extractive_summarizer_google_pegasus = pipeline(\n",
    "    \"summarization\",\n",
    "    model=\"google/pegasus-large\",\n",
    "    max_length=150,\n",
    "    min_length=30,\n",
    "    do_sample=False,\n",
    ")"
   ]
  },
  {
   "cell_type": "code",
   "execution_count": 7,
   "metadata": {},
   "outputs": [
    {
     "name": "stderr",
     "output_type": "stream",
     "text": [
      "Your max_length is set to 150, but your input_length is only 107. Since this is a summarization task, where outputs shorter than the input are typically wanted, you might consider decreasing max_length manually, e.g. summarizer('...', max_length=53)\n"
     ]
    },
    {
     "name": "stdout",
     "output_type": "stream",
     "text": [
      "summaries: \n"
     ]
    },
    {
     "data": {
      "text/plain": [
       "['Computer eye strain has become the number one health related office complaint in the United States outstripping carpal tunnel by 40 to 1. Gunner optics is the only clinically proven solution for relieving all four major symptoms of computer eye strain.',\n",
       " 'Gunner can help prevent dry eyes, reduce muscular, eye fatigue fight against glare. scientifically proven to reduce that harmful blue light emitted from those screens by 65%. Using your eye wear, youll find an increase in optical clarity, focus and visual performance.',\n",
       " 'Last year, we sold $6.5 million worth of eyewear. We are approaching 60% gross margin. So we are going to build a brand. We have penetrated into the gaming category. I was thinking for gamers, this would be absolutely.',\n",
       " 'E sports is the wild west right now. We have gone toe to toe with some of the largest people in the industry out there. We sponsor a number of E sports athletes.',\n",
       " 'The company is profitable. We need to get the exposure out. We are evangelists about how bad peoples eyes are becoming. We look at screens 24 hours a day, seven days a week for some of the biggest companies.',\n",
       " '\"You deserve a lot of credit because you are an eyewear industry. Youve raised $9 million. Theres just a lotof uncertainty for me. Sorry, Im out\"',\n",
       " 'Laurie is Joes last chance at a deal for his computer Safe Eyewear company, Gunner Optics. Laurie: \"My gut from a financial standpoint is reticent. But what I do well is I add fuel to growth brands\"',\n",
       " '\"I see me as a great lifeline for you because you need awareness. You really need awareness,  you know your margins, we know our margins. So you know how much more you have to sell  to pay back?\"',\n",
       " '\"The equity slice just seems a little bit rich. Id love to counter with 2.5% on the equity slice\" \"Youre dealing with one of the biggest brand builders in America here\"',\n",
       " 'When it came down to the actual deal on the table, it got very, very real. Thats when I started to sweat. But at the end of the day we got the deal done. I think my blood pressures coming down just a little bit.']"
      ]
     },
     "metadata": {},
     "output_type": "display_data"
    }
   ],
   "source": [
    "# Process each chunk and combine the results\n",
    "transcript_extractive_summarizer_facebook_bart = []\n",
    "for chunk in chunks:\n",
    "    summary = extractive_summarizer_facebook_bart(\n",
    "        chunk,\n",
    "    )[\n",
    "        0\n",
    "    ][\"summary_text\"]\n",
    "    transcript_extractive_summarizer_facebook_bart.append(summary)\n",
    "\n",
    "# Print the summary\n",
    "print(\"summaries: \")\n",
    "display(transcript_extractive_summarizer_facebook_bart)"
   ]
  },
  {
   "cell_type": "code",
   "execution_count": 8,
   "metadata": {},
   "outputs": [
    {
     "name": "stderr",
     "output_type": "stream",
     "text": [
      "Your max_length is set to 150, but your input_length is only 107. Since this is a summarization task, where outputs shorter than the input are typically wanted, you might consider decreasing max_length manually, e.g. summarizer('...', max_length=53)\n"
     ]
    },
    {
     "name": "stdout",
     "output_type": "stream",
     "text": [
      "summaries: \n"
     ]
    },
    {
     "data": {
      "text/plain": [
       "['Computer eye strain has become the number one health related office complaint in the United States outstripping carpal tunnel by 40 to 1. Our patented optical technology is the only clinically proven solution for relieving all four major symptoms of computer eye strain.',\n",
       " 'Gunner can help prevent dry eyes, reduce muscular, eye fatigue fight against glare and very importantly, scientifically proven to reduce that harmful blue light emitted from those screens by 65%. In fact, weve scientifically measured it, we block 65% of the blue light thats emitted from all those screens.',\n",
       " 'So theres a lot of science that goes into why yellow light is much better and why blue light which is very close to the UV. Last year, we sold $6.5 million worth of eyewear. Youre doing a 60% margin, which is great, but you only made half a million E but wheres the cost going?',\n",
       " 'E sports is the wild west right now. That is a great question because we not only have a patent, weve got battle tested. What happened to the wrist as you raise you dilute, youve had to continue to raise money.',\n",
       " '6.5 the year prior we were 8 million, 8 million. Im in the computer business. No one has ever come to me and said my gosh, I need a pair of yellow glasses.',\n",
       " 'Theres not a lot of those, but in looking for an investment, Im not looking for a Survivor. Bouncing, bouncing, pivoting, pivoting, pivoting, looking for something to take you to the next level, but you dont know what that is yet. I have to say a mountain look, Im torn because I love the brand.',\n",
       " 'Two, its much clearer and its almost like the letters get bigger and more defined. I see the solution is I do feel TV is what you need.',\n",
       " 'I feel confident that I can sell these and I know you can out of respect to our current investment base because just like you would want me to care for your money. I need to care for the money of our current investors taking that much of the company would be tough for those current investments.',\n",
       " 'Yeah, I, Im asking the question because we really want to get a deal done and say yes to the five percent. If you really want to do a deal, the only reason I mentioned the equity is with that growth and again, being in a space where theres a ton of danger of losing the one deal you have on the table.',\n",
       " 'When it came down to the actual deal on the table, it got very, very real. But at the end of the day we got the deal done.']"
      ]
     },
     "metadata": {},
     "output_type": "display_data"
    }
   ],
   "source": [
    "# Process each chunk and combine the results\n",
    "transcript_extractive_summarizer_google_pegasus = []\n",
    "for chunk in chunks:\n",
    "    summary = extractive_summarizer_google_pegasus(\n",
    "        chunk,\n",
    "    )[\n",
    "        0\n",
    "    ][\"summary_text\"]\n",
    "    transcript_extractive_summarizer_google_pegasus.append(summary)\n",
    "\n",
    "# Print the summary\n",
    "print(\"summaries: \")\n",
    "display(transcript_extractive_summarizer_google_pegasus)"
   ]
  },
  {
   "cell_type": "code",
   "execution_count": 6,
   "metadata": {},
   "outputs": [
    {
     "data": {
      "text/plain": [
       "True"
      ]
     },
     "execution_count": 6,
     "metadata": {},
     "output_type": "execute_result"
    }
   ],
   "source": [
    "import dotenv\n",
    "import os\n",
    "\n",
    "dotenv.load_dotenv()"
   ]
  },
  {
   "cell_type": "code",
   "execution_count": 7,
   "metadata": {},
   "outputs": [],
   "source": [
    "from openai import OpenAI\n",
    "\n",
    "client = OpenAI(api_key=os.getenv(\"OPENAI_API_KEY\"))\n",
    "from docx import Document"
   ]
  },
  {
   "cell_type": "code",
   "execution_count": 8,
   "metadata": {},
   "outputs": [],
   "source": [
    "def abstract_summary_extraction(transcription):\n",
    "    response = client.chat.completions.create(\n",
    "        model=\"gpt-3.5-turbo\",\n",
    "        temperature=0,\n",
    "        messages=[\n",
    "            {\n",
    "                \"role\": \"system\",\n",
    "                \"content\": \"You are a highly skilled AI trained in language comprehension and summarization. I would like you to read the following text and summarize it into a concise abstract paragraph. Aim to retain the most important points, providing a coherent and readable summary that could help a person understand the main points of the discussion without needing to read the entire text. Please avoid unnecessary details or tangential points.\",\n",
    "            },\n",
    "            {\"role\": \"user\", \"content\": transcription},\n",
    "        ],\n",
    "    )\n",
    "    return response.choices[0].message.content\n",
    "\n",
    "\n",
    "def key_points_extraction(transcription):\n",
    "    response = client.chat.completions.create(\n",
    "        model=\"gpt-3.5-turbo\",\n",
    "        temperature=0,\n",
    "        messages=[\n",
    "            {\n",
    "                \"role\": \"system\",\n",
    "                \"content\": \"You are a proficient AI with a specialty in distilling information into key points. Based on the following text, identify and list the main points that were discussed or brought up. These should be the most important ideas, findings, or topics that are crucial to the essence of the discussion. Your goal is to provide a list that someone could read to quickly understand what was talked about.\",\n",
    "            },\n",
    "            {\"role\": \"user\", \"content\": transcription},\n",
    "        ],\n",
    "    )\n",
    "    return response.choices[0].message.content\n",
    "\n",
    "\n",
    "def action_item_extraction(transcription):\n",
    "    response = client.chat.completions.create(\n",
    "        model=\"gpt-3.5-turbo\",\n",
    "        temperature=0,\n",
    "        messages=[\n",
    "            {\n",
    "                \"role\": \"system\",\n",
    "                \"content\": \"You are an AI expert in analyzing conversations and extracting action items. Please review the text and identify any tasks, assignments, or actions that were agreed upon or mentioned as needing to be done. These could be tasks assigned to specific individuals, or general actions that the group has decided to take. Please list these action items clearly and concisely.\",\n",
    "            },\n",
    "            {\"role\": \"user\", \"content\": transcription},\n",
    "        ],\n",
    "    )\n",
    "    return response.choices[0].message.content\n",
    "\n",
    "\n",
    "def meeting_minutes(transcription):\n",
    "    abstract_summary = abstract_summary_extraction(transcription)\n",
    "    key_points = key_points_extraction(transcription)\n",
    "    action_items = action_item_extraction(transcription)\n",
    "    return {\n",
    "        \"abstract_summary\": abstract_summary,\n",
    "        \"key_points\": key_points,\n",
    "        \"action_items\": action_items,\n",
    "    }"
   ]
  },
  {
   "cell_type": "code",
   "execution_count": null,
   "metadata": {},
   "outputs": [],
   "source": [
    "# Process each chunk and combine the results\n",
    "transcript_extractive_summarizer_openai_summary = []\n",
    "transcript_extractive_summarizer_openai_key_points = []\n",
    "transcript_extractive_summarizer_openai_action_items = []\n",
    "\n",
    "for chunk in chunks[0]:\n",
    "    summary, key_points, action_items = meeting_minutes(chunk)\n",
    "    transcript_extractive_summarizer_openai_summary.append(summary)\n",
    "    transcript_extractive_summarizer_openai_key_points.append(key_points)\n",
    "    transcript_extractive_summarizer_openai_action_items.append(action_items)\n",
    "\n",
    "# Print the summary\n",
    "print(\"summaries: \")\n",
    "display(transcript_extractive_summarizer_openai_summary)\n",
    "print(\"key_points: \")\n",
    "display(transcript_extractive_summarizer_openai_key_points)\n",
    "print(\"action_items: \")\n",
    "display(transcript_extractive_summarizer_openai_action_items)"
   ]
  },
  {
   "cell_type": "code",
   "execution_count": 20,
   "metadata": {},
   "outputs": [
    {
     "name": "stdout",
     "output_type": "stream",
     "text": [
      "['abstract_summary', 'abstract_summary', 'abstract_summary', 'abstract_summary', 'abstract_summary', 'abstract_summary', 'abstract_summary', 'abstract_summary', 'abstract_summary', 'abstract_summary']\n"
     ]
    }
   ],
   "source": [
    "print(transcript_extractive_summarizer_openai_summary)"
   ]
  },
  {
   "cell_type": "code",
   "execution_count": null,
   "metadata": {},
   "outputs": [],
   "source": [
    "from transformers import BartTokenizer, BartModel\n",
    "\n",
    "summarizer = pipeline(\n",
    "    \"summarization\", model=\"t5-small\", max_length=1024, min_length=30, do_sample=True\n",
    ")"
   ]
  }
 ],
 "metadata": {
  "kernelspec": {
   "display_name": ".venv",
   "language": "python",
   "name": "python3"
  },
  "language_info": {
   "codemirror_mode": {
    "name": "ipython",
    "version": 3
   },
   "file_extension": ".py",
   "mimetype": "text/x-python",
   "name": "python",
   "nbconvert_exporter": "python",
   "pygments_lexer": "ipython3",
   "version": "3.11.7"
  }
 },
 "nbformat": 4,
 "nbformat_minor": 2
}

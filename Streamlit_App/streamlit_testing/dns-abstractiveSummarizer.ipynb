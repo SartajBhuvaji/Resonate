{
 "cells": [
  {
   "cell_type": "code",
   "execution_count": 1,
   "id": "30b671a9",
   "metadata": {},
   "outputs": [],
   "source": [
    "import math\n",
    "\n",
    "import keybert\n",
    "import pandas as pd\n",
    "from transformers import pipeline"
   ]
  },
  {
   "cell_type": "code",
   "execution_count": 2,
   "id": "169bc63e",
   "metadata": {},
   "outputs": [],
   "source": [
    "# Initialization of summarizer based on Bart\n",
    "summarizer = pipeline(\n",
    "    \"summarization\", \"vmarklynn/bart-large-cnn-samsum-acsi-ami-v2\", truncation=True\n",
    ")\n",
    "kw_model = keybert.KeyBERT(model=\"all-mpnet-base-v2\")"
   ]
  },
  {
   "cell_type": "code",
   "execution_count": 3,
   "id": "f70298c6",
   "metadata": {},
   "outputs": [],
   "source": [
    "def formatText(text):\n",
    "    formatted_data = [\n",
    "        f\"{row['speaker_label']}: {row['text']}\" for _, row in text.iterrows()\n",
    "    ]\n",
    "    formatted_text = \"\\n\".join([f\"{line}\" for line in formatted_data])\n",
    "    return formatted_text"
   ]
  },
  {
   "cell_type": "code",
   "execution_count": 4,
   "id": "5c1adbf8",
   "metadata": {},
   "outputs": [],
   "source": [
    "def summarizeText(transcript):\n",
    "\n",
    "    text = formatText(transcript)\n",
    "\n",
    "    # print(\"\\n\\n\", text, \"\\n\\n\")\n",
    "    # print( \"min: \", math.ceil(int(wordCount) * 0.1), \"max: \", math.ceil(int(wordCount) * 0.25))\n",
    "    print(\"\\n\\nSummarizing Text...\")\n",
    "    summary = summarizer(text)[0][\"summary_text\"]\n",
    "    print(\"\\n\", summary, \"\\n\")\n",
    "\n",
    "    keywords = kw_model.extract_keywords(\n",
    "        text,\n",
    "        keyphrase_ngram_range=(1, 1),\n",
    "        stop_words=\"english\",\n",
    "        highlight=False,\n",
    "        top_n=5,\n",
    "    )\n",
    "    keywords_list_1 = list(dict(keywords).keys())\n",
    "    print(\"1 gram keywords: \", keywords_list_1)\n",
    "    keywords = kw_model.extract_keywords(\n",
    "        text,\n",
    "        keyphrase_ngram_range=(2, 2),\n",
    "        stop_words=\"english\",\n",
    "        highlight=False,\n",
    "        top_n=5,\n",
    "    )\n",
    "    keywords_list_2 = list(dict(keywords).keys())\n",
    "    print(\"2 gram keywords: \", keywords_list_2)\n",
    "    keywords = kw_model.extract_keywords(\n",
    "        text,\n",
    "        keyphrase_ngram_range=(3, 3),\n",
    "        stop_words=\"english\",\n",
    "        highlight=False,\n",
    "        top_n=5,\n",
    "    )\n",
    "    keywords_list_3 = list(dict(keywords).keys())\n",
    "    print(\"3 gram keywords: \", keywords_list_3)\n",
    "\n",
    "    response = {\n",
    "        \"transcription\": formatText,\n",
    "        \"summary\": summary,\n",
    "        \"keywords_list_1\": keywords_list_1,\n",
    "        \"keywords_list_2\": keywords_list_2,\n",
    "        \"keywords_list_3\": keywords_list_3,\n",
    "    }\n",
    "    return response"
   ]
  },
  {
   "cell_type": "code",
   "execution_count": 5,
   "id": "454d7e87",
   "metadata": {},
   "outputs": [],
   "source": [
    "def summarizeSummary(summary_input):\n",
    "\n",
    "    wordCount = 1024  # post_data.get('wordCount-summ')\n",
    "\n",
    "    print(\n",
    "        \"min: \",\n",
    "        math.ceil(int(wordCount) * 0.1),\n",
    "        \"max: \",\n",
    "        math.ceil(int(wordCount) * 0.25),\n",
    "    )\n",
    "    print(\"\\n\\nSummarizing again...\")\n",
    "    summary = summarizer(\n",
    "        summary_input,\n",
    "        min_length=math.ceil(int(wordCount) * 0.1),\n",
    "        max_length=math.ceil(int(wordCount) * 0.25),\n",
    "    )[0][\"summary_text\"]\n",
    "    print(\"\\n\", summary, \"\\n\")\n",
    "\n",
    "    response = {\"summary\": summary}\n",
    "    return response"
   ]
  },
  {
   "cell_type": "code",
   "execution_count": 38,
   "id": "0c6bbd3a",
   "metadata": {},
   "outputs": [
    {
     "data": {
      "text/html": [
       "<div>\n",
       "<style scoped>\n",
       "    .dataframe tbody tr th:only-of-type {\n",
       "        vertical-align: middle;\n",
       "    }\n",
       "\n",
       "    .dataframe tbody tr th {\n",
       "        vertical-align: top;\n",
       "    }\n",
       "\n",
       "    .dataframe thead th {\n",
       "        text-align: right;\n",
       "    }\n",
       "</style>\n",
       "<table border=\"1\" class=\"dataframe\">\n",
       "  <thead>\n",
       "    <tr style=\"text-align: right;\">\n",
       "      <th></th>\n",
       "      <th>speaker_label</th>\n",
       "      <th>start_time</th>\n",
       "      <th>end_time</th>\n",
       "      <th>text</th>\n",
       "    </tr>\n",
       "  </thead>\n",
       "  <tbody>\n",
       "    <tr>\n",
       "      <th>0</th>\n",
       "      <td>spk_0</td>\n",
       "      <td>0.000150</td>\n",
       "      <td>0.586667</td>\n",
       "      <td>Lets go ahead and get to the major news here i...</td>\n",
       "    </tr>\n",
       "    <tr>\n",
       "      <th>1</th>\n",
       "      <td>spk_1</td>\n",
       "      <td>0.586817</td>\n",
       "      <td>0.937650</td>\n",
       "      <td>He said no self respecting senators should agr...</td>\n",
       "    </tr>\n",
       "    <tr>\n",
       "      <th>2</th>\n",
       "      <td>spk_2</td>\n",
       "      <td>0.953333</td>\n",
       "      <td>1.552233</td>\n",
       "      <td>So we actually had this bill came out yesterda...</td>\n",
       "    </tr>\n",
       "    <tr>\n",
       "      <th>3</th>\n",
       "      <td>spk_0</td>\n",
       "      <td>1.552383</td>\n",
       "      <td>4.691767</td>\n",
       "      <td>read it for yourselves and uh many Republicans...</td>\n",
       "    </tr>\n",
       "    <tr>\n",
       "      <th>4</th>\n",
       "      <td>spk_3</td>\n",
       "      <td>4.691917</td>\n",
       "      <td>9.377383</td>\n",
       "      <td>Yeah, I mean, I think its pretty clear there. ...</td>\n",
       "    </tr>\n",
       "  </tbody>\n",
       "</table>\n",
       "</div>"
      ],
      "text/plain": [
       "  speaker_label  start_time  end_time  \\\n",
       "0         spk_0    0.000150  0.586667   \n",
       "1         spk_1    0.586817  0.937650   \n",
       "2         spk_2    0.953333  1.552233   \n",
       "3         spk_0    1.552383  4.691767   \n",
       "4         spk_3    4.691917  9.377383   \n",
       "\n",
       "                                                text  \n",
       "0  Lets go ahead and get to the major news here i...  \n",
       "1  He said no self respecting senators should agr...  \n",
       "2  So we actually had this bill came out yesterda...  \n",
       "3  read it for yourselves and uh many Republicans...  \n",
       "4  Yeah, I mean, I think its pretty clear there. ...  "
      ]
     },
     "execution_count": 38,
     "metadata": {},
     "output_type": "execute_result"
    }
   ],
   "source": [
    "transcript = pd.read_csv(\n",
    "    \"data/Discussion_on_Illegal_Migration_and_Border_Crisis_Bill.csv\", index_col=0\n",
    ")\n",
    "transcript.head()"
   ]
  },
  {
   "cell_type": "code",
   "execution_count": 39,
   "id": "a99aa75c",
   "metadata": {},
   "outputs": [
    {
     "name": "stdout",
     "output_type": "stream",
     "text": [
      "\n",
      "\n",
      "Summarizing...\n",
      "\n",
      " The meeting was about the border bill. The first procedural vote was on Wednesday. The group discussed the details of the new border bill, which was negotiated by Senator James Lankford, Senator Kirsten Cinema, and some members of the Democratic side. The meeting ended with a general discussion about the future of the project. \n",
      "\n",
      "['senators', 'senator', 'senate', 'filibuster', 'legislation']\n",
      "['senate border', 'senator lee', 'consideration senate', 'senate reject', 'negotiated senator']\n",
      "['senate border deal', 'senate reject understand', 'senator lankford said', 'respecting senators agree', 'says consideration senate']\n",
      "The meeting was about the border bill. The first procedural vote was on Wednesday. The group discussed the details of the new border bill, which was negotiated by Senator James Lankford, Senator Kirsten Cinema, and some members of the Democratic side. The meeting ended with a general discussion about the future of the project.\n"
     ]
    }
   ],
   "source": [
    "summary_transcript = summarizeText(transcript)\n",
    "print(summary_transcript[\"summary\"])"
   ]
  },
  {
   "cell_type": "code",
   "execution_count": 40,
   "id": "d333da4b",
   "metadata": {},
   "outputs": [
    {
     "name": "stderr",
     "output_type": "stream",
     "text": [
      "Your max_length is set to 256, but your input_length is only 65. Since this is a summarization task, where outputs shorter than the input are typically wanted, you might consider decreasing max_length manually, e.g. summarizer('...', max_length=32)\n"
     ]
    },
    {
     "name": "stdout",
     "output_type": "stream",
     "text": [
      "min:  103 max:  256\n",
      "\n",
      "\n",
      "Summarizing again...\n",
      "\n",
      " The group discussed the details of the new border bill. The first procedural vote was on Wednesday. The meeting ended with a general discussion about the future of the project. The group also discussed the logistics of the border bill, which was negotiated by Senator James Lankford, Senator Kirsten Cinema, and some members of the Democratic side. The final decision about the project was made by a round shape shape and was agreed by all of them. The team also discussed how to make sure that the project would be successful. \n",
      "\n"
     ]
    },
    {
     "data": {
      "text/plain": [
       "'The group discussed the details of the new border bill. The first procedural vote was on Wednesday. The meeting ended with a general discussion about the future of the project. The group also discussed the logistics of the border bill, which was negotiated by Senator James Lankford, Senator Kirsten Cinema, and some members of the Democratic side. The final decision about the project was made by a round shape shape and was agreed by all of them. The team also discussed how to make sure that the project would be successful.'"
      ]
     },
     "metadata": {},
     "output_type": "display_data"
    }
   ],
   "source": [
    "summarized_summary = summarizeSummary(summary_transcript[\"summary\"])\n",
    "final_summary = summarized_summary[\"summary\"]\n",
    "display(final_summary)"
   ]
  }
 ],
 "metadata": {
  "kernelspec": {
   "display_name": "Python 3 (ipykernel)",
   "language": "python",
   "name": "python3"
  },
  "language_info": {
   "codemirror_mode": {
    "name": "ipython",
    "version": 3
   },
   "file_extension": ".py",
   "mimetype": "text/x-python",
   "name": "python",
   "nbconvert_exporter": "python",
   "pygments_lexer": "ipython3",
   "version": "3.11.7"
  }
 },
 "nbformat": 4,
 "nbformat_minor": 5
}
